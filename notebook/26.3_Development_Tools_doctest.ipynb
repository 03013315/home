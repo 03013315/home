{
 "cells": [
  {
   "cell_type": "markdown",
   "metadata": {
    "collapsed": true
   },
   "source": [
    "# 26.3 doctest — Test interactive Python examples\n",
    "\n",
    "https://docs.python.org/3/library/doctest.html\n",
    "\n",
    "<b>doctest</b> lets you <b>test</b> your code by running <b>examples embedded in the documentation</b> and verifying that they produce the expected results. \n",
    "\n",
    "It works by parsing the help text to find examples, running them, then comparing the output text against the expected value. \n",
    "\n",
    "Many developers find doctest <b>easier</b> than unittest because in its simplest form, there is no API to learn before using it. However, as the examples become more complex the lack of fixture management can make writing doctest tests more <b>cumbersome</b> than using unittest."
   ]
  },
  {
   "cell_type": "markdown",
   "metadata": {},
   "source": [
    "### 2.1 Getting Started\n",
    "\n",
    "<b>doctest</b> looks for lines <b>beginning</b> with the interpreter prompt, <b>>>></b>, to find the beginning of a test case. The case is <b>ended</b> by <b>a blank line</b>, or by the <b>next interpreter prompt</b>.\n",
    "\n",
    "Here, <b>my_function()</b> has two examples given in the module: doctest_simple.py"
   ]
  },
  {
   "cell_type": "code",
   "execution_count": null,
   "metadata": {
    "collapsed": true
   },
   "outputs": [],
   "source": [
    "def my_function(a, b):\n",
    "    \"\"\"\n",
    "    >>> my_function(2, 3)\n",
    "    6\n",
    "    >>> my_function('a', 3)\n",
    "    'aaa'\n",
    "    \"\"\"\n",
    "    return a * b"
   ]
  },
  {
   "cell_type": "markdown",
   "metadata": {},
   "source": [
    "To run the tests, use <b>doctest as the main program</b> via the <b>-m</b> option to the interpreter:"
   ]
  },
  {
   "cell_type": "code",
   "execution_count": null,
   "metadata": {
    "collapsed": true
   },
   "outputs": [],
   "source": [
    "python -m doctest doctest_simple.py"
   ]
  },
  {
   "cell_type": "markdown",
   "metadata": {},
   "source": [
    "Usually no output is produced while the tests are running,\n",
    "\n",
    "so the example below includes the <b>-v</b> option to make the output more verbose."
   ]
  },
  {
   "cell_type": "code",
   "execution_count": null,
   "metadata": {
    "collapsed": false
   },
   "outputs": [],
   "source": [
    "python -m doctest -v doctest_simple.py-m"
   ]
  },
  {
   "cell_type": "raw",
   "metadata": {},
   "source": [
    "Examples cannot usually stand on their own as explanations of a function, so doctest also lets you keep the surrounding text you would normally include in the documentation. \n",
    "\n",
    "Intervening text is ignored, and can have any format as long as it does not look like a test case.\n",
    "\n"
   ]
  },
  {
   "cell_type": "code",
   "execution_count": null,
   "metadata": {
    "collapsed": true
   },
   "outputs": [],
   "source": [
    "def my_function(a, b):\n",
    "    \"\"\"Returns a * b.\n",
    "\n",
    "    Works with numbers:\n",
    "    \n",
    "    >>> my_function(2, 3)\n",
    "    6\n",
    "\n",
    "    and strings:\n",
    "    \n",
    "    >>> my_function('a', 3)\n",
    "    'aaa'\n",
    "    \"\"\"\n",
    "    return a * b"
   ]
  },
  {
   "cell_type": "markdown",
   "metadata": {},
   "source": [
    "The surrounding text in the updated docstring makes it more <b>useful to a human reader</b>, and is  <b>ignored by doctest</b>, and the results are the same."
   ]
  },
  {
   "cell_type": "markdown",
   "metadata": {},
   "source": [
    "## 2 Handling Unpredictable Output"
   ]
  },
  {
   "cell_type": "markdown",
   "metadata": {},
   "source": [
    "There are other cases where the exact output may not be predictable, but should still be testable. Local date and time values and object ids change on every test run. The default precision used in the representation of floating point values depend on compiler options. Object string representations may not be deterministic. Although these conditions are outside of your control, there are techniques for dealing with them.\n",
    "\n",
    "For example, in CPython, object identifiers are based on the memory address of the data structure holding the object.\n"
   ]
  },
  {
   "cell_type": "code",
   "execution_count": null,
   "metadata": {
    "collapsed": true
   },
   "outputs": [],
   "source": [
    "class MyClass(object):\n",
    "    pass\n",
    "\n",
    "def unpredictable(obj):\n",
    "    \"\"\"Returns a new list containing obj.\n",
    "\n",
    "    >>> unpredictable(MyClass())\n",
    "    [<doctest_unpredictable.MyClass object at 0x10055a2d0>]\n",
    "    \"\"\"\n",
    "    return [obj]"
   ]
  },
  {
   "cell_type": "code",
   "execution_count": null,
   "metadata": {
    "collapsed": true
   },
   "outputs": [],
   "source": [
    "python -m doctest -v doctest_unpredictable.py\n"
   ]
  },
  {
   "cell_type": "code",
   "execution_count": null,
   "metadata": {
    "collapsed": true
   },
   "outputs": [],
   "source": []
  },
  {
   "cell_type": "code",
   "execution_count": null,
   "metadata": {
    "collapsed": true
   },
   "outputs": [],
   "source": []
  },
  {
   "cell_type": "markdown",
   "metadata": {},
   "source": [
    "## Tracebacks¶"
   ]
  },
  {
   "cell_type": "markdown",
   "metadata": {},
   "source": [
    "Tracebacks are a special case of changing data. Since the paths in a traceback depend on the location where a module is installed on the filesystem on a given system, it would be impossible to write portable tests if they were treated the same as other output."
   ]
  },
  {
   "cell_type": "code",
   "execution_count": null,
   "metadata": {
    "collapsed": true
   },
   "outputs": [],
   "source": [
    "def this_raises():\n",
    "    \"\"\"This function always raises an exception.\n",
    "\n",
    "    >>> this_raises()\n",
    "    Traceback (most recent call last):\n",
    "      File \"<stdin>\", line 1, in <module>\n",
    "      File \"/no/such/path/doctest_tracebacks.py\", line 14, in this_raises\n",
    "        raise RuntimeError('here is the error')\n",
    "    RuntimeError: here is the error\n",
    "    \"\"\"\n",
    "    raise RuntimeError('here is the error')"
   ]
  },
  {
   "cell_type": "markdown",
   "metadata": {},
   "source": [
    "doctest makes a special effort to recognize tracebacks, and ignore the parts that might change from system to system."
   ]
  },
  {
   "cell_type": "code",
   "execution_count": null,
   "metadata": {
    "collapsed": true
   },
   "outputs": [],
   "source": [
    " python -m doctest -v doctest_tracebacks.py"
   ]
  }
 ],
 "metadata": {
  "kernelspec": {
   "display_name": "Python 3",
   "language": "python",
   "name": "python3"
  },
  "language_info": {
   "codemirror_mode": {
    "name": "ipython",
    "version": 3
   },
   "file_extension": ".py",
   "mimetype": "text/x-python",
   "name": "python",
   "nbconvert_exporter": "python",
   "pygments_lexer": "ipython3",
   "version": "3.4.3"
  }
 },
 "nbformat": 4,
 "nbformat_minor": 0
}
