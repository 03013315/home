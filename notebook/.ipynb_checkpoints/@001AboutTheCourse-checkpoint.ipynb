{
 "cells": [
  {
   "cell_type": "markdown",
   "metadata": {},
   "source": [
    "#About Course\n",
    "教学内容、方式、要求和学习建议"
   ]
  },
  {
   "cell_type": "markdown",
   "metadata": {},
   "source": [
    "# 内容"
   ]
  },
  {
   "cell_type": "code",
   "execution_count": null,
   "metadata": {
    "collapsed": true
   },
   "outputs": [],
   "source": []
  },
  {
   "cell_type": "markdown",
   "metadata": {},
   "source": [
    "# 方式"
   ]
  },
  {
   "cell_type": "markdown",
   "metadata": {
    "collapsed": true
   },
   "source": [
    "互动"
   ]
  },
  {
   "cell_type": "raw",
   "metadata": {},
   "source": [
    "# 要求"
   ]
  },
  {
   "cell_type": "markdown",
   "metadata": {
    "collapsed": true
   },
   "source": [
    "上课表现-参与次数；\n",
    "<p>编程: 1)代码量〉2000； 2）语言：Python；3）环境：desktop: Windows/Linux; mobile: Arduino,IOS, VC/Eclipse/... </p>\n",
    "<p>解决问题</p>\n",
    "<p>考试</p>"
   ]
  },
  {
   "cell_type": "markdown",
   "metadata": {},
   "source": [
    "# 学习建议"
   ]
  },
  {
   "cell_type": "markdown",
   "metadata": {
    "collapsed": true
   },
   "source": [
    "<p><b>coding，coding,not only reading</b></p>\n",
    "<h3 class=\"subhead\">Note  要点</h3>\n",
    "<ul class=\"arrow\">\n",
    "  <li> 简明教程ABC入门即可，不需要大部头，做中学. 不要做语言和软件包的高手，要做解决问题的能手</li>\n",
    "  <li> 官网是最佳学习资源</li>\n",
    "</ul>"
   ]
  },
  {
   "cell_type": "markdown",
   "metadata": {
    "collapsed": true
   },
   "source": [
    "# 目标\n",
    "<ol>\n",
    "<li>Python\n",
    "<li>能编写程序解决工作中的问题，提高工作效率和质量\n",
    "</ol>"
   ]
  },
  {
   "cell_type": "code",
   "execution_count": null,
   "metadata": {
    "collapsed": true
   },
   "outputs": [],
   "source": []
  }
 ],
 "metadata": {
  "kernelspec": {
   "display_name": "Python 3",
   "language": "python",
   "name": "python3"
  },
  "language_info": {
   "codemirror_mode": {
    "name": "ipython",
    "version": 3
   },
   "file_extension": ".py",
   "mimetype": "text/x-python",
   "name": "python",
   "nbconvert_exporter": "python",
   "pygments_lexer": "ipython3",
   "version": "3.4.3"
  }
 },
 "nbformat": 4,
 "nbformat_minor": 0
}
