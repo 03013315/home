{
 "cells": [
  {
   "cell_type": "markdown",
   "metadata": {},
   "source": [
    "# 26. Development Tools\n",
    "\n",
    "https://docs.python.org/3/library/development.html \n",
    "\n",
    "The modules described in this chapter help you write software. For example, the pydoc module takes a module and generates documentation based on the module’s contents. The doctest and unittest modules contains frameworks for writing unit tests that automatically exercise code and verify that the expected output is produced. 2to3 can translate Python 2.x source code into valid Python 3.x code."
   ]
  },
  {
   "cell_type": "markdown",
   "metadata": {},
   "source": [
    "26.2. pydoc — Documentation generator and online help system\n",
    "\n",
    "https://docs.python.org/3/library/pydoc.html\n",
    "\n",
    "26.3. doctest — Test interactive Python examples\n",
    "\n",
    "https://docs.python.org/3/library/doctest.html\n",
    "\n",
    "26.4. unittest — Unit testing framework\n",
    "\n",
    "https://docs.python.org/3/library/unittest.html\n",
    "        "
   ]
  }
 ],
 "metadata": {
  "kernelspec": {
   "display_name": "Python 3",
   "language": "python",
   "name": "python3"
  },
  "language_info": {
   "codemirror_mode": {
    "name": "ipython",
    "version": 3
   },
   "file_extension": ".py",
   "mimetype": "text/x-python",
   "name": "python",
   "nbconvert_exporter": "python",
   "pygments_lexer": "ipython3",
   "version": "3.4.3"
  }
 },
 "nbformat": 4,
 "nbformat_minor": 0
}
