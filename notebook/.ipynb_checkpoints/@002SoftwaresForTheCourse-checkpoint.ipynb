{
 "cells": [
  {
   "cell_type": "markdown",
   "metadata": {},
   "source": [
    "# Softwares for the Course"
   ]
  },
  {
   "cell_type": "markdown",
   "metadata": {},
   "source": [
    "<ul>  \n",
    "  <li>1 we will use the Python programming language and Scientic Computing package.</li>\n",
    "  <li>2 We also use IF97 Library developed by ourself to solve problems in the fields of thermal power engineering.</li>\n",
    "  <li>3 We will be using IDLE, IPython and Eclipse IDE as our development environment for writing and debugging our programs</li>\n",
    "<ul> "
   ]
  },
  {
   "cell_type": "markdown",
   "metadata": {},
   "source": [
    "# 1 Python\n"
   ]
  },
  {
   "cell_type": "markdown",
   "metadata": {
    "collapsed": true
   },
   "source": [
    "<h3> 1) Python for Windows, Linux/UNIX, Mac OS X, Other... </h3>\n",
    "<p> https://www.python.org/downloads/\n",
    "<img src=\"./img/ch2.1_PythonShellAtIDLE.PNG\"/> \n"
   ]
  },
  {
   "cell_type": "markdown",
   "metadata": {},
   "source": [
    "<h3>2) QPython - Python on Android: <h3> http://qpython.com/\n",
    "<img src=\"./img/@002_QPython.PNG\"/> "
   ]
  },
  {
   "cell_type": "raw",
   "metadata": {},
   "source": [
    "<h3>3)Python for iOS: </h3> http://pythonforios.com/\n",
    "<img src=\"./img/@002_PythonIOS.PNG\"/> \n",
    "        \n",
    "        \n"
   ]
  },
  {
   "cell_type": "markdown",
   "metadata": {},
   "source": [
    "<h2> 2 Scientic Computing package </h2>\n",
    "<h3>Scientic Computing package for Python</h3>\n",
    "<p>http://www.scipy.org/install.html\n",
    " <ul>\n",
    "   <li>numpy\n",
    "   <li>scipy\n",
    "   <li> matplotlib\n",
    "</ul>   \n",
    "<h3>jupyter: Open source, interactive data science and scientific computing </h3> \n",
    "<p> http://jupyter.org/\n",
    "<p> http://jupyter.readthedocs.org/en/latest/install.html\n",
    "<h3>IF97 for Python</h3>\n",
    "<p> https://github.com/thermalogic/PyTurbine\n",
    "# Unofficial Windows Binaries for Python Extension Packages\n",
    "by Christoph Gohlke, Laboratory for Fluorescence Dynamics, University of California, Irvine.\n",
    "<p>http://www.lfd.uci.edu/~gohlke/pythonlibs/\n"
   ]
  },
  {
   "cell_type": "code",
   "execution_count": null,
   "metadata": {
    "collapsed": true
   },
   "outputs": [],
   "source": []
  },
  {
   "cell_type": "markdown",
   "metadata": {},
   "source": [
    "<h2> 3 Integrated Development Environment</h2>"
   ]
  },
  {
   "cell_type": "markdown",
   "metadata": {
    "collapsed": true
   },
   "source": [
    "<ul>\n",
    "<li><b>Canopy:</b> https://store.enthought.com/downloads/,   Easy Python Deployment Plus Integrated Analysis Environment for Scientific Computing, Data Analysis and Engineering \n",
    "<li><b>Eclipse+Pydev: </b> http://www.eclipse.org/,\n",
    "<li><b>Visual Studio 2015: </b>  https://www.visualstudio.com/zh-cn/visual-studio-homepage-vs.aspx\n",
    "</ul>"
   ]
  },
  {
   "cell_type": "markdown",
   "metadata": {},
   "source": []
  }
 ],
 "metadata": {
  "kernelspec": {
   "display_name": "Python 3",
   "language": "python",
   "name": "python3"
  },
  "language_info": {
   "codemirror_mode": {
    "name": "ipython",
    "version": 3
   },
   "file_extension": ".py",
   "mimetype": "text/x-python",
   "name": "python",
   "nbconvert_exporter": "python",
   "pygments_lexer": "ipython3",
   "version": "3.4.3"
  }
 },
 "nbformat": 4,
 "nbformat_minor": 0
}
