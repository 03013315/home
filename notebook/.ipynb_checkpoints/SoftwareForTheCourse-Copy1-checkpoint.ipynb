{
 "cells": [
  {
   "cell_type": "markdown",
   "metadata": {},
   "source": [
    "# Software for the Course"
   ]
  },
  {
   "cell_type": "markdown",
   "metadata": {},
   "source": [
    "In the course: \n",
    "<ul>  \n",
    "  <li>1 we will use the Python programming language and Scientic Computing package.<li>\n",
    "  <li>2 We also use IF97 Library developed by ourself to solve problems in the fields of thermal power engineering.<li>\n",
    "  <li>3 We will be using IDLE, IPython and Eclipse IDE as our development environment for writing and debugging our programs</li>\n",
    "<ul> "
   ]
  },
  {
   "cell_type": "markdown",
   "metadata": {},
   "source": [
    "<h2>1 Python</h2>\n",
    "<p>A programming language is the tool we use to construct a sequence of instructions that will tell the computer what we want it to do. There are hundreds of programming languages in the world. Over the course of my career, I've used programming at least nine different languages,for example, Fortran,Basic,Pascal,C/C++,java,c#,Javascipt,MATLAB,Python.\n",
    "\n",
    "There is no best language. Different languages are better or worse for different kinds of applications. C,for ,a good language for writing the programs that control data networks.\n",
    "\n",
    "In this course, we will use Python. Python is a relatively recent addition to the universe of languages, and is still growing in popularity. I want to emphasize that this course is not about Python.What is much more important, is that you will learn how to write programs that solve problems, given a set of basic primitives, and ways of combining them into more complex elements, that you can then abstract into primitives. This skill can be transferred to many languages.\n",
    "\n",
    "<h3>Setting Up Python</h3>\n",
    "\n",
    "You can install the course software on your personal computer if your operating system is GNU/Linux, Windows (7/XP), or MacOS X. In all cases, you will need Python version 3.4.3 (2.X versions are NOT compatible). \n",
    "\n",
    "Below are direct links to the most common Python installers:\n",
    "Windows:\n",
    " Download and install: Windows Installer\n",
    "\n",
    "\n",
    "Using IDLE\n",
    "\n",
    "IDLE is the standard Python development environment. Its name is an acronym of \"Integrated DeveLopment Environment\". It works well on both Unix and Windows platforms.\n",
    "\n",
    "It has a Python shell window, which gives you access to the Python interactive mode. It also has a file editor that lets you create and edit existing Python source files.\n",
    "\n",
    "During the following discussion of IDLE's features, instead of passively reading along, you should start IDLE and try to replicate the actions.\n",
    "\n",
    "You can type Python code directly into this shell, at the '>>>' prompt. Whenever you enter a complete code fragment, it will be executed. For instance, typing:\n",
    "\n",
    ">>> print \"hello world\"\n",
    " and pressing Enter will cause the following to be displayed:\n",
    "\n",
    "hello world\n",
    "\n",
    "IDLE can also be used as a calculator:\n",
    "\n",
    ">>> 4+4\n",
    "8\n",
    "\n",
    "Addition, subtraction, and multiplication operators are built into the Python language. This means you can use them right away. If you want to use a square root in your calculation, you need to import the math module. Do not worry about what it means right now; we will cover this later during the course. Below is an example of square root calculation:\n",
    "\n",
    ">>> import math\n",
    ">>> math.sqrt(16)\n",
    "4.0\n",
    "\n",
    "Math module allows you to do a number of useful operations:\n",
    "\n",
    ">>> import math\n",
    ">>> math.pow(3, 2)\n",
    "9.0\n",
    ">>> math.cos( 0 )\n",
    "1.0\n",
    "\n",
    "Note that you only need to execute the import command once after you start IDLE.\n",
    "\n",
    "Exercises\n",
    "\n",
    "For additional practice, try using IDLE to calculate:\n",
    "1.23.0 to the 5th power\n",
    "2.Positive root of the following equation:\n",
    " 34*x^2 + 68*x - 510\n",
    " Recall:\n",
    " a*x^2 + b*x + c\n",
    " x1 = ( - b + sqrt ( b*b - 4*a*c ) ) / ( 2*a )\n"
   ]
  },
  {
   "cell_type": "markdown",
   "metadata": {},
   "source": [
    "<h2> 2 Scientic Computing package for thermal power enginering</h2>\n",
    "<h3>Scientic Computing package for Python</h3>\n",
    "   numpy\n",
    "   scipy\n",
    "   matplotlib\n",
    "<h3>If97 for Python</h3>\n",
    "  IF97\n"
   ]
  },
  {
   "cell_type": "markdown",
   "metadata": {},
   "source": [
    "# Unofficial Windows Binaries for Python Extension Packages\n",
    "\n",
    "by Christoph Gohlke, Laboratory for Fluorescence Dynamics, University of California, Irvine.\n",
    "\n",
    "http://www.lfd.uci.edu/~gohlke/pythonlibs/"
   ]
  },
  {
   "cell_type": "markdown",
   "metadata": {},
   "source": [
    "<h2> 3 Development environment</h2>"
   ]
  },
  {
   "cell_type": "raw",
   "metadata": {
    "collapsed": true
   },
   "source": [
    "1 Canopy\n",
    "https://store.enthought.com/downloads/\n",
    "    \n",
    "Enthought Canopy: Easy Python Deployment Plus Integrated Analysis Environment for Scientific Computing, Data Analysis and Engineering \n",
    "\n",
    "FREE for all users: Canopy Express, which includes access to 100+ of Canopy's most popular Python packages for scientific computing, data analysis, and engineering PLUS Canopy's integrated analysis environment. Get started today with easy deployment of pre-built, tested, and dependency-aware packages such as NumPy, SciPy, Pandas, Matplotlib, IPython and more.\n"
   ]
  },
  {
   "cell_type": "code",
   "execution_count": null,
   "metadata": {
    "collapsed": true
   },
   "outputs": [],
   "source": [
    "2 Eclipse+Pydev\n",
    "\n"
   ]
  },
  {
   "cell_type": "code",
   "execution_count": null,
   "metadata": {
    "collapsed": true
   },
   "outputs": [],
   "source": [
    "3 Visual Studio 2015"
   ]
  }
 ],
 "metadata": {
  "kernelspec": {
   "display_name": "Python 3",
   "language": "python",
   "name": "python3"
  },
  "language_info": {
   "codemirror_mode": {
    "name": "ipython",
    "version": 3
   },
   "file_extension": ".py",
   "mimetype": "text/x-python",
   "name": "python",
   "nbconvert_exporter": "python",
   "pygments_lexer": "ipython3",
   "version": "3.4.3"
  }
 },
 "nbformat": 4,
 "nbformat_minor": 0
}
