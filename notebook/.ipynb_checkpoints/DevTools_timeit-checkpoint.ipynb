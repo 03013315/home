{
 "cells": [
  {
   "cell_type": "markdown",
   "metadata": {
    "collapsed": true
   },
   "source": [
    "# Measure execution time of small code snippets  \n",
    "\n",
    "27.5. timeit — Measure execution time of small code snippets  \n",
    "\n",
    "https://docs.python.org/3/library/timeit.html\n",
    "\n",
    "This module provides a simple way to time small bits of Python code. It has both a Command-Line Interface as well as a callable one. It avoids a number of common traps for measuring execution times.\n",
    "\n",
    "### See also:\n",
    "\n",
    "Tim Peters’ introduction to the “Algorithms” chapter in the Python Cookbook, published by O’Reilly.\n",
    "\n",
    "http://python3-cookbook.readthedocs.org/zh_CN/latest/\n",
    "\n",
    " \n",
    "Doug Hellmann'S Python Module of the Week\n",
    "\n",
    "The Python Module of the Week series, or PyMOTW, is a tour of the Python standard library through short examples.\n",
    "\n",
    "https://pymotw.com/2/timeit/index.html\n",
    "    "
   ]
  },
  {
   "cell_type": "markdown",
   "metadata": {
    "collapsed": true
   },
   "source": [
    "## 27.5.1. Basic Examples\n",
    "\n",
    "The following example shows how the Command-Line Interface can be used to compare three different expressions:\n",
    "\n",
    "```\n",
    "$ python -m timeit '\"-\".join(str(n) for n in range(100))'\n",
    "\n",
    "$ python3 -m timeit '\"-\".join([str(n) for n in range(100)])'\n",
    "\n",
    "$ python3 -m timeit '\"-\".join(map(str, range(100)))'\n",
    "\n",
    "```"
   ]
  },
  {
   "cell_type": "code",
   "execution_count": 7,
   "metadata": {
    "collapsed": false
   },
   "outputs": [
    {
     "name": "stdout",
     "output_type": "stream",
     "text": [
      "100000000 loops, best of 3: 0.0158 usec per loop\n"
     ]
    }
   ],
   "source": [
    "!python -m timeit '\\\"-\".join(str(n) for n in range(100))'"
   ]
  },
  {
   "cell_type": "code",
   "execution_count": 11,
   "metadata": {
    "collapsed": false
   },
   "outputs": [
    {
     "name": "stdout",
     "output_type": "stream",
     "text": [
      "100000000 loops, best of 3: 0.0155 usec per loop\n"
     ]
    }
   ],
   "source": [
    "!python -m timeit '\\\"-\".join([str(n) for n in range(100)])'"
   ]
  },
  {
   "cell_type": "code",
   "execution_count": 13,
   "metadata": {
    "collapsed": false
   },
   "outputs": [
    {
     "name": "stdout",
     "output_type": "stream",
     "text": [
      "100000000 loops, best of 3: 0.0157 usec per loop\n"
     ]
    }
   ],
   "source": [
    "!python -m timeit '\\\"-\".join(map(str, range(100)))'"
   ]
  },
  {
   "cell_type": "markdown",
   "metadata": {
    "collapsed": true
   },
   "source": [
    "This can be achieved from the Python Interface with:"
   ]
  },
  {
   "cell_type": "code",
   "execution_count": 9,
   "metadata": {
    "collapsed": true
   },
   "outputs": [],
   "source": [
    "import timeit"
   ]
  },
  {
   "cell_type": "code",
   "execution_count": 10,
   "metadata": {
    "collapsed": false
   },
   "outputs": [
    {
     "data": {
      "text/plain": [
       "0.5374534302298226"
      ]
     },
     "execution_count": 10,
     "metadata": {},
     "output_type": "execute_result"
    }
   ],
   "source": [
    "timeit.timeit('\"-\".join(str(n) for n in range(100))', number=10000)"
   ]
  },
  {
   "cell_type": "code",
   "execution_count": null,
   "metadata": {
    "collapsed": false
   },
   "outputs": [],
   "source": [
    "timeit.timeit('\"-\".join([str(n) for n in range(100)])', number=10000)"
   ]
  },
  {
   "cell_type": "code",
   "execution_count": null,
   "metadata": {
    "collapsed": false
   },
   "outputs": [],
   "source": [
    "timeit.timeit('\"-\".join(map(str, range(100)))', number=10000)"
   ]
  },
  {
   "cell_type": "markdown",
   "metadata": {},
   "source": [
    "Note however that timeit will <b>automatically determine the number of repetitions only when the command-line interface</b> is used"
   ]
  },
  {
   "cell_type": "markdown",
   "metadata": {},
   "source": [
    "## 27.5.4. Examples\n",
    "\n",
    "It is possible to provide <b>a setup statement</b> that is <b>executed only once</b> at the beginning:\n",
    "```\n",
    "$python -m timeit -s 'text = \"sample string\"; char = \"g\"'  'char in text'\n",
    "\n",
    "$python -m timeit -s 'text = \"sample string\"; char = \"g\"'  'text.find(char)'\n",
    "\n",
    "```"
   ]
  },
  {
   "cell_type": "code",
   "execution_count": null,
   "metadata": {
    "collapsed": false
   },
   "outputs": [],
   "source": [
    "import timeit\n",
    "timeit.timeit('char in text', setup='text = \"sample string\"; char = \"g\"')"
   ]
  },
  {
   "cell_type": "code",
   "execution_count": null,
   "metadata": {
    "collapsed": false
   },
   "outputs": [],
   "source": [
    "timeit.timeit('text.find(char)', setup='text = \"sample string\"; char = \"g\"')"
   ]
  },
  {
   "cell_type": "markdown",
   "metadata": {},
   "source": [
    "The same can be done using the `Timer` class and its methods:"
   ]
  },
  {
   "cell_type": "code",
   "execution_count": null,
   "metadata": {
    "collapsed": false
   },
   "outputs": [],
   "source": [
    "import timeit\n",
    "t = timeit.Timer('char in text', setup='text = \"sample string\"; char = \"g\"')\n",
    "t.timeit()"
   ]
  },
  {
   "cell_type": "code",
   "execution_count": null,
   "metadata": {
    "collapsed": false
   },
   "outputs": [],
   "source": [
    "t.repeat()"
   ]
  },
  {
   "cell_type": "markdown",
   "metadata": {},
   "source": [
    "The following examples show how to <b>time expressions that contain multiple lines</b>. \n",
    "\n",
    "Here we compare the cost of using `hasattr()` vs. `try/except` to test for missing and present object attributes:\n",
    "\n",
    "```\n",
    "$ python -m timeit 'try:' '  str.__bool__' 'except AttributeError:' '  pass'\n",
    "\n",
    "$ python -m timeit 'if hasattr(str, \"__bool__\"): pass'\n",
    "\n",
    "$python -m timeit 'try:' '  int.__bool__' 'except AttributeError:' '  pass'\n",
    "\n",
    "\n",
    "$ python -m timeit 'if hasattr(int, \"__bool__\"): pass'\n",
    "```"
   ]
  },
  {
   "cell_type": "code",
   "execution_count": null,
   "metadata": {
    "collapsed": false
   },
   "outputs": [],
   "source": [
    "import timeit\n",
    "\n",
    "# attribute is missing\n",
    "s = \"\"\"\\\n",
    "try:\n",
    "    str.__bool__\n",
    "except AttributeError:\n",
    "    pass\n",
    "\"\"\"\n",
    "\n",
    "timeit.timeit(stmt=s, number=100000)"
   ]
  },
  {
   "cell_type": "code",
   "execution_count": null,
   "metadata": {
    "collapsed": false
   },
   "outputs": [],
   "source": [
    "s = \"if hasattr(str, '__bool__'): pass\"\n",
    "timeit.timeit(stmt=s, number=100000)"
   ]
  },
  {
   "cell_type": "code",
   "execution_count": null,
   "metadata": {
    "collapsed": false
   },
   "outputs": [],
   "source": [
    "s = \"\"\"\\\n",
    "try:\n",
    "    int.__bool__\n",
    "except AttributeError:\n",
    "    pass\n",
    "\"\"\"\n",
    "timeit.timeit(stmt=s, number=100000)\n"
   ]
  },
  {
   "cell_type": "code",
   "execution_count": null,
   "metadata": {
    "collapsed": false
   },
   "outputs": [],
   "source": [
    "s = \"if hasattr(int, '__bool__'): pass\"\n",
    "timeit.timeit(stmt=s, number=100000)\n"
   ]
  },
  {
   "cell_type": "markdown",
   "metadata": {},
   "source": [
    "To give the `timeit` module access to functions you define, you can pass a `setup` parameter which contains an `import` statement:"
   ]
  },
  {
   "cell_type": "code",
   "execution_count": null,
   "metadata": {
    "collapsed": false
   },
   "outputs": [],
   "source": [
    "def test():\n",
    "    \"\"\"Stupid test function\"\"\"\n",
    "    L = [i for i in range(100)]\n",
    "\n",
    "if __name__ == '__main__':\n",
    "    import timeit\n",
    "    print(timeit.timeit(\"test()\", setup=\"from __main__ import test\"))"
   ]
  },
  {
   "cell_type": "markdown",
   "metadata": {},
   "source": [
    "Another option is to pass `globals()` to the globals parameter, which will cause the code to be executed within your current global namespace. This can be more convenient than individually specifying imports:\n",
    "\n",
    "##### Changed in version 3.5: The optional globals parameter was added."
   ]
  },
  {
   "cell_type": "code",
   "execution_count": null,
   "metadata": {
    "collapsed": false
   },
   "outputs": [],
   "source": [
    "def f(x):\n",
    "    return x**2\n",
    "def g(x):\n",
    "    return x**4\n",
    "def h(x):\n",
    "    return x**8\n",
    "\n",
    "import timeit\n",
    "print(timeit.timeit('[func(42) for func in (f,g,h)]', globals=globals()))\n"
   ]
  },
  {
   "cell_type": "markdown",
   "metadata": {
    "collapsed": true
   },
   "source": [
    "<hr style=\"height:2px;color:blue\"/>\n",
    "\n",
    "# timeit – Time the execution of small bits of Python code.\n",
    "\n",
    "The timeit module provides a simple interface for determining the execution time of small bits of Python code. \n",
    "\n",
    "It uses a platform-specific time function to provide the most accurate time calculation possible. \n",
    "\n",
    "It reduces the impact of startup or shutdown costs on the time calculation by executing the code repeatedly.\n",
    "\n"
   ]
  },
  {
   "cell_type": "markdown",
   "metadata": {},
   "source": [
    "## Module Contents\n",
    "\n",
    "`timeit` defines a single public class, `Timer`.\n",
    "\n",
    "The constructor for `Timer` takes <b>a statement to be timed</b>, and <b>a setup statement</b> (to initialize variables, for example). The Python statements should be strings and can include embedded newlines.\n",
    "\n",
    "The `timeit()` method runs the setup statement one time, then executes the primary statement repeatedly and returns the amount of time which passes. \n",
    "\n",
    "The argument to `timeit()` controls how many times to run the statement; the default is 1,000,000.\n"
   ]
  },
  {
   "cell_type": "markdown",
   "metadata": {},
   "source": [
    "## Basic Example\n",
    "\n",
    "To illustrate how the various arguments to `Timer` are used, here is a simple example which prints an identifying value when each statement is executed:\n"
   ]
  },
  {
   "cell_type": "code",
   "execution_count": null,
   "metadata": {
    "collapsed": false
   },
   "outputs": [],
   "source": [
    "import timeit\n",
    "\n",
    "# using setitem\n",
    "t = timeit.Timer(\"print('main statement')\", \"print('setup')\")\n",
    "\n",
    "print('TIMEIT:')\n",
    "print(t.timeit(2))\n",
    "\n",
    "print('\\n')\n",
    "print('REPEAT:')\n",
    "print(t.repeat(3, 2))"
   ]
  },
  {
   "cell_type": "markdown",
   "metadata": {},
   "source": [
    "When called, `timeit()` runs the setup statement one time, then calls the main statement <b>count times</b>. It returns a single floating point value representing the amount of time it took to run the main statement count times.\n",
    "\n",
    "When `repeat()` is used, it calls `timeit()` severeal times (3 in this case) and all of the responses are returned in a list.\n"
   ]
  },
  {
   "cell_type": "code",
   "execution_count": null,
   "metadata": {
    "collapsed": true
   },
   "outputs": [],
   "source": [
    "## Storing Values in a Dictionary\n",
    "\n",
    "\n"
   ]
  },
  {
   "cell_type": "code",
   "execution_count": null,
   "metadata": {
    "collapsed": true
   },
   "outputs": [],
   "source": [
    "# {{{cog include('timeit/timeit_dictionary.py', 'header')}}}\n",
    "import timeit\n",
    "import sys\n",
    "\n",
    "# A few constants\n",
    "range_size=1000\n",
    "count=1000\n",
    "setup_statement=\"l = [ (str(x), x) for x in range(%d) ]; d = {}\" % range_size\n",
    "# {{{end}}}\n",
    "\n",
    "\n",
    "# {{{cog include('timeit/timeit_dictionary.py', 'show_results')}}}\n",
    "def show_results(result):\n",
    "    \"Print results in terms of microseconds per pass and per item.\"\n",
    "    global count, range_size\n",
    "\n",
    "    per_pass = 1000000 * (result / count)\n",
    "    print('%.2f usec/pass' % per_pass,end='')\n",
    "\n",
    "    per_item = per_pass / range_size\n",
    "    print(' %.2f usec/item' % per_item)\n",
    "\n",
    "\n",
    "print(\"%d items\" % range_size)\n",
    "print(\"%d iterations\" % count)\n",
    "print\n",
    "\n",
    "# {{{end}}}\n",
    "\n",
    "\n",
    "# {{{cog include('timeit/timeit_dictionary.py', 'setitem')}}}\n",
    "# Using __setitem__ without checking for existing values first\n",
    "\n",
    "print('__setitem__:\\t',end='')\n",
    "\n",
    "sys.stdout.flush()\n",
    "\n",
    "# using setitem\n",
    "t = timeit.Timer(\"\"\"\n",
    "for s, i in l:\n",
    "    d[s] = i\n",
    "\"\"\",\n",
    "setup_statement)\n",
    "\n",
    "show_results(t.timeit(number=count))\n",
    "# {{{end}}}\n",
    "\n",
    "# {{{cog include('timeit/timeit_dictionary.py', 'setdefault')}}}\n",
    "# Using setdefault\n",
    "print('setdefault:\\t',end='')\n",
    "\n",
    "sys.stdout.flush()\n",
    "\n",
    "t = timeit.Timer(\"\"\"\n",
    "for s, i in l:\n",
    "    d.setdefault(s, i)\n",
    "\"\"\",\n",
    "setup_statement)\n",
    "\n",
    "show_results(t.timeit(number=count))\n",
    "# {{{end}}}\n",
    "\n",
    "# {{{cog include('timeit/timeit_dictionary.py', 'has_key')}}}\n",
    "# Using has_key\n",
    "print('has_key:\\t',end='')\n",
    "\n",
    "sys.stdout.flush()\n",
    "\n",
    "# using setitem\n",
    "t = timeit.Timer(\"\"\"\n",
    "for s, i in l:\n",
    "    if not (s in d):\n",
    "        d[s] = i\n",
    "\"\"\",\n",
    "setup_statement)\n",
    "\n",
    "show_results(t.timeit(number=count))\n",
    "# {{{end}}}\n",
    "\n",
    "# {{{cog include('timeit/timeit_dictionary.py', 'exception')}}}\n",
    "# Using exceptions\n",
    "print('KeyError:\\t',end='')\n",
    "\n",
    "sys.stdout.flush()\n",
    "\n",
    "# using setitem\n",
    "t = timeit.Timer(\"\"\"\n",
    "for s, i in l:\n",
    "    try:\n",
    "        existing = d[s]\n",
    "    except KeyError:\n",
    "        d[s] = i\n",
    "\"\"\",\n",
    "setup_statement)\n",
    "\n",
    "show_results(t.timeit(number=count))\n",
    "# {{{end}}}\n",
    "\n",
    "# {{{cog include('timeit/timeit_dictionary.py', 'in')}}}\n",
    "# Using \"in\"\n",
    "print( '\"not in\":\\t',end='')\n",
    "\n",
    "sys.stdout.flush()\n",
    "\n",
    "# using setitem\n",
    "t = timeit.Timer(\"\"\"\n",
    "for s, i in l:\n",
    "    if s not in d:\n",
    "        d[s] = i\n",
    "\"\"\",\n",
    "setup_statement)\n",
    "\n",
    "show_results(t.timeit(number=count))\n",
    "# {{{end}}}\n",
    "\n"
   ]
  },
  {
   "cell_type": "markdown",
   "metadata": {},
   "source": [
    "## From the Command Line\n",
    "\n",
    "In addition to the programmatic interface, timeit provides a command line interface for testing modules without instrumentation.\n",
    "\n",
    "To run the module, use the new -m option to find the module and treat it as the main program:\n",
    "\n",
    "\n",
    "\n"
   ]
  },
  {
   "cell_type": "code",
   "execution_count": null,
   "metadata": {
    "collapsed": false
   },
   "outputs": [],
   "source": [
    "!python -m timeit"
   ]
  },
  {
   "cell_type": "markdown",
   "metadata": {},
   "source": [
    "For example, to get help:"
   ]
  },
  {
   "cell_type": "code",
   "execution_count": null,
   "metadata": {
    "collapsed": false
   },
   "outputs": [],
   "source": [
    "!python -m timeit -h"
   ]
  },
  {
   "cell_type": "markdown",
   "metadata": {},
   "source": [
    "The statement argument works a little differently than the argument to Timer. Instead of one long string, you pass each line of the instructions as a separate command line argument. To indent lines (such as inside a loop), embed spaces in the string by enclosing the whole thing in quotes. For example:"
   ]
  },
  {
   "cell_type": "code",
   "execution_count": 1,
   "metadata": {
    "collapsed": false
   },
   "outputs": [
    {
     "name": "stdout",
     "output_type": "stream",
     "text": [
      "1000 loops, best of 3: 605 usec per loop\n"
     ]
    }
   ],
   "source": [
    "!python -m timeit -s \"d={}\" \"for i in range(1000):\" \"  d[str(i)] = i\""
   ]
  },
  {
   "cell_type": "markdown",
   "metadata": {},
   "source": [
    "It is also possible to define a function with more complex code, then import the module and call the function from the command line:"
   ]
  },
  {
   "cell_type": "code",
   "execution_count": null,
   "metadata": {
    "collapsed": true
   },
   "outputs": [],
   "source": [
    "def test_setitem(range_size=1000):\n",
    "    l = [ (str(x), x) for x in range(range_size) ]\n",
    "    d = {}\n",
    "    for s, i in l:\n",
    "        d[s] = i"
   ]
  },
  {
   "cell_type": "markdown",
   "metadata": {},
   "source": [
    "Then to run the test:"
   ]
  },
  {
   "cell_type": "code",
   "execution_count": null,
   "metadata": {
    "collapsed": false
   },
   "outputs": [],
   "source": [
    "!python -m timeit \"import timeit_setitem; timeit_setitem.test_setitem()\"\n"
   ]
  },
  {
   "cell_type": "code",
   "execution_count": null,
   "metadata": {
    "collapsed": true
   },
   "outputs": [],
   "source": []
  }
 ],
 "metadata": {
  "kernelspec": {
   "display_name": "Python 3",
   "language": "python",
   "name": "python3"
  },
  "language_info": {
   "codemirror_mode": {
    "name": "ipython",
    "version": 3
   },
   "file_extension": ".py",
   "mimetype": "text/x-python",
   "name": "python",
   "nbconvert_exporter": "python",
   "pygments_lexer": "ipython3",
   "version": "3.5.0"
  }
 },
 "nbformat": 4,
 "nbformat_minor": 0
}
