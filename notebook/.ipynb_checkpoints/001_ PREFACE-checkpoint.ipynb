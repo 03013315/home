{
 "cells": [
  {
   "cell_type": "markdown",
   "metadata": {},
   "source": [
    "# PREFACE\n",
    "\n",
    "This book is based on an MIT course that has been offered twice a year since 2006.\n",
    "\n",
    "The primary knowledge you will take away from this book is the art of computational problem solving.\n",
    "\n",
    "The book is a bit eccentric.\n",
    "\n",
    "<b style=\"color:blue\">Part 1 (Chapters 1-8)</b> is an unconventional introduction to <b>programming in Python</b>. We braid together four strands of material:\n",
    "\n",
    "• The basics of programming,\n",
    "\n",
    "• The Python programming language,\n",
    "\n",
    "• Concepts central to understanding computation, and\n",
    "\n",
    "• Computational problem solving techniques.\n",
    "\n",
    "\n",
    "We cover most of Python’s features, but the emphasis is on what one can do with a programming language, not on the language itself.\n",
    "\n",
    "\n",
    "<b style=\"color:blue\">Part 2 (Chapters 9-16))</b> is primarily about using computation to <b>solve problems<b>.\n",
    "\n",
    "<b style=\"color:blue\">Part 3 (Chapters 17-19)</b> looks at three slightly <b>advanced topics</b>—optimization\n",
    "problems, dynamic programming, and clustering.\n"
   ]
  },
  {
   "cell_type": "markdown",
   "metadata": {},
   "source": [
    "The book has two pervasive themes: systematic problem solving and the power of abstraction. \n",
    "When you have finished this book you should have:\n",
    "<ul>\n",
    "<li>Learned a language, Python, for expressing computations,</li>\n",
    "<li>Learned a systematic approach to organizing, writing and debugging medium-sized programs,</li>\n",
    "<li>Developed an informal understanding of computational complexity,</li>\n",
    "<li>Developed some insight into the process of moving from an ambiguous problem statement to a computational formulation of a method for solving the problem,\n",
    "<li> Learned a useful set of algorithmic and problem reduction techniques,\n",
    "<li>Learned how to use randomness and simulations to shed light on problems that don’t easily succumb to closed-form solutions, and\n",
    "<li> Learned how to use computational tools, including simple statistical and visualization tools, to model and understand data.\n",
    "</ul>"
   ]
  },
  {
   "cell_type": "markdown",
   "metadata": {},
   "source": [
    "# Online version of this course"
   ]
  },
  {
   "cell_type": "markdown",
   "metadata": {},
   "source": [
    "Various versions of the course have been available on MIT’s OpenCourseWare (OCW)Web site since 2008.\n",
    "Since the fall of 2012, edX and MITx, have offered an online version of this course. We strongly recommend that you\n",
    "do the problem sets associated with one of the OCW or edX offerings.\n",
    "\n",
    "<b>MIT.OWC :</b> 6.00SC   Introduction to Computer Science and Programming (Spring 2011)  \n",
    "<p>     http://ocw.mit.edu/courses/electrical-engineering-and-computer-science/6-00sc-introduction-to-computer-science-and-programming-spring-2011/\n",
    "<p><b>NetEasy:</b>\n",
    "<p>http://v.163.com/special/opencourse/bianchengdaolun.html\n",
    "\n",
    "<p><b>edx:</b> Introduction to Computer Science and Programming Using Python\n",
    "<p>6.00.1x is an introduction to computer science as a tool to solve real-world analytical problems.\n",
    "<p>https://www.edx.org/course/introduction-computer-science-mitx-6-00-1x-5"
   ]
  },
  {
   "cell_type": "raw",
   "metadata": {},
   "source": []
  }
 ],
 "metadata": {
  "kernelspec": {
   "display_name": "Python 3",
   "language": "python",
   "name": "python3"
  },
  "language_info": {
   "codemirror_mode": {
    "name": "ipython",
    "version": 3
   },
   "file_extension": ".py",
   "mimetype": "text/x-python",
   "name": "python",
   "nbconvert_exporter": "python",
   "pygments_lexer": "ipython3",
   "version": "3.4.3"
  }
 },
 "nbformat": 4,
 "nbformat_minor": 0
}
