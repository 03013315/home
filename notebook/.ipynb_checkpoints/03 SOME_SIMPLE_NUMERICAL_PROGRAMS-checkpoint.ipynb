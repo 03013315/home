{
 "cells": [
  {
   "cell_type": "markdown",
   "metadata": {},
   "source": [
    "# 3 SOME SIMPLE NUMERICAL PROGRAMS\n"
   ]
  },
  {
   "cell_type": "markdown",
   "metadata": {},
   "source": [
    "Now that we have covered some basic Python constructs, it is time to start thinking about<b style=\"color:blue\"> how </b>we can combine those constructs to write some<b style=\"color:blue\"> simple programs</b>. \n",
    "<p>Along the way, we’ll sneak in a few more <b>language constructs</b> and some<b> algorithmic techniques</b>."
   ]
  },
  {
   "cell_type": "markdown",
   "metadata": {},
   "source": [
    "# 3.1 Exhaustive Enumeration"
   ]
  },
  {
   "cell_type": "code",
   "execution_count": 5,
   "metadata": {
    "collapsed": false
   },
   "outputs": [
    {
     "name": "stdout",
     "output_type": "stream",
     "text": [
      "Cube root of -27 is -3\n"
     ]
    }
   ],
   "source": [
    "#Page 21, Figure 3.1\n",
    "#Find the cube root of a perfect cube\n",
    "\n",
    "#x = int(input('Enter an integer: '))\n",
    "#x=19\n",
    "x=8\n",
    "#x=-8\n",
    "\n",
    "ans = 0   #  ！！！\n",
    "while ans**3 < abs(x):\n",
    "    ans = ans + 1  # \n",
    "\n",
    "if ans**3 != abs(x):\n",
    "    print(x, 'is not a perfect cube')\n",
    "else:\n",
    "    if x < 0:\n",
    "        ans = -ans\n",
    "    print('Cube root of', x,'is', ans)"
   ]
  },
  {
   "cell_type": "markdown",
   "metadata": {},
   "source": [
    "# decrementing function"
   ]
  },
  {
   "cell_type": "markdown",
   "metadata": {
    "collapsed": true
   },
   "source": [
    "What is the decrementing function for the loop in Figure 3.1? It is <b style=\"color:blue\">abs(x) - ans**3.</b>"
   ]
  },
  {
   "cell_type": "markdown",
   "metadata": {
    "collapsed": true
   },
   "source": [
    "Whenever you write a loop, you should think about an appropriate <b>decrementing function.</b> This is a function that has the following properties:\n",
    "<ol>\n",
    "<li>It maps a set of program variables into an integer.\n",
    "<li>When the loop is entered, its value is nonnegative.\n",
    "<li>When its value is <=0, the loop terminates.\n",
    "<li>Its value is decreased every time through the loop.\n",
    "</ol>"
   ]
  },
  {
   "cell_type": "code",
   "execution_count": null,
   "metadata": {
    "collapsed": true
   },
   "outputs": [],
   "source": [
    "Now, let’s insert some errors and see what happens"
   ]
  },
  {
   "cell_type": "markdown",
   "metadata": {
    "collapsed": true
   },
   "source": [
    "First, try <b  style=\"color:blue\">commenting out the statement ans = 0</b>. \n",
    "The Python interpreter prints the error message, NameError: name 'ans' is not defined, because the interpreter attempts to  find the value to which ans is bound before it has been bound to anything."
   ]
  },
  {
   "cell_type": "code",
   "execution_count": 1,
   "metadata": {
    "collapsed": false
   },
   "outputs": [
    {
     "ename": "NameError",
     "evalue": "name 'ans' is not defined",
     "output_type": "error",
     "traceback": [
      "\u001b[1;31m---------------------------------------------------------------------------\u001b[0m",
      "\u001b[1;31mNameError\u001b[0m                                 Traceback (most recent call last)",
      "\u001b[1;32m<ipython-input-1-b53e4d5f58f1>\u001b[0m in \u001b[0;36m<module>\u001b[1;34m()\u001b[0m\n\u001b[0;32m      2\u001b[0m \u001b[1;31m# ans = 0   #  commenting out the statement ans = 0\u001b[0m\u001b[1;33m\u001b[0m\u001b[1;33m\u001b[0m\u001b[0m\n\u001b[0;32m      3\u001b[0m \u001b[1;33m\u001b[0m\u001b[0m\n\u001b[1;32m----> 4\u001b[1;33m \u001b[1;32mwhile\u001b[0m \u001b[0mans\u001b[0m\u001b[1;33m**\u001b[0m\u001b[1;36m3\u001b[0m \u001b[1;33m<\u001b[0m \u001b[0mabs\u001b[0m\u001b[1;33m(\u001b[0m\u001b[0mx\u001b[0m\u001b[1;33m)\u001b[0m\u001b[1;33m:\u001b[0m\u001b[1;33m\u001b[0m\u001b[0m\n\u001b[0m\u001b[0;32m      5\u001b[0m     \u001b[0mans\u001b[0m \u001b[1;33m=\u001b[0m \u001b[0mans\u001b[0m \u001b[1;33m+\u001b[0m \u001b[1;36m1\u001b[0m  \u001b[1;31m#\u001b[0m\u001b[1;33m\u001b[0m\u001b[0m\n\u001b[0;32m      6\u001b[0m \u001b[1;33m\u001b[0m\u001b[0m\n",
      "\u001b[1;31mNameError\u001b[0m: name 'ans' is not defined"
     ]
    }
   ],
   "source": [
    "x=-8\n",
    "# ans = 0   #  commenting out the statement ans = 0\n",
    "            #2.When the loop is entered, its value is nonnegative\n",
    "while ans**3 < abs(x):\n",
    "    ans = ans + 1  # \n",
    "\n",
    "if ans**3 != abs(x):\n",
    "    print(x, 'is not a perfect cube')\n",
    "else:\n",
    "    if x < 0:\n",
    "        ans = -ans\n",
    "    print('Cube root of', x,'is', ans)"
   ]
  },
  {
   "cell_type": "markdown",
   "metadata": {},
   "source": [
    "Now,restore the initialization of ans, <b  style=\"color:blue\">replace the statement ans = ans + 1 by ans = ans</b>, and try finding the cube root of 8. After you get <b  style=\"color:red\">tired of waiting</b>, enter <b>“control c”</b> (hold down the control key and the c key simultaneously). This will return you to the user prompt in the shell."
   ]
  },
  {
   "cell_type": "code",
   "execution_count": null,
   "metadata": {
    "collapsed": true
   },
   "outputs": [],
   "source": [
    "x=8\n",
    "ans = 0  \n",
    "\n",
    "while ans**3 < abs(x):\n",
    "    ans = ans  # replace the statement ans = ans + 1 by ans = ans \n",
    "               # 4.Its value is decreased every time through the loop. \n",
    "               # 3.When its value is <=0, the loop terminates. \n",
    "\n",
    "if ans**3 != abs(x):\n",
    "    print(x, 'is not a perfect cube')\n",
    "else:\n",
    "    if x < 0:\n",
    "        ans = -ans\n",
    "    print('Cube root of', x,'is', ans)"
   ]
  },
  {
   "cell_type": "markdown",
   "metadata": {},
   "source": [
    "Now, add the statement"
   ]
  },
  {
   "cell_type": "code",
   "execution_count": null,
   "metadata": {
    "collapsed": true
   },
   "outputs": [],
   "source": [
    "print('Value of the decrementing function abs(x) - ans**3 is',\\\n",
    "    abs(x) - ans**3)"
   ]
  },
  {
   "cell_type": "markdown",
   "metadata": {},
   "source": [
    "at the start of the loop, and try running it again. \n",
    "The<b style=\"color:blue\"> \\</b>  at the end of the first line of the print statement is used to indicate that the statement continues on the next line.（Python may no \"\\\")"
   ]
  },
  {
   "cell_type": "raw",
   "metadata": {
    "collapsed": false
   },
   "source": [
    "# Test in IDEL By ch3_cube_root\n",
    "x=8\n",
    "ans = 0  \n",
    "while ans**3 < abs(x):\n",
    "    \n",
    "    print('Value of the decrementing function abs(x) - ans**3 is',\\ \n",
    "            abs(x) - ans**3) # add the statement at the start of the loop\n",
    "                             # test whether the decrementing function is indeed being decremented\n",
    "   \n",
    "    ans = ans  # replace the statement ans = ans + 1 by ans = ans \n",
    "               # 4.Its value is decreased every time through the loop. \n",
    "               # 3.When its value is <=0, the loop terminates. \n",
    "\n",
    "if ans**3 != abs(x):\n",
    "    print(x, 'is not a perfect cube')\n",
    "else:\n",
    "    if x < 0:\n",
    "        ans = -ans\n",
    "    print('Cube root of', x,'is', ans)"
   ]
  },
  {
   "cell_type": "markdown",
   "metadata": {
    "collapsed": true
   },
   "source": [
    "<h3> When confronted with a program that seems <b style=\"color:blue\">not to be terminating</b>, experienced programmers often <strong  style=\"color:blue\"> insert print statements, such as the one here, to test whether the  <b style=\"color:red\">decrementing function is indeed being decremented</strong>.</h3>"
   ]
  },
  {
   "cell_type": "markdown",
   "metadata": {},
   "source": [
    "The algorithmic technique used in this program is a variant of <b>guess and check</b>\n",
    "called<b>exhaustive enumeration</b>. We enumerate all possibilities until we get to\n",
    "the right answer or exhaust the space of possibilities. At first blush, this may\n",
    "seem like an incredibly stupid way to solve a problem. Surprisingly, however,\n",
    "exhaustive enumeration algorithms are often the most practical way to solve a\n",
    "problem."
   ]
  },
  {
   "cell_type": "code",
   "execution_count": null,
   "metadata": {
    "collapsed": true
   },
   "outputs": [],
   "source": [
    "Just for fun, try executing the code"
   ]
  },
  {
   "cell_type": "code",
   "execution_count": null,
   "metadata": {
    "collapsed": true
   },
   "outputs": [],
   "source": [
    "max = int(input('Enter a postive integer: '))\n",
    "i = 0\n",
    "while i < max:\n",
    "    i = i + 1\n",
    "print(i)"
   ]
  },
  {
   "cell_type": "markdown",
   "metadata": {},
   "source": [
    "# 3.2 For Loops"
   ]
  },
  {
   "cell_type": "code",
   "execution_count": null,
   "metadata": {
    "collapsed": true
   },
   "outputs": [],
   "source": [
    "Python provides a language mechanism, the <b>for</b> loop,that can be used to simplify programs containing this kind of iteration.\n",
    "The general form of a for statement is (recall that the words in italics are descriptions of what can appear, not actual code):\n"
   ]
  },
  {
   "cell_type": "code",
   "execution_count": null,
   "metadata": {
    "collapsed": true
   },
   "outputs": [],
   "source": [
    "for variable in sequence:\n",
    "    code block"
   ]
  },
  {
   "cell_type": "code",
   "execution_count": 1,
   "metadata": {
    "collapsed": false
   },
   "outputs": [
    {
     "name": "stdout",
     "output_type": "stream",
     "text": [
      "0\n",
      "1\n",
      "2\n",
      "3\n"
     ]
    }
   ],
   "source": [
    "x = 4\n",
    "for i in range(0, x):\n",
    "    print(i) "
   ]
  },
  {
   "cell_type": "markdown",
   "metadata": {},
   "source": [
    "# 3.3 Approximate Solutions and Bisection Search"
   ]
  },
  {
   "cell_type": "code",
   "execution_count": null,
   "metadata": {
    "collapsed": true
   },
   "outputs": [],
   "source": []
  },
  {
   "cell_type": "code",
   "execution_count": 6,
   "metadata": {
    "collapsed": false
   },
   "outputs": [
    {
     "name": "stdout",
     "output_type": "stream",
     "text": [
      "numGuesses = 49990\n",
      "4.999000000001688 is close to square root of 25\n"
     ]
    }
   ],
   "source": [
    "#Page 26, Figure 3.3\n",
    "x = 25\n",
    "epsilon = 0.01\n",
    "step = epsilon**2\n",
    "numGuesses = 0\n",
    "ans = 0.0\n",
    "while abs(ans**2 - x) >= epsilon and ans <= x:\n",
    "    ans += step\n",
    "    numGuesses += 1\n",
    "print('numGuesses =', numGuesses)\n",
    "if abs(ans**2 - x) >= epsilon:\n",
    "    print('Failed on square root of', x)\n",
    "else:\n",
    "    print(ans, 'is close to square root of', x)"
   ]
  },
  {
   "cell_type": "markdown",
   "metadata": {},
   "source": [
    "# 3.4 A Few Words About Using Floats"
   ]
  },
  {
   "cell_type": "markdown",
   "metadata": {},
   "source": [
    "Most of the time, numbers of type float provide a reasonably good approximation to real numbers. But <b  style=\"color:blue\">“most of the time” is not all of the time</b>,\n",
    "and when they don’t it can lead to <b>surprising consequences</b>."
   ]
  },
  {
   "cell_type": "code",
   "execution_count": 5,
   "metadata": {
    "collapsed": false
   },
   "outputs": [
    {
     "name": "stdout",
     "output_type": "stream",
     "text": [
      "0.9999999999999999 is not 1.0\n"
     ]
    }
   ],
   "source": [
    "x = 0.0\n",
    "for i in range(10):\n",
    "    x = x + 0.1\n",
    "if x == 1.0:\n",
    "    print(x, '= 1.0')\n",
    "else:\n",
    "    print(x, 'is not 1.0')"
   ]
  },
  {
   "cell_type": "markdown",
   "metadata": {},
   "source": [
    "Perhaps you, like most people, find it doubly surprising that it prints,\n",
    "1.0 is not 1.0"
   ]
  },
  {
   "cell_type": "markdown",
   "metadata": {},
   "source": [
    "# 3.5 Newton-Raphson"
   ]
  },
  {
   "cell_type": "code",
   "execution_count": 2,
   "metadata": {
    "collapsed": false
   },
   "outputs": [
    {
     "name": "stdout",
     "output_type": "stream",
     "text": [
      "Square root of 24.0 is about 4.8989887432139305\n"
     ]
    }
   ],
   "source": [
    "#Newton-Raphson for square root\n",
    "#Find x such that x**2 - 24 is within epsilon of 0\n",
    "epsilon = 0.01\n",
    "k = 24.0\n",
    "guess = k/2.0\n",
    "while abs(guess*guess - k) >= epsilon:\n",
    "    guess = guess - (((guess**2) - k)/(2*guess))\n",
    "print('Square root of', k, 'is about', guess)"
   ]
  },
  {
   "cell_type": "code",
   "execution_count": null,
   "metadata": {
    "collapsed": true
   },
   "outputs": [],
   "source": []
  }
 ],
 "metadata": {
  "kernelspec": {
   "display_name": "Python 3",
   "language": "python",
   "name": "python3"
  },
  "language_info": {
   "codemirror_mode": {
    "name": "ipython",
    "version": 3
   },
   "file_extension": ".py",
   "mimetype": "text/x-python",
   "name": "python",
   "nbconvert_exporter": "python",
   "pygments_lexer": "ipython3",
   "version": "3.4.3"
  }
 },
 "nbformat": 4,
 "nbformat_minor": 0
}
