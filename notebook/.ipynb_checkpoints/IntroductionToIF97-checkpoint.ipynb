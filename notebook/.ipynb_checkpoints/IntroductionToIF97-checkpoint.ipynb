{
 "cells": [
  {
   "cell_type": "markdown",
   "metadata": {},
   "source": [
    "# Introduction to our IF97 Library"
   ]
  },
  {
   "cell_type": "code",
   "execution_count": 1,
   "metadata": {
    "collapsed": false
   },
   "outputs": [
    {
     "name": "stdout",
     "output_type": "stream",
     "text": [
      "h:  3471.7848838836876  s:  6.518652433515181  v:  0.02163982404966856\n",
      "t1:  562.1000000000004  t2  562.1000000000001  t3:  562.0999999999999\n",
      "p1:  16.12000000000001  p2  16.11999999999998  p3:  16.12\n"
     ]
    }
   ],
   "source": [
    "from seuif97 import *\n",
    "p=16.12\n",
    "t=562.1\n",
    "h=pt(p,t,4)\n",
    "s=pt(p,t,5)\n",
    "v=pt(p,t,3)\n",
    "print('h: ',h,' s: ',s,' v: ',v)\n",
    "t1=ph(p,h,1)\n",
    "t2=ps(p,s,1)\n",
    "t3=pv(p,v,1)\n",
    "print('t1: ',t1,' t2 ',t2,' t3: ',t3)\n",
    "p1=th(t,h,0)\n",
    "p2=ts(t,s,0)\n",
    "p3=tv(t,v,0)\n",
    "print('p1: ',p1,' p2 ',p2,' p3: ',p3)\n",
    "# %timeit p1=th(t,h,0)"
   ]
  },
  {
   "cell_type": "code",
   "execution_count": null,
   "metadata": {
    "collapsed": true
   },
   "outputs": [],
   "source": []
  }
 ],
 "metadata": {
  "kernelspec": {
   "display_name": "Python 3",
   "language": "python",
   "name": "python3"
  },
  "language_info": {
   "codemirror_mode": {
    "name": "ipython",
    "version": 3
   },
   "file_extension": ".py",
   "mimetype": "text/x-python",
   "name": "python",
   "nbconvert_exporter": "python",
   "pygments_lexer": "ipython3",
   "version": "3.4.3"
  }
 },
 "nbformat": 4,
 "nbformat_minor": 0
}
