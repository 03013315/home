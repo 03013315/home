{
 "cells": [
  {
   "cell_type": "markdown",
   "metadata": {
    "collapsed": true
   },
   "source": [
    "# Online Monitoring"
   ]
  },
  {
   "cell_type": "markdown",
   "metadata": {},
   "source": [
    "## 1 Real-time Data Server"
   ]
  },
  {
   "cell_type": "markdown",
   "metadata": {},
   "source": [
    "### 1.1 Introduction to Redis\n",
    "\n",
    "Redis is an open source (BSD licensed), in-memory data structure store, used as database, cache and message broker. It supports data structures such as strings, hashes, lists, sets, sorted sets with range queries, bitmaps, hyperloglogs and geospatial indexes with radius queries. Redis has built-in replication, Lua scripting, LRU eviction, transactions and different levels of on-disk persistence, and provides high availability via Redis Sentinel and automatic partitioning with Redis Cluster.\n",
    "\n",
    "Redis is written in ANSI C and works in most POSIX systems like Linux, *BSD, OS X without external dependencies. Linux and OS X are the two operating systems where Redis is developed and more tested, and we recommend using Linux for deploying. Redis may work in Solaris-derived systems like SmartOS, but the support is best effort. There is no official support for Windows builds, but Microsoft develops and maintains a Win-64 port of Redis.\n"
   ]
  },
  {
   "cell_type": "markdown",
   "metadata": {},
   "source": [
    "### 　Install On Windows\n",
    "\n",
    "https://github.com/MSOpenTech/redis\n",
    "    \n",
    "Running Redis as a Service\n",
    "If you installed Redis using the MSI package, then Redis was already installed as a Windows service. Nothing further to do. If you would like to change its settings, you can update the redis.windows.conf file and then restart the Redis service (Run -> services.msc -> Redis -> Restart). \n",
    "During installation of the MSI you can either use the installer’s user interface to update the port that Redis listens at and the firewall exception or run it silently without a UI. The following examples show how to install from the command line:\n",
    "\n",
    "default install (port 6379 and firewall exception ON):\n",
    "```\n",
    "msiexec /i Redis-Windows-x64.msi \n",
    "```\n",
    "set port and turn OFF firewall exception:\n",
    "```   \n",
    "msiexec /i Redis-Windows-x64.msi PORT=1234 ADD_FIREWALL_RULE=\"\"\n",
    "```\n",
    "set port and turn ON firewall exception:\n",
    "``` \n",
    "msiexec /i Redis-Windows-x64.msi PORT=1234 ADD_FIREWALL_RULE =1\n",
    "```\n",
    "install with no user interface:\n",
    "```   \n",
    "msiexec /quiet /i Redis-Windows-x64.msi\n",
    "```"
   ]
  },
  {
   "cell_type": "markdown",
   "metadata": {},
   "source": [
    "### 1.2 Basic Operations"
   ]
  },
  {
   "cell_type": "code",
   "execution_count": null,
   "metadata": {
    "collapsed": false
   },
   "outputs": [],
   "source": [
    "set foo tar"
   ]
  },
  {
   "cell_type": "code",
   "execution_count": null,
   "metadata": {
    "collapsed": false
   },
   "outputs": [],
   "source": [
    "get foo"
   ]
  },
  {
   "cell_type": "markdown",
   "metadata": {},
   "source": [
    "## 2 Real-time Data Services with Python\n",
    "\n",
    "\n"
   ]
  },
  {
   "cell_type": "markdown",
   "metadata": {},
   "source": [
    "### 2.1 Python API\n",
    "\n",
    "\n",
    "\n",
    "``` \n",
    "pip install redis\n",
    "pip install hiredis\n",
    "```\n"
   ]
  },
  {
   "cell_type": "markdown",
   "metadata": {},
   "source": [
    "### 2.2 Real-time Data Service\n",
    "\n",
    "<ol>\n",
    "<li>setup Tag in  Data Service\n",
    "<li>Send data to Data Service\n",
    "<li>Get data from Data Service and analyze\n",
    "</ol>"
   ]
  },
  {
   "cell_type": "markdown",
   "metadata": {},
   "source": [
    "#### 2.2.1 setup Tag in Data Service"
   ]
  },
  {
   "cell_type": "code",
   "execution_count": null,
   "metadata": {
    "collapsed": false
   },
   "outputs": [],
   "source": [
    "# -*- coding: utf-8 -*-\n",
    "import redis\n",
    "\n",
    "conn = redis.Redis('localhost')\n",
    "\n",
    "def TagDefToRedisHashKey(tagdeflist):\n",
    "    pipe = conn.pipeline()\n",
    "    for element in tagdeflist:\n",
    "        pipe.hmset(\n",
    "            element['id'], {'desc': element['desc'], 'value': \"-10000\", 'ts': \"\"})\n",
    "    pipe.execute()\n",
    "\n",
    "\n",
    "def TagDefFromRedisHash(tagdeflist):\n",
    "    taglist = []\n",
    "    for element in tagdeflist:\n",
    "        htag = conn.hgetall(element['id'])\n",
    "        taglist.append(htag)\n",
    "    return taglist\n"
   ]
  },
  {
   "cell_type": "code",
   "execution_count": null,
   "metadata": {
    "collapsed": false
   },
   "outputs": [],
   "source": [
    "unittagdeflist=[]\n",
    "unittagdeflist.append({'id':\"CSDC.DCS2AI.2JZA2226\",'desc':\"二号机组高压缸入口压力\"})\n",
    "unittagdeflist.append({'id':\"CSDC.DCS2AI.2JZA2408\",'desc':\"二号机组高压缸入口温度\"})\n",
    "unittagdeflist.append({'id':\"CSDC.DCS2AI.2JZA2230\",'desc':\"二号机组高压缸出口压力\"})\n",
    "unittagdeflist.append({'id':\"CSDC.DCS2AI.2JZA2459\",'desc':\"二号机组高压缸出口温度\"})\n",
    "TagDefToRedisHashKey(unittagdeflist)\n",
    "\n",
    "taglist=TagDefFromRedisHash(unittagdeflist)\n",
    "print(taglist[0])"
   ]
  },
  {
   "cell_type": "markdown",
   "metadata": {},
   "source": [
    "### 2.2.2 Send Data to Redis\n",
    "\n"
   ]
  },
  {
   "cell_type": "code",
   "execution_count": null,
   "metadata": {
    "collapsed": false
   },
   "outputs": [],
   "source": [
    "# -*- coding: utf-8 -*-\n",
    "from datetime import *\n",
    "\n",
    "def SendToRedisHash(tagvaluelist):\n",
    "    pipe = conn.pipeline()\n",
    "\n",
    "    curtime = datetime.now()\n",
    "\n",
    "    for element in tagvaluelist:\n",
    "        pipe.hmset(element['id'], {'value': element['value'], 'ts': curtime})\n",
    "    pipe.execute()\n"
   ]
  },
  {
   "cell_type": "code",
   "execution_count": null,
   "metadata": {
    "collapsed": false
   },
   "outputs": [],
   "source": [
    "unittagvaluelist=[]\n",
    "unittagvaluelist.append({'id':\"CSDC.DCS2AI.2JZA1030\",'value':16.38525})\n",
    "unittagvaluelist.append({'id':\"CSDC.DCS2AI.2JZA2408\",'value':538.37})\n",
    "unittagvaluelist.append({'id':\"CSDC.DCS2AI.2JZA2230\",'value':3.035039})\n",
    "unittagvaluelist.append({'id':\"CSDC.DCS2AI.2JZA2459\",'value':313.2931})\n",
    "SendToRedisHash(unittagvaluelist)\n",
    "\n",
    "print(unittagvaluelist[0])\n",
    "print(conn.hmget(unittagvaluelist[0]['id'], 'value', 'ts'))\n",
    " "
   ]
  },
  {
   "cell_type": "markdown",
   "metadata": {},
   "source": [
    "### 2.2.3 Get Real-time Data from Redis"
   ]
  },
  {
   "cell_type": "code",
   "execution_count": null,
   "metadata": {
    "collapsed": false
   },
   "outputs": [],
   "source": [
    "# -*- coding: utf-8 -*-\n",
    "def tagvalue_redis(taglist):\n",
    "        #        for i in range(self.tagcount):\n",
    "        #            self.taglist[i]['value']= conn.hget(self.taglist[i]['name'],'value').decode()\n",
    "        tagcount=len(taglist)\n",
    "        pipe = conn.pipeline()\n",
    "        for i in range(tagcount):\n",
    "            pipe.hmget(taglist[i]['id'], 'value', 'ts')\n",
    "        tagvaluelist = pipe.execute()\n",
    "\n",
    "        for i in range(tagcount):\n",
    "            taglist[i]['value'] = tagvaluelist[i][0].decode()\n",
    "            taglist[i]['ts'] = tagvaluelist[i][1].decode()\n"
   ]
  },
  {
   "cell_type": "code",
   "execution_count": null,
   "metadata": {
    "collapsed": false
   },
   "outputs": [],
   "source": [
    "unittaglist=[]\n",
    "unittaglist.append({'id':\"CSDC.DCS2AI.2JZA1030\"})\n",
    "unittaglist.append({'id':\"CSDC.DCS2AI.2JZA2408\"})\n",
    "unittaglist.append({'id':\"CSDC.DCS2AI.2JZA2230\"})\n",
    "unittaglist.append({'id':\"CSDC.DCS2AI.2JZA2459\"})\n",
    "tagvalue_redis(unittaglist)\n",
    "\n",
    "print(unittaglist[0])\n",
    "        "
   ]
  },
  {
   "cell_type": "markdown",
   "metadata": {
    "collapsed": true
   },
   "source": [
    "## 2.4 HP eff_is Online moitoring\n",
    "\n"
   ]
  },
  {
   "cell_type": "code",
   "execution_count": null,
   "metadata": {
    "collapsed": false
   },
   "outputs": [],
   "source": [
    "# -*- coding: utf-8 -*-\n",
    "from seuif97 import *\n",
    "\n",
    "def CylinderEff(cylinder):\n",
    "    \"\"\"simple function  for cylinde using 'dict' \"\"\"\n",
    "\n",
    "    cylinder['inlet']['h'] = pt2h(cylinder['inlet']['p'], cylinder['inlet']['t'])\n",
    "    cylinder['inlet']['s'] = pt2s(cylinder['inlet']['p'], cylinder['inlet']['t'])\n",
    "\n",
    "    cylinder['outlet']['h'] = pt2h(cylinder['outlet']['p'], cylinder['outlet']['t'])\n",
    "    cylinder['outlet']['s'] = pt2s(cylinder['outlet']['p'], cylinder['outlet']['t'])\n",
    "\n",
    "    # h2s is the specific enthalpy at state 2 for the isentropic turbine\n",
    "    h2s = ps2h(cylinder['outlet']['p'], cylinder['inlet']['s'])\n",
    "    \n",
    "    cylinder['h2s'] = h2s\n",
    "     \n",
    "    hds = cylinder['inlet']['h'] - h2s  # isentropic specific enthalpy drop\n",
    "    hd = cylinder['inlet']['h'] - cylinder['outlet']['h']  # specific enthalpy drop\n",
    "\n",
    "    cylinder['ef'] = 100 * hd / hds\n",
    "\n",
    "    return cylinder\n"
   ]
  },
  {
   "cell_type": "code",
   "execution_count": null,
   "metadata": {
    "collapsed": false
   },
   "outputs": [],
   "source": [
    "hp = {'inlet':{}, 'outlet':{}, 'h2s':None,'ef':None}\n",
    "\n",
    "minlet = {'p':None, 't': None, 'h': None, 's':None}\n",
    "moutlet = {'p': None, 't': None, 'h': None, 's': None}\n",
    "\n",
    "minlet['p']=float(unittaglist[0]['value'])\n",
    "minlet['t']=float(unittaglist[1]['value'])\n",
    "moutlet['p']=float(unittaglist[2]['value'])\n",
    "moutlet['t']=float(unittaglist[3]['value'])\n",
    "\n",
    "hp['inlet'] = dict(minlet)\n",
    "hp['outlet'] = dict(moutlet)\n",
    "hp = CylinderEff(hp)\n",
    "\n",
    "print('The isentropic efficiency =', hp['ef'], '%')"
   ]
  },
  {
   "cell_type": "code",
   "execution_count": null,
   "metadata": {
    "collapsed": true
   },
   "outputs": [],
   "source": [
    "# -*- coding: utf-8 -*-\n",
    "\"\"\"\n",
    "    visual steam expansion line in cylinder\n",
    "\"\"\"\n",
    "\n",
    "import matplotlib.pyplot as plt\n",
    "import numpy as np\n",
    "from seuif97 import *\n",
    "\n",
    "def CylinderPlot(cylinder):\n",
    "    # 4条线：p1、p2 等压，等熵焓降线、膨胀线\n",
    "\n",
    "    p1 = cylinder['inlet']['p']\n",
    "    t1 = cylinder['inlet']['t']\n",
    "    s1 = cylinder['inlet']['s']\n",
    "    h1 = cylinder['inlet']['h']\n",
    "    \n",
    "    p2 = cylinder['outlet']['p']\n",
    "    t2 = cylinder['outlet']['t']\n",
    "    s2 = cylinder['outlet']['s']\n",
    "    h2 = cylinder['outlet']['h']\n",
    "    \n",
    "    ef = cylinder['ef']\n",
    "    \n",
    "    hs = cylinder['h2s']\n",
    "    \n",
    "    samp = 0.01\n",
    "     \n",
    "    smp1 = s1 - samp\n",
    "    hsmp1 = ps2h(p1, smp1)\n",
    "    sap1 = s1 + samp\n",
    "    hsap1 = ps2h(p1, sap1)\n",
    "\n",
    "    smt1 = s1 - samp\n",
    "    hsmt1 = ps2h(p1, smp1)\n",
    "    sat1 = s1 + samp\n",
    "    hsat1 = ts2h(t1, sap1)\n",
    "    \n",
    "    # 1 p1等压\n",
    "    point_p1_h = np.zeros(shape=3)\n",
    "    point_p1_h[0] = hsmp1\n",
    "    point_p1_h[1] = h1\n",
    "    point_p1_h[2] = hsap1\n",
    "    point_p1_s = np.zeros(shape=3)\n",
    "    point_p1_s[0] = smp1\n",
    "    point_p1_s[1] = s1\n",
    "    point_p1_s[2] = sap1\n",
    "\n",
    "    # 2 p2 等压\n",
    "    smp2 = s1 - samp  # 等熵焓降点延伸\n",
    "    hsmp2 = ps2h(p2, smp2)\n",
    "    sap2 = s2 + samp\n",
    "    hsap2 = ps2h(p2, sap2)\n",
    "\n",
    "    smt2 = s2 - samp\n",
    "    hsmt2 = ps2h(p1, smp1)\n",
    "    sat2 = s2 + samp\n",
    "    hsat2 = ts2h(t2, sap1)\n",
    "\n",
    "    point_p2_h = np.zeros(shape=3)\n",
    "    point_p2_h[0] = hsmp2\n",
    "    point_p2_h[1] = h2\n",
    "    point_p2_h[2] = hsap2\n",
    "\n",
    "    point_p2_s = np.zeros(shape=3)\n",
    "    point_p2_s[0] = smp2\n",
    "    point_p2_s[1] = s2\n",
    "    point_p2_s[2] = sap2\n",
    "\n",
    "    # 3 等熵焓降\n",
    "    point_is_h = np.zeros(shape=2)\n",
    "    point_is_h[0] = h1\n",
    "    point_is_h[1] = hs\n",
    "    point_is_s = np.zeros(shape=2)\n",
    "    point_is_s[0] = s1\n",
    "    point_is_s[1] = s1\n",
    "\n",
    "    # 4 HP Expansion Line\n",
    "    point_hp_h = np.zeros(shape=2)\n",
    "    point_hp_h[0] = h1\n",
    "    point_hp_h[1] = h2\n",
    "    point_hp_s = np.zeros(shape=2)\n",
    "    point_hp_s[0] = s1\n",
    "    point_hp_s[1] = s2\n",
    "\n",
    "    plt.plot(point_p1_s, point_p1_h, 'bs-', label='iP')\n",
    "\n",
    "    plt.plot(point_p2_s, point_p2_h, 'bs-', label=r'$\\frac{1}{2}\\pi$')\n",
    "    plt.plot(point_is_s, point_is_h, 'rs-', label='is')\n",
    "    plt.plot(point_hp_s, point_hp_h, 'rs-', label='HP Expansion Line\"')\n",
    "    plt.minorticks_on()\n",
    "    \n",
    "    _title = 'The isentropic efficiency = ' + \\\n",
    "    r'$\\frac{h1-h2}{h1-h2s}$' + '=' + '{:.2f}'.format(ef) + '%'\n",
    "    plt.legend(loc=\"center left\", bbox_to_anchor=[0.5, 0.5],\n",
    "           ncol=2, shadow=True, title=_title)\n",
    "\n",
    "    # annotate some interesting points using the annotate command\n",
    "    plt.annotate('(P1,T1)',\n",
    "             xy=(s1, h1), xycoords='data',\n",
    "             xytext=(+10, +30), textcoords='offset points', fontsize=12,\n",
    "             arrowprops=dict(arrowstyle=\"->\", connectionstyle=\"arc3,rad=.2\"))\n",
    "\n",
    "    plt.annotate('(P2,T2)',\n",
    "             xy=(s2, h2), xycoords='data',\n",
    "             xytext=(+10, +30), textcoords='offset points', fontsize=12,\n",
    "             arrowprops=dict(arrowstyle=\"->\", connectionstyle=\"arc3,rad=.2\"))\n",
    "\n",
    "    plt.xlabel('s(kJ/(kg.K))')\n",
    "    plt.ylabel('h(kJ/kg)')\n",
    "    plt.show()"
   ]
  },
  {
   "cell_type": "code",
   "execution_count": null,
   "metadata": {
    "collapsed": false
   },
   "outputs": [],
   "source": [
    "# -*- coding: utf-8 -*-\n",
    "%matplotlib inline\n",
    "\n",
    "hp = {'inlet':{}, 'outlet':{}, 'ef':None}\n",
    "\n",
    "minlet['p']=float(unittaglist[0]['value'])\n",
    "minlet['t']=float(unittaglist[1]['value'])\n",
    "moutlet['p']=float(unittaglist[2]['value'])\n",
    "moutlet['t']=float(unittaglist[3]['value'])\n",
    "\n",
    "hp['inlet'] = dict(minlet)\n",
    "hp['outlet'] = dict(moutlet)\n",
    "\n",
    "hp = CylinderEff(hp)\n",
    "CylinderPlot(hp)"
   ]
  },
  {
   "cell_type": "markdown",
   "metadata": {},
   "source": [
    "## 2.5 HP eff_is to redis\n"
   ]
  },
  {
   "cell_type": "code",
   "execution_count": null,
   "metadata": {
    "collapsed": false
   },
   "outputs": [],
   "source": [
    "# -*- coding: utf-8 -*-\n",
    "import redis\n",
    "\n",
    "conn = redis.Redis('localhost')\n",
    "\n",
    "def TagDefToRedisHashKey(tagdeflist):\n",
    "    pipe = conn.pipeline()\n",
    "    for element in tagdeflist:\n",
    "        pipe.hmset(\n",
    "            element['id'], {'desc': element['desc'], 'value': \"-10000\", 'ts': \"\"})\n",
    "    pipe.execute()\n",
    "\n",
    "\n",
    "def TagDefFromRedisHash(tagdeflist):\n",
    "    taglist = []\n",
    "    for element in tagdeflist:\n",
    "        htag = conn.hgetall(element['id'])\n",
    "        taglist.append(htag)\n",
    "    return taglist\n"
   ]
  },
  {
   "cell_type": "code",
   "execution_count": null,
   "metadata": {
    "collapsed": true
   },
   "outputs": [],
   "source": [
    "unittagdeflist=[]\n",
    "unittagdeflist.append({'id':\"CSDC.DCS2AO.HP_EFF_IS\",'desc':\"二号机组高压缸等熵效率\"})\n",
    "TagDefToRedisHashKey(unittagdeflist)"
   ]
  },
  {
   "cell_type": "markdown",
   "metadata": {},
   "source": [
    "### 2.5.1 Set Tags"
   ]
  },
  {
   "cell_type": "code",
   "execution_count": null,
   "metadata": {
    "collapsed": true
   },
   "outputs": [],
   "source": [
    "unittagdeflist=[]\n",
    "unittagdeflist.append({'id':\"CSDC.DCS2AI.2JZA2226\",'desc':\"二号机组高压缸入口压力\"})\n",
    "unittagdeflist.append({'id':\"CSDC.DCS2AI.2JZA2408\",'desc':\"二号机组高压缸入口温度\"})\n",
    "unittagdeflist.append({'id':\"CSDC.DCS2AI.2JZA2230\",'desc':\"二号机组高压缸出口压力\"})\n",
    "unittagdeflist.append({'id':\"CSDC.DCS2AI.2JZA2459\",'desc':\"二号机组高压缸出口温度\"})\n",
    "\n",
    "TagDefToRedisHashKey(unittagdeflist)\n",
    "\n",
    "unittagdeflist=[]\n",
    "unittagdeflist.append({'id':\"CSDC.DCS2AO.HP_EFF_IS\",'desc':\"二号机组高压缸等熵效率\"})\n",
    "\n",
    "TagDefToRedisHashKey(unittagdeflist)\n"
   ]
  },
  {
   "cell_type": "markdown",
   "metadata": {},
   "source": [
    "### 2.5.2 real-time data to redis"
   ]
  },
  {
   "cell_type": "code",
   "execution_count": null,
   "metadata": {
    "collapsed": false
   },
   "outputs": [],
   "source": [
    "    \n",
    "unittagvaluelist=[]\n",
    "unittagvaluelist.append({'id':\"CSDC.DCS2AI.2JZA1030\",'value':16.38525})\n",
    "unittagvaluelist.append({'id':\"CSDC.DCS2AI.2JZA2408\",'value':538.37})\n",
    "unittagvaluelist.append({'id':\"CSDC.DCS2AI.2JZA2230\",'value':3.035039})\n",
    "unittagvaluelist.append({'id':\"CSDC.DCS2AI.2JZA2459\",'value':313.2931})\n",
    "SendToRedisHash(unittagvaluelist)"
   ]
  },
  {
   "cell_type": "markdown",
   "metadata": {},
   "source": [
    "### 2.5.3  get real-time data from redis and calc"
   ]
  },
  {
   "cell_type": "code",
   "execution_count": null,
   "metadata": {
    "collapsed": false
   },
   "outputs": [],
   "source": [
    "# 1 get data form redis\n",
    "unittaglist=[]\n",
    "unittaglist.append({'id':\"CSDC.DCS2AI.2JZA1030\"})\n",
    "unittaglist.append({'id':\"CSDC.DCS2AI.2JZA2408\"})\n",
    "unittaglist.append({'id':\"CSDC.DCS2AI.2JZA2230\"})\n",
    "unittaglist.append({'id':\"CSDC.DCS2AI.2JZA2459\"})\n",
    "tagvalue_redis(unittaglist)\n",
    "\n",
    "# 2 calc\n",
    "hp = {'inlet':{}, 'outlet':{}, 'h2s':None,'ef':None}\n",
    "\n",
    "minlet = {'p':None, 't': None, 'h': None, 's':None}\n",
    "moutlet = {'p': None, 't': None, 'h': None, 's': None}\n",
    "\n",
    "\n",
    "minlet['p']=float(unittaglist[0]['value'])\n",
    "minlet['t']=float(unittaglist[1]['value'])\n",
    "moutlet['p']=float(unittaglist[2]['value'])\n",
    "moutlet['t']=float(unittaglist[3]['value'])\n",
    "\n",
    "hp['inlet'] = dict(minlet)\n",
    "hp['outlet'] = dict(moutlet)\n",
    "hp = CylinderEff(hp)\n",
    "\n",
    "# 3 send result to redis\n",
    "unittagvaluelist=[]\n",
    "unittagvaluelist.append({'id':\"CSDC.DCS2AO.HP_EFF_IS\",'value':hp['ef']})\n",
    "SendToRedisHash(unittagvaluelist)\n",
    "\n"
   ]
  },
  {
   "cell_type": "markdown",
   "metadata": {},
   "source": [
    "### 2.5.4  get result  from redis"
   ]
  },
  {
   "cell_type": "code",
   "execution_count": null,
   "metadata": {
    "collapsed": false
   },
   "outputs": [],
   "source": [
    "#  get data form redis\n",
    "unittaglist=[]\n",
    "unittaglist.append({'id':\"CSDC.DCS2AO.HP_EFF_IS\"})\n",
    "tagvalue_redis(unittaglist)\n",
    "\n",
    "print(unittaglist[0]['value'])"
   ]
  },
  {
   "cell_type": "markdown",
   "metadata": {
    "collapsed": true
   },
   "source": [
    "## Reference\n",
    "\n",
    "<ol>\n",
    "<li>The Redis Documentation. http://redis.io/documentation\n",
    "<li>JOSIAH L. CARLSON. Redis in Action. Manning Publications Co. 2013 \n",
    "</ol>"
   ]
  }
 ],
 "metadata": {
  "kernelspec": {
   "display_name": "Python 3",
   "language": "python",
   "name": "python3"
  },
  "language_info": {
   "codemirror_mode": {
    "name": "ipython",
    "version": 3
   },
   "file_extension": ".py",
   "mimetype": "text/x-python",
   "name": "python",
   "nbconvert_exporter": "python",
   "pygments_lexer": "ipython3",
   "version": "3.5.0"
  }
 },
 "nbformat": 4,
 "nbformat_minor": 0
}
