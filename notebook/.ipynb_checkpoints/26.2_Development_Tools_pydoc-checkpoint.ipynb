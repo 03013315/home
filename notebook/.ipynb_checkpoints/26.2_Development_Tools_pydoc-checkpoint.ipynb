{
 "cells": [
  {
   "cell_type": "markdown",
   "metadata": {},
   "source": [
    "# 26. Development Tools\n",
    "\n",
    "https://docs.python.org/3/library/development.html \n",
    "\n",
    "The modules described in this chapter help you write software. For example, the pydoc module takes a module and generates documentation based on the module’s contents. The doctest and unittest modules contains frameworks for writing unit tests that automatically exercise code and verify that the expected output is produced. 2to3 can translate Python 2.x source code into valid Python 3.x code."
   ]
  },
  {
   "cell_type": "markdown",
   "metadata": {},
   "source": [
    "26.2. pydoc — Documentation generator and online help system\n",
    "\n",
    "https://docs.python.org/3/library/pydoc.html\n",
    "\n",
    "26.3. doctest — Test interactive Python examples\n",
    "\n",
    "https://docs.python.org/3/library/doctest.html\n",
    "\n",
    "26.4. unittest — Unit testing framework\n",
    "\n",
    "https://docs.python.org/3/library/unittest.html\n",
    "        "
   ]
  },
  {
   "cell_type": "markdown",
   "metadata": {},
   "source": [
    "## 26.2 pydoc — Documentation generator and online help system"
   ]
  },
  {
   "cell_type": "markdown",
   "metadata": {
    "collapsed": true
   },
   "source": [
    "The <b>pydoc</b> module imports a Python module and uses the contents to generate help text at runtime. \n",
    "\n",
    "The output includes <b>docstrings</b> for any objects that have them, and all of the <b>documentable contents</b> of the module are described.\n",
    "\n",
    "1) The built-in function <b>help()</b> invokes the <b>online help system in the interactive interpreter</b>, which uses pydoc to generate its documentation as text on the console. \n",
    "```   \n",
    "    help(module_name)\n",
    "```\n",
    "2) The same <b>text documentation</b> can also be viewed from outside the Python interpreter by running pydoc as a script at the operating system’s command prompt. \n",
    "```\n",
    "     pydoc  module_name\n",
    "     pydoc  -w module_name\n",
    "```    \n",
    "3) You can also use <b>pydoc<b> to start <b>an HTTP server</b> on the local machine that will serve documentation to visiting Web browsers.\n",
    "```\n",
    "    pydoc -p 5000\n",
    "    pydoc -b （version 3.2: Added the -b option)\n",
    "```    \n",
    "<b>Tips</b>\n",
    "```\n",
    "   setx /M PATH \"%PATH%;C:\\Python34\\Lib\"\n",
    "```   \n",
    "   <img src=\"./img/setpath.PNG\"/> \n",
    "  "
   ]
  },
  {
   "cell_type": "markdown",
   "metadata": {},
   "source": [
    "### 26.2.1 Interactive Help\n",
    "\n",
    "pydoc also adds a function<b> help()</b> to the<b> __builtins__</b> so you can access the same information from the Python interpreter prompt."
   ]
  },
  {
   "cell_type": "code",
   "execution_count": null,
   "metadata": {
    "collapsed": false
   },
   "outputs": [],
   "source": [
    "help('atexit')"
   ]
  },
  {
   "cell_type": "markdown",
   "metadata": {},
   "source": [
    "### 26.2.2 Documentation\n",
    "\n",
    "<b>running pydoc as a script at the operating system’s command prompt,</b>\n",
    "\n",
    "generate help text：\n",
    "\n",
    "   1) on the console\n",
    "   \n",
    "   2) HTML output：a static file to a local directory\n",
    "   \n",
    "#### 26.2.2.1 Plain Text Help - on the console\n",
    "\n",
    "```\n",
    "pydoc.py atexit\n",
    "```\n",
    "<img src=\"./img/pydoc_console.PNG\"/> \n"
   ]
  },
  {
   "cell_type": "markdown",
   "metadata": {},
   "source": [
    "Produces plaintext help on the console, using your pager if one is configured."
   ]
  },
  {
   "cell_type": "markdown",
   "metadata": {},
   "source": [
    "#### 26.2.2.2 HTML Help -static file\n",
    "\n",
    "You can also cause pydoc to generate HTML output, either writing a static file to a local directory or starting a web server to browse documentation online.\n",
    "\n",
    "Specifying a -w flag before the argument will cause HTML documentation to be written out to a file in the current directory, instead of displaying text on the console.\n",
    "```\n",
    "pydoc -w atexit\n",
    "```"
   ]
  },
  {
   "cell_type": "markdown",
   "metadata": {},
   "source": [
    "### 26.2.3 starting a web server to browse documentation online\n",
    "\n",
    "You can also use pydoc to start an HTTP server on the local machine that will serve documentation to visiting Web browsers. \n",
    "```\n",
    "pydoc -p 1234 \n",
    "```\n",
    "will start a HTTP server on port 1234, allowing you to browse the documentation at http://localhost:1234/ in your preferred Web browser. \n",
    "\n",
    "Specifying 0 as the port number will select an arbitrary unused port.\n",
    "```\n",
    "pydoc -p 5000\n",
    "```"
   ]
  },
  {
   "cell_type": "markdown",
   "metadata": {},
   "source": [
    "Starts a web server listening at http://localhost:5000/. The server generates documentation as you browse through the available modules.\n",
    "<img src=\"./img/pydoc_server_1.PNG\"/> \n",
    "\n",
    "<img src=\"./img/pydoc_server_2.PNG\"/> \n"
   ]
  },
  {
   "cell_type": "markdown",
   "metadata": {},
   "source": [
    "pydoc -b will <b>start the server</b> and additionally <b>open</b> a web browser to a module index page. Each served page has a navigation bar at the top where you can Get help on an individual item, Search all modules with a keyword in their synopsis line, and go to the Module index, Topics and Keywords pages.\n",
    "```\n",
    "pydoc -b\n",
    "```\n",
    "<img src=\"./img/pydoc_server_b.PNG\"/> "
   ]
  },
  {
   "cell_type": "markdown",
   "metadata": {
    "collapsed": true
   },
   "source": [
    "## 26.2.4 pydoc.py's documentation "
   ]
  },
  {
   "cell_type": "markdown",
   "metadata": {
    "collapsed": false
   },
   "source": [
    "```\n",
    "pydoc\n",
    "\n",
    "pydoc -w pydoc\n",
    "```"
   ]
  },
  {
   "cell_type": "markdown",
   "metadata": {
    "collapsed": true
   },
   "source": [
    "pydoc (26 February 2001) index\n",
    "c:\\python34\\lib\\pydoc.py \n",
    "\n",
    "Generate Python documentation in HTML or text for interactive use.\n",
    "  \n",
    " At the Python interactive prompt, calling help(thing) on a Python object\n",
    " documents the object, and calling help() starts up an interactive\n",
    " help session.\n",
    "  \n",
    " Or, at the shell command line outside of Python:\n",
    "  \n",
    " Run \"pydoc <name>\" to show documentation on something.  <name> may be\n",
    " the name of a function, module, package, or a dotted reference to a\n",
    " class or function within a module or module in a package.  If the\n",
    " argument contains a path segment delimiter (e.g. slash on Unix,\n",
    " backslash on Windows) it is treated as the path to a Python source file.\n",
    "  \n",
    " Run \"pydoc -k <keyword>\" to search for a keyword in the synopsis lines\n",
    " of all available modules.\n",
    "  \n",
    " Run \"pydoc -p <port>\" to start an HTTP server on the given port on the\n",
    " local machine.  Port number 0 can be used to get an arbitrary unused port.\n",
    "  \n",
    " Run \"pydoc -b\" to start an HTTP server on an arbitrary unused port and\n",
    " open a Web browser to interactively browse documentation.  The -p option\n",
    " can be used with the -b option to explicitly specify the server port.\n",
    "  \n",
    " Run \"pydoc -w <name>\" to write out the HTML documentation for a module\n",
    " to a file named \"<name>.html\".\n",
    "  \n",
    " Module docs for core modules are assumed to be in\n",
    "  \n",
    "     http://docs.python.org/X.Y/library/\n",
    "  \n",
    " This can be overridden by setting the PYTHONDOCS environment variable\n",
    " to a different URL or to a local directory containing the Library\n",
    " Reference Manual pages."
   ]
  }
 ],
 "metadata": {
  "kernelspec": {
   "display_name": "Python 3",
   "language": "python",
   "name": "python3"
  },
  "language_info": {
   "codemirror_mode": {
    "name": "ipython",
    "version": 3
   },
   "file_extension": ".py",
   "mimetype": "text/x-python",
   "name": "python",
   "nbconvert_exporter": "python",
   "pygments_lexer": "ipython3",
   "version": "3.4.3"
  }
 },
 "nbformat": 4,
 "nbformat_minor": 0
}
