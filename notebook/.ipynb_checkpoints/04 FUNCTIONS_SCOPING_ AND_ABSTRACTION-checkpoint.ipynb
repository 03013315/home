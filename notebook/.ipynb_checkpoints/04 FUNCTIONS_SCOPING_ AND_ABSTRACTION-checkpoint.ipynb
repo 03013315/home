{
 "cells": [
  {
   "cell_type": "markdown",
   "metadata": {},
   "source": [
    "# 4 FUNCTIONS, SCOPING, AND ABSTRACTION\n",
    "\n",
    "So far, we have introduced numbers, assignments, input/output, comparisons,and looping constructs. How powerful is this subset of Python? In a theoretical sense, it is as powerful as you will ever need. Such languages are called Turing\n",
    "complete. This means that if a problem can be solved via computation, \n",
    "\n",
    "it can be solved using only those statements you have already seen."
   ]
  },
  {
   "cell_type": "code",
   "execution_count": 1,
   "metadata": {
    "collapsed": false
   },
   "outputs": [
    {
     "name": "stdout",
     "output_type": "stream",
     "text": [
      "numGuesses = 13\n",
      "5.00030517578125 is close to square root of 25\n"
     ]
    }
   ],
   "source": [
    "#Page 34, figure 4.1\n",
    "x = 25\n",
    "epsilon = 0.01\n",
    "numGuesses = 0\n",
    "low = 0.0\n",
    "high = max(1.0, x)\n",
    "ans = (high + low)/2.0\n",
    "while abs(ans**2 - x) >= epsilon:\n",
    "    numGuesses += 1\n",
    "    if ans**2 < x:\n",
    "        low = ans\n",
    "    else:\n",
    "        high = ans\n",
    "    ans = (high + low)/2.0\n",
    "print('numGuesses =', numGuesses)\n",
    "print(ans, 'is close to square root of', x)"
   ]
  },
  {
   "cell_type": "markdown",
   "metadata": {},
   "source": [
    "This is a reasonable piece of code, but it lacks general utility. It works only for values denoted by the variables x and epsilon. This means that if we want to reuse it, we need to copy the code, possibly edit the variable names, and paste it where we want it.\n",
    "\n",
    "Python provides several linguistic features that make it relatively easy to generalize and reuse code. The most important is the function"
   ]
  },
  {
   "cell_type": "markdown",
   "metadata": {},
   "source": [
    "# 4.1 Functions and Scoping"
   ]
  },
  {
   "cell_type": "markdown",
   "metadata": {},
   "source": [
    "# 4.1.1 Function Definitions\n",
    "In Python each function definition is of the form："
   ]
  },
  {
   "cell_type": "code",
   "execution_count": null,
   "metadata": {
    "collapsed": true
   },
   "outputs": [],
   "source": [
    "def nameoffunction (list_of_formal_parameters):\n",
    "                    body of function \n"
   ]
  },
  {
   "cell_type": "code",
   "execution_count": 2,
   "metadata": {
    "collapsed": true
   },
   "outputs": [],
   "source": [
    "def max(x, y):\n",
    "    if x > y:\n",
    "        return x\n",
    "    else:\n",
    "        return y   "
   ]
  },
  {
   "cell_type": "code",
   "execution_count": 3,
   "metadata": {
    "collapsed": false
   },
   "outputs": [
    {
     "data": {
      "text/plain": [
       "4"
      ]
     },
     "execution_count": 3,
     "metadata": {},
     "output_type": "execute_result"
    }
   ],
   "source": [
    "max(3, 4)"
   ]
  },
  {
   "cell_type": "markdown",
   "metadata": {
    "collapsed": true
   },
   "source": [
    "# 4.1.2 Keyword Arguments and Default Values"
   ]
  },
  {
   "cell_type": "raw",
   "metadata": {},
   "source": [
    "In Python, there are two ways that formal parameters get bound to actual parameters. The most common method, which is the only one we have used thus far, is called positional—the first formal parameter is bound to the first\n",
    "actual parameter, the second formal to the second actual, etc.\n",
    "\n",
    "Python also supports what it calls keyword arguments, in which formals are bound to actuals using the name of the formal parameter."
   ]
  },
  {
   "cell_type": "code",
   "execution_count": 7,
   "metadata": {
    "collapsed": false
   },
   "outputs": [],
   "source": [
    "def printName(firstName, lastName, reverse):\n",
    "    if reverse:\n",
    "        print(lastName + ', ' + firstName)\n",
    "    else:\n",
    "        print(firstName, lastName)"
   ]
  },
  {
   "cell_type": "code",
   "execution_count": 8,
   "metadata": {
    "collapsed": false
   },
   "outputs": [
    {
     "name": "stdout",
     "output_type": "stream",
     "text": [
      "Olga Puchmajerova\n",
      "Olga Puchmajerova\n",
      "Olga Puchmajerova\n",
      "Olga Puchmajerova\n",
      "Olga Puchmajerova\n"
     ]
    }
   ],
   "source": [
    "printName('Olga', 'Puchmajerova', False)  # positional -重复？ 书中错误？，改为True\n",
    "printName('Olga', 'Puchmajerova', False)   # positional\n",
    "printName('Olga', 'Puchmajerova', reverse = False)  # keyword argument\n",
    "printName('Olga', lastName = 'Puchmajerova', reverse = False) # keyword argument\n",
    "printName(lastName='Puchmajerova', firstName='Olga', reverse=False)#keyword argument"
   ]
  },
  {
   "cell_type": "code",
   "execution_count": null,
   "metadata": {
    "collapsed": true
   },
   "outputs": [],
   "source": [
    "the keyword arguments can appear in any order in the list of actual parameters, it is not legal to follow a keyword argument with a non-keyword\n",
    "argument."
   ]
  },
  {
   "cell_type": "code",
   "execution_count": 9,
   "metadata": {
    "collapsed": false
   },
   "outputs": [
    {
     "ename": "SyntaxError",
     "evalue": "non-keyword arg after keyword arg (<ipython-input-9-aba559bd1a82>, line 1)",
     "output_type": "error",
     "traceback": [
      "\u001b[1;36m  File \u001b[1;32m\"<ipython-input-9-aba559bd1a82>\"\u001b[1;36m, line \u001b[1;32m1\u001b[0m\n\u001b[1;33m    printName('Olga', lastName = 'Puchmajerova', False)\u001b[0m\n\u001b[1;37m                                                ^\u001b[0m\n\u001b[1;31mSyntaxError\u001b[0m\u001b[1;31m:\u001b[0m non-keyword arg after keyword arg\n"
     ]
    }
   ],
   "source": [
    "printName('Olga', lastName = 'Puchmajerova', False) # False : a non-keyword argument.\n",
    "argument."
   ]
  },
  {
   "cell_type": "raw",
   "metadata": {},
   "source": [
    "Keyword arguments are commonly used in conjunction with default parameter values. "
   ]
  },
  {
   "cell_type": "code",
   "execution_count": 11,
   "metadata": {
    "collapsed": false
   },
   "outputs": [],
   "source": [
    "def printName(firstName, lastName, reverse = False): # reverse = False: default parameter values\n",
    "    if reverse:\n",
    "        print(lastName + ', ' + firstName)\n",
    "    else:\n",
    "        print(firstName, lastName)"
   ]
  },
  {
   "cell_type": "code",
   "execution_count": 13,
   "metadata": {
    "collapsed": false
   },
   "outputs": [
    {
     "name": "stdout",
     "output_type": "stream",
     "text": [
      "Olga Puchmajerova\n",
      "Puchmajerova, Olga\n",
      "Puchmajerova, Olga\n"
     ]
    }
   ],
   "source": [
    "printName('Olga', 'Puchmajerova')  # reverse = False: default parameter values\n",
    "printName('Olga', 'Puchmajerova', True)  # positional\n",
    "printName('Olga', 'Puchmajerova', reverse = True) # keyword arg"
   ]
  },
  {
   "cell_type": "markdown",
   "metadata": {},
   "source": [
    "# 4.1.3 Scoping"
   ]
  },
  {
   "cell_type": "code",
   "execution_count": 18,
   "metadata": {
    "collapsed": true
   },
   "outputs": [],
   "source": [
    "def f(x): #name x used as formal parameter\n",
    "    y = 1\n",
    "    x = x + y\n",
    "    print('x in f=', x)\n",
    "    return x"
   ]
  },
  {
   "cell_type": "code",
   "execution_count": 19,
   "metadata": {
    "collapsed": false
   },
   "outputs": [
    {
     "name": "stdout",
     "output_type": "stream",
     "text": [
      "x in f= 4\n",
      "z = 4\n",
      "x = 3\n",
      "y = 2\n"
     ]
    }
   ],
   "source": [
    "x = 3\n",
    "y = 2\n",
    "z = f(x) #value of x used as actual parameter\n",
    "print('z =', z)\n",
    "print('x =', x)\n",
    "print('y =', y)"
   ]
  },
  {
   "cell_type": "raw",
   "metadata": {},
   "source": [
    "It is important to note that though the actual and formal parameters have the same name, they are not the same\n",
    "variable. Each function defines a new name space, also called a scope. The 38 Chapter 4. Functions, Scoping, and Abstraction formal parameter x and the local variable y that are used in f exist only within the scope of the definition of f. The assignment statement x = x + y within the function body binds the local name x to the object 4. The assignments in f have no effect at all on the bindings of the names x and y that exist outside the scopeof f"
   ]
  },
  {
   "cell_type": "code",
   "execution_count": 34,
   "metadata": {
    "collapsed": false
   },
   "outputs": [],
   "source": [
    "def f(x):\n",
    "   \n",
    "    def g():\n",
    "      x = 'abc'\n",
    "      print('x in g=', x,'\\n')# step3\n",
    "   \n",
    "    def h():\n",
    "      z = x               # x in f\n",
    "      print('z in h=x in f', z,'\\n') # step2\n",
    "  \n",
    "    x = x + 1           # step1\n",
    "    print('x in f=（x in out f）+1', x,'\\n') \n",
    "    \n",
    "    h()                 # step2\n",
    "    g()                 # step3\n",
    "    \n",
    "    print('x in f after h,g call=', x,'\\n') # step4\n",
    "    \n",
    "    return g"
   ]
  },
  {
   "cell_type": "code",
   "execution_count": 35,
   "metadata": {
    "collapsed": false
   },
   "outputs": [
    {
     "name": "stdout",
     "output_type": "stream",
     "text": [
      "x in f=（x in out f）+1 4 \n",
      "\n",
      "z in h=x in f 4 \n",
      "\n",
      "x in g= abc \n",
      "\n",
      "x in f after h,g call= 4 \n",
      "\n",
      "x out f= 3 \n",
      "\n",
      "z = <function f.<locals>.g at 0x00000000007DD7B8>\n",
      "x in g= abc \n",
      "\n"
     ]
    }
   ],
   "source": [
    "x = 3  # out f\n",
    "z = f(x)\n",
    "print('x out f=', x,'\\n')\n",
    "\n",
    "print('z =', z)\n",
    "z()  # z = <function f.<locals>.g at 0x00000000007DDBF8>"
   ]
  },
  {
   "cell_type": "markdown",
   "metadata": {},
   "source": [
    "The order in which references to a name occur is not germane. \n",
    "\n",
    "If an object is bound to a name anywhere in the function body (even if it occurs in an\n",
    "expression before it appears as the left-hand-side of an assignment), \n",
    "it is treated as local to that function.\n",
    "\n",
    "Examples: "
   ]
  },
  {
   "cell_type": "code",
   "execution_count": 48,
   "metadata": {
    "collapsed": false
   },
   "outputs": [],
   "source": [
    "def f():\n",
    "    print(x)\n",
    "\n",
    "def g0():\n",
    "    x = 1 #  local x\n",
    "    print(x) \n",
    "\n",
    "# an error message is printed when it encounters the print statement in g\n",
    "# because the assignment statement following the print statement causes x to be local to g.\n",
    "def g():\n",
    "    print(x) #  x to be local to g\n",
    "    x = 1 \n",
    "    #  assignment statement following the print statement causes x to be local to g\n",
    "    #  The order is not germane,so x in print(x) to be local to g"
   ]
  },
  {
   "cell_type": "code",
   "execution_count": 49,
   "metadata": {
    "collapsed": false
   },
   "outputs": [
    {
     "name": "stdout",
     "output_type": "stream",
     "text": [
      "3\n",
      "1\n"
     ]
    },
    {
     "ename": "UnboundLocalError",
     "evalue": "local variable 'x' referenced before assignment",
     "output_type": "error",
     "traceback": [
      "\u001b[1;31m---------------------------------------------------------------------------\u001b[0m",
      "\u001b[1;31mUnboundLocalError\u001b[0m                         Traceback (most recent call last)",
      "\u001b[1;32m<ipython-input-49-31767086b793>\u001b[0m in \u001b[0;36m<module>\u001b[1;34m()\u001b[0m\n\u001b[0;32m      6\u001b[0m \u001b[1;33m\u001b[0m\u001b[0m\n\u001b[0;32m      7\u001b[0m \u001b[0mx\u001b[0m \u001b[1;33m=\u001b[0m \u001b[1;36m3\u001b[0m\u001b[1;33m\u001b[0m\u001b[0m\n\u001b[1;32m----> 8\u001b[1;33m \u001b[0mg\u001b[0m\u001b[1;33m(\u001b[0m\u001b[1;33m)\u001b[0m\u001b[1;33m\u001b[0m\u001b[0m\n\u001b[0m",
      "\u001b[1;32m<ipython-input-48-f99c7a3c3cf0>\u001b[0m in \u001b[0;36mg\u001b[1;34m()\u001b[0m\n\u001b[0;32m      9\u001b[0m \u001b[1;31m# because the assignment statement following the print statement causes x to be local to g.\u001b[0m\u001b[1;33m\u001b[0m\u001b[1;33m\u001b[0m\u001b[0m\n\u001b[0;32m     10\u001b[0m \u001b[1;32mdef\u001b[0m \u001b[0mg\u001b[0m\u001b[1;33m(\u001b[0m\u001b[1;33m)\u001b[0m\u001b[1;33m:\u001b[0m\u001b[1;33m\u001b[0m\u001b[0m\n\u001b[1;32m---> 11\u001b[1;33m     \u001b[0mprint\u001b[0m\u001b[1;33m(\u001b[0m\u001b[0mx\u001b[0m\u001b[1;33m)\u001b[0m\u001b[1;33m\u001b[0m\u001b[0m\n\u001b[0m\u001b[0;32m     12\u001b[0m     \u001b[0mx\u001b[0m \u001b[1;33m=\u001b[0m \u001b[1;36m1\u001b[0m \u001b[1;31m#  assignment statement following the print statement causes x to be local to g\u001b[0m\u001b[1;33m\u001b[0m\u001b[0m\n",
      "\u001b[1;31mUnboundLocalError\u001b[0m: local variable 'x' referenced before assignment"
     ]
    }
   ],
   "source": [
    "x = 3\n",
    "f()\n",
    "\n",
    "x = 3\n",
    "g0()\n",
    "\n",
    "x = 3\n",
    "g()"
   ]
  },
  {
   "cell_type": "markdown",
   "metadata": {},
   "source": [
    "# 4.2 Specifications "
   ]
  },
  {
   "cell_type": "code",
   "execution_count": null,
   "metadata": {
    "collapsed": true
   },
   "outputs": [],
   "source": []
  }
 ],
 "metadata": {
  "kernelspec": {
   "display_name": "Python 3",
   "language": "python",
   "name": "python3"
  },
  "language_info": {
   "codemirror_mode": {
    "name": "ipython",
    "version": 3
   },
   "file_extension": ".py",
   "mimetype": "text/x-python",
   "name": "python",
   "nbconvert_exporter": "python",
   "pygments_lexer": "ipython3",
   "version": "3.4.3"
  }
 },
 "nbformat": 4,
 "nbformat_minor": 0
}
