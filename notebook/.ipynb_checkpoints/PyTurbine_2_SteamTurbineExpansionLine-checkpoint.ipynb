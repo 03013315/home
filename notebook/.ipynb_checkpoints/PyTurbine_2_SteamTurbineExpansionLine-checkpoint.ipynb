{
 "cells": [
  {
   "cell_type": "markdown",
   "metadata": {},
   "source": [
    "# Steam Turbine Expansion Line - Step0\n",
    "\n",
    "## 1 eff"
   ]
  },
  {
   "cell_type": "code",
   "execution_count": 1,
   "metadata": {
    "collapsed": false
   },
   "outputs": [
    {
     "name": "stdout",
     "output_type": "stream",
     "text": [
      "1 等熵焓降 = 425.003134565186\n",
      "1 过程效率 = 89.92487193794696\n",
      "2 等熵焓降 = 425.003134565186\n",
      "2 过程效率 = 89.92487193794696\n"
     ]
    }
   ],
   "source": [
    "# -*- coding: utf-8 -*- \n",
    "\n",
    "#   step0: simple code for cylinder \n",
    "\n",
    "from seuif97 import *\n",
    "\n",
    "# HP of 300MW Steam Turbine \n",
    "\n",
    "p1=16\n",
    "t1=535\n",
    "p2=3.56\n",
    "t2=315\n",
    "\n",
    "# 1 基本物性公式计算\n",
    "h1=pt2h(p1,t1)\n",
    "s1=pt2s(p1,t1)\n",
    "\n",
    "h2=pt2h(p2,t2)\n",
    "s2=pt2s(p2,t2)\n",
    "\n",
    "hs=ps2h(p2,s1)\n",
    "hdis=h1-hs   # 等熵焓降\n",
    "hd=h1-h2     # 过程焓降\n",
    "\n",
    "ef=100*hd/hdis\n",
    "print('1 等熵焓降 =',hdis)\n",
    "print('1 过程效率 =',ef)\n",
    "\n",
    "# 2 使用过程方法\n",
    "hdis=ishd(p1,t1,p2) # 等熵焓降\n",
    "ef=ief(p1,t1,p2,t2) # 过程效率\n",
    "print('2 等熵焓降 =',hdis)\n",
    "print('2 过程效率 =',ef)"
   ]
  },
  {
   "cell_type": "markdown",
   "metadata": {},
   "source": [
    "## 2 热力过程可视化"
   ]
  },
  {
   "cell_type": "code",
   "execution_count": 2,
   "metadata": {
    "collapsed": false
   },
   "outputs": [
    {
     "data": {
      "image/png": "[encoded data removed]",
      "text/plain": [
       "<matplotlib.figure.Figure at 0x237063fc128>"
      ]
     },
     "metadata": {},
     "output_type": "display_data"
    }
   ],
   "source": [
    "# -*- coding: utf-8 -*- \n",
    "#----------------------------------------------------------------\n",
    "#     HP Expansion Line - step1\n",
    "#         可视化简单实现，不使用数据类型对对象进行描述- 无数据结构\n",
    "#          可视化方面：划线，标注 --学习matplotlib可视化\n",
    "#     Last Updated:  2015.05.15 \n",
    "#                @ Southeast University, Nanjing,China \n",
    "#----------------------------------------------------------------\n",
    "\n",
    "from seuif97 import *\n",
    "\n",
    "%matplotlib inline\n",
    "import matplotlib.pyplot as plt\n",
    "import numpy as np\n",
    "import string\n",
    "\n",
    "p1=16\n",
    "t1=535\n",
    "p2=3.56\n",
    "t2=315\n",
    "h1=pt2h(p1,t1)\n",
    "s1=pt2s(p1,t1)\n",
    "\n",
    "h2=pt2h(p2,t2)\n",
    "s2=pt2s(p2,t2)\n",
    "\n",
    "hs=ps2h(p2,s1)\n",
    "his=ishd(p1,t1,p2)\n",
    "\n",
    "ef=ief(p1,t1,p2,t2)\n",
    "\n",
    "# 4条线：p1、p2 等压，等熵降线、膨胀线\n",
    "\n",
    "samp=0.01\n",
    "\n",
    "smp1=s1-samp\n",
    "hsmp1=ps2h(p1,smp1)\n",
    "sap1=s1+samp\n",
    "hsap1=ps2h(p1,sap1)\n",
    "\n",
    "smt1=s1-samp\n",
    "hsmt1=ps2h(p1,smp1)\n",
    "sat1=s1+samp\n",
    "hsat1=ts2h(t1,sap1)\n",
    "\n",
    "point_p1_h=np.zeros(shape=3)\n",
    "point_p1_h[0]=hsmp1\n",
    "point_p1_h[1]=h1\n",
    "point_p1_h[2]=hsap1\n",
    "point_p1_s=np.zeros(shape=3)\n",
    "point_p1_s[0]=smp1\n",
    "point_p1_s[1]=s1\n",
    "point_p1_s[2]=sap1\n",
    "\n",
    "# p2\n",
    "smp2=s1-samp  # 等熵焓降点延伸\n",
    "hsmp2=ps2h(p2,smp2)\n",
    "sap2=s2+samp\n",
    "hsap2=ps2h(p2,sap2)\n",
    "\n",
    "smt2=s2-samp\n",
    "hsmt2=ps2h(p1,smp1)\n",
    "sat2=s2+samp\n",
    "hsat2=ts2h(t2,sap1)\n",
    "\n",
    "point_p2_h=np.zeros(shape=3)\n",
    "point_p2_h[0]=hsmp2\n",
    "point_p2_h[1]=h2\n",
    "point_p2_h[2]=hsap2\n",
    "\n",
    "point_p2_s=np.zeros(shape=3)\n",
    "point_p2_s[0]=smp2\n",
    "point_p2_s[1]=s2\n",
    "point_p2_s[2]=sap2\n",
    "\n",
    "# 等熵焓降\n",
    "point_is_h=np.zeros(shape=2)\n",
    "point_is_h[0]=h1\n",
    "point_is_h[1]=hs\n",
    "point_is_s=np.zeros(shape=2)\n",
    "point_is_s[0]=s1\n",
    "point_is_s[1]=s1\n",
    "\n",
    "# HP Expansion Line\n",
    "point_hp_h=np.zeros(shape=2)\n",
    "point_hp_h[0]=h1\n",
    "point_hp_h[1]=h2\n",
    "point_hp_s=np.zeros(shape=2)\n",
    "point_hp_s[0]=s1\n",
    "point_hp_s[1]=s2 \n",
    "   \n",
    "plt.plot(point_p1_s,point_p1_h,'bs-',label='P1')\n",
    "# PyTex 不支持windows!  \n",
    "plt.plot(point_p2_s,point_p2_h,'bs-',label=r'$\\frac{1}{2}\\pi$')\n",
    "plt.plot(point_is_s,point_is_h,'rs-',label='is')\n",
    "plt.plot(point_hp_s,point_hp_h,'rs-',label='HP Expansion Line\"')\n",
    "plt.minorticks_on()\n",
    "plt.legend(loc=\"center left\", bbox_to_anchor=[0.5, 0.5],\n",
    "        ncol=2, shadow=True, title='HP Expansion Line')\n",
    "# 进一步\n",
    "#annotate some interesting points using the annotate command\n",
    "plt.annotate('(P1,T1)',\n",
    "         xy=(s1, h1), xycoords='data',\n",
    "         xytext=(+10, +30), textcoords='offset points', fontsize=12,\n",
    "         arrowprops=dict(arrowstyle=\"->\", connectionstyle=\"arc3,rad=.2\"))\n",
    "\n",
    "plt.annotate('(P2,T2)',\n",
    "         xy=(s2, h2), xycoords='data',\n",
    "         xytext=(+10, +30), textcoords='offset points', fontsize=12,\n",
    "         arrowprops=dict(arrowstyle=\"->\", connectionstyle=\"arc3,rad=.2\"))\n",
    "\n",
    "plt.xlabel('s')\n",
    "plt.ylabel('h')\n",
    "plt.show()\n"
   ]
  },
  {
   "cell_type": "code",
   "execution_count": null,
   "metadata": {
    "collapsed": true
   },
   "outputs": [],
   "source": []
  }
 ],
 "metadata": {
  "kernelspec": {
   "display_name": "Python 3",
   "language": "python",
   "name": "python3"
  },
  "language_info": {
   "codemirror_mode": {
    "name": "ipython",
    "version": 3
   },
   "file_extension": ".py",
   "mimetype": "text/x-python",
   "name": "python",
   "nbconvert_exporter": "python",
   "pygments_lexer": "ipython3",
   "version": "3.5.0"
  }
 },
 "nbformat": 4,
 "nbformat_minor": 0
}
