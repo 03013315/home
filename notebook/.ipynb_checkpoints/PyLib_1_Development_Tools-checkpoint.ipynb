{
 "cells": [
  {
   "cell_type": "markdown",
   "metadata": {},
   "source": [
    "# Development Tools \n",
    "\n",
    "https://docs.python.org/3/library/development.html  26. Development Tools\n",
    "\n",
    "The modules described in this chapter help you write software. For example, the pydoc module takes a module and generates documentation based on the module’s contents. The doctest and unittest modules contains frameworks for writing unit tests that automatically exercise code and verify that the expected output is produced. 2to3 can translate Python 2.x source code into valid Python 3.x code."
   ]
  },
  {
   "cell_type": "markdown",
   "metadata": {},
   "source": [
    "26.2. pydoc — Documentation generator and online help system\n",
    "\n",
    "https://docs.python.org/3/library/pydoc.html\n",
    "\n",
    "26.3. doctest — Test interactive Python examples\n",
    "\n",
    "https://docs.python.org/3/library/doctest.html\n",
    "\n",
    "26.4. unittest — Unit testing framework\n",
    "\n",
    "https://docs.python.org/3/library/unittest.html\n",
    "        "
   ]
  },
  {
   "cell_type": "markdown",
   "metadata": {},
   "source": [
    "## 1 pydoc — Documentation generator and online help system\n",
    "\n",
    "\n"
   ]
  },
  {
   "cell_type": "markdown",
   "metadata": {
    "collapsed": true
   },
   "source": [
    "The <b>pydoc</b> module imports a Python module and uses the contents to generate help text at runtime. \n",
    "\n",
    "The output includes <b>docstrings</b> for any objects that have them, and all of the <b>documentable contents</b> of the module are described.\n",
    "\n",
    "1) The built-in function <b>help()</b> invokes the <b>online help system in the interactive interpreter</b>, which uses pydoc to generate its documentation as text on the console. \n",
    "   \n",
    "    help(module_name)\n",
    "\n",
    "2) The same <b>text documentation</b> can also be viewed from outside the Python interpreter by running pydoc as a script at the operating system’s command prompt. \n",
    "\n",
    "    C:/Python34/Lib/pydoc.py  module_name\n",
    "    C:/Python34/Lib/pydoc.py  -w module_name\n",
    "    \n",
    "3) You can also use pydoc to start <b>an HTTP server</b> on the local machine that will serve documentation to visiting Web browsers.\n",
    "\n",
    "    C:/Python34/Lib/pydoc -p 5000\n",
    "    C:/Python34/Lib/pydoc -b （version 3.2: Added the -b option)"
   ]
  },
  {
   "cell_type": "markdown",
   "metadata": {},
   "source": [
    "### 1.1 Interactive Help\n",
    "\n",
    "pydoc also adds a function<b> help()</b> to the<b> __builtins__</b> so you can access the same information from the Python interpreter prompt."
   ]
  },
  {
   "cell_type": "code",
   "execution_count": null,
   "metadata": {
    "collapsed": false
   },
   "outputs": [],
   "source": [
    "help('math')\n",
    "help('atexit')"
   ]
  },
  {
   "cell_type": "markdown",
   "metadata": {},
   "source": [
    "### 1.2 help Documentation\n",
    "\n",
    "<b>running pydoc as a script at the operating system’s command prompt,</b>\n",
    "\n",
    "generate help text：\n",
    "\n",
    "   1) on the console\n",
    "   \n",
    "   2) HTML output：a static file to a local directory\n",
    "   \n",
    "#### 1.2.1 Plain Text Help -on the console"
   ]
  },
  {
   "cell_type": "code",
   "execution_count": 1,
   "metadata": {
    "collapsed": false
   },
   "outputs": [
    {
     "ename": "SyntaxError",
     "evalue": "invalid syntax (<ipython-input-1-67e70d5ddbe0>, line 1)",
     "output_type": "error",
     "traceback": [
      "\u001b[1;36m  File \u001b[1;32m\"<ipython-input-1-67e70d5ddbe0>\"\u001b[1;36m, line \u001b[1;32m1\u001b[0m\n\u001b[1;33m    C:/Python34/Lib/pydoc.py atexit\u001b[0m\n\u001b[1;37m     ^\u001b[0m\n\u001b[1;31mSyntaxError\u001b[0m\u001b[1;31m:\u001b[0m invalid syntax\n"
     ]
    }
   ],
   "source": [
    "C:/Python34/Lib/pydoc.py atexit\n",
    "C:/Python34/Lib/pydoc.py math        "
   ]
  },
  {
   "cell_type": "markdown",
   "metadata": {},
   "source": [
    "Produces plaintext help on the console, using your pager if one is configured."
   ]
  },
  {
   "cell_type": "markdown",
   "metadata": {},
   "source": [
    "#### 1.2.2 HTML Help -static file\n",
    "\n",
    "You can also cause pydoc to generate HTML output, either writing a static file to a local directory or starting a web server to browse documentation online.\n",
    "\n",
    "Specifying a -w flag before the argument will cause HTML documentation to be written out to a file in the current directory, instead of displaying text on the console."
   ]
  },
  {
   "cell_type": "code",
   "execution_count": null,
   "metadata": {
    "collapsed": true
   },
   "outputs": [],
   "source": [
    "C:/Python34/Lib/pydoc.py -w math\n",
    "C:/Python34/Lib/pydoc.py -w atexit"
   ]
  },
  {
   "cell_type": "markdown",
   "metadata": {},
   "source": [
    "### 1.3 starting a web server to browse documentation online\n",
    "\n",
    "You can also use pydoc to start an HTTP server on the local machine that will serve documentation to visiting Web browsers. pydoc -p 1234 will start a HTTP server on port 1234, allowing you to browse the documentation at http://localhost:1234/ in your preferred Web browser. Specifying 0 as the port number will select an arbitrary unused port."
   ]
  },
  {
   "cell_type": "code",
   "execution_count": null,
   "metadata": {
    "collapsed": true
   },
   "outputs": [],
   "source": [
    "C:/Python34/Lib/pydoc -p 5000"
   ]
  },
  {
   "cell_type": "markdown",
   "metadata": {},
   "source": [
    "Starts a web server listening at http://localhost:5000/. The server generates documentation as you browse through the available modules.\n",
    "<img src=\"./img/pydoc_server_1.PNG\"/> \n",
    "\n",
    "<img src=\"./img/pydoc_server_2.PNG\"/> \n"
   ]
  },
  {
   "cell_type": "markdown",
   "metadata": {},
   "source": [
    "pydoc -b will <b>start the server</b> and additionally <b>open</b> a web browser to a module index page. Each served page has a navigation bar at the top where you can Get help on an individual item, Search all modules with a keyword in their synopsis line, and go to the Module index, Topics and Keywords pages."
   ]
  },
  {
   "cell_type": "code",
   "execution_count": null,
   "metadata": {
    "collapsed": true
   },
   "outputs": [],
   "source": [
    "C:/Python34/Lib/pydoc -b"
   ]
  },
  {
   "cell_type": "markdown",
   "metadata": {},
   "source": [
    "<img src=\"./img/pydoc_server_b.PNG\"/> "
   ]
  },
  {
   "cell_type": "markdown",
   "metadata": {
    "collapsed": true
   },
   "source": [
    "<hr style=\"height:2px;color:blue\"/>\n",
    "## 2 doctest – Testing through documentation\n",
    "\n",
    "<b>doctest</b> lets you <b>test</b> your code by running <b>examples embedded in the documentation</b> and verifying that they produce the expected results. \n",
    "\n",
    "It works by parsing the help text to find examples, running them, then comparing the output text against the expected value. \n",
    "\n",
    "Many developers find doctest <b>easier</b> than unittest because in its simplest form, there is no API to learn before using it. However, as the examples become more complex the lack of fixture management can make writing doctest tests more <b>cumbersome</b> than using unittest."
   ]
  },
  {
   "cell_type": "raw",
   "metadata": {},
   "source": [
    "### 2.1 Getting Started\n",
    "\n",
    "<b>doctest</b> looks for lines <b>beginning</b> with the interpreter prompt, <b>>>></b>, to find the beginning of a test case. The case is <b>ended</b> by <b>a blank line</b>, or by the <b>next interpreter prompt</b>.\n",
    "\n",
    "Here, <b>my_function()</b> has two examples given in the module: doctest_simple.py"
   ]
  },
  {
   "cell_type": "code",
   "execution_count": null,
   "metadata": {
    "collapsed": true
   },
   "outputs": [],
   "source": [
    "def my_function(a, b):\n",
    "    \"\"\"\n",
    "    >>> my_function(2, 3)\n",
    "    6\n",
    "    >>> my_function('a', 3)\n",
    "    'aaa'\n",
    "    \"\"\"\n",
    "    return a * b"
   ]
  },
  {
   "cell_type": "markdown",
   "metadata": {},
   "source": [
    "To run the tests, use <b>doctest as the main program</b> via the <b>-m</b> option to the interpreter:"
   ]
  },
  {
   "cell_type": "code",
   "execution_count": null,
   "metadata": {
    "collapsed": true
   },
   "outputs": [],
   "source": [
    "python -m doctest doctest_simple.py"
   ]
  },
  {
   "cell_type": "markdown",
   "metadata": {},
   "source": [
    "Usually no output is produced while the tests are running,\n",
    "\n",
    "so the example below includes the <b>-v</b> option to make the output more verbose."
   ]
  },
  {
   "cell_type": "code",
   "execution_count": null,
   "metadata": {
    "collapsed": false
   },
   "outputs": [],
   "source": [
    "python -m doctest -v doctest_simple.py-m"
   ]
  },
  {
   "cell_type": "raw",
   "metadata": {},
   "source": [
    "Examples cannot usually stand on their own as explanations of a function, so doctest also lets you keep the surrounding text you would normally include in the documentation. \n",
    "\n",
    "Intervening text is ignored, and can have any format as long as it does not look like a test case.\n",
    "\n"
   ]
  },
  {
   "cell_type": "code",
   "execution_count": null,
   "metadata": {
    "collapsed": true
   },
   "outputs": [],
   "source": [
    "def my_function(a, b):\n",
    "    \"\"\"Returns a * b.\n",
    "\n",
    "    Works with numbers:\n",
    "    \n",
    "    >>> my_function(2, 3)\n",
    "    6\n",
    "\n",
    "    and strings:\n",
    "    \n",
    "    >>> my_function('a', 3)\n",
    "    'aaa'\n",
    "    \"\"\"\n",
    "    return a * b"
   ]
  },
  {
   "cell_type": "markdown",
   "metadata": {},
   "source": [
    "The surrounding text in the updated docstring makes it more <b>useful to a human reader</b>, and is  <b>ignored by doctest</b>, and the results are the same."
   ]
  },
  {
   "cell_type": "markdown",
   "metadata": {},
   "source": [
    "## 2 Handling Unpredictable Output"
   ]
  },
  {
   "cell_type": "markdown",
   "metadata": {},
   "source": [
    "There are other cases where the exact output may not be predictable, but should still be testable. Local date and time values and object ids change on every test run. The default precision used in the representation of floating point values depend on compiler options. Object string representations may not be deterministic. Although these conditions are outside of your control, there are techniques for dealing with them.\n",
    "\n",
    "For example, in CPython, object identifiers are based on the memory address of the data structure holding the object.\n"
   ]
  },
  {
   "cell_type": "code",
   "execution_count": null,
   "metadata": {
    "collapsed": true
   },
   "outputs": [],
   "source": [
    "class MyClass(object):\n",
    "    pass\n",
    "\n",
    "def unpredictable(obj):\n",
    "    \"\"\"Returns a new list containing obj.\n",
    "\n",
    "    >>> unpredictable(MyClass())\n",
    "    [<doctest_unpredictable.MyClass object at 0x10055a2d0>]\n",
    "    \"\"\"\n",
    "    return [obj]"
   ]
  },
  {
   "cell_type": "code",
   "execution_count": null,
   "metadata": {
    "collapsed": true
   },
   "outputs": [],
   "source": [
    "python -m doctest -v doctest_unpredictable.py\n"
   ]
  },
  {
   "cell_type": "code",
   "execution_count": null,
   "metadata": {
    "collapsed": true
   },
   "outputs": [],
   "source": []
  },
  {
   "cell_type": "code",
   "execution_count": null,
   "metadata": {
    "collapsed": true
   },
   "outputs": [],
   "source": []
  },
  {
   "cell_type": "markdown",
   "metadata": {},
   "source": [
    "## Tracebacks¶"
   ]
  },
  {
   "cell_type": "markdown",
   "metadata": {},
   "source": [
    "Tracebacks are a special case of changing data. Since the paths in a traceback depend on the location where a module is installed on the filesystem on a given system, it would be impossible to write portable tests if they were treated the same as other output."
   ]
  },
  {
   "cell_type": "code",
   "execution_count": null,
   "metadata": {
    "collapsed": true
   },
   "outputs": [],
   "source": [
    "def this_raises():\n",
    "    \"\"\"This function always raises an exception.\n",
    "\n",
    "    >>> this_raises()\n",
    "    Traceback (most recent call last):\n",
    "      File \"<stdin>\", line 1, in <module>\n",
    "      File \"/no/such/path/doctest_tracebacks.py\", line 14, in this_raises\n",
    "        raise RuntimeError('here is the error')\n",
    "    RuntimeError: here is the error\n",
    "    \"\"\"\n",
    "    raise RuntimeError('here is the error')"
   ]
  },
  {
   "cell_type": "markdown",
   "metadata": {},
   "source": [
    "doctest makes a special effort to recognize tracebacks, and ignore the parts that might change from system to system."
   ]
  },
  {
   "cell_type": "code",
   "execution_count": null,
   "metadata": {
    "collapsed": true
   },
   "outputs": [],
   "source": [
    " python -m doctest -v doctest_tracebacks.py"
   ]
  }
 ],
 "metadata": {
  "kernelspec": {
   "display_name": "Python 3",
   "language": "python",
   "name": "python3"
  },
  "language_info": {
   "codemirror_mode": {
    "name": "ipython",
    "version": 3
   },
   "file_extension": ".py",
   "mimetype": "text/x-python",
   "name": "python",
   "nbconvert_exporter": "python",
   "pygments_lexer": "ipython3",
   "version": "3.4.3"
  }
 },
 "nbformat": 4,
 "nbformat_minor": 0
}
