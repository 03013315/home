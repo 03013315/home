{
 "cells": [
  {
   "cell_type": "markdown",
   "metadata": {},
   "source": [
    "# The Python Debugger\n",
    "\n",
    "27.3 pdb — The Python Debugger\n",
    "https://docs.python.org/3/library/pdb.html\n",
    "\n",
    "pdb – Interactive Debugger\n",
    "https://pymotw.com/2/pdb/index.html\n",
    "\n",
    "Python 代码调试技巧\n",
    "https://www.ibm.com/developerworks/cn/linux/l-cn-pythondebugger/\n",
    "\n",
    "\n",
    "The module pdb defines an interactive source code debugger for Python programs. It supports setting (conditional) breakpoints and single stepping at the source line level, inspection of stack frames, source code listing, and evaluation of arbitrary Python code in the context of any stack frame. It also supports post-mortem debugging and can be called under program control.\n",
    "\n",
    "The debugger is extensible – it is actually defined as the class Pdb. This is currently undocumented but easily understood by reading the source. The extension interface uses the modules bdb and cmd.\n",
    "\n",
    "The debugger’s prompt is (Pdb). \n",
    "\n",
    "Typical usage to run a program under control of the debugger is:\n",
    "\n",
    "\n"
   ]
  },
  {
   "cell_type": "code",
   "execution_count": null,
   "metadata": {
    "collapsed": false
   },
   "outputs": [],
   "source": [
    "import pdb\n",
    "import mymodule\n",
    "pdb.run('mymodule.test()')\n"
   ]
  },
  {
   "cell_type": "markdown",
   "metadata": {
    "collapsed": true
   },
   "source": [
    "pdb implements an interactive debugging environment for Python programs. It includes features to let you pause your program, look at the values of variables, and watch program execution step-by-step, so you can understand what your program actually does and find bugs in the logic.\n",
    "<ol>\n",
    "<li>Starting the Debugger\n",
    "    <ul>\n",
    "    <li>From the Command Line\n",
    "    <li>Within the Interpreter\n",
    "    <li>From Within Your Program\n",
    "    <li>After a Failure\n",
    "    </ul>\n",
    "    \n",
    "<li>Controlling the Debugger\n",
    "    <ul>\n",
    "    <li>Navigating the Execution Stack\n",
    "    <li>Examining Variables on the Stack\n",
    "    <li>Stepping Through Your Program\n",
    "    </ul>\n",
    "<li>Breakpoints\n",
    "<li>Changing Execution Flow\n",
    "<li>Customizing the Debugger with Aliases\n",
    "<li>Saving Configuration Settings\n",
    "</ol>\n",
    "\n",
    "## 1.1 Starting the Debugger\n",
    "\n",
    "The first step to using `pdb` is causing the interpreter to enter the debugger when you want it to.\n",
    "\n",
    "There are a few different ways to do that, depending on your starting conditions and what you need to debug.\n",
    "<ol>\n",
    "<li>From the Command Line\n",
    "<li>Within the Interpreter\n",
    "<li>From Within Your Program\n",
    "<li>After a Failure\n",
    "</ol>\n",
    "\n",
    "\n",
    "### 1 From the Command Line\n",
    "\n",
    "The most straightforward way to use the debugger is to run it from the command line, giving it your own program as input so it knows what to run.\n"
   ]
  },
  {
   "cell_type": "code",
   "execution_count": null,
   "metadata": {
    "collapsed": false
   },
   "outputs": [],
   "source": [
    "# ../code/chapter27.3/pdb_script.py\n",
    "class MyObj(object):\n",
    "\n",
    "    def __init__(self, num_loops):\n",
    "        self.count = num_loops\n",
    "\n",
    "    def go(self):\n",
    "        for i in range(self.count):\n",
    "            print(i)\n",
    "        return\n",
    "\n",
    "if __name__ == '__main__':\n",
    "    MyObj(5).go()"
   ]
  },
  {
   "cell_type": "markdown",
   "metadata": {},
   "source": [
    "Running the debugger from the command line causes it to load your source file and stop execution on the first statement it finds. In this case, it stops before evaluating the definition of the class MyObj on line 7."
   ]
  },
  {
   "cell_type": "code",
   "execution_count": null,
   "metadata": {
    "collapsed": false
   },
   "outputs": [],
   "source": [
    "%pdb ../code/chapter27.3.pdb_script.py"
   ]
  },
  {
   "cell_type": "markdown",
   "metadata": {
    "collapsed": true
   },
   "source": [
    "### 2 Within the Interpreter\n",
    "\n",
    "Many Python developers work with the interactive interpreter while developing early versions of modules because it lets them experiment more iteratively without the save/run/repeat cycle needed when creating standalone scripts. To run the debugger from within an interactive interpreter, use run() or runeval().\n",
    "\n",
    "```\n",
    "$ python\n",
    "Python 2.7 (r27:82508, Jul  3 2010, 21:12:11)\n",
    "[GCC 4.0.1 (Apple Inc. build 5493)] on darwin\n",
    "Type \"help\", \"copyright\", \"credits\" or \"license\" for more information.\n",
    ">>> import pdb_script\n",
    ">>> import pdb\n",
    ">>> pdb.run('pdb_script.MyObj(5).go()')\n",
    "> <string>(1)<module>()\n",
    "(Pdb)\n",
    "```\n",
    "\n",
    "Within the Interpreter:Ipython\n"
   ]
  },
  {
   "cell_type": "markdown",
   "metadata": {
    "collapsed": true
   },
   "source": [
    "import sys;\n",
    "sys.path.append(\"../code/chapter27.3/\")\n",
    "from pdb_script import *\n",
    "\n",
    "import pdb\n",
    "pdb.run('pdb_script.MyObj(5).go()')\n",
    "MyObj(5).go()"
   ]
  },
  {
   "cell_type": "markdown",
   "metadata": {},
   "source": [
    "The argument to `run()` is <b>a string expression</b> that can be evaluated by the Python interpreter.\n",
    "\n",
    "The debugger will parse it, then pause execution just before the first expression evaluates.\n",
    "\n",
    "You can use the debugger commands described below to navigate and control the execution."
   ]
  },
  {
   "cell_type": "markdown",
   "metadata": {},
   "source": [
    "### 3 From Within Your Program¶\n",
    "\n",
    "Both of the previous examples assume you want to start the debugger <b>at the beginning</b> of your program. \n",
    "\n",
    "For a long-running process where the problem <b>appears much later</b> in the program execution, \n",
    "\n",
    "it will be more convenient to start the debugger from inside your program using <b>set_trace()</b>.\n"
   ]
  },
  {
   "cell_type": "code",
   "execution_count": null,
   "metadata": {
    "collapsed": true
   },
   "outputs": [],
   "source": [
    "import pdb\n",
    "\n",
    "class MyObj(object):\n",
    "\n",
    "    def __init__(self, num_loops):\n",
    "        self.count = num_loops\n",
    "\n",
    "    def go(self):\n",
    "        for i in range(self.count):\n",
    "            # start the debugger from inside your program using set_trace().\n",
    "            pdb.set_trace()\n",
    "            print(i)\n",
    "        return\n",
    "\n",
    "if __name__ == '__main__':\n",
    "    MyObj(5).go()\n"
   ]
  },
  {
   "cell_type": "markdown",
   "metadata": {},
   "source": [
    "Line `pdb.set_trace()`of the sample script triggers the debugger at that point in execution."
   ]
  },
  {
   "cell_type": "code",
   "execution_count": null,
   "metadata": {
    "collapsed": true
   },
   "outputs": [],
   "source": [
    "%run ..\\code\\chapter27.3\\pdb_set_trace.py"
   ]
  },
  {
   "cell_type": "markdown",
   "metadata": {},
   "source": [
    "`set_trace()` is just a Python function, so you can call it <b>at any point</b> in your program.\n",
    "\n",
    "This lets you enter the debugger based on conditions inside your program, including from an exception handler or via a specific branch of a control statement."
   ]
  },
  {
   "cell_type": "markdown",
   "metadata": {},
   "source": [
    "### 4 After a Failure\n",
    "\n",
    "Debugging a failure after a program terminates is called <b>post-mortem debugging</b>. \n",
    "\n",
    "`pdb` supports post-mortem debugging through the `pm()` and `post_mortem()` functions.\n"
   ]
  },
  {
   "cell_type": "code",
   "execution_count": null,
   "metadata": {
    "collapsed": true
   },
   "outputs": [],
   "source": [
    "# pdb_post_mortem.py\n",
    "class MyObj(object):\n",
    "\n",
    "    def __init__(self, num_loops):\n",
    "        self.count = num_loops\n",
    "\n",
    "    def go(self):\n",
    "        for i in range(self.num_loops):\n",
    "            print(i)\n",
    "        return"
   ]
  },
  {
   "cell_type": "markdown",
   "metadata": {},
   "source": [
    "Here the incorrect attribute name `self.num_loops` triggers an `AttributeError` exception, causing execution to stop. \n"
   ]
  },
  {
   "cell_type": "code",
   "execution_count": null,
   "metadata": {
    "collapsed": true
   },
   "outputs": [],
   "source": [
    "MyObj(5).go()"
   ]
  },
  {
   "cell_type": "code",
   "execution_count": null,
   "metadata": {
    "collapsed": true
   },
   "outputs": [],
   "source": [
    "```\n",
    ">>> from pdb_post_mortem import MyObj\n",
    ">>> MyObj(5).go()\n",
    "Traceback (most recent call last):\n",
    "  File \"<pyshell#1>\", line 1, in <module>\n",
    "    MyObj(5).go()\n",
    "  File \"D:\\SEUCourse\\SE_ThermalEnergy\\git\\Py03013052\\code\\Chapter27.3\\pdb_post_mortem.py\", line 10, in go\n",
    "    for i in range(self.num_loops):\n",
    "AttributeError: 'MyObj' object has no attribute 'num_loops'\n",
    ">>> \n",
    "```"
   ]
  },
  {
   "cell_type": "markdown",
   "metadata": {},
   "source": [
    "`pm()` looks for the active traceback and starts the debugger at the point in the call stack where the exception occurred"
   ]
  },
  {
   "cell_type": "markdown",
   "metadata": {},
   "source": [
    "```\n",
    ">>> import pdb\n",
    ">>> pdb.pm()\n",
    "> d:\\seucourse\\se_thermalenergy\\git\\py03013052\\code\\chapter27.3\\pdb_post_mortem.py(10)go()\n",
    "-> for i in range(self.num_loops):\n",
    "(Pdb)\n",
    "```"
   ]
  },
  {
   "cell_type": "code",
   "execution_count": null,
   "metadata": {
    "collapsed": true
   },
   "outputs": [],
   "source": [
    ">\\py03013052\\code\\chapter27.3\\pdb_set_trace.py(13)go() \n",
    "pdb_set_trace.py(13)go()\n",
    "-> print(i)\n",
    "\n",
    "(Pdb) where\n",
    "\n",
    "<string>(1)<module>()\n",
    "  c:\\python35\\lib\\idlelib\\run.py(124)main()\n",
    "-> ret = method(*args, **kwargs)\n",
    "  c:\\python35\\lib\\idlelib\\run.py(351)runcode()\n",
    "-> exec(code, self.locals)\n",
    "  d:\\seucourse\\se_thermalenergy\\git\\py03013052\\code\\chapter27.3\\pdb_set_trace.py(17)<module>()\n",
    "-> MyObj(5).go()\n",
    "> d:\\seucourse\\se_thermalenergy\\git\\py03013052\\code\\chapter27.3\\pdb_set_trace.py(13)go()\n",
    "-> print(i)\n",
    "(Pdb) "
   ]
  },
  {
   "cell_type": "markdown",
   "metadata": {},
   "source": [
    "## 1.2  Controlling the Debugger\n",
    "\n",
    "You interact with the debugger using a small command language that lets you move around the call stack, examine and change the values of variables, and control how the debugger executes your program. \n",
    "\n",
    "The interactive debugger uses `readline` to accept commands.\n",
    "\n",
    "Entering a blank line `re-runs` the previous command again, unless it was a list operation.\n",
    "\n",
    " <ul>\n",
    "    <li>Navigating the Execution Stack\n",
    "    <li>Examining Variables on the Stack\n",
    "    <li>Stepping Through Your Program\n",
    " </ul>\n",
    "\n",
    "### 1.2.1 Navigating the Execution Stack\n",
    "\n",
    "At any point while the debugger is running you can use <b>where (abbreviated w)</b> to find out exactly what line is being executed and where on the call stack you are. \n",
    "\n",
    "<b>context around the current location</b>\n",
    "\n",
    "  List source code for the current file. Without arguments, list 11 lines around the current line or continue the previous listing. With . as argument, list 11 lines around the current line. With one argument, list 11 lines around at that line. With two arguments, list the given range; if the second argument is less than the first, it is interpreted as a count.\n",
    "```\n",
    "l(ist) [first[, last]]\n",
    "```    \n",
    "```\n",
    "（pdb) List \n",
    "（pdb) List 8\n",
    "（pdb) List 3,8\n",
    "```\n",
    " List all source code for the current function or frame. Interesting lines are marked as for list. \n",
    "```\n",
    "ll（longlist）\n",
    "```\n",
    "```\n",
    "（pdb) ll\n",
    "（pdb) longlist\n",
    "```\n",
    "\n",
    "\n",
    "<b>Move between frames within the current call stack using up  and down </b>. \n",
    "```\n",
    "（pdb) up\n",
    "（pdb) down\n",
    "```\n",
    "<hr style=\"height:1px;color:blue\"/>\n",
    "\n",
    "In this case, the module `pdb_set_trace.py` line 13 in the `go()` method.\n"
   ]
  },
  {
   "cell_type": "raw",
   "metadata": {
    "collapsed": true
   },
   "source": [
    "%run ..\\code\\chapter27.3\\pdb_set_trace.py"
   ]
  },
  {
   "cell_type": "markdown",
   "metadata": {},
   "source": [
    "To add more <b>context</b> around the current location, use <b>list</b>."
   ]
  },
  {
   "cell_type": "code",
   "execution_count": null,
   "metadata": {
    "collapsed": true
   },
   "outputs": [],
   "source": [
    "```\n",
    "(Pdb) list\n",
    "\n",
    "  8  \t        self.count = num_loops\n",
    "  9  \t\n",
    " 10  \t    def go(self):\n",
    " 11  \t        for i in range(self.count):\n",
    " 12  \t            pdb.set_trace()\n",
    " 13  ->\t            print(i)   # the current line\n",
    " 14  \t        return\n",
    " 15  \t\n",
    " 16  \tif __name__ == '__main__':\n",
    " 17  \t    MyObj(5).go()\n",
    "[EOF]\n",
    "(Pdb) \n",
    "```"
   ]
  },
  {
   "cell_type": "markdown",
   "metadata": {},
   "source": [
    "The default is to list <b>11 lines</b> around the current line (<b>five before and five after</b>). \n",
    "\n",
    "Using `list` with <b>a single numerical argument</b> lists 11 lines around <b>that line(a single numerical argument) </b> instead of the current line.\n",
    "\n"
   ]
  },
  {
   "cell_type": "code",
   "execution_count": null,
   "metadata": {
    "collapsed": true
   },
   "outputs": [],
   "source": [
    "#  lists 11 lines around that line 8\n",
    "((Pdb) list 8\n",
    "  3  \timport pdb\n",
    "  4  \t\n",
    "  5  \tclass MyObj(object):\n",
    "  6  \t\n",
    "  7  \t    def __init__(self, num_loops):\n",
    "  8  \t        self.count = num_loops\n",
    "  9  \t\n",
    " 10  \t    def go(self):\n",
    " 11  \t        for i in range(self.count):\n",
    " 12  \t            pdb.set_trace()\n",
    " 13  ->\t            print(i)\n",
    "(Pdb) "
   ]
  },
  {
   "cell_type": "markdown",
   "metadata": {},
   "source": [
    "If <b>list</b> receives two arguments, it interprets them as <b>the first and last lines</b> to include in its output."
   ]
  },
  {
   "cell_type": "code",
   "execution_count": null,
   "metadata": {
    "collapsed": true
   },
   "outputs": [],
   "source": [
    "Pdb) list 3,8\n",
    "  3  \timport pdb\n",
    "  4  \t\n",
    "  5  \tclass MyObj(object):\n",
    "  6  \t\n",
    "  7  \t    def __init__(self, num_loops):\n",
    "  8  \t        self.count = num_loops\n",
    "(Pdb) "
   ]
  },
  {
   "cell_type": "markdown",
   "metadata": {},
   "source": [
    "ll | longlist\n",
    "\n",
    "List all source code for the current function or frame. Interesting lines are marked as for list.\n"
   ]
  },
  {
   "cell_type": "code",
   "execution_count": null,
   "metadata": {
    "collapsed": true
   },
   "outputs": [],
   "source": [
    "-> print(i)\n",
    "(Pdb) ll\n",
    " 10  \t    def go(self):\n",
    " 11  \t        for i in range(self.count):\n",
    " 12  \t            pdb.set_trace()\n",
    " 13  ->\t            print(i)\n",
    " 14  \t        return"
   ]
  },
  {
   "cell_type": "code",
   "execution_count": null,
   "metadata": {
    "collapsed": true
   },
   "outputs": [],
   "source": []
  },
  {
   "cell_type": "markdown",
   "metadata": {},
   "source": [
    "Move between frames within the current call stack using <b>up </b> and  <b>down </b>. \n",
    "\n",
    "up (abbreviated u) moves towards older frames on the stack. \n",
    "\n",
    "down (abbreviated d) moves towards newer frames."
   ]
  },
  {
   "cell_type": "code",
   "execution_count": null,
   "metadata": {
    "collapsed": true
   },
   "outputs": [],
   "source": [
    "(Pdb) up\n",
    "> <string>(1)<module>()\n",
    "(Pdb) down\n",
    "> c:\\python35\\lib\\idlelib\\run.py(124)main()\n",
    "-> ret = method(*args, **kwargs)\n",
    "(Pdb) "
   ]
  },
  {
   "cell_type": "markdown",
   "metadata": {},
   "source": [
    "### 1.2.2 Examining Variables on the Stack"
   ]
  },
  {
   "cell_type": "markdown",
   "metadata": {},
   "source": [
    "Each frame on the stack maintains a set of variables, including values local to the function being executed and global state information. \n",
    "\n",
    "<b>pdb</b> provides several ways to examine the contents of those variables.\n",
    "<ol>\n",
    "<li><b>a(rgs)</b>: Print the argument list of the current function.\n",
    "<li><b>p</b> `expression` : Evaluate the expression in the current context and print its value\n",
    "<li><b>pp</b> `expression`: the value of the expression is “pretty printed”  using the `pprint` module. for more complicated values\n",
    "<li><b>!</b>  `statement` : Execute the (one-line) statement in the context of the current stack frame. \n",
    "</ol>"
   ]
  },
  {
   "cell_type": "raw",
   "metadata": {
    "collapsed": true
   },
   "source": [
    "import pdb\n",
    "\n",
    "def recursive_function(n=5, output='to be printed'):\n",
    "    if n > 0:\n",
    "        recursive_function(n-1)\n",
    "    else:\n",
    "        pdb.set_trace()\n",
    "        print(output)\n",
    "    return\n",
    "\n",
    "if __name__ == '__main__':\n",
    "    recursive_function()"
   ]
  },
  {
   "cell_type": "markdown",
   "metadata": {},
   "source": [
    "The `args' command (abbreviated a) prints all of the arguments to the function active in the current frame. \n",
    "\n",
    "This example also uses a recursive function to show what a deeper stack looks like when printed by where."
   ]
  },
  {
   "cell_type": "code",
   "execution_count": null,
   "metadata": {
    "collapsed": true
   },
   "outputs": [],
   "source": [
    "\n",
    "> d:\\seucourse\\se_thermalenergy\\git\\py03013052\\code\\chapter27.3\\pdb_function_arguments.py(10)recursive_function()\n",
    "-> print(output)\n",
    "(Pdb) args\n",
    "n = 0\n",
    "output = 'to be printed'\n",
    "(Pdb) "
   ]
  },
  {
   "cell_type": "markdown",
   "metadata": {},
   "source": [
    "The <b>p</b> command evaluates an expression given as argument and prints the result.\n",
    "\n",
    "You can also use Python’s `print` statement, but that is passed through to the interpreter to be executed rather than running as a command in the debugger."
   ]
  },
  {
   "cell_type": "code",
   "execution_count": null,
   "metadata": {
    "collapsed": true
   },
   "outputs": [],
   "source": [
    "(Pdb) p n\n",
    "0\n",
    "(Pdb) print(n)\n",
    "0\n",
    "(Pdb) "
   ]
  },
  {
   "cell_type": "code",
   "execution_count": null,
   "metadata": {
    "collapsed": true
   },
   "outputs": [],
   "source": [
    "import pdb\n",
    "\n",
    "with open('lorem.txt', 'rt') as f:\n",
    "    lines = f.readlines()\n",
    "\n",
    "pdb.set_trace()"
   ]
  },
  {
   "cell_type": "markdown",
   "metadata": {},
   "source": [
    "Printing the variable lines with `p` results in output that is difficult to read because it wraps awkwardly. \n",
    "\n",
    "`pp` uses `pprint` to format the value for clean printing."
   ]
  },
  {
   "cell_type": "code",
   "execution_count": null,
   "metadata": {
    "collapsed": true
   },
   "outputs": [],
   "source": [
    "(Pdb) p lines\n",
    "['Lorem ipsum dolor sit amet, consectetuer adipiscing elit. \\n', 'Donec egestas, enim et consectetuer ullamcorper, lectus \\n', 'ligula rutrum leo, a elementum elit tortor eu quam.\\n']\n",
    "(Pdb) pp lines\n",
    "['Lorem ipsum dolor sit amet, consectetuer adipiscing elit. \\n',\n",
    " 'Donec egestas, enim et consectetuer ullamcorper, lectus \\n',\n",
    " 'ligula rutrum leo, a elementum elit tortor eu quam.\\n']\n",
    "(Pdb) "
   ]
  },
  {
   "cell_type": "markdown",
   "metadata": {},
   "source": [
    "Similarly, <b>prefixing an expression with !</b> passes it to the Python interpreter to be evaluated. \n",
    "\n",
    "You can use this feature to <b>execute arbitrary Python statements</b>, including modifying variables. \n",
    "\n",
    "This example changes the value of output before letting the debugger continue running the program. \n",
    "\n",
    "The next statement after the call to `set_trace()` prints the value of output, showing the modified value."
   ]
  },
  {
   "cell_type": "markdown",
   "metadata": {},
   "source": [
    "For more complicated values such as nested or large data structures, use `pp` to “pretty print” them. \n",
    "\n",
    "This program reads several lines of text from a file."
   ]
  },
  {
   "cell_type": "code",
   "execution_count": null,
   "metadata": {
    "collapsed": true
   },
   "outputs": [],
   "source": [
    "(Pdb) print(output) \n",
    "to be printed\n",
    "(Pdb) !output\n",
    "'to be printed'\n",
    "(Pdb) !output='Changed value'\n",
    "(Pdb) c\n",
    "Changed value\n",
    ">>> "
   ]
  },
  {
   "cell_type": "raw",
   "metadata": {},
   "source": [
    "### 1.2.3 Stepping Through Your Program\n",
    "\n",
    "In addition to navigating up and down the call stack when the program is paused,\n",
    "\n",
    "you can also <b>step through execution</b> of the program past the point where it enters the debugger.\n",
    "\n",
    "<ol>\n",
    "<li> <b>s(tep)</b>: Execute the current line, stop at the first possible occasion (either in a function that is called or on the next line in the current function).\n",
    "<li> <b>n(ext)</b>: Continue execution until the next line in the current function is reached or it returns.\n",
    "<li> <b>unt(il)</b> `[lineno]`: Without argument, continue execution until the line with a number greater than the\n",
    "current one is reached.\n",
    "\n",
    "With a line number, continue execution until a line with a number greater or equal to that is reached. In both cases, also stop when the current frame returns.\n",
    "\n",
    "\n",
    "\n",
    "</ol>\n",
    "\n",
    "\n"
   ]
  },
  {
   "cell_type": "raw",
   "metadata": {
    "collapsed": true
   },
   "source": [
    "import pdb\n",
    "\n",
    "def f(n):\n",
    "    for i in range(n):\n",
    "        j = i * n\n",
    "        print(i, j)\n",
    "    return\n",
    "\n",
    "if __name__ == '__main__':\n",
    "    pdb.set_trace()\n",
    "    f(5)"
   ]
  },
  {
   "cell_type": "markdown",
   "metadata": {},
   "source": [
    "Use <b>step</b> to execute the current line and then stop at the next execution point – either the first statement inside a function being called or the next line of the current function\n"
   ]
  },
  {
   "cell_type": "code",
   "execution_count": null,
   "metadata": {
    "collapsed": true
   },
   "outputs": [],
   "source": [
    "$ python pdb_step.py\n",
    "> /Users/dhellmann/Documents/PyMOTW/src.pdb/PyMOTW/pdb/pdb_step.py(17)<module>()\n",
    "-> f(5)"
   ]
  },
  {
   "cell_type": "markdown",
   "metadata": {},
   "source": [
    "The interpreter pauses at the call to `set_trace()` and gives control to the debugger. \n",
    "\n",
    "The first step causes the execution to enter `f()`."
   ]
  },
  {
   "cell_type": "code",
   "execution_count": null,
   "metadata": {
    "collapsed": true
   },
   "outputs": [],
   "source": [
    "(Pdb) step\n",
    "--Call--\n",
    "> .../pdb_step.py(9)f()\n",
    "-> def f(n):"
   ]
  },
  {
   "cell_type": "markdown",
   "metadata": {},
   "source": [
    "One more step moves execution to the first line of f() and starts the loop."
   ]
  },
  {
   "cell_type": "code",
   "execution_count": null,
   "metadata": {
    "collapsed": true
   },
   "outputs": [],
   "source": [
    "(Pdb) step\n",
    "> /Users/dhellmann/Documents/PyMOTW/src.pdb/PyMOTW/pdb/pdb_step.py(10)f()\n",
    "-> for i in range(n):"
   ]
  },
  {
   "cell_type": "markdown",
   "metadata": {
    "collapsed": true
   },
   "source": [
    " (The difference between next and step is that step stops inside a called function, while next executes called functions at (nearly) full speed, only stopping at the next line in the current function.)"
   ]
  },
  {
   "cell_type": "markdown",
   "metadata": {},
   "source": [
    "## 3 Breakpoints\n",
    "\n",
    "As programs grow even longer, even using `next` and `until` will become slow and cumbersome. \n",
    "\n",
    "Instead of stepping through the program by hand, a better solution is to let it run normally until it reaches a point where you want the debugger to interrupt it. \n",
    "\n",
    "You could use `set_trace()` to start the debugger, but that <b>only works if there is only one point you want to pause the program</b>. \n",
    "\n",
    "It is more convenient to run the program through the debugger, but tell the debugger where to stop in advance using <b>breakpoints</b>. \n",
    "\n",
    "The debugger monitors your program, and when it reaches the location described by a breakpoint the program is paused before the line is executed.\n",
    "\n",
    "```\n",
    "b(reak) [([filename:]lineno | function) [, condition]]\n",
    "```\n",
    "With a lineno argument, set a break there in the current file. With a function argument, set a break at the first executable statement within that function. The line number may be prefixed with a filename and a colon, to specify a breakpoint in another file (probably one that hasn’t been loaded yet). The file is searched on sys.path. Note that each breakpoint is assigned a number to which all the other breakpoint commands refer.\n",
    "\n",
    "If a second argument is present, it is an expression which must evaluate to true before the breakpoint is honored.\n",
    "\n",
    "Without argument, list all breaks, including for each breakpoint, the number of times that breakpoint has been hit, the current ignore count, and the associated condition if any.\n",
    "\n",
    "\n",
    "<ol>\n",
    "<li><b> c(ont(inue))</b> :Continue execution, only stop when a breakpoint is encountered.\n",
    "<li><b> r(eturn)</b> :Continue execution until the current function returns.\n",
    "</ol> \n"
   ]
  },
  {
   "cell_type": "code",
   "execution_count": 4,
   "metadata": {
    "collapsed": false
   },
   "outputs": [
    {
     "name": "stdout",
     "output_type": "stream",
     "text": [
      "i = 0\n",
      "j = 0\n",
      "i = 1\n",
      "j = 5\n",
      "Positive!\n",
      "i = 2\n",
      "j = 10\n",
      "Positive!\n",
      "i = 3\n",
      "j = 15\n",
      "Positive!\n",
      "i = 4\n",
      "j = 20\n",
      "Positive!\n"
     ]
    }
   ],
   "source": [
    "def calc(i, n):\n",
    "    j = i * n\n",
    "    print('j =', j)\n",
    "    if j > 0:\n",
    "        print('Positive!')\n",
    "    return j\n",
    "\n",
    "def f(n):\n",
    "    for i in range(n):\n",
    "        print('i =', i)\n",
    "        j = calc(i, n)\n",
    "    return\n",
    "\n",
    "if __name__ == '__main__':\n",
    "    f(5)"
   ]
  },
  {
   "cell_type": "markdown",
   "metadata": {},
   "source": [
    "There are several options to the break command used for setting break points. You can specify the line number, file, and function where processing should pause. To set a breakpoint on a specific line of the current file, use break lineno:"
   ]
  },
  {
   "cell_type": "code",
   "execution_count": null,
   "metadata": {
    "collapsed": true
   },
   "outputs": [],
   "source": [
    "$ python -m pdb pdb_break.py\n",
    "> .../pdb_break.py(7)<module>()\n",
    "-> def calc(i, n):\n",
    "(Pdb) break 11\n",
    "Breakpoint 1 at .../pdb_break.py:11\n",
    "\n",
    "(Pdb) continue\n",
    "i = 0\n",
    "j = 0\n",
    "i = 1\n",
    "j = 5\n",
    "> .../pdb_break.py(11)calc()\n",
    "-> print 'Positive!'\n",
    "\n",
    "(Pdb)"
   ]
  },
  {
   "cell_type": "markdown",
   "metadata": {},
   "source": [
    "The command <b>continue</b> tells the debugger to keep running your program until the next breakpoint. \n",
    "\n",
    "In this case, it runs through the first iteration of the `for loop in f()` and stops inside `calc()` during the second iteration.\n",
    "\n",
    "Breakpoints can also be set to the first line of a function by specifying the function name instead of a line number. This example shows what happens if a breakpoint is added for the `calc()` function.\n"
   ]
  },
  {
   "cell_type": "code",
   "execution_count": null,
   "metadata": {
    "collapsed": true
   },
   "outputs": [],
   "source": [
    "$ python -m pdb pdb_break.py\n",
    "> .../pdb_break.py(7)<module>()\n",
    "-> def calc(i, n):\n",
    "(Pdb) break calc\n",
    "Breakpoint 1 at .../pdb_break.py:7\n",
    "\n",
    "(Pdb) continue\n",
    "i = 0\n",
    "> .../pdb_break.py(8)calc()\n",
    "-> j = i * n\n",
    "\n",
    "(Pdb) where\n",
    "  .../pdb_break.py(21)<module>()\n",
    "-> f(5)\n",
    "  .../pdb_break.py(17)f()\n",
    "-> j = calc(i, n)\n",
    "> .../pdb_break.py(8)calc()\n",
    "-> j = i * n\n",
    "\n",
    "(Pdb)"
   ]
  },
  {
   "cell_type": "markdown",
   "metadata": {
    "raw_mimetype": "text/markdown"
   },
   "source": [
    "## 6 Saving Configuration Settings\n",
    "\n",
    "Debugging a program involves <b>a lot of repetition</b>; running the code, observing the output, adjusting the code or inputs, and running it again. \n",
    "\n",
    "<b>pdb</b> attempts to cut down on the amount of repetition you need to use to control the debugging experience, to let you concentrate on your code instead of the debugger. \n",
    "\n",
    "To help reduce the number of times you issue the same commands to the debugger, pdb lets you save configuration using text files read and interpreted on startup.\n",
    "\n",
    "The file ~/.pdbrc is read first, allowing you to set global personal preferences for all of your debugging sessions. Then ./.pdbrc is read from the current working directory, so you can set local preferences for a particular project.\n"
   ]
  },
  {
   "cell_type": "code",
   "execution_count": null,
   "metadata": {
    "collapsed": true
   },
   "outputs": [],
   "source": [
    "$ cat ~/.pdbrc\n",
    "# Show python help\n",
    "alias ph !help(%1)\n",
    "# Overridden alias\n",
    "alias redefined p 'home definition'\n",
    "\n",
    "$ cat .pdbrc\n",
    "# Breakpoints\n",
    "break 10\n",
    "# Overridden alias\n",
    "alias redefined p 'local definition'\n",
    "\n",
    "$ python -m pdb pdb_function_arguments.py\n",
    "Breakpoint 1 at .../pdb_function_arguments.py:10\n",
    "> .../pdb_function_arguments.py(7)<module>()\n",
    "-> import pdb\n",
    "(Pdb) alias\n",
    "ph = !help(%1)\n",
    "redefined = p 'local definition'\n",
    "\n",
    "(Pdb) break\n",
    "Num Type         Disp Enb   Where\n",
    "1   breakpoint   keep yes   at .../pdb_function_arguments.py:10\n"
   ]
  },
  {
   "cell_type": "markdown",
   "metadata": {},
   "source": [
    "Any configuration commands that can be typed at the debugger prompt can be saved in one of the startup files,\n",
    "\n",
    "If a file .pdbrc exists in the user’s home directory or in the current directory, it is read in and executed as if it had been typed at the debugger prompt. This is particularly useful for aliases. If both files exist, the one in the home directory is read first and aliases defined there can be overridden by the local file.\n",
    "\n",
    "\n",
    "Changed in version 3.2: .pdbrc can now contain commands that continue debugging, such as continue or next\n"
   ]
  },
  {
   "cell_type": "code",
   "execution_count": null,
   "metadata": {
    "collapsed": true
   },
   "outputs": [],
   "source": []
  }
 ],
 "metadata": {
  "kernelspec": {
   "display_name": "Python 3",
   "language": "python",
   "name": "python3"
  },
  "language_info": {
   "codemirror_mode": {
    "name": "ipython",
    "version": 3
   },
   "file_extension": ".py",
   "mimetype": "text/x-python",
   "name": "python",
   "nbconvert_exporter": "python",
   "pygments_lexer": "ipython3",
   "version": "3.5.0"
  }
 },
 "nbformat": 4,
 "nbformat_minor": 0
}
