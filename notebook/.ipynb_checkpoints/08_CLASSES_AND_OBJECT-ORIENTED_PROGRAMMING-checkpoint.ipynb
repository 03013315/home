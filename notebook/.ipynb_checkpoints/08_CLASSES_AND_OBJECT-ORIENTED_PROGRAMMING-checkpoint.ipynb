{
 "cells": [
  {
   "cell_type": "markdown",
   "metadata": {},
   "source": [
    "# 8 CLASSES AND OBJECT-ORIENTED PROGRAMMING"
   ]
  },
  {
   "cell_type": "markdown",
   "metadata": {},
   "source": [
    "The key to objectoriented programming is thinking about objects as collections of both <b>data</b> and <b>the methods that operate on that data</b>."
   ]
  },
  {
   "cell_type": "markdown",
   "metadata": {},
   "source": [
    "## 8.1 Abstract Data Types and Classes"
   ]
  },
  {
   "cell_type": "markdown",
   "metadata": {},
   "source": [
    "An <b>abstract data type</b> is a set of <b>objects and the operations on those objects</b>.\n",
    "\n",
    "These are <b>bound together</b> so that one can pass an object from one part of a program to another, and in doing\n",
    "so provide access not only to the data attributes of the object but also to operations that make it easy to manipulate that data.\n",
    "\n",
    "The specifications of those operations define <b>an interface</b> between the abstract data type and the rest of the program. The interface defines the behavior of the operations—<b>what they do</b>, but not how they do it.\n",
    "\n",
    "Programming is about managing <b>complexity</b> in a way that <b>facilitates change</b>.\n",
    "\n",
    "There are two powerful mechanisms available for accomplishing this: <b>decomposition and abstraction</b>. \n",
    "\n",
    "Decomposition creates <b>structure in a program</b>\n",
    "\n",
    "Abstraction <b>suppresses detail</b>. \n",
    "\n",
    "The key is to suppress the <b>appropriate details </b>\n",
    "\n",
    "#### In Python, one implements data abstractions using classes.\n",
    "\n",
    "Class IntSet: provides a straightforward implementation of a set-ofintegers abstraction\n"
   ]
  },
  {
   "cell_type": "code",
   "execution_count": 3,
   "metadata": {
    "collapsed": false,
    "scrolled": true
   },
   "outputs": [],
   "source": [
    "#Page 93, Figure 8.1\n",
    "class IntSet(object):\n",
    "    \"\"\"An intSet is a set of integers\"\"\"\n",
    "    #Information about the implementation (not the abstraction)\n",
    "    #The value of the set is represented by a list of ints, self.vals.\n",
    "    #Each int in the set occurs in self.vals exactly once.\n",
    "    \n",
    "    def __init__(self):\n",
    "        \"\"\"Create an empty set of integers\"\"\"\n",
    "        self.vals = []\n",
    "\n",
    "    def insert(self, e):\n",
    "        \"\"\"Assumes e is an integer and inserts e into self\"\"\"\n",
    "        if not e in self.vals:\n",
    "            self.vals.append(e)\n",
    "\n",
    "    def member(self, e):\n",
    "        \"\"\"Assumes e is an integer\n",
    "           Returns True if e is in self, and False otherwise\"\"\"\n",
    "        return e in self.vals\n",
    "\n",
    "    def remove(self, e):\n",
    "        \"\"\"Assumes e is an integer and removes e from self\n",
    "           Raises ValueError if e is not in self\"\"\"\n",
    "        try:\n",
    "            self.vals.remove(e)\n",
    "        except:\n",
    "            raise ValueError(str(e) + ' not found')\n",
    "\n",
    "    def getMembers(self):\n",
    "        \"\"\"Returns a list containing the elements of self.\n",
    "           Nothing can be assumed about the order of the elements\"\"\"\n",
    "        return self.vals[:]\n",
    "\n",
    "    def __str__(self):\n",
    "        \"\"\"Returns a string representation of self\"\"\"\n",
    "        self.vals.sort()\n",
    "        result = ''\n",
    "        for e in self.vals:\n",
    "            result = result + str(e) + ','\n",
    "        return('{' + result[:-1] + '}') #-1 omits trailing comma"
   ]
  },
  {
   "cell_type": "markdown",
   "metadata": {},
   "source": [
    "A class definition creates an object of class <b>type</b> and associates with that object a set of objects of class <b>function</b>"
   ]
  },
  {
   "cell_type": "code",
   "execution_count": 2,
   "metadata": {
    "collapsed": false
   },
   "outputs": [
    {
     "name": "stdout",
     "output_type": "stream",
     "text": [
      "<class 'type'> <class 'function'>\n"
     ]
    }
   ],
   "source": [
    "print(type(IntSet), type(IntSet.insert))"
   ]
  },
  {
   "cell_type": "markdown",
   "metadata": {},
   "source": [
    "When a function definition occurs within a class definition, the defined function is called <b> a method</b> and is associated with the class.\n",
    "\n",
    "Classes support two kinds of operations:\n",
    "\n",
    "* <b>Instantiation</b> is used to create instances of the class.`s = IntSet()`\n",
    "\n",
    "* <b>Attribute references</b> use dot notation to access attributes associated with the class. `s.member`\n"
   ]
  },
  {
   "cell_type": "markdown",
   "metadata": {},
   "source": [
    "Python has a number of special method names that start and end with two underscores.\n",
    "\n",
    "The first of these we will look at is `__init__`. \n",
    "\n",
    "Whenever a class is instantiated, a call is made to the `__init__` method defined in that class.\n",
    "\n",
    "```python\n",
    " def __init__(self):\n",
    "        \"\"\"Create an empty set of integers\"\"\"\n",
    "        self.vals = []\n",
    "```\n",
    "<b>vals</b> list is called <b>a data attribute</b> of the instance of IntSet.\n",
    "\n",
    "methods associated with an instance of a class can be invoked using dot notation. For example"
   ]
  },
  {
   "cell_type": "code",
   "execution_count": 5,
   "metadata": {
    "collapsed": false
   },
   "outputs": [
    {
     "name": "stdout",
     "output_type": "stream",
     "text": [
      "True\n"
     ]
    }
   ],
   "source": [
    "s = IntSet()\n",
    "s.insert(3)\n",
    "print(s.member(3))"
   ]
  },
  {
   "cell_type": "markdown",
   "metadata": {},
   "source": [
    "A class should not be confused with instances of that class, just as an object of type list should not be confused with the list type."
   ]
  },
  {
   "cell_type": "markdown",
   "metadata": {},
   "source": [
    "Attributes can be associated either with <b>a class itself</b> or with <b>instances of a class</b>:\n",
    "    \n",
    "<b>Method attributes</b> are defined in a class definition, for example IntSet.member is <b>an attribute of the class </b>`IntSet`. When the class is instantiated, e.g., by `s = IntSet()`,  <b>instance attributes</b>, e.g., `s.member`,are created.\n",
    "\n",
    "<b>Data attributes</b> are associated with a class we call them <b>class variables</b>. When they are associated with an instance we call them <b>instance variables</b>.\n",
    "\n",
    "#### Representation invariant\n",
    "\n",
    "The <b style=\"color:blue\">representation invariant</b> defines which <b>values of the data attributes</b> correspond to <b>valid representations</b> of class <b>instances</b>.\n",
    "\n",
    "The representation invariant for IntSet is that vals contains <b>no duplicates</b>.\n",
    "\n",
    "The implementation of __init__ is responsible for<b> establishing the invariant</b> (which holds on the empty\n",
    "list), \n",
    "```python\n",
    " def __init__(self):\n",
    "        \"\"\"Create an empty set of integers\"\"\"\n",
    "        self.vals = []\n",
    "```\n",
    "The other methods are responsible for <b>maintaining that invariant</b>. That is why insert appends e only if it is not already in self.vals.\n",
    "```python\n",
    " def insert(self, e):\n",
    "        \"\"\"Assumes e is an integer and inserts e into self\"\"\"\n",
    "        if not e in self.vals:\n",
    "            self.vals.append(e)\n",
    "```\n",
    "The implementation of `remove` exploits the assumption that the representation invariant is satisfied when remove is entered. \n",
    "\n",
    "It calls `list.remove` <b>only once</b>, since the representation invariant guarantees that there is at <b>most one\n",
    "occurrence</b> of e in self.vals.\n",
    "```python\n",
    "def remove(self, e):\n",
    "        \"\"\"Assumes e is an integer and removes e from self\n",
    "           Raises ValueError if e is not in self\"\"\"\n",
    "        try:\n",
    "            self.vals.remove(e)\n",
    "        except:\n",
    "            raise ValueError(str(e) + ' not found')\n",
    "```\n",
    "\n",
    "##### Ref: \n",
    "\n",
    " Classes Should Enforce Invariants, http://www.artima.com/intv/goldilocks3.html\n",
    " "
   ]
  },
  {
   "cell_type": "markdown",
   "metadata": {},
   "source": [
    "The last method defined in the class, `__str__`, is another one of those special `__` methods. \n",
    "```python\n",
    " def __str__(self):\n",
    "        \"\"\"Returns a string representation of self\"\"\"\n",
    "        self.vals.sort()\n",
    "        result = ''\n",
    "        for e in self.vals:\n",
    "            result = result + str(e) + ','\n",
    "        return('{' + result[:-1] + '}') #-1 omits trailing comma\n",
    "```\n",
    "When the `print` command is used, the `__str__` function associated with the object to be printed is <b>automatically invoked</b>."
   ]
  },
  {
   "cell_type": "code",
   "execution_count": 4,
   "metadata": {
    "collapsed": false
   },
   "outputs": [
    {
     "name": "stdout",
     "output_type": "stream",
     "text": [
      "{3,4}\n"
     ]
    }
   ],
   "source": [
    "s = IntSet()\n",
    "s.insert(3)\n",
    "s.insert(4)\n",
    "print(s)"
   ]
  },
  {
   "cell_type": "markdown",
   "metadata": {},
   "source": [
    "The `__str__` method of a class is also invoked when a program converts an instance of that class to a string by calling `str`."
   ]
  },
  {
   "cell_type": "code",
   "execution_count": 5,
   "metadata": {
    "collapsed": false
   },
   "outputs": [
    {
     "data": {
      "text/plain": [
       "'{3,4}'"
      ]
     },
     "execution_count": 5,
     "metadata": {},
     "output_type": "execute_result"
    }
   ],
   "source": [
    "str(s)"
   ]
  },
  {
   "cell_type": "markdown",
   "metadata": {},
   "source": [
    "### 8.1.1 Designing Programs Using Abstract Data Types\n",
    "\n",
    "<b>Abstract data types are a big deal.</b>\n",
    "\n",
    "They lead to a different way of thinking about <b>organizing</b> large programs.\n",
    "\n",
    "<b>Data abstraction</b>\n",
    "\n",
    "1 encourages program designers to <b>focus on the centrality of data objects</b> rather than functions.\n",
    "\n",
    "2 encourages one to think about programming as <b>a process of combining relatively large chunks</b>, since\n",
    "data abstractions typically encompass <b>more functionality</b> than do individual\n",
    "functions.\n",
    "\n",
    "This, in turn, leads us to think of <b>the essence of programming</b> as a process not of writing individual lines of code, but of <b>composing abstractions</b>.\n",
    "\n",
    "\n",
    "The availability of <b>reusable abstractions</b> not only <b>reduces development time</b>, but also usually leads to <b>more reliable programs</b>,\n"
   ]
  },
  {
   "cell_type": "markdown",
   "metadata": {},
   "source": [
    "### 8.1.2 Using Classes to Keep Track of Students and Faculty\n",
    "\n",
    "As an example use of classes, imagine that you are designing a program to help keep track of all the students and faculty at a university.\n",
    "\n",
    "Before rushing in to design a bunch of data structures, let’s think about some abstractions that might prove useful. \n",
    "\n",
    "Is there an abstraction that covers the <b>common attributes</b> of students, professors, and staff?\n",
    "\n",
    "Some would argue that they are all <b>human</b>. Figure 8.2 contains a class that incorporates some of the\n",
    "<b>common attributes (name and birthdate) of humans</b>."
   ]
  },
  {
   "cell_type": "code",
   "execution_count": 6,
   "metadata": {
    "collapsed": true
   },
   "outputs": [],
   "source": [
    "#Page 97, Figure 8.2\n",
    "import datetime\n",
    "\n",
    "class Person(object):\n",
    "\n",
    "    def __init__(self, name):\n",
    "        \"\"\"Create a person\"\"\"\n",
    "        self.name = name\n",
    "        try:\n",
    "            lastBlank = name.rindex(' ')\n",
    "            self.lastName = name[lastBlank+1:]\n",
    "        except:\n",
    "            self.lastName = name\n",
    "        self.birthday = None\n",
    " \n",
    "    def getName(self):\n",
    "        \"\"\"Returns self's full name\"\"\"\n",
    "        return self.name\n",
    "\n",
    "    def getLastName(self):\n",
    "        \"\"\"Returns self's last name\"\"\"\n",
    "        return self.lastName\n",
    "\n",
    "    def setBirthday(self, birthdate):\n",
    "        \"\"\"Assumes birthdate is of type datetime.date\n",
    "           Sets self's birthday to birthdate\"\"\"\n",
    "        self.birthday = birthdate\n",
    "\n",
    "    def getAge(self):\n",
    "        \"\"\"Returns self's current age in days\"\"\"\n",
    "        if self.birthday == None:\n",
    "            raise ValueError\n",
    "        return (datetime.date.today() - self.birthday).days\n",
    "\n",
    "    def __lt__(self, other):\n",
    "        \"\"\"Returns True if self's name is lexicographically\n",
    "           less than other's name, and False otherwise\"\"\"\n",
    "        if self.lastName == other.lastName:\n",
    "            return self.name < other.name\n",
    "        return self.lastName < other.lastName\n",
    "\n",
    "    def __str__(self):\n",
    "        \"\"\"Returns self's name\"\"\"\n",
    "        return self.name\n"
   ]
  },
  {
   "cell_type": "markdown",
   "metadata": {},
   "source": [
    "The following code makes use of Person."
   ]
  },
  {
   "cell_type": "code",
   "execution_count": 8,
   "metadata": {
    "collapsed": false
   },
   "outputs": [
    {
     "name": "stdout",
     "output_type": "stream",
     "text": [
      "Obama\n",
      "Barack Hussein Obama is 19822 days old\n"
     ]
    }
   ],
   "source": [
    "#Page 97\n",
    "me = Person('Michael Guttag')\n",
    "him = Person('Barack Hussein Obama')\n",
    "her = Person('Madonna')\n",
    "print(him.getLastName())\n",
    "him.setBirthday(datetime.date(1961, 8, 4))\n",
    "her.setBirthday(datetime.date(1958, 8, 16))\n",
    "print(him.getName(), 'is', him.getAge(), 'days old')   "
   ]
  },
  {
   "cell_type": "markdown",
   "metadata": {
    "collapsed": true
   },
   "source": [
    "1) Notice that whenever `Person` is instantiated an argument is supplied to the `__init__` function\n",
    "\n",
    "2) One can then access information about these instances using the methods associated with them: For example, `him.getLastName()` will return 'Obama'.\n",
    "\n",
    "3) Class `Person` defines yet another <b>specially named method, `__lt__`</b>. \n",
    "```python\n",
    "def __lt__(self, other):\n",
    "        \"\"\"Returns True if self's name is lexicographically\n",
    "           less than other's name, and False otherwise\"\"\"\n",
    "        if self.lastName == other.lastName:\n",
    "            return self.name < other.name\n",
    "        return self.lastName < other.lastName\n",
    "```\n",
    "This method:\n",
    "\n",
    "1 <b>overloads</b> the `<` operator. the syntactic convenience of writing infix expressions `<`\n",
    "\n",
    "2 this overloading provides automatic access to any polymorphic method defined using `__lt__`. The built-in method `sort` is one such method.\n",
    "\n",
    "So, for example, if `pList` is a list composed of elements of type `Person`"
   ]
  },
  {
   "cell_type": "code",
   "execution_count": 13,
   "metadata": {
    "collapsed": false
   },
   "outputs": [
    {
     "name": "stdout",
     "output_type": "stream",
     "text": [
      "Michael Guttag\n",
      "Barack Hussein Obama\n",
      "Madonna\n",
      "\n",
      "After sort\n",
      "\n",
      "Michael Guttag\n",
      "Madonna\n",
      "Barack Hussein Obama\n"
     ]
    }
   ],
   "source": [
    "pList = [me, him, her]\n",
    "for p in pList:\n",
    "    print(p)\n",
    "print('\\nAfter sort\\n')    \n",
    "pList.sort()\n",
    "for p in pList:\n",
    "    print(p)"
   ]
  },
  {
   "cell_type": "markdown",
   "metadata": {},
   "source": [
    "## 8.2 Inheritance\n",
    "\n",
    "Iheritance provides a convenient mechanism for building groups of related abstractions. It allows programmers to create a type hierarchy in which each type inherits attributes from the types above it in the hierarchy."
   ]
  },
  {
   "cell_type": "code",
   "execution_count": null,
   "metadata": {
    "collapsed": true
   },
   "outputs": [],
   "source": []
  },
  {
   "cell_type": "markdown",
   "metadata": {},
   "source": [
    "### 8.2.1 Multiple Levels of Inheritance\n",
    "\n",
    "Two kinds of students:"
   ]
  },
  {
   "cell_type": "code",
   "execution_count": null,
   "metadata": {
    "collapsed": true
   },
   "outputs": [],
   "source": []
  },
  {
   "cell_type": "markdown",
   "metadata": {},
   "source": [
    "### 8.2.2 The Substitution Principle\n"
   ]
  },
  {
   "cell_type": "code",
   "execution_count": null,
   "metadata": {
    "collapsed": true
   },
   "outputs": [],
   "source": []
  },
  {
   "cell_type": "markdown",
   "metadata": {},
   "source": [
    "## 8.3 Encapsulation and Information Hiding"
   ]
  },
  {
   "cell_type": "code",
   "execution_count": null,
   "metadata": {
    "collapsed": true
   },
   "outputs": [],
   "source": []
  },
  {
   "cell_type": "code",
   "execution_count": null,
   "metadata": {
    "collapsed": true
   },
   "outputs": [],
   "source": []
  },
  {
   "cell_type": "markdown",
   "metadata": {},
   "source": [
    "### 8.3.1 Generators"
   ]
  },
  {
   "cell_type": "code",
   "execution_count": null,
   "metadata": {
    "collapsed": true
   },
   "outputs": [],
   "source": []
  },
  {
   "cell_type": "code",
   "execution_count": null,
   "metadata": {
    "collapsed": true
   },
   "outputs": [],
   "source": []
  },
  {
   "cell_type": "markdown",
   "metadata": {},
   "source": [
    "## 8.4 Mortgages, an Extended Example"
   ]
  },
  {
   "cell_type": "code",
   "execution_count": null,
   "metadata": {
    "collapsed": true
   },
   "outputs": [],
   "source": []
  }
 ],
 "metadata": {
  "kernelspec": {
   "display_name": "Python 3",
   "language": "python",
   "name": "python3"
  },
  "language_info": {
   "codemirror_mode": {
    "name": "ipython",
    "version": 3
   },
   "file_extension": ".py",
   "mimetype": "text/x-python",
   "name": "python",
   "nbconvert_exporter": "python",
   "pygments_lexer": "ipython3",
   "version": "3.4.3"
  }
 },
 "nbformat": 4,
 "nbformat_minor": 0
}
