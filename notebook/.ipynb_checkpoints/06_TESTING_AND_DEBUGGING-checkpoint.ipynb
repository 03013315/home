{
 "cells": [
  {
   "cell_type": "markdown",
   "metadata": {
    "collapsed": true
   },
   "source": [
    "# 6 TESTING AND DEBUGGING\n",
    "\n",
    "<strong style=\"color:blue\">Testing</strong> is the process of running a program to try and ascertain whether or not  it <strong style=\"color:blue\">works as intended</strong>.\n",
    "\n",
    "<strong style=\"color:blue\">Debugging</strong> is the process of trying to <strong style=\"color:blue\">fix a program </strong>that you already know does not work as intended.\n",
    "\n",
    "Good programmers design their programs in ways that make them <strong style=\"color:blue\"><b style=\"color:red\">easy</b> to test and debug</strong>. \n",
    "\n",
    "The key to doing this is breaking the program up into <strong style=\"color:blue\">separate components </strong>that can be <strong style=\"color:blue\">implemented(1), tested(2), and(3)\n",
    "debugged independently of other components</strong>.\n"
   ]
  },
  {
   "cell_type": "markdown",
   "metadata": {},
   "source": [
    "## 6.1 Testing\n",
    "\n",
    "The most important thing to say about testing is that its purpose is to  <b>show that bugs exist , not to show that a program is bug-free</b>. \n",
    "\n",
    "Edsger Dijkstra,\n",
    "\n",
    " “Program testing can be used to show the presence of bugs, but never to show\n",
    "their absence!”\n",
    "\n",
    "Albert Einstein, \n",
    "\n",
    "“No amount of experimentation can ever prove me right; a single experiment can prove me wrong.”\n",
    "\n",
    "Why is this so?\n",
    "```python\n",
    "def isBigger(x, y):\n",
    "    \"\"\"Assumes x and y are ints\n",
    "    Returns True if x is less than y and False otherwise.\"\"\"\n",
    "```\n",
    "\n",
    "<hr style=\"height:2px;color:blue\"/>\n",
    "\n",
    "The key to testing is  <b style=\"color:blue\">finding</b> a collection of inputs, called  <b style=\"color:blue\">a test suite</b>, that has a high likelihood of  <b style=\"color:blue\">revealing bugs, yet does not take too long to run</b>.\n",
    "\n",
    "A partition of a set divides that set into a collection of subsets such that each element of the original set belongs to exactly one of the subsets.\n",
    "\n",
    "If one tested the implementation on at least one value from each of these subsets, there would be reasonable probability (but no guarantee) of exposing a\n",
    "bug if one exists.\n",
    "\n",
    "<hr style=\"height:2px;color:blue\"/>\n",
    "For most programs, finding a good partitioning of the inputs is far easier said than done. \n",
    "\n",
    "Typically, people rely on heuristics based on exploring different paths through some combination of the code and the specifications. \n",
    "\n",
    "glass-box  testing: exploring paths through the code\n",
    "\n",
    "black-box testing:  exploring paths through the specification "
   ]
  },
  {
   "cell_type": "markdown",
   "metadata": {},
   "source": [
    "### 6.1.1 Black-Box Testing\n",
    "\n",
    "In principle,black-box tests are constructed without looking at the code to be tested.\n",
    "\n",
    "Black-box testing allows <b>testers and implementers</b> to be drawn from <b>separate populations</b>.\n",
    "\n",
    "\n",
    "This independence reduces the likelihood of generating test suites that exhibit mistakes that are correlated with mistakes in the code. \n",
    "\n",
    "Another positive feature of black-box testing is that it is robust with respect to implementation changes.\n"
   ]
  },
  {
   "cell_type": "markdown",
   "metadata": {
    "collapsed": true
   },
   "source": [
    "a good way to generate black-box test data is to explore paths through a specification. Consider, the specification\n",
    "\n",
    "```python\n",
    "def sqrt(x, epsilon):\n",
    "    \"\"\"Assumes x, epsilon floats\n",
    "    x >= 0\n",
    "    epsilon > 0\n",
    "    Returns result such that\n",
    "    x-epsilon <= result*result <= x+epsilon\"\"\"   \n",
    "```\n",
    "\n",
    "it is hardly  sufficient.\n",
    "\n",
    "<b>Boundary conditions</b> should also be tested.\n",
    "\n",
    "1) When dealing with numbers, it typically means looking at <b>very small and very large values</b> as well as  <b>“typical” values</b>.\n",
    "\n",
    "\n",
    "\n",
    "2) Another important boundary condition to think about is <b>aliasing</b>. Consider, for example, the code\n",
    "\n",
    "```python\n",
    "def copy(L1, L2):\n",
    "    \"\"\"Assumes L1, L2 are lists\n",
    "    Mutates L2 to be a copy of L1\"\"\"\n",
    "    while len(L2) > 0: #remove all elements from L2\n",
    "        L2.pop() #remove last element of L2\n",
    "    for e in L1: #append L1's elements to initially empty L2\n",
    "        L2.append(e)\n",
    "```        \n",
    "        \n",
    "It will work most of the time, but not when L1 and L2 refer to the same list. Any test suite that did not include a call of the form copy(L, L), would not reveal the bug."
   ]
  },
  {
   "cell_type": "markdown",
   "metadata": {
    "collapsed": true
   },
   "source": [
    "### 6.1.2  Glass-Box Testing\n",
    "\n",
    "Without looking at the internal structure of the code, it is impossible to know which test\n",
    "cases are likely to provide new information.\n",
    "\n",
    "```python\n",
    "def isPrime(x):\n",
    "    \"\"\"Assumes x is a nonnegative int\n",
    "    Returns True if x is prime; False otherwise\"\"\"\n",
    "    if x <= 2:\n",
    "        return False\n",
    "    for i in range(2, x):\n",
    "        if x%i == 0:\n",
    "           return False\n",
    "    return True\n",
    "```\n",
    "Without looking at the code, one might not test isPrime(2), and would therefore not\n",
    "discover that the function call isPrime(2) returns False, erroneously indicating that 2 is not a prime\n",
    "\n",
    "<b>Glass-box test suites</b> are usually much <b>easier to construct</b> than black-box test suites.\n",
    "\n",
    "A glass-box test suite is path-complete if it exercises every potential path through the program. This is typically impossible to achieve.\n",
    "\n",
    "Furthermore, even a path-complete test suite does not guarantee that all bugs will be exposed.\n",
    "\n",
    "```python\n",
    "def abs(x):\n",
    "    \"\"\"Assumes x is an int\n",
    "    Returns x if x>=0 and –x otherwise\"\"\"\n",
    "    if x < -1:\n",
    "        return -x\n",
    "    else:\n",
    "        return x\n",
    "```\n",
    "\n",
    "This suggests that the set of inputs {2, -2} is sufficient to explore all paths in the specification. \n",
    "\n",
    "The only problem is that this test suite will not expose the fact that abs(-1)will return -1.\n",
    "\n"
   ]
  },
  {
   "cell_type": "markdown",
   "metadata": {
    "collapsed": true
   },
   "source": [
    "There are a few rules of thumb that are usually worth following:\n",
    "    \n",
    "* if \n",
    "* except\n",
    "* for loop\n",
    "* while\n",
    "* recursive function"
   ]
  },
  {
   "cell_type": "markdown",
   "metadata": {
    "collapsed": true
   },
   "source": [
    "### 6.1.3 Conducting Tests\n",
    "\n",
    "Testing is often thought of as occurring in two phases: <b>unit testing, integration testing</b>\n",
    "\n",
    "One should always start with <b>unit testing</b>. \n",
    "\n",
    "During this phase testers construct and run tests designedto ascertain whether individual units of code (e.g., functions) work properly.\n",
    "\n",
    "\n",
    "This is followed by  <b>integration testing</b>,which is designed to ascertain whetherthe program as a whole behaves as intended.\n",
    "\n",
    "Many industrial software development organizations have a software quality assurance (SQA) group that is separate from the group charged with implementing the software.\n",
    "\n",
    "During unit testing, we often need to build <b>stubs</b> as well as <b>drivers</b>. \n",
    "\n",
    "<b>Drivers</b> simulate parts of the program that use the unit being tested \n",
    "\n",
    "<b>Stubs</b> simulate parts of the program used by the unit being tested.\n",
    "\n",
    "One attraction of automating the testing process is that it facilitates <b>regression testing</b>.\n",
    "\n",
    "Whenever any change is made, no matter how small, you should check that the program still passes all of the tests that it used to pass.\n",
    "\n"
   ]
  },
  {
   "cell_type": "markdown",
   "metadata": {},
   "source": [
    "<hr style=\"height:2px;color:blue\"/>\n",
    "## 6.2 Debugging\n",
    "\n",
    "There is a charming urban legend about how the process of fixing flaws in software came to be known as debugging.\n",
    "\n",
    "Runtime bugs can be categorized along two dimensions:\n",
    "\n",
    "(1) <b>Overt → covert</b>:\n",
    "\n",
    "   An overt bug has an obvious manifestation\n",
    "   \n",
    "   A covert bug has no obvious manifestation.\n",
    "   \n",
    "   Many bugs fall between the two extremes\n",
    "   \n",
    "   \n",
    "(2) <b>Persistent → intermittent</b>:\n",
    "\n",
    "   A persistent bug occurs every time the  program is run with the same inputs.\n",
    "   \n",
    "   An intermittent bug occurs only some of the time, even when the program is run on the same inputs and seemingly under the same conditions.\n",
    "\n",
    "A) The best kinds of bugs to have are overt and persistent.\n",
    " \n",
    "Good programmers try to write their programs in such a way that programming  mistakes lead to bugs that are both overt and persistent. This is often called <b>defensive programming</b>.\n",
    "\n",
    "B) The next step into the pit of undesirability is bugs that are overt but intermittent.\n",
    "   \n",
    "   \n",
    "C) Programs that fail in covert ways are often highly dangerous.\n",
    "\n",
    "Bugs that are both covert and intermittent are almost always the hardest to find and fix."
   ]
  },
  {
   "cell_type": "markdown",
   "metadata": {},
   "source": [
    "### 6.2.1 Learning to Debug\n",
    "\n",
    "Debugging is a learned skill.\n",
    "\n",
    "The good news is  that it’s not hard to learn, and it is a transferable skill.\n",
    "\n",
    "Most programmers say that the most important debugging tool is the <b>print</b> statement.\n",
    "\n",
    "Debugging is the process of searching for an explanation of that behavior. \n",
    "The key to being consistently good at debugging is being <b>systematic</b> in conducting that search.\n",
    "\n",
    "1. Start by <b>studying the available data</b>: the test results and the program text\n",
    "\n",
    "2. <b>form a hypothesis </b> that you believe to be consistent with all the data\n",
    "\n",
    "3. design and run <b>a repeatable experiment</b> with the potential to refute the hypothesis\n",
    "\n",
    "4. Finally, it’s important to keep <b>a record of what experiments </b>\n",
    "\n",
    "“insanity is doing the same thing, over and over again, but expecting different results.”\n"
   ]
  },
  {
   "cell_type": "markdown",
   "metadata": {
    "collapsed": true
   },
   "source": [
    "### 6.2.2 Designing the Experiment\n",
    "\n",
    "Think of debugging as a search process, and each experiment as an attempt to reduce the size of the search space. \n",
    "\n",
    "One way to reduce the size of the search space is to design an experiment that can be used to decide whether a specific\n",
    "region of code is responsible for a problem uncovered during integration testing.\n",
    "\n",
    "Another way to reduce the search space is to reduce the amount of test data needed to provoke a manifestation of a bug.\n",
    "Let’s look at a contrived example to see how one"
   ]
  },
  {
   "cell_type": "code",
   "execution_count": 1,
   "metadata": {
    "collapsed": true
   },
   "outputs": [],
   "source": [
    "#Page 79, Figure 6.1\n",
    "def isPal(x):\n",
    "    \"\"\"Assumes x is a list\n",
    "       Returns True if the list is a palindrome; False otherwise\"\"\"\n",
    "    temp = x\n",
    "    temp.reverse\n",
    "    if temp == x:\n",
    "        return True\n",
    "    else:\n",
    "        return False\n",
    "\n",
    "def silly(n):\n",
    "    \"\"\"Assumes n is an int > 0\n",
    "       Gets n inputs from user\n",
    "       Prints 'Yes' if the sequence of inputs forms a palindrome;\n",
    "       'No' otherwise\"\"\"\n",
    "    for i in range(n):\n",
    "        result = []   #result is never more than one element long,\n",
    "        elem = input('Enter element: ')\n",
    "        result.append(elem)\n",
    "    if isPal(result):\n",
    "        print('Yes')\n",
    "    else:\n",
    "        print('No')"
   ]
  },
  {
   "cell_type": "code",
   "execution_count": 4,
   "metadata": {
    "collapsed": false
   },
   "outputs": [
    {
     "name": "stdout",
     "output_type": "stream",
     "text": [
      "Enter element: a\n",
      "Enter element: b\n",
      "Yes\n"
     ]
    }
   ],
   "source": [
    "silly(2)"
   ]
  },
  {
   "cell_type": "markdown",
   "metadata": {},
   "source": [
    "We check this by inserting the statement <b  style=\"color:blue\">print result</b> before the if statement in silly. "
   ]
  },
  {
   "cell_type": "code",
   "execution_count": 5,
   "metadata": {
    "collapsed": true
   },
   "outputs": [],
   "source": [
    "def silly(n):\n",
    "    \"\"\"Assumes n is an int > 0\n",
    "       Gets n inputs from user\n",
    "       Prints 'Yes' if the sequence of inputs forms a palindrome;\n",
    "       'No' otherwise\"\"\"\n",
    "    for i in range(n):\n",
    "        result = [] \n",
    "        elem = input('Enter element: ')\n",
    "        result.append(elem)\n",
    "    \n",
    "    print(result) #  inserting the statement print result \n",
    "    \n",
    "    if isPal(result):\n",
    "        print('Yes')\n",
    "    else:\n",
    "        print('No')"
   ]
  },
  {
   "cell_type": "markdown",
   "metadata": {},
   "source": [
    "When the experiment is run"
   ]
  },
  {
   "cell_type": "code",
   "execution_count": 6,
   "metadata": {
    "collapsed": false,
    "scrolled": true
   },
   "outputs": [
    {
     "name": "stdout",
     "output_type": "stream",
     "text": [
      "Enter element: a\n",
      "Enter element: b\n",
      "['b']\n",
      "Yes\n"
     ]
    }
   ],
   "source": [
    "silly(2)"
   ]
  },
  {
   "cell_type": "markdown",
   "metadata": {},
   "source": [
    "The program prints ['b'] suggest  that something has already gone wrong. \n",
    "<p> The next step is to<b style=\"color:blue\"> print result roughly halfway through the loop</b>."
   ]
  },
  {
   "cell_type": "code",
   "execution_count": 2,
   "metadata": {
    "collapsed": true
   },
   "outputs": [],
   "source": [
    "def silly(n):\n",
    "    \"\"\"Assumes n is an int > 0\n",
    "       Gets n inputs from user\n",
    "       Prints 'Yes' if the sequence of inputs forms a palindrome;\n",
    "       'No' otherwise\"\"\"\n",
    "    for i in range(n):\n",
    "        result = [] \n",
    "        elem = input('Enter element: ')\n",
    "        result.append(elem)\n",
    "        print('loop region: ',result) #  print result roughly halfway through the loop.\n",
    "    \n",
    "    print(result) #  inserting the statement print result \n",
    "    \n",
    "    if isPal(result):\n",
    "        print('Yes')\n",
    "    else:\n",
    "        print('No')"
   ]
  },
  {
   "cell_type": "code",
   "execution_count": 3,
   "metadata": {
    "collapsed": false
   },
   "outputs": [
    {
     "name": "stdout",
     "output_type": "stream",
     "text": [
      "Enter element: a\n",
      "loop region:  ['a']\n",
      "Enter element: b\n",
      "loop region:  ['b']\n",
      "['b']\n",
      "Yes\n"
     ]
    }
   ],
   "source": [
    "silly(2)"
   ]
  },
  {
   "cell_type": "markdown",
   "metadata": {},
   "source": [
    "This quickly reveals that result is <b style=\"color:blue\">never more than one element long</b>, suggesting that the <b style=\"color:blue\">initialization of result needs to be moved outside the for loop</b>. \n",
    "\n",
    "The corrected code for silly is"
   ]
  },
  {
   "cell_type": "code",
   "execution_count": 18,
   "metadata": {
    "collapsed": false
   },
   "outputs": [],
   "source": [
    "def silly(n):\n",
    "    \"\"\"Assumes n is an int > 0\n",
    "       Gets n inputs from user\n",
    "       Prints 'Yes' if the sequence of inputs forms a palindrome;\n",
    "       'No' otherwise\"\"\"\n",
    "    result = [] # initialization of result needs to be moved outside the for loop\n",
    "    for i in range(n):\n",
    "        elem = input('Enter element: ')\n",
    "        result.append(elem)\n",
    "        print('loop region: ',result) #  print result roughly halfway through the loop\n",
    "    \n",
    "    print(result) #  inserting the statement print result\n",
    "    if isPal(result):\n",
    "        print('Yes')\n",
    "    else:\n",
    "        print('No')"
   ]
  },
  {
   "cell_type": "code",
   "execution_count": 19,
   "metadata": {
    "collapsed": false
   },
   "outputs": [
    {
     "name": "stdout",
     "output_type": "stream",
     "text": [
      "Enter element: a\n",
      "loop region:  ['a']\n",
      "Enter element: b\n",
      "loop region:  ['a', 'b']\n",
      "['a', 'b']\n",
      "Yes\n"
     ]
    }
   ],
   "source": [
    "silly(2)"
   ]
  },
  {
   "cell_type": "markdown",
   "metadata": {},
   "source": [
    "Let’s try that, and see if result has the correct value after the for loop. It does,but unfortunately the program still prints Yes.\n",
    "\n",
    "we have reason to believe that <b>a second bug lies below the print statement<b>. So, let’s look at isPal.\n",
    "\n",
    "we insert the line print temp, x before that line: if temp == x:"
   ]
  },
  {
   "cell_type": "code",
   "execution_count": 26,
   "metadata": {
    "collapsed": true
   },
   "outputs": [],
   "source": [
    "def isPal(x):\n",
    "    \"\"\"Assumes x is a list\n",
    "       Returns True if the list is a palindrome; False otherwise\"\"\"\n",
    "    temp = x\n",
    "    temp.reverse \n",
    "    print('\\n isPal',temp # insert the line print temp, x before that line: if temp == x:\n",
    "    if temp == x:\n",
    "        return True\n",
    "    else:\n",
    "        return False\n",
    "    \n",
    "def silly(n):\n",
    "    \"\"\"Assumes n is an int > 0\n",
    "       Gets n inputs from user\n",
    "       Prints 'Yes' if the sequence of inputs forms a palindrome;\n",
    "       'No' otherwise\"\"\"\n",
    "    result = [] # initialization of result needs to be moved outside the for loop\n",
    "    for i in range(n):\n",
    "        elem = input('Enter element: ')\n",
    "        result.append(elem)\n",
    "        print('loop region: ',result) #  print result roughly halfway through the loop\n",
    "    \n",
    "    print(result) #  inserting the statement print result\n",
    "    if isPal(result):\n",
    "        print('Yes')\n",
    "    else:\n",
    "        print('No')"
   ]
  },
  {
   "cell_type": "code",
   "execution_count": 27,
   "metadata": {
    "collapsed": false
   },
   "outputs": [
    {
     "name": "stdout",
     "output_type": "stream",
     "text": [
      "Enter element: a\n",
      "loop region:  ['a']\n",
      "Enter element: b\n",
      "loop region:  ['a', 'b']\n",
      "['a', 'b']\n",
      "\n",
      " isPal ['a', 'b']\n",
      "Yes\n"
     ]
    }
   ],
   "source": [
    "silly(2)"
   ]
  },
  {
   "cell_type": "markdown",
   "metadata": {},
   "source": [
    "we run the code, we see that temp has the expected value, but x does not.\n",
    "\n",
    "Moving up the code, we insert a print statement after the line temp = x, "
   ]
  },
  {
   "cell_type": "code",
   "execution_count": 1,
   "metadata": {
    "collapsed": true
   },
   "outputs": [],
   "source": [
    "def isPal(x):\n",
    "    \"\"\"Assumes x is a list\n",
    "       Returns True if the list is a palindrome; False otherwise\"\"\"\n",
    "    temp = x\n",
    "    print('\\n  after the line temp = x  ',temp) # insert a print statement after the line temp = x,\n",
    "    temp.reverse\n",
    "    print('\\n isPal',temp)\n",
    "    if temp == x:\n",
    "         \n",
    "        return True\n",
    "    else:\n",
    "        return False"
   ]
  },
  {
   "cell_type": "code",
   "execution_count": 30,
   "metadata": {
    "collapsed": false
   },
   "outputs": [
    {
     "name": "stdout",
     "output_type": "stream",
     "text": [
      "Enter element: a\n",
      "loop region:  ['a']\n",
      "Enter element: b\n",
      "loop region:  ['a', 'b']\n",
      "['a', 'b']\n",
      "\n",
      " isPal ['a', 'b']\n",
      "\n",
      "  after the line temp = x   ['a', 'b']\n",
      "Yes\n"
     ]
    }
   ],
   "source": [
    "silly(2)"
   ]
  },
  {
   "cell_type": "markdown",
   "metadata": {},
   "source": [
    "discover that both temp and x have the  value ['a', 'b'].\n",
    "\n",
    "A quick inspection of the code reveals that in isPal \n",
    "\n",
    "we wrote  <b style=\"color:blue\">temp.reverse</b> rather than <b style=\"color:blue\">temp.reverse()</b>—the evaluation of temp.reverse returns the built-in reverse method for lists, but does not invoke it."
   ]
  },
  {
   "cell_type": "code",
   "execution_count": 32,
   "metadata": {
    "collapsed": true
   },
   "outputs": [],
   "source": [
    "def isPal(x):\n",
    "    \"\"\"Assumes x is a list\n",
    "       Returns True if the list is a palindrome; False otherwise\"\"\"\n",
    "    temp = x  \n",
    "    print('\\n  after the line temp = x  ',temp) # insert a print statement after the line temp = x,\n",
    "    temp.reverse()  # temp.reverse()\n",
    "    print('\\n isPal',temp)\n",
    "    if temp == x:\n",
    "        return True\n",
    "    else:\n",
    "        return False"
   ]
  },
  {
   "cell_type": "code",
   "execution_count": 33,
   "metadata": {
    "collapsed": false
   },
   "outputs": [
    {
     "name": "stdout",
     "output_type": "stream",
     "text": [
      "Enter element: a\n",
      "loop region:  ['a']\n",
      "Enter element: b\n",
      "loop region:  ['a', 'b']\n",
      "['a', 'b']\n",
      "\n",
      "  after the line temp = x   ['a', 'b']\n",
      "\n",
      " isPal ['b', 'a']\n",
      "Yes\n"
     ]
    }
   ],
   "source": [
    "silly(2)"
   ]
  },
  {
   "cell_type": "markdown",
   "metadata": {},
   "source": [
    "We run the test again, and now it seems that both temp and x have the value ['b', 'a']. \n",
    "\n",
    "We have now narrowed the bug to one line.\n",
    "\n",
    "It seems that <b>temp.reverse() unexpectedly changed the value of x</b>\n",
    "\n",
    "<b style=\"color:blue\">An aliasing bug has bittenus<b>: temp and x are names for the same list, both before and after the list gets reversed. \n",
    "\n",
    "One way to fix it is to replace the first assignment statement in isPal by temp = x[:], which causes a copy of x to be made. (Ref P63 5.2.1 Cloning)"
   ]
  },
  {
   "cell_type": "code",
   "execution_count": 34,
   "metadata": {
    "collapsed": true
   },
   "outputs": [],
   "source": [
    "def isPal(x):\n",
    "    \"\"\"Assumes x is a list\n",
    "       Returns True if the list is a palindrome; False otherwise\"\"\"\n",
    "    temp = x[:] #   a copy of x \n",
    "    print('\\n  after the line temp = x  ',temp) # insert a print statement after the line temp = x,\n",
    "    temp.reverse()  # temp.reverse()\n",
    "    print('\\n isPal',temp)\n",
    "    if temp == x:\n",
    "        return True\n",
    "    else:\n",
    "        return False"
   ]
  },
  {
   "cell_type": "code",
   "execution_count": 35,
   "metadata": {
    "collapsed": false
   },
   "outputs": [
    {
     "name": "stdout",
     "output_type": "stream",
     "text": [
      "Enter element: a\n",
      "loop region:  ['a']\n",
      "Enter element: b\n",
      "loop region:  ['a', 'b']\n",
      "['a', 'b']\n",
      "\n",
      "  after the line temp = x   ['a', 'b']\n",
      "\n",
      " isPal ['b', 'a']\n",
      "No\n"
     ]
    }
   ],
   "source": [
    "silly(2)"
   ]
  },
  {
   "cell_type": "markdown",
   "metadata": {},
   "source": [
    "### BUG :\n",
    "<ul>\n",
    "<li>never more than one element long: initialization of result needs to be moved outside the for loop\n",
    "<li>both temp and x have the value ['a', 'b']: temp.reverse()\n",
    "<li>An aliasing bug: temp = x[:]\n",
    "</ul>\n",
    "<h3>Print Location:before and after: Key of</h3>\n",
    "<ul>\n",
    "<li> block\n",
    "<li>logic\n",
    "<li>operation\n",
    "</ul>\n",
    "Step by Step to reduce the size of search space "
   ]
  },
  {
   "cell_type": "markdown",
   "metadata": {},
   "source": [
    "<hr style=\"height:2px;color:blue\"/>\n",
    "### 6.2.3 When the Going Gets Tough</b>\n",
    "\n",
    "<h2 style=\"color:blue\">When the going gets tough,the tough get going.</h2>\n",
    "\n",
    "<ul>\n",
    "<li>Look for the usual suspects\n",
    "<li>Stop asking yourself why the program isn’t doing what you want it to.Instead, ask yourself why it is doing what it is.\n",
    "<li>Keep in mind that the bug is probably not where you think it is.\n",
    "<li>Try to explain the problem to somebody else\n",
    "<li>Don’t believe everything you read\n",
    "<li>Stop debugging and start writing documentation\n",
    "<li>Walk away, and try again tomorrow\n",
    "</ul>"
   ]
  },
  {
   "cell_type": "markdown",
   "metadata": {
    "collapsed": true
   },
   "source": [
    "### 6.2.4 And When You Have Found “The” Bug\n",
    "\n",
    "When you think you have found a bug in your code,\n",
    "\n",
    "It is often better, however, to <b>slow down a little</b>\n",
    "\n",
    "Ask yourself if this bug explains all the observed symptoms, or whether it is just the tip of the iceberg.\n",
    "\n",
    "Before making any change, try and understand the ramification of the proposed “fix.”\n",
    "\n",
    "Always make sure that you can get back to where you are.\n",
    "\n",
    "->>>Disk space is usually plentiful. Use it to store old versions\n",
    "of your program.\n",
    "\n",
    "->>>Version control:GIT/GITHUB "
   ]
  },
  {
   "cell_type": "markdown",
   "metadata": {
    "collapsed": true
   },
   "source": [
    "### See Also\n",
    "\n",
    "<h3> Version control</h3> \n",
    "A component of software configuration management, version control, also known as revision control or source control,is the management of changes to documents, computer programs, large web sites, and other collections of information. Changes are usually identified by a number or letter code, termed the \"revision number,\" \"revision level,\" or simply \"revision.\" For example, an initial set of files is \"revision 1.\" When the first change is made, the resulting set is \"revision 2,\" and so on. Each revision is associated with a timestamp and the person making the change. Revisions can be compared, restored, and with some types of files, merged.\n",
    "\n",
    "The need for a logical way to organize and control revisions has existed for almost as long as writing has existed, but revision control became much more important, and complicated, when the era of computing began. The numbering of book editions and of specification revisions are examples that date back to the print-only era. Today, the most capable (as well as complex) revision control systems are those used in software development, where a team of people may change the same files.\n",
    "\n",
    "<h3>GIT</h3>\n",
    "Git is a widely used version control system for software development.[5] It is a distributed revision control system with an emphasis on speed,[6] data integrity,[7] and support for distributed, non-linear workflows.[8] Git was initially designed and developed by Linus Torvalds for Linux kernel development in 2005.\n",
    "\n",
    "As with most other distributed version control systems, and unlike most client–server systems, every Git working directory is a full-fledged repository with complete history and full version-tracking capabilities, independent of network access or a central server.[9] Like the Linux kernel, Git is free software distributed under the terms of the GNU General Public License version 2.\n",
    "\n",
    "<h3>GITHUB</h3>\n",
    "GitHubGitHub is a website where you can upload a copy of your Git repository. It is a Git repository hosting service, which offers all of the distributed revision control and source code management (SCM) functionality of Git as well as adding its own features. Unlike Git, which is strictly a command-line tool, GitHub provides a web-based graphical interface and desktop as well as mobile integration. It also provides access control and several collaboration features such as wikis, task management, and bug tracking and feature that can be helpful for projects. It allows you to collaborate with other people on a project. It does that by providing a centralized location to share the repository, a web-based interface to view it, and features like forking, pull requests distributed revision control, issues, and wikis.\n",
    "\n",
    "\n"
   ]
  }
 ],
 "metadata": {
  "kernelspec": {
   "display_name": "Python 3",
   "language": "python",
   "name": "python3"
  },
  "language_info": {
   "codemirror_mode": {
    "name": "ipython",
    "version": 3
   },
   "file_extension": ".py",
   "mimetype": "text/x-python",
   "name": "python",
   "nbconvert_exporter": "python",
   "pygments_lexer": "ipython3",
   "version": "3.4.3"
  }
 },
 "nbformat": 4,
 "nbformat_minor": 0
}
