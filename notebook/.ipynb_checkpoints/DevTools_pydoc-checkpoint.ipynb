{
 "cells": [
  {
   "cell_type": "markdown",
   "metadata": {},
   "source": [
    "# Documentation generator and online help system\n",
    "\n",
    "26.2. pydoc — Documentation generator and online help system\n",
    "\n",
    "https://docs.python.org/3/library/pydoc.html\n",
    "\n",
    "The <b>pydoc</b> module automatically generates documentation from Python modules. The documentation can be presented as \n",
    "<ul>\n",
    "<li>pages of text on the console,\n",
    "<li>served to a Web browser,or \n",
    "<li>saved to HTML files\n",
    "</ul>\n",
    "\n",
    "For modules, classes, functions and methods, the displayed documentation is derived from the <b>docstring</b> (i.e. the `__doc__` attribute) of the object, and recursively of its documentable members. \n",
    "\n",
    "If there is no docstring, pydoc tries to obtain a description from the block of comment lines just above the definition of the class, function or method in the source file, or at the top of the module "
   ]
  },
  {
   "cell_type": "markdown",
   "metadata": {},
   "source": [
    "<b>Tips:set C:\\Python35\\Lib to path as admin for run pydoc in cmd</b>\n",
    "```\n",
    "   >setx /M PATH \"%PATH%;C:\\Python35\\Lib\"\n",
    "```   "
   ]
  },
  {
   "cell_type": "markdown",
   "metadata": {},
   "source": [
    "## 1 Interactive Help\n",
    "\n",
    "pydoc also adds a function<b> help()</b> to the<b> __builtins__</b> so you can access the same information from the Python interpreter prompt.\n",
    "```\n",
    "help(module_name)\n",
    "```"
   ]
  },
  {
   "cell_type": "code",
   "execution_count": null,
   "metadata": {
    "collapsed": false
   },
   "outputs": [],
   "source": [
    "help('math.acos')"
   ]
  },
  {
   "cell_type": "code",
   "execution_count": null,
   "metadata": {
    "collapsed": false
   },
   "outputs": [],
   "source": [
    "help('math')"
   ]
  },
  {
   "cell_type": "markdown",
   "metadata": {},
   "source": [
    "## 2 Pages of text on the console\n",
    "```\n",
    "pydoc module_name\n",
    "```"
   ]
  },
  {
   "cell_type": "code",
   "execution_count": null,
   "metadata": {
    "collapsed": false
   },
   "outputs": [],
   "source": [
    "!pydoc math"
   ]
  },
  {
   "cell_type": "markdown",
   "metadata": {},
   "source": [
    "Produces plaintext help on the console, using your pager if one is configured."
   ]
  },
  {
   "cell_type": "markdown",
   "metadata": {},
   "source": [
    "## 3 HTML files\n",
    "\n",
    "You can also cause pydoc to generate HTML output to a local directory\n",
    "\n",
    "Specifying a <b>-w</b> flag before the argument will cause HTML documentation to be written out to a file in the current directory, instead of displaying text on the console.\n",
    "\n",
    "```\n",
    "pydoc -w module_name\n",
    "```"
   ]
  },
  {
   "cell_type": "code",
   "execution_count": null,
   "metadata": {
    "collapsed": false
   },
   "outputs": [],
   "source": [
    "!pydoc -w math"
   ]
  },
  {
   "cell_type": "markdown",
   "metadata": {},
   "source": [
    "4 Served to a Web browser\n",
    "\n",
    "You can also use pydoc to start an HTTP server on the local machine that will serve documentation to visiting Web browsers. \n",
    "```\n",
    "pydoc -p portno \n",
    "```\n",
    "will start a HTTP server on port `portno`, allowing you to browse the documentation at http://localhost:portno/ in your preferred Web browser. \n",
    "\n",
    "Specifying 0 as the port number will select an arbitrary unused port.\n"
   ]
  },
  {
   "cell_type": "code",
   "execution_count": null,
   "metadata": {
    "collapsed": true
   },
   "outputs": [],
   "source": [
    "!pydoc -p 5000"
   ]
  },
  {
   "cell_type": "markdown",
   "metadata": {},
   "source": [
    "Starts a web server listening at http://localhost:5000/. \n",
    "<img src=\"./img/pydoc_server_1.PNG\"/> \n",
    "\n",
    "<img src=\"./img/pydoc_server_2.PNG\"/> \n"
   ]
  },
  {
   "cell_type": "markdown",
   "metadata": {},
   "source": [
    "```\n",
    "pydoc -b\n",
    "```\n",
    "will <b>start the server</b> and additionally <b>open a web browser</b> to a module index page. \n",
    "\n",
    "Each served page has a navigation bar at the top where you can Get help on an individual item, Search all modules with a keyword in their synopsis line, and go to the Module index, Topics and Keywords pages.\n",
    "<img src=\"./img/pydoc_server_b.PNG\"/> "
   ]
  },
  {
   "cell_type": "markdown",
   "metadata": {
    "collapsed": true
   },
   "source": [
    "## 4 pydoc.py's documentation "
   ]
  },
  {
   "cell_type": "code",
   "execution_count": null,
   "metadata": {
    "collapsed": false
   },
   "outputs": [],
   "source": [
    "!pydoc"
   ]
  },
  {
   "cell_type": "raw",
   "metadata": {
    "collapsed": false
   },
   "source": [
    "!pydoc -w pydoc"
   ]
  }
 ],
 "metadata": {
  "kernelspec": {
   "display_name": "Python 3",
   "language": "python",
   "name": "python3"
  },
  "language_info": {
   "codemirror_mode": {
    "name": "ipython",
    "version": 3
   },
   "file_extension": ".py",
   "mimetype": "text/x-python",
   "name": "python",
   "nbconvert_exporter": "python",
   "pygments_lexer": "ipython3",
   "version": "3.5.0"
  }
 },
 "nbformat": 4,
 "nbformat_minor": 0
}
