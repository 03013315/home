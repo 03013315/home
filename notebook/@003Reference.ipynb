{
 "cells": [
  {
   "cell_type": "markdown",
   "metadata": {},
   "source": [
    "# Reference "
   ]
  },
  {
   "cell_type": "markdown",
   "metadata": {},
   "source": [
    "<p>The book and lecture of the course parallel each other, though there is more detail in the book about some topics. The book is NOT required. We will not be referring to it in assignments or depending upon it to cover holes in the lectures.</p>"
   ]
  },
  {
   "cell_type": "markdown",
   "metadata": {},
   "source": [
    "\n",
    "\n",
    "<h2>Python</h2>\n",
    "<h3 class=\"subhead\">BeginnersGuide</h3>\n",
    "<ul class=\"arrow\">\n",
    "    <li>Swaroop, CH:  <a href=\"http://www.ibiblio.org/swaroopch/byteofpython/read/\"><em>A Byte of Python</em></a>.</li>\n",
    "    <li>vamei:  <a href=\"http://www.cnblogs.com/vamei/archive/2012/09/13/2682778.html\">Python快速教程</a> </li>\n",
    "    \n",
    "    <li>en.wikibooks.org: <a href=\"http://en.wikibooks.org/wiki/Python_Programming\">Python Programming Wikibook</a> </li>\n",
    "    <li>AfterHoursProgramming.com: A beginners introduction into Python<a href=\"http://www.afterhoursprogramming.com/tutorial/Python/Introduction/\"> After Hours Programming's Python Introduction</a> </li>\n",
    "</ul>   \n",
    "\n",
    "\n",
    "<h3 class=\"subhead\">python.org</h3>\n",
    "<ul class=\"arrow\">\n",
    "    <li><a href=\"http://www.python.org/doc/3/\">Python 3 Documentation</a></li>\n",
    "    <li><a href=\"https://docs.python.org/3/tutorial/index.html\">Python 3 Tutorial</a></li>\n",
    "    <li>If you've never programmed before ,see <a href=\"https://wiki.python.org/moin/BeginnersGuide/NonProgrammers\"> BeginnersGuide/NonProgrammers</a> for a list of suitable tutorials</li>\n",
    "     <li>If you have previous programming experience, consult<a href=\"https://wiki.python.org/moin/BeginnersGuide/Programmers\"> BeginnersGuide/Programmers</a>, which lists more advanced tutorials. </li>\n",
    "    \n",
    "</ul>"
   ]
  },
  {
   "cell_type": "markdown",
   "metadata": {},
   "source": [
    "<h1>Scientic Computing with Python</H1>"
   ]
  },
  {
   "cell_type": "markdown",
   "metadata": {},
   "source": [
    "<h2 class=\"subhead\">Beginners Guide</h2>\n",
    "<ul class=\"arrow\">\n",
    "   <li>Guttag, John <a href=\"http://mitpress.mit.edu/books/introduction-computation-and-programming-using-python\">Introduction-computation-and-programming-using-python</a> MIT Press, 2013</li>\n",
    "   <li><a href=\"http://www.amazon.com/exec/obidos/ASIN/1887902996/ref=nosim/mitopencourse-20\"></a> Zelle, John M. <em>Python Programming: An Introduction to Computer Science</em>. 1st ed. Franklin Beedle &amp; Associates, 2003. ISBN: 9781887902991. (Be sure to get the 1st edition, <strong>not</strong> the 2nd.)</li>\n",
    "</ul>\n",
    "\n",
    "<h2 class=\"subhead\">Scipy.org</h2>"
   ]
  },
  {
   "cell_type": "markdown",
   "metadata": {
    "collapsed": true
   },
   "source": [
    "SciPy (pronounced “Sigh Pie”) is a Python-based ecosystem of open-source software for mathematics, science, and engineering. In particular, these are some of the core packages:\n",
    "<ol>\n",
    "<li>NumPy: Base N-dimensional array package \n",
    "<li>SciPy library: Fundamental library for scientific computing \n",
    "<li>Matplotlib: Comprehensive 2D Plotting \n",
    "<li>IPython: Enhanced Interactive Console \n",
    "<li>Sympy: Symbolic mathematics\n",
    "<li>pandas: Data structures & analysis \n",
    "</ol>\n",
    "Officical Web site: http://www.scipy.org/"
   ]
  },
  {
   "cell_type": "markdown",
   "metadata": {},
   "source": [
    "# GIT of the Course on Github"
   ]
  },
  {
   "cell_type": "markdown",
   "metadata": {},
   "source": [
    "https://github.com/thermalogic/SteamTubine\n",
    "<ul>\n",
    "<li>1 Notebook</li>\n",
    "<li>2 Sample code: </li>\n",
    "</ul>"
   ]
  },
  {
   "cell_type": "raw",
   "metadata": {
    "collapsed": true
   },
   "source": []
  }
 ],
 "metadata": {
  "kernelspec": {
   "display_name": "Python 3",
   "language": "python",
   "name": "python3"
  },
  "language_info": {
   "codemirror_mode": {
    "name": "ipython",
    "version": 3
   },
   "file_extension": ".py",
   "mimetype": "text/x-python",
   "name": "python",
   "nbconvert_exporter": "python",
   "pygments_lexer": "ipython3",
   "version": "3.4.3"
  }
 },
 "nbformat": 4,
 "nbformat_minor": 0
}
