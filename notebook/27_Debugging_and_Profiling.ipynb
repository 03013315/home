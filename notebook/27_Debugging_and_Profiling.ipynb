{
 "cells": [
  {
   "cell_type": "markdown",
   "metadata": {},
   "source": [
    "# Debugging and Profiling\n",
    "\n",
    "27. Debugging and Profiling\n",
    "\n",
    "https://docs.python.org/3/library/debug.html\n",
    "\n",
    "These libraries help you with Python development: the debugger enables you to step through code, analyze stack frames and set breakpoints etc., and the profilers run code and give you a detailed breakdown of execution times, allowing you to identify bottlenecks in your programs."
   ]
  },
  {
   "cell_type": "markdown",
   "metadata": {
    "collapsed": true
   },
   "source": [
    "27.3. pdb — The Python Debugger    https://docs.python.org/3/library/pdb.html\n",
    "    \n",
    "27.4. The Python Profilers  https://docs.python.org/3/library/profile.html\n",
    "    \n",
    "27.5. timeit — Measure execution time of small code snippets  \n",
    "\n",
    "https://docs.python.org/3/library/timeit.html\n",
    "    \n",
    "27.6. trace — Trace or track Python statement execution\n",
    "\n",
    "https://docs.python.org/3/library/trace.html\n",
    "    \n",
    "    "
   ]
  },
  {
   "cell_type": "markdown",
   "metadata": {},
   "source": [
    "## 1 pdb — The Python Debugger"
   ]
  },
  {
   "cell_type": "raw",
   "metadata": {
    "collapsed": true
   },
   "source": []
  },
  {
   "cell_type": "code",
   "execution_count": null,
   "metadata": {
    "collapsed": true
   },
   "outputs": [],
   "source": []
  }
 ],
 "metadata": {
  "kernelspec": {
   "display_name": "Python 3",
   "language": "python",
   "name": "python3"
  },
  "language_info": {
   "codemirror_mode": {
    "name": "ipython",
    "version": 3
   },
   "file_extension": ".py",
   "mimetype": "text/x-python",
   "name": "python",
   "nbconvert_exporter": "python",
   "pygments_lexer": "ipython3",
   "version": "3.4.3"
  }
 },
 "nbformat": 4,
 "nbformat_minor": 0
}
