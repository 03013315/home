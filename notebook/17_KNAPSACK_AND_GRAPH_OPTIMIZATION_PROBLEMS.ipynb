{
 "cells": [
  {
   "cell_type": "markdown",
   "metadata": {},
   "source": [
    "# 17 KNAPSACK AND GRAPH OPTIMIZATION PROBLEMS\n",
    "\n",
    "The notion of an optimization problem provides a structured way to think about solving lots of computational problems.\n",
    "\n",
    "In general, an optimization problem has two parts:\n",
    "\n",
    "1. <b>An objective function</b> that is to be maximized or minimized. For example, the airfare between Boston and Istanbul.\n",
    "\n",
    "2. <b>A set of constraints</b> (possibly empty) that must be honored. For example, an upper bound on the travel time.\n",
    "\n",
    "The main things to take away from this chapter are:\n",
    "<ul>\n",
    "<li>Many problems of real importance can be simply formulated in a way that leads naturally to a computational solution.\n",
    "<li>Reducing a seemingly new problem to an instance of a well-known problem allows one to use preexisting solutions.\n",
    "<li>Exhaustive enumeration algorithms provide a simple, but often computationally intractable, way to search for optimal solutions.\n",
    "<li>A greedy algorithm is often a practical approach to finding a pretty good,but not always optimal, solution to an optimization problem.\n",
    "<li>Knapsack problems and graph problems are classes of problems to which other problems can often be reduced.\n",
    "</ul>"
   ]
  },
  {
   "cell_type": "markdown",
   "metadata": {
    "collapsed": true
   },
   "source": [
    "## 17.1 Knapsack Problems\n",
    "\n",
    "What’s a poor burglar to do? He needs to find the set of things that provides <b>the most value without exceeding his carrying capacity</b>\n",
    "\n",
    "The simplest way to find an approximate solution to this problem is to use a <b>greedy</b> algorithm. \n",
    "\n",
    "The thief would choose <b>the best item first</b>, then <b>the next best</b>, and <b>continue</b> until he reached his limit.\n",
    "\n",
    "Of course, before doing this, the thief would have to decide <b>what “best” should mean</b>.\n",
    "\n",
    "Is the best item the most valuable, the least heavy, or maybe the item with the highest value-to-weight ratio?\n",
    "\n",
    "### 17.1.1 Greedy Algorithms\n",
    "\n",
    "The simplest way to find an approximate solution to this problem is to use a <b>greedy</b> algorithm. \n",
    "\n",
    "The thief would choose <b>the best item first</b>, then <b>the next best</b>, and <b>continue</b> until he reached his limit.r burglar to do? He needs to find the set of things that provides <b>the most value without exceeding his carrying capacity</b>\n",
    "\n",
    "Suppose for example, a burglar who has a knapsack109 that can hold <b>at most 20 pounds</b> of loot breaks into a house and finds the items in Figure 17.1.\n",
    "\n",
    "<img src=\"./img/17.1.PNG\"/>\n",
    "\n",
    "\n",
    "### 17.1.1 Greedy Algorithms\n",
    "\n",
    "The simplest way to find an approximate solution to this problem is to use a <b>greedy</b> algorithm. \n",
    "\n",
    "The thief would choose <b>the best item first</b>, then <b>the next best</b>, and <b>continue</b> until he reached his limit.\n",
    "\n",
    "Of course, before doing this, the thief would have to decide <b>what “best” should mean</b>.\n",
    "\n",
    "Is the best item the most valuable, the least heavy, or maybe the item with the highest value-to-weight ratio?\n",
    "<ul>\n",
    "<li>If he chose highest value, he would leave with just the computer, which he could fence for 200.\n",
    "<li>If he chose lowest weight, he would take, in order, the book, the radio, the vase, and the painting—which would be worth a total of 170.\n",
    "<li>if he decided that best meant highest value-to-weight ratio,The total value of his loot would be 255.\n",
    "</ul>\n",
    "\n",
    "More generally, there is <b>no guarantee</b> that any solution to this kind of knapsack problem that is\n",
    "found by  <b>a greedy algorithm will be optimal </b>"
   ]
  },
  {
   "cell_type": "markdown",
   "metadata": {},
   "source": [
    "The code in Figure 17.2 and Figure 17.3 implements all three of these greedy algorithms.\n",
    "\n",
    "The only interesting code is the implementation of the function greedy\n",
    "\n",
    "We use the built-in Python function <b>sorted<b> to do this. \n",
    "\n",
    "We use the <b>reverse</b> parameter to indicate that we want the list sorted <b>from largest (with respect to keyFunction) to smallest</b>"
   ]
  },
  {
   "cell_type": "code",
   "execution_count": 1,
   "metadata": {
    "collapsed": true
   },
   "outputs": [],
   "source": [
    "#Page 236, Figure 17.2\n",
    "class Item(object):\n",
    "    def __init__(self, n, v, w):\n",
    "        self.name = n\n",
    "        self.value = float(v)\n",
    "        self.weight = float(w)\n",
    "    def getName(self):\n",
    "        return self.name\n",
    "    def getValue(self):\n",
    "        return self.value\n",
    "    def getWeight(self):\n",
    "        return self.weight\n",
    "    def __str__(self):\n",
    "        result = '<' + self.name + ', ' + str(self.value)\\\n",
    "                 + ', ' + str(self.weight) + '>'\n",
    "        return result\n",
    "\n",
    "def value(item):\n",
    "    return item.getValue()\n",
    "\n",
    "def weightInverse(item):\n",
    "    return 1.0/item.getWeight()\n",
    "\n",
    "def density(item):\n",
    "    return item.getValue()/item.getWeight()\n",
    "\n",
    "def buildItems():\n",
    "    names = ['clock', 'painting', 'radio', 'vase', 'book', 'computer']\n",
    "    values = [175,90,20,50,10,200]\n",
    "    weights = [10,9,4,2,1,20]\n",
    "    Items = []\n",
    "    for i in range(len(values)):\n",
    "        Items.append(Item(names[i], values[i], weights[i]))\n",
    "    return Items\n"
   ]
  },
  {
   "cell_type": "code",
   "execution_count": 4,
   "metadata": {
    "collapsed": true
   },
   "outputs": [],
   "source": [
    "#Page 237, Figure 17.3\n",
    "def greedy(items, maxWeight, keyFunction):\n",
    "    \"\"\"Assumes Items a list, maxWeight >= 0,\n",
    "         keyFunction maps elements of Items to floats\"\"\"\n",
    "    itemsCopy = sorted(items, key=keyFunction, reverse = True)\n",
    "    result = []\n",
    "    totalValue = 0.0\n",
    "    totalWeight = 0.0\n",
    "    for i in range(len(itemsCopy)):\n",
    "        if (totalWeight + itemsCopy[i].getWeight()) <= maxWeight:\n",
    "            result.append(itemsCopy[i])\n",
    "            totalWeight += itemsCopy[i].getWeight()\n",
    "            totalValue += itemsCopy[i].getValue()\n",
    "    return (result, totalValue)\n",
    "\n",
    "def testGreedy(items, constraint, keyFunction):\n",
    "    taken, val = greedy(items, constraint, keyFunction)\n",
    "    print('Total value of items taken = ', val)\n",
    "    for item in taken:\n",
    "        print('   ', item)\n",
    "\n",
    "def testGreedys(maxWeight = 20):\n",
    "    items = buildItems()\n",
    "    print( 'Use greedy by value to fill knapsack of size', maxWeight)\n",
    "    testGreedy(items, maxWeight, value)\n",
    "    print( '\\nUse greedy by weight to fill knapsack of size', maxWeight)\n",
    "    testGreedy(items, maxWeight, weightInverse)\n",
    "    print( '\\nUse greedy by density to fill knapsack of size', maxWeight)\n",
    "    testGreedy(items, maxWeight, density)"
   ]
  },
  {
   "cell_type": "code",
   "execution_count": 5,
   "metadata": {
    "collapsed": false
   },
   "outputs": [
    {
     "name": "stdout",
     "output_type": "stream",
     "text": [
      "Use greedy by value to fill knapsack of size 20\n",
      "Total value of items taken =  200.0\n",
      "    <computer, 200.0, 20.0>\n",
      "\n",
      "Use greedy by weight to fill knapsack of size 20\n",
      "Total value of items taken =  170.0\n",
      "    <book, 10.0, 1.0>\n",
      "    <vase, 50.0, 2.0>\n",
      "    <radio, 20.0, 4.0>\n",
      "    <painting, 90.0, 9.0>\n",
      "\n",
      "Use greedy by density to fill knapsack of size 20\n",
      "Total value of items taken =  255.0\n",
      "    <vase, 50.0, 2.0>\n",
      "    <clock, 175.0, 10.0>\n",
      "    <book, 10.0, 1.0>\n",
      "    <radio, 20.0, 4.0>\n"
     ]
    }
   ],
   "source": [
    "testGreedys()"
   ]
  },
  {
   "cell_type": "markdown",
   "metadata": {},
   "source": [
    "What is the algorithmic efficiency of greedy? \n",
    "\n",
    "There are two things to consider:\n",
    "\n",
    "the time complexity of the built-in function sorted:  O(n log n)\n",
    "\n",
    "the number of times through the for loop in the body of greedy: O(n)\n",
    "\n",
    "the running time of greedy is O(n log n)."
   ]
  },
  {
   "cell_type": "markdown",
   "metadata": {},
   "source": [
    "### 17.1.2 An Optimal Solution to the 0/1 Knapsack Problem\n",
    "\n",
    "Suppose we decide that an approximation is not good enough, i.e., we want <b>the best possible solution</b> to this problem. Such a solution is called <b>optimal</b>, not surprising since we are solving an optimization problem. \n",
    "\n",
    "As it happens, this is an instance of a classic optimization problem, called <b>the 0/1 knapsack problem</b>.\n",
    "\n",
    "The 0/1 knapsack problem can be formalized as follows:\n",
    "<ul>\n",
    "<li>Each item is represented by a pair, <  value, weight  >.\n",
    "<li>The knapsack can accommodate items with a total weight of no more than w.\n",
    "<li>A vector, I, of length n, represents the set of available items. Each element of the vector is an item.\n",
    "<li>A vector, V, of length n, is used to indicate whether or not each item is taken by the burglar. If V[i] = 1, item I[i] is taken. If V[i] = 0, item I[i] is not taken.\n",
    "<li>Find a V that maximizes\n",
    "\n",
    "$\\sum_{i=0}^{n-1} V[i]*I[i].valus$\n",
    "\n",
    "subject to the constraint that:\n",
    "\n",
    "$\\sum_{i=0}^{n-1} V[i]*I[i].wejght \\leq w$\n",
    "\n",
    "Let’s see what happens if we try to implement this formulation of the problem in a straightforward way:\n",
    "\n",
    "\n"
   ]
  },
  {
   "cell_type": "code",
   "execution_count": 8,
   "metadata": {
    "collapsed": true
   },
   "outputs": [],
   "source": [
    "#Page 121, Figure 9.5\n",
    "def getBinaryRep(n, numDigits):\n",
    "   \"\"\"Assumes n and numDigits are non-negative ints\n",
    "      Returns a numDigits str that is a binary\n",
    "      representation of n\"\"\"\n",
    "   result = ''\n",
    "   while n > 0:\n",
    "      result = str(n%2) + result\n",
    "      n = n//2\n",
    "   if len(result) > numDigits:\n",
    "      raise ValueError('not enough digits')\n",
    "   for i in range(numDigits - len(result)):\n",
    "      result = '0' + result\n",
    "   return result\n",
    "\n",
    "def genPowerset(L):\n",
    "   \"\"\"Assumes L is a list\n",
    "      Returns a list of lists that contains all possible\n",
    "      combinations of the elements of L.  E.g., if\n",
    "      L is [1, 2] it will return a list with elements\n",
    "      [], [1], [2], and [1,2].\"\"\"\n",
    "   powerset = []\n",
    "   for i in range(0, 2**len(L)):\n",
    "      binStr = getBinaryRep(i, len(L))\n",
    "      subset = []\n",
    "      for j in range(len(L)):\n",
    "         if binStr[j] == '1':\n",
    "            subset.append(L[j])\n",
    "      powerset.append(subset)\n",
    "   return powerset\n",
    "\n",
    "\n",
    "#Page 239, Figure 17.4\n",
    "def chooseBest(pset, maxWeight, getVal, getWeight):\n",
    "    bestVal = 0.0\n",
    "    bestSet = None\n",
    "    for items in pset:  # 2^n\n",
    "        itemsVal = 0.0\n",
    "        itemsWeight = 0.0\n",
    "        for item in items:    # n\n",
    "            itemsVal += getVal(item)\n",
    "            itemsWeight += getWeight(item)\n",
    "        if itemsWeight <= maxWeight and itemsVal > bestVal:\n",
    "            bestVal = itemsVal\n",
    "            bestSet = items\n",
    "    return (bestSet, bestVal)\n",
    "\n",
    "def testBest(maxWeight = 20):\n",
    "    items = buildItems()\n",
    "    pset = genPowerset(items)\n",
    "    taken, val = chooseBest(pset, maxWeight, Item.getValue,\n",
    "                            Item.getWeight)\n",
    "    print('Total value of items taken =', val)\n",
    "    for item in taken:\n",
    "        print (item)"
   ]
  },
  {
   "cell_type": "markdown",
   "metadata": {},
   "source": [
    "The complexity of this implementation is O(n*2n)"
   ]
  },
  {
   "cell_type": "code",
   "execution_count": 9,
   "metadata": {
    "collapsed": false
   },
   "outputs": [
    {
     "name": "stdout",
     "output_type": "stream",
     "text": [
      "Total value of items taken = 275.0\n",
      "<clock, 175.0, 10.0>\n",
      "<painting, 90.0, 9.0>\n",
      "<book, 10.0, 1.0>\n"
     ]
    }
   ],
   "source": [
    "testBest()"
   ]
  },
  {
   "cell_type": "markdown",
   "metadata": {},
   "source": [
    "Notice that this solution is <b>better</b> than any of the solutions found by the greedy algorithms.\n",
    "\n",
    "The essence of a greedy algorithm is making the best (as defined by some metric) local choice at each step.\n",
    "\n",
    "It makes a choice that is <b>locally optimal</b>.\n",
    "\n",
    "However, as this example illustrates, a series of locally optimal decisions does not always lead to a solution that is <b>globally optimal</b>.\n",
    "\n",
    "There is a variant of the knapsack problem, called <b>the fractional (or continuous) knapsack problem</b>, for which a greedy algorithm is guaranteed to find an optimal solution."
   ]
  },
  {
   "cell_type": "markdown",
   "metadata": {},
   "source": [
    "## 17.2 Graph Optimization Problems"
   ]
  },
  {
   "cell_type": "markdown",
   "metadata": {},
   "source": [
    "A <b>graph</b> is a set of objects called <b>nodes (or vertices)</b> connected by a set of <b>edges (or arcs)</b>.\n",
    "\n",
    "If the edges are <b>unidirectional</b> the graph is called <b>a directed graph or digraph</b>.\n",
    "\n",
    "In <b>a directed graph</b>, if there is an edge from n1 to n2, we refer to n1 as the <b>source or parent node</b> and n2 as <b>the destination or child node</b>.\n",
    "\n",
    "Graphs are typically used to represent situations in which there are interesting relations among the parts. \n",
    "\n",
    "The first documented use of graphs in mathematics was in 1735 when the Swiss mathematician Leonhard Euler used what has\n",
    "come to be known as <b>graph theory</b> to formulate and solve the <b>Königsberg bridges problem</b>.\n",
    "\n",
    "Königsberg, then the capital of East Prussia, was built at the intersection of two rivers that contained a number of islands. The islands were connected to each other and to the mainland by seven bridges, as shown on the map below.\n",
    "\n",
    "For some reason, the residents of the city were obsessed with the question of whether it was possible to <b>take a walk that crossed each bridge exactly once</b>.\n",
    "\n",
    "Euler’s great insight was that the problem could be vastly simplified by viewing each separate landmass as a point (think “node”) and each bridge as a line (think “edge”) connecting two of these points. The map of the town could then\n",
    "be represented by the graph to the right of the map.\n",
    "\n",
    "Euler then reasoned that if a walk were to traverse each edge exactly once, it must be the case that<b> each\n",
    "node in the middle of the walk</b> (i.e., any node except the first and last node visited) must have <b>an even number of edges</b>to which it is connected.\n",
    "\n",
    "Since <b>none of the nodes in this graph<b> has an even number of edges, Euler concluded that it is <b>impossible</b> to traverse each bridge exactly once.\n",
    "\n",
    "<img src=\"./img/17.3.PNG\"/> \n"
   ]
  },
  {
   "cell_type": "markdown",
   "metadata": {
    "collapsed": true
   },
   "source": [
    "Figure 17.5 contains classes implementing abstract types corresponding to nodes, weighted edges, and edges."
   ]
  },
  {
   "cell_type": "code",
   "execution_count": 2,
   "metadata": {
    "collapsed": true
   },
   "outputs": [],
   "source": [
    "#Page 242, Figure 17.5\n",
    "class Node(object):\n",
    "    def __init__(self, name):\n",
    "        \"\"\"Assumes name is a string\"\"\"\n",
    "        self.name = name\n",
    "    def getName(self):\n",
    "        return self.name\n",
    "    def __str__(self):\n",
    "        return self.name\n",
    "\n",
    "class Edge(object):\n",
    "    def __init__(self, src, dest):\n",
    "        \"\"\"Assumes src and dest are nodes\"\"\"\n",
    "        self.src = src\n",
    "        self.dest = dest\n",
    "    def getSource(self):\n",
    "        return self.src\n",
    "    def getDestination(self):\n",
    "        return self.dest\n",
    "    def __str__(self):\n",
    "        return self.src.getName() + '->' + self.dest.getName()\n",
    "\n",
    "class WeightedEdge(Edge):\n",
    "    def __init__(self, src, dest, weight = 1.0):\n",
    "        \"\"\"Assumes src and dest are nodes, weight a float\"\"\"\n",
    "        self.src = src\n",
    "        self.dest = dest\n",
    "        self.weight = weight\n",
    "    def getWeight(self):\n",
    "        return self.weight\n",
    "    def __str__(self):\n",
    "        return self.src.getName() + '->(' + str(self.weight) + ')'\\\n",
    "               + self.dest.getName()"
   ]
  },
  {
   "cell_type": "markdown",
   "metadata": {},
   "source": [
    "Figure 17.6 contains implementations of the classes <b>Digraph</b> and <b>Graph</b>\n",
    "\n",
    "One important decision is <b>the choice of data structure used to represent a Digraph.</b>\n",
    "\n",
    "One common representation is an n × n <b>adjacency matrix</b>, where n is the number of nodes in the graph. Each cell of the matrix contains information (e.g., weights) about the edges connecting the pair of nodes <i, j>. If the edges\n",
    "are unweighted, each entry is True if and only if there is an edge from i to j.\n",
    "\n",
    "Another common representation is <b>an adjacency list</b>, which we use here. \n",
    "\n",
    "Class <b>Digraph</b> has two instance variables:\n",
    "\n",
    "The variable <b>nodes</b> is a Python list containing the names of the nodes in the Digraph. The connectivity of the nodes is represented using an adjacency list implemented as a dictionary.\n",
    "\n",
    "The variable <b>edges</b> is a dictionary that maps each Node in the Digraph to a list of the children of that Node.\n",
    "\n",
    "Class Graph is a subclass of Digraph. It inherits all of the methods of Digraph except addEdge, which it overrides."
   ]
  },
  {
   "cell_type": "code",
   "execution_count": 3,
   "metadata": {
    "collapsed": true
   },
   "outputs": [],
   "source": [
    "#Page 243, Figure 17.6\n",
    "class Digraph(object):\n",
    "    #nodes is a list of the nodes in the graph\n",
    "    #edges is a dict mapping each node to a list of its children\n",
    "    def __init__(self):\n",
    "        self.nodes = []\n",
    "        self.edges = {}\n",
    "    \n",
    "    def addNode(self, node):\n",
    "        if node in self.nodes:\n",
    "            raise ValueError('Duplicate node')\n",
    "        else:\n",
    "            self.nodes.append(node)\n",
    "            self.edges[node] = []\n",
    "    \n",
    "    def addEdge(self, edge):\n",
    "        src = edge.getSource()\n",
    "        dest = edge.getDestination()\n",
    "        if not(src in self.nodes and dest in self.nodes):\n",
    "            raise ValueError('Node not in graph')\n",
    "        self.edges[src].append(dest)\n",
    "    \n",
    "    def childrenOf(self, node):\n",
    "        return self.edges[node]\n",
    "    \n",
    "    def hasNode(self, node):\n",
    "        return node in self.nodes\n",
    "    \n",
    "    def __str__(self):\n",
    "        result = ''\n",
    "        for src in self.nodes:\n",
    "            for dest in self.edges[src]:\n",
    "                result = result + src.getName() + '->'\\\n",
    "                         + dest.getName() + '\\n'\n",
    "        return result[:-1] #omit final newline\n",
    "\n",
    "class Graph(Digraph):\n",
    "    \n",
    "    def addEdge(self, edge):\n",
    "        Digraph.addEdge(self, edge)\n",
    "        \n",
    "        rev = Edge(edge.getDestination(), edge.getSource())\n",
    "        Digraph.addEdge(self, rev)"
   ]
  },
  {
   "cell_type": "markdown",
   "metadata": {},
   "source": [
    "### 17.2.1 Some Classic Graph-Theoretic Problems\n",
    "\n",
    "Some of the best-known graph optimization problems are:\n",
    "<ul>\n",
    "<li><b>Shortest path</b>. For some pair of nodes, N1 and N2, find the shortest sequence of edges <sn, dn> (source node and destination node), such that\n",
    "<ul>\n",
    "<li>The source node in the first edge is N1\n",
    "<li>The destination node of the last edge is N2\n",
    "<li>For all edges e1 and e2 in the sequence, if e2 follows e1 in the sequence, the source node of e2 is the destination node of e1 i.\n",
    "</ul>\n",
    "<li><b>Shortest weighted path</b>. This is like the shortest path, except instead of choosing the shortest sequence of edges that connects two nodes, we define some function on the weights of the edges in the sequence (e.g.,\n",
    "their sum) and minimize that value.\n",
    "<li><b>Cliques</b>. Find a set of nodes such that there is a path (or often a path not exceeding a maximum length) in the graph between each pair of nodes in the set.\n",
    "<li><b>Min cut</b>. Given two sets of nodes in a graph, a <b>cut</b> is a set of edges whose removal <b>eliminates all paths</b> from each node in one set to each node in the other.The minimum cut is the smallest set of edges whose removal accomplishes this.\n",
    "</ul>\n"
   ]
  },
  {
   "cell_type": "markdown",
   "metadata": {},
   "source": [
    "### 17.2.2 The Spread of Disease and Min Cut\n",
    "\n",
    "Figure 17.7 contains a pictorial representation of a weighted graph generated by the U.S. Centers for Disease Control (CDC) in the course of studying an outbreak of tuberculosis in the United States.\n",
    "\n",
    "Each <b>node</b> represents a person, and each node is labeled by a color116 indicating whether the person has active\n",
    "TB, tested positive for exposure to TB (i.e., high TST reaction rate), tested negative for exposure to TB, or had not been tested.\n",
    "\n",
    "The <b>edges</b> represent contact between pairs of people. \n",
    "\n",
    "The <b>weights</b>, which are not visible in the picture, indicate whether the contact between people was “close” or “casual.”\n",
    "\n",
    "<img src=\"./img/17.7.PNG\"/> \n",
    "\n",
    "There are many interesting questions that can be formalized using this graph\n",
    "<ul>\n",
    "<li>Is it possible that all cases stemmed from a single “index” patient? The answer is “almost.” There is path from the node in the middle of the graph to each active TB node except those nodes in the black circle on the right.\n",
    "\n",
    "<img src=\"./img/17.7.1.PNG\"/> \n",
    "\n",
    "<li>In order to best limit the continued spread, which uninfected people should be vaccinated? This can be formalized as solving <b>a min cut problem</b>."
   ]
  },
  {
   "cell_type": "markdown",
   "metadata": {
    "collapsed": true
   },
   "source": [
    "\n",
    "### 17.2.3 Shortest Path: Depth-First Search and Breadth-First Search\n",
    "\n",
    "Social networks are made up of individuals and relationships between individuals. These are typically modeled as graphs in which the individuals are nodes and the edges relationships. If the relationships are symmetric, the edgesare undirected; if the relationships are asymmetric the edges are directed. Some social networks model multiple kinds of relationships, in which case labels on the edges indicate the kind of relationship. \n",
    "\n",
    "In 1990，the playwright John Guare wrote <b> Six Degrees of Separation</b>. The slightly dubious premise underlying the play is that “everybody on this planet is separated by only six other people.”\n",
    "\n",
    "A less hypothetical question is the distance using the “friend” relation between pairs of people on Facebook.\n",
    "\n",
    "The friend relation (at least on Facebook) is symmetric, e.g., if Stephanie is a friend of Andrea, Andrea is a friend of Stephanie. We will, therefore, implement the social network using type Graph. We can then define the problem of finding the shortest connection between you and Mick Jagger as:\n",
    "\n",
    "• For the graph G, find the shortest sequence of nodes,path = [You,…,Mick Jagger], such that\n",
    "• If ni and ni+1 are consecutive nodes in path, there is an edge in G connecting ni and ni+1.\n",
    "\n",
    "Figure 17.8 contains a recursive function that finds the shortest path between two nodes, start and end, in a Digraph. Since Graph is a subclass of Digraph, it will work for our Facebook problem.\n",
    "\n",
    "The algorithm implemented by DFS is an example of a recursive <b>depth-first search (DFS) </b> algorithm.\n",
    "\n",
    "The algorithm implemented by DFS is an example of a recursive depth-firstsearch (DFS) algorithm. \n",
    "\n",
    "In general, a depth-first-search algorithm begins by choosing one child of the start node. It then chooses one child of that node and so on, going deeper and deeper until it either reaches the goal node or a node with no children. \n",
    "\n",
    "The search then <b>backtracks</b>, returning to <b>the most recent node with children that it has not yet visited</b>. \n",
    "\n",
    "<img src=\"./img/dfs.PNG\"/> \n",
    "\n",
    "```\n",
    "begin of search:\n",
    "\n",
    "A->B->E,\n",
    "\n",
    "backtrack to A\n",
    "\n",
    "A->C->F->H->G->D,\n",
    "\n",
    "backtrack A, \n",
    "\n",
    "all children has visited，\n",
    "\n",
    "end of search.\n",
    "```\n",
    "\n",
    "When all paths have been explored, it chooses the shortest path (assuming that there is one) from the start\n",
    "to the goal.\n",
    "\n",
    "The code is a bit more complicated than the algorithm we just described：\n",
    "\n",
    "1）It has to deal with the possibility of the graph containing cycles.\n",
    "\n",
    "2） It also avoids exploring paths longer than the shortest path that it has already found\n",
    "\n",
    "<ul>\n",
    "<li>The function search calls DFS with path = [] (to indicate that the current\n",
    "path being explored is empty) and shortest = None (to indicate that no\n",
    "path from start to end has yet been found).\n",
    "<li> DFS begins by choosing one child of start. It then chooses one child of\n",
    "that node and so on, until either it reaches the node end or a node with\n",
    "no unvisited children.\n",
    "<ul>\n",
    "<li>The check```if node not in path```prevents the program from getting caught in a cycle.\n",
    "<li>The check```if shortest == None or len(path) < len(shortest)```is used to decide if it is possible that continuing to search this path might yield a shorter path than the best path found so far.\n",
    "<li>If so, DFS is called recursively. If it finds a path to end that is no longer than the best found so far, shortest is updated.\n",
    "<li>When the last node on path has no children left to visit, the program backtracks to the previously visited node and visits the next child of that node.\n",
    "</ul>\n",
    "<li> The function returns when all possibly shortest paths from start to end have been explored.\n",
    "</ul>"
   ]
  },
  {
   "cell_type": "code",
   "execution_count": 4,
   "metadata": {
    "collapsed": true
   },
   "outputs": [],
   "source": [
    "#Page 248, Figure 17.8\n",
    "def printPath(path):\n",
    "    \"\"\"Assumes path is a list of nodes\"\"\"\n",
    "    result = ''\n",
    "    for i in range(len(path)):\n",
    "        result = result + str(path[i])\n",
    "        if i != len(path) - 1:\n",
    "            result = result + '->'\n",
    "    return result \n",
    "\n",
    "def DFS(graph, start, end, path, shortest):\n",
    "    \"\"\"Assumes graph is a Digraph; start and end are nodes;\n",
    "          path and shortest are lists of nodes\n",
    "       Returns a shortest path from start to end in graph\"\"\"\n",
    "    path = path + [start]\n",
    "    print('Current DFS path:', printPath(path))\n",
    "    if start == end:\n",
    "        return path\n",
    "    \n",
    "    for node in graph.childrenOf(start):\n",
    "        if node not in path: # avoid cycles\n",
    "            if shortest == None or len(path) < len(shortest):\n",
    "                newPath = DFS(graph, node, end, path, shortest)\n",
    "                if newPath != None:\n",
    "                    shortest = newPath\n",
    "    return shortest\n",
    "\n",
    "def search(graph, start, end):\n",
    "    \"\"\"Assumes graph is a Digraph; start and end are nodes\n",
    "       Returns a shortest path from start to end in graph\"\"\"\n",
    "    return DFS(graph, start, end, [], None)"
   ]
  },
  {
   "cell_type": "markdown",
   "metadata": {},
   "source": [
    "Figure 17.9 contains some code that runs the code in Figure. The function testSP in Figure 17.9 first builds a directed graph like the one pictured on the right, and then searches for a shortest path between node 0 and node 5.\n",
    "<img src=\"./img/17.9.PNG\"/> "
   ]
  },
  {
   "cell_type": "code",
   "execution_count": 5,
   "metadata": {
    "collapsed": true
   },
   "outputs": [],
   "source": [
    "#Page 248, Figure 17.9\n",
    "def testSP():\n",
    "    nodes = []\n",
    "    for name in range(6): #Create 6 nodes\n",
    "        nodes.append(Node(str(name)))\n",
    "   \n",
    "    g = Digraph()\n",
    "    for n in nodes:\n",
    "        g.addNode(n)\n",
    "    \n",
    "    g.addEdge(Edge(nodes[0],nodes[1]))\n",
    "    g.addEdge(Edge(nodes[1],nodes[2]))\n",
    "    g.addEdge(Edge(nodes[2],nodes[3]))\n",
    "    g.addEdge(Edge(nodes[2],nodes[4]))\n",
    "    g.addEdge(Edge(nodes[3],nodes[4]))\n",
    "    g.addEdge(Edge(nodes[3],nodes[5]))\n",
    "    g.addEdge(Edge(nodes[0],nodes[2]))\n",
    "    g.addEdge(Edge(nodes[1],nodes[0]))\n",
    "    g.addEdge(Edge(nodes[3],nodes[1]))\n",
    "    g.addEdge(Edge(nodes[4],nodes[0]))\n",
    "    \n",
    "    sp = search(g, nodes[0], nodes[5])\n",
    "    print('\\nShortest path found by DFS:', printPath(sp))"
   ]
  },
  {
   "cell_type": "code",
   "execution_count": 6,
   "metadata": {
    "collapsed": false
   },
   "outputs": [
    {
     "name": "stdout",
     "output_type": "stream",
     "text": [
      "Current DFS path: 0\n",
      "Current DFS path: 0->1\n",
      "Current DFS path: 0->1->2\n",
      "Current DFS path: 0->1->2->3\n",
      "Current DFS path: 0->1->2->3->4\n",
      "Current DFS path: 0->1->2->3->5\n",
      "Current DFS path: 0->1->2->4\n",
      "Current DFS path: 0->2\n",
      "Current DFS path: 0->2->3\n",
      "Current DFS path: 0->2->3->4\n",
      "Current DFS path: 0->2->3->5\n",
      "Current DFS path: 0->2->3->1\n",
      "Current DFS path: 0->2->4\n",
      "\n",
      "Shortest path found by DFS: 0->2->3->5\n"
     ]
    }
   ],
   "source": [
    "testSP()"
   ]
  },
  {
   "cell_type": "markdown",
   "metadata": {},
   "source": [
    "Notice that after exploring the path 0->1->2->3->4, \n",
    "\n",
    "it backs up to node 3 and explores the path 0->1->2->3->5. After saving that as the shortest successful path so far, \n",
    "\n",
    "it backs up to node 2 and explores the path 0->1->2->4. \n",
    "\n",
    "When it reaches the end of that path (node 4), it backs up all the way to node 0 and  investigates the path starting with the edge from 0 to 2. And so on."
   ]
  },
  {
   "cell_type": "markdown",
   "metadata": {
    "collapsed": true
   },
   "source": [
    "### breadth-first search (BFS). \n",
    "\n",
    "Of course, there are other ways to traverse a graph than depth-first. Another common approach is <b>breadth-first search (BFS)</b>. \n",
    "\n",
    "In a breadth-first traversal one first visits <b>all children</b> of the start node. If none of those is the end node, one visits <b>all children</b> of each of those nodes. And so on.\n",
    "\n",
    "Unlike depth-first search, which is usually implemented recursively, breadth-first search is usually implemented <b>iteratively<b>. \n",
    "\n",
    "<b>BFS explores many paths simultaneously/<b>, adding one node to each path on each iteration. Since it generates the paths in <b>ascending order of length</b> , <b>the first path found</b>  with the goal as its last node is guaranteed to </b> have a minimum number of edges</b> .\n",
    "\n",
    "Figure 17.10 contains code that uses a breadth-first search to find the shortest path in a directed graph.\n",
    "\n",
    "The variable <b>pathQueue</b> is used to store all of the paths currently being explored. \n",
    "\n",
    "Each iteration starts by <b>removing a path from pathQueue and assigning that path tmpPath</b>. If the last node in tmpPath is end, tmpPath is returned. Otherwise, a set of new paths is created, each of which extends tmpPath by adding one of its children. Each of these new paths is then added to pathQueue."
   ]
  },
  {
   "cell_type": "code",
   "execution_count": 21,
   "metadata": {
    "collapsed": true
   },
   "outputs": [],
   "source": [
    "#Page 250, Figure 17.10\n",
    "def BFS(graph, start, end):\n",
    "    \"\"\"Assumes graph is a Digraph; start and end are nodes\n",
    "       Returns a shortest path from start to end in graph\"\"\"\n",
    "    \n",
    "    initPath = [start]\n",
    "    pathQueue = [initPath]  \n",
    "    \n",
    "    while len(pathQueue) != 0:\n",
    "        #Get and remove oldest element in pathQueue\n",
    "        tmpPath = pathQueue.pop(0)\n",
    "        print('Current BFS path:', printPath(tmpPath))\n",
    "        lastNode = tmpPath[-1]\n",
    "        \n",
    "        if lastNode == end:\n",
    "            return tmpPath\n",
    "        \n",
    "        for nextNode in graph.childrenOf(lastNode):\n",
    "            if nextNode not in tmpPath:\n",
    "                newPath = tmpPath + [nextNode]\n",
    "                pathQueue.append(newPath)\n",
    "    \n",
    "    return None\n"
   ]
  },
  {
   "cell_type": "code",
   "execution_count": 19,
   "metadata": {
    "collapsed": false
   },
   "outputs": [],
   "source": [
    "\n",
    "def testSP():\n",
    "    nodes = []\n",
    "    for name in range(6): #Create 6 nodes\n",
    "        nodes.append(Node(str(name)))\n",
    "    g = Digraph()\n",
    "    for n in nodes:\n",
    "        g.addNode(n)\n",
    "    g.addEdge(Edge(nodes[0],nodes[1]))\n",
    "    g.addEdge(Edge(nodes[1],nodes[2]))\n",
    "    g.addEdge(Edge(nodes[2],nodes[3]))\n",
    "    g.addEdge(Edge(nodes[2],nodes[4]))\n",
    "    g.addEdge(Edge(nodes[3],nodes[4]))\n",
    "    g.addEdge(Edge(nodes[3],nodes[5]))\n",
    "    g.addEdge(Edge(nodes[0],nodes[2]))\n",
    "    g.addEdge(Edge(nodes[1],nodes[0]))\n",
    "    g.addEdge(Edge(nodes[3],nodes[1]))\n",
    "    g.addEdge(Edge(nodes[4],nodes[0]))\n",
    "    \n",
    "    sp = search(g, nodes[0], nodes[5])\n",
    "    print('\\nShortest path found by DFS', printPath(sp))\n",
    "    \n",
    "    print('\\n')\n",
    "    sp = BFS(g, nodes[0], nodes[5])\n",
    "    print('\\nShortest path found by BFS:', printPath(sp))\n"
   ]
  },
  {
   "cell_type": "code",
   "execution_count": 20,
   "metadata": {
    "collapsed": false
   },
   "outputs": [
    {
     "name": "stdout",
     "output_type": "stream",
     "text": [
      "Current DFS path: 0\n",
      "Current DFS path: 0->1\n",
      "Current DFS path: 0->1->2\n",
      "Current DFS path: 0->1->2->3\n",
      "Current DFS path: 0->1->2->3->4\n",
      "Current DFS path: 0->1->2->3->5\n",
      "Current DFS path: 0->1->2->4\n",
      "Current DFS path: 0->2\n",
      "Current DFS path: 0->2->3\n",
      "Current DFS path: 0->2->3->4\n",
      "Current DFS path: 0->2->3->5\n",
      "Current DFS path: 0->2->3->1\n",
      "Current DFS path: 0->2->4\n",
      "\n",
      "Shortest path found by DFS 0->2->3->5\n",
      "\n",
      "\n",
      "1\n",
      "0\n",
      "Current BFS path: 0\n",
      "Current BFS path: 0->1\n",
      "Current BFS path: 0->2\n",
      "Current BFS path: 0->1->2\n",
      "Current BFS path: 0->2->3\n",
      "Current BFS path: 0->2->4\n",
      "Current BFS path: 0->1->2->3\n",
      "Current BFS path: 0->1->2->4\n",
      "Current BFS path: 0->2->3->4\n",
      "Current BFS path: 0->2->3->5\n",
      "\n",
      "Shortest path found by BFS: 0->2->3->5\n"
     ]
    }
   ],
   "source": [
    "testSP()"
   ]
  },
  {
   "cell_type": "markdown",
   "metadata": {},
   "source": [
    "Comfortingly, each algorithm found a path of the same length. In this case, they found the same path. However, if a graph contains more than one shortest path between a pair of nodes, DFS and BFS will not necessarily find the same\n",
    "shortest path.\n",
    "\n",
    "BFS is a convenient way to search for a path with the fewest edges because the first time a path is found, it is guaranteed to be such a path."
   ]
  },
  {
   "cell_type": "markdown",
   "metadata": {},
   "source": [
    "## NetworkX\n",
    "\n",
    "NetworkX is a Python language software package for the creation, manipulation, and study of the structure, dynamics, and functions of complex networks\n",
    "\n",
    "https://github.com/networkx/networkx\n",
    "\n",
    ">pip install networkx"
   ]
  },
  {
   "cell_type": "code",
   "execution_count": 17,
   "metadata": {
    "collapsed": false
   },
   "outputs": [
    {
     "name": "stdout",
     "output_type": "stream",
     "text": [
      "[0, 2, 3, 5]\n"
     ]
    }
   ],
   "source": [
    "# DiGraph\n",
    "\n",
    "import networkx as nx\n",
    "G=nx.DiGraph()\n",
    "G.add_nodes_from([0,1,2,3,4,5])\n",
    "G.add_edges_from([(0,1),(1,2),(2,3),(2,4),(3,4),(3,5),(0,2),(1,0),(3,1),(4,0)])  \n",
    "\n",
    "try:\n",
    "    path=nx.shortest_path(G,0,5)\n",
    "    print(path)\n",
    "except nx.NetworkXNoPath:\n",
    "    print('No path')"
   ]
  },
  {
   "cell_type": "code",
   "execution_count": 16,
   "metadata": {
    "collapsed": false
   },
   "outputs": [
    {
     "name": "stdout",
     "output_type": "stream",
     "text": [
      "[0, 1, 3, 5]\n"
     ]
    }
   ],
   "source": [
    "# Graph\n",
    "\n",
    "import networkx as nx\n",
    "G=nx.Graph()\n",
    "G.add_nodes_from([0,1,2,3,4,5])\n",
    "G.add_edges_from([(0,1),(1,2),(2,3),(2,4),(3,4),(3,5),(0,2),(1,0),(3,1),(4,0)])  \n",
    "\n",
    "try:\n",
    "    path=nx.shortest_path(G,0,5)\n",
    "    print(path)\n",
    "except nx.NetworkXNoPath:\n",
    "    print('No path')"
   ]
  },
  {
   "cell_type": "code",
   "execution_count": 18,
   "metadata": {
    "collapsed": false
   },
   "outputs": [
    {
     "data": {
      "text/plain": [
       "1.0"
      ]
     },
     "execution_count": 18,
     "metadata": {},
     "output_type": "execute_result"
    }
   ],
   "source": [
    "import networkx as nx\n",
    "g = nx.Graph()\n",
    "g.add_edge('a', 'b', distance=0.3)\n",
    "g.add_edge('a', 'c', distance=0.7)\n",
    "nx.dijkstra_path_length(g, 'b', 'c', 'distance')\n"
   ]
  },
  {
   "cell_type": "markdown",
   "metadata": {
    "collapsed": true
   },
   "source": [
    "#### networkx examples\n",
    "\n",
    "Napoleon's 1812-1813  Russian Campaig\n",
    "\n",
    "http://networkx.github.io/documentation/latest/examples/\n",
    "\n",
    "http://networkx.github.io/documentation/latest/examples/graph/napoleon_russian_campaign.html\n",
    "    "
   ]
  },
  {
   "cell_type": "code",
   "execution_count": 1,
   "metadata": {
    "collapsed": false
   },
   "outputs": [
    {
     "data": {
      "image/png": "[encoded data removed]",
      "text/plain": [
       "<matplotlib.figure.Figure at 0x1ed9c110588>"
      ]
     },
     "metadata": {},
     "output_type": "display_data"
    }
   ],
   "source": [
    "%matplotlib inline  \n",
    "\n",
    "\n",
    "\"\"\"\n",
    "Minard's data from Napoleon's 1812-1813  Russian Campaign.\n",
    "http://www.math.yorku.ca/SCS/Gallery/minard/minard.txt\n",
    "\n",
    "\"\"\"\n",
    "__author__ = \"\"\"Aric Hagberg (hagberg@lanl.gov)\"\"\"\n",
    "#    Copyright (C) 2006 by\n",
    "#    Aric Hagberg <hagberg@lanl.gov>\n",
    "#    Dan Schult <dschult@colgate.edu>\n",
    "#    Pieter Swart <swart@lanl.gov>\n",
    "#    All rights reserved.\n",
    "#    BSD license.\n",
    "\n",
    "import string\n",
    "import networkx as nx\n",
    "\n",
    "def minard_graph():\n",
    "    data1=\"\"\"\\\n",
    "24.0,54.9,340000,A,1\n",
    "24.5,55.0,340000,A,1\n",
    "25.5,54.5,340000,A,1\n",
    "26.0,54.7,320000,A,1\n",
    "27.0,54.8,300000,A,1\n",
    "28.0,54.9,280000,A,1\n",
    "28.5,55.0,240000,A,1\n",
    "29.0,55.1,210000,A,1\n",
    "30.0,55.2,180000,A,1\n",
    "30.3,55.3,175000,A,1\n",
    "32.0,54.8,145000,A,1\n",
    "33.2,54.9,140000,A,1\n",
    "34.4,55.5,127100,A,1\n",
    "35.5,55.4,100000,A,1\n",
    "36.0,55.5,100000,A,1\n",
    "37.6,55.8,100000,A,1\n",
    "37.7,55.7,100000,R,1\n",
    "37.5,55.7,98000,R,1\n",
    "37.0,55.0,97000,R,1\n",
    "36.8,55.0,96000,R,1\n",
    "35.4,55.3,87000,R,1\n",
    "34.3,55.2,55000,R,1\n",
    "33.3,54.8,37000,R,1\n",
    "32.0,54.6,24000,R,1\n",
    "30.4,54.4,20000,R,1\n",
    "29.2,54.3,20000,R,1\n",
    "28.5,54.2,20000,R,1\n",
    "28.3,54.3,20000,R,1\n",
    "27.5,54.5,20000,R,1\n",
    "26.8,54.3,12000,R,1\n",
    "26.4,54.4,14000,R,1\n",
    "25.0,54.4,8000,R,1\n",
    "24.4,54.4,4000,R,1\n",
    "24.2,54.4,4000,R,1\n",
    "24.1,54.4,4000,R,1\"\"\"\n",
    "    data2=\"\"\"\\\n",
    "24.0,55.1,60000,A,2\n",
    "24.5,55.2,60000,A,2\n",
    "25.5,54.7,60000,A,2\n",
    "26.6,55.7,40000,A,2\n",
    "27.4,55.6,33000,A,2\n",
    "28.7,55.5,33000,R,2\n",
    "29.2,54.2,30000,R,2\n",
    "28.5,54.1,30000,R,2\n",
    "28.3,54.2,28000,R,2\"\"\"\n",
    "    data3=\"\"\"\\\n",
    "24.0,55.2,22000,A,3\n",
    "24.5,55.3,22000,A,3\n",
    "24.6,55.8,6000,A,3\n",
    "24.6,55.8,6000,R,3\n",
    "24.2,54.4,6000,R,3\n",
    "24.1,54.4,6000,R,3\"\"\"\n",
    "    cities=\"\"\"\\\n",
    "24.0,55.0,Kowno\n",
    "25.3,54.7,Wilna\n",
    "26.4,54.4,Smorgoni\n",
    "26.8,54.3,Moiodexno\n",
    "27.7,55.2,Gloubokoe\n",
    "27.6,53.9,Minsk\n",
    "28.5,54.3,Studienska\n",
    "28.7,55.5,Polotzk\n",
    "29.2,54.4,Bobr\n",
    "30.2,55.3,Witebsk\n",
    "30.4,54.5,Orscha\n",
    "30.4,53.9,Mohilow\n",
    "32.0,54.8,Smolensk\n",
    "33.2,54.9,Dorogobouge\n",
    "34.3,55.2,Wixma\n",
    "34.4,55.5,Chjat\n",
    "36.0,55.5,Mojaisk\n",
    "37.6,55.8,Moscou\n",
    "36.6,55.3,Tarantino\n",
    "36.5,55.0,Malo-Jarosewii\"\"\"\n",
    "\n",
    "    c={}\n",
    "    for line in cities.split('\\n'):\n",
    "        x,y,name=line.split(',')\n",
    "        c[name]=(float(x),float(y))\n",
    "\n",
    "    g=[]\n",
    "\n",
    "    for data in [data1,data2,data3]:\n",
    "        G=nx.Graph()\n",
    "        i=0\n",
    "        G.pos={} # location\n",
    "        G.pop={} # size\n",
    "        last=None\n",
    "        for line in data.split('\\n'):\n",
    "            x,y,p,r,n=line.split(',')\n",
    "            G.pos[i]=(float(x),float(y))\n",
    "            G.pop[i]=int(p)\n",
    "            if last is None:\n",
    "                last=i\n",
    "            else:\n",
    "                G.add_edge(i,last,{r:int(n)})\n",
    "                last=i\n",
    "            i=i+1\n",
    "        g.append(G)\n",
    "\n",
    "    return g,c\n",
    "\n",
    "if __name__ == \"__main__\":\n",
    "\n",
    "    (g,city)=minard_graph()\n",
    "\n",
    "    try:\n",
    "        import matplotlib.pyplot as plt\n",
    "        plt.figure(1,figsize=(11,5))\n",
    "        plt.clf()\n",
    "        colors=['b','g','r']\n",
    "        for G in g:\n",
    "            c=colors.pop(0)\n",
    "            node_size=[int(G.pop[n]/300.0) for n in G]\n",
    "            nx.draw_networkx_edges(G,G.pos,edge_color=c,width=4,alpha=0.5)\n",
    "            nx.draw_networkx_nodes(G,G.pos,node_size=node_size,node_color=c,alpha=0.5)\n",
    "            nx.draw_networkx_nodes(G,G.pos,node_size=5,node_color='k')\n",
    "\n",
    "        for c in city:\n",
    "            x,y=city[c]\n",
    "            plt.text(x,y+0.1,c)\n",
    "\n",
    "        plt.show()\n",
    "    except ImportError:\n",
    "        pass\n"
   ]
  },
  {
   "cell_type": "code",
   "execution_count": null,
   "metadata": {
    "collapsed": true
   },
   "outputs": [],
   "source": []
  }
 ],
 "metadata": {
  "kernelspec": {
   "display_name": "Python 3",
   "language": "python",
   "name": "python3"
  },
  "language_info": {
   "codemirror_mode": {
    "name": "ipython",
    "version": 3
   },
   "file_extension": ".py",
   "mimetype": "text/x-python",
   "name": "python",
   "nbconvert_exporter": "python",
   "pygments_lexer": "ipython3",
   "version": "3.5.1"
  }
 },
 "nbformat": 4,
 "nbformat_minor": 0
}
