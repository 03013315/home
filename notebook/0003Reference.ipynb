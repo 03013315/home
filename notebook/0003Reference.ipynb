{
 "cells": [
  {
   "cell_type": "markdown",
   "metadata": {
    "raw_mimetype": "text/markdown"
   },
   "source": [
    "# References\n",
    "<hr style=\"height:2px;color:red\"/>"
   ]
  },
  {
   "cell_type": "markdown",
   "metadata": {},
   "source": [
    "# 1 Online version"
   ]
  },
  {
   "cell_type": "markdown",
   "metadata": {},
   "source": [
    "Various versions of the course have been available on MIT’s OpenCourseWare (OCW)Web site since 2008. Since the fall of 2012, edX and MITx, have offered an online version of this course. We strongly recommend that you do the problem sets associated with one of the OCW or edX offerings.\n",
    "\n",
    "MIT.OWC : 6.00SC Introduction to Computer Science and Programming (Spring 2011) \n",
    "\n",
    "http://ocw.mit.edu/courses/electrical-engineering-and-computer-science/6-00sc-introduction-to-computer-science-and-programming-spring-2011/\n",
    "\n",
    "163.com: \n",
    "\n",
    "http://v.163.com/special/opencourse/bianchengdaolun.html\n",
    "\n",
    "<hr style=\"height:1px;color:red\"/>\n",
    "<b>edx: Introduction to Computer Science and Programming Using Python：6.00.1x+6.00.2x</b>\n",
    "\n",
    "Introduction to Computer Science and Programming Using Python\n",
    "\n",
    "6.00.1x is an introduction to computer science as a tool to solve real-world analytical problems.\n",
    "\n",
    "https://www.edx.org/course/introduction-computer-science-mitx-6-00-1x-5\n",
    "\n",
    "Introduction to Computational Thinking and Data Science\n",
    "\n",
    "6.00.2x is an introduction to using computation to understand real-world phenomena\n",
    "\n",
    "https://www.edx.org/course/introduction-computational-thinking-data-mitx-6-00-2x-2\n"
   ]
  },
  {
   "cell_type": "markdown",
   "metadata": {},
   "source": [
    "<h2> 2 Python</h2>"
   ]
  },
  {
   "cell_type": "markdown",
   "metadata": {},
   "source": [
    "<h3 class=\"subhead\">Guide</h3>\n",
    "<ul class=\"arrow\">\n",
    "    <li>Python.org： Python 3 documentation：<b>Tutorial</b>;Language Reference;Library Reference;... \n",
    "       <a href=\"https://docs.python.org/3\">https://docs.python.org/3</a></li>\n",
    "    <li>Swaroop, CH: A Byte of Python: http://www.swaroopch.com/notes/python/</li>\n",
    "    <li>en.wikibooks.org: Python Programming Wikibook: http://en.wikibooks.org/wiki/Python_Programming/</li>\n",
    "    <li>vamei: Python快速教程:  http://www.cnblogs.com/vamei/archive/2012/09/13/2682778.html</li>\n",
    "</ul>   \n",
    "\n",
    "<h3 class=\"subhead\">python.org</h3>\n",
    "<ul class=\"arrow\">\n",
    "    <li>If you've never programmed before ,see <a href=\"https://wiki.python.org/moin/BeginnersGuide/NonProgrammers\"> BeginnersGuide/NonProgrammers</a> for a list of suitable tutorials</li>\n",
    "     <li>If you have previous programming experience, consult<a href=\"https://wiki.python.org/moin/BeginnersGuide/Programmers\"> BeginnersGuide/Programmers</a>, which lists more advanced tutorials. </li>\n",
    "</ul>"
   ]
  },
  {
   "cell_type": "markdown",
   "metadata": {},
   "source": [
    "<h1> 3 Scientific Computing with Python</H1>"
   ]
  },
  {
   "cell_type": "markdown",
   "metadata": {},
   "source": [
    "<h2 class=\"subhead\">Guide</h2>\n",
    "<ul class=\"arrow\">\n",
    "   <li>Guttag, John <a href=\"http://mitpress.mit.edu/books/introduction-computation-and-programming-using-python\">Introduction-computation-and-programming-using-python</a> MIT Press, 2013</li>\n",
    "   <li>Ivan Idris. <a href=\"http://ivanidris.net/wordpress/\"> NumPy Beginner’s Guide - Third Edition</a>，Packt Publishing Ltd. June 2015</li>\n",
    "   <li>EuroScipy tutorial team： Python Scientific lecture notes： http://www.scipy-lectures.org/</li>\n",
    "   <li>J.R. Johansson: Introduction to Scientic Computing in Python: https://github.com/jrjohansson/scientific-python-lectures\n",
    "</ul>\n",
    "\n"
   ]
  },
  {
   "cell_type": "markdown",
   "metadata": {},
   "source": [
    "<h2 class=\"subhead\">Scipy.org</h2>"
   ]
  },
  {
   "cell_type": "markdown",
   "metadata": {
    "collapsed": true
   },
   "source": [
    "SciPy ( http://www.scipy.org）  is a Python-based ecosystem of open-source software for mathematics, science, and engineering. In particular, these are some of the core packages:\n",
    "<ol>\n",
    "<li>NumPy: Base N-dimensional array package \n",
    "<li>SciPy library: Fundamental library for scientific computing \n",
    "<li>Matplotlib: Comprehensive 2D Plotting \n",
    "<li>IPython: Enhanced Interactive Console \n",
    "<li>Sympy: Symbolic mathematics\n",
    "<li>pandas: Data structures & analysis \n",
    "</ol>"
   ]
  },
  {
   "cell_type": "markdown",
   "metadata": {},
   "source": [
    "# 4 Software Engineering for Engineer \n",
    "\n",
    "<h3>1）Software Carpentry Foundation</h3> http://software-carpentry.org/\n",
    "\n",
    "<p>The Software Carpentry Foundation (SCF) is a non-profit membership organization devoted to improving basic computing skills among researchers in science, engineering, medicine, and other disciplines.\n",
    "\n",
    "<h3>2）IBM developerworks</h3>   https://www.ibm.com/developerworks/\n",
    "<p>Grow your skills with tutorials and other technical resources\n",
    "<p>Get expert answers to your questions\n",
    "\n",
    "<h3>3）Great Code: Flask</h3> https://github.com/mitsuhiko/flask\n",
    "<p>Excellent code typically follows the guidelines outlined in Code Style, and does its best to express a clear and concise intent to the reader.\n",
    "<p><b>Flask</b> is a microframework for Python based on Werkzeug and Jinja2. It’s intended for getting started very quickly and was developed with best intentions in mind.\n",
    "\n",
    "<h3>4）邹欣. 构建之法: 现代软件工程( 第1版). 人民邮电出版社, 2014.09\n"
   ]
  }
 ],
 "metadata": {
  "kernelspec": {
   "display_name": "Python 3",
   "language": "python",
   "name": "python3"
  },
  "language_info": {
   "codemirror_mode": {
    "name": "ipython",
    "version": 3
   },
   "file_extension": ".py",
   "mimetype": "text/x-python",
   "name": "python",
   "nbconvert_exporter": "python",
   "pygments_lexer": "ipython3",
   "version": "3.4.3"
  }
 },
 "nbformat": 4,
 "nbformat_minor": 0
}
