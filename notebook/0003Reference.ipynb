{
 "cells": [
  {
   "cell_type": "raw",
   "metadata": {},
   "source": [
    "# Reference "
   ]
  },
  {
   "cell_type": "markdown",
   "metadata": {},
   "source": [
    "# 1 Online version"
   ]
  },
  {
   "cell_type": "markdown",
   "metadata": {},
   "source": [
    "Various versions of the course have been available on MIT’s OpenCourseWare (OCW)Web site since 2008. Since the fall of 2012, edX and MITx, have offered an online version of this course. We strongly recommend that you do the problem sets associated with one of the OCW or edX offerings.\n",
    "\n",
    "MIT.OWC : 6.00SC Introduction to Computer Science and Programming (Spring 2011) \n",
    "\n",
    "http://ocw.mit.edu/courses/electrical-engineering-and-computer-science/6-00sc-introduction-to-computer-science-and-programming-spring-2011/\n",
    "\n",
    "Neteasy:\n",
    "\n",
    "http://v.163.com/special/opencourse/bianchengdaolun.html\n",
    "\n",
    "edx: Introduction to Computer Science and Programming Using Python\n",
    "\n",
    "6.00.1x is an introduction to computer science as a tool to solve real-world analytical problems.\n",
    "\n",
    "https://www.edx.org/course/introduction-computer-science-mitx-6-00-1x-5\n"
   ]
  },
  {
   "cell_type": "markdown",
   "metadata": {},
   "source": [
    "<h2> 2 Python</h2>"
   ]
  },
  {
   "cell_type": "markdown",
   "metadata": {},
   "source": [
    "<h3 class=\"subhead\">Guide</h3>\n",
    "<ul class=\"arrow\">\n",
    "    <li>Python.org： Python 3 documentation：<b>Tutorial</b>;Language Reference;Library Reference;... \n",
    "       <a href=\"https://docs.python.org/3\">https://docs.python.org/3</a></li>\n",
    "    <li>Swaroop, CH: A Byte of Python: http://www.swaroopch.com/notes/python/</li>\n",
    "    <li>en.wikibooks.org: Python Programming Wikibook: http://en.wikibooks.org/wiki/Python_Programming/</li>\n",
    "    <li>vamei: Python快速教程:  http://www.cnblogs.com/vamei/archive/2012/09/13/2682778.html</li>\n",
    "</ul>   \n",
    "\n",
    "<h3 class=\"subhead\">python.org</h3>\n",
    "<ul class=\"arrow\">\n",
    "    <li>If you've never programmed before ,see <a href=\"https://wiki.python.org/moin/BeginnersGuide/NonProgrammers\"> BeginnersGuide/NonProgrammers</a> for a list of suitable tutorials</li>\n",
    "     <li>If you have previous programming experience, consult<a href=\"https://wiki.python.org/moin/BeginnersGuide/Programmers\"> BeginnersGuide/Programmers</a>, which lists more advanced tutorials. </li>\n",
    "</ul>"
   ]
  },
  {
   "cell_type": "raw",
   "metadata": {},
   "source": [
    "<h1> 3 Scientific Computing with Python</H1>"
   ]
  },
  {
   "cell_type": "markdown",
   "metadata": {},
   "source": [
    "<h2 class=\"subhead\">Guide</h2>\n",
    "<ul class=\"arrow\">\n",
    "   <li>Guttag, John <a href=\"http://mitpress.mit.edu/books/introduction-computation-and-programming-using-python\">Introduction-computation-and-programming-using-python</a> MIT Press, 2013</li>\n",
    "   <li>EuroScipy tutorial team： Python Scientific lecture notes： http://www.scipy-lectures.org/</li>\n",
    "   <li>J.R. Johansson: Introduction to Scientic Computing in Python: https://github.com/jrjohansson/scientific-python-lectures\n",
    "</ul>\n",
    "\n"
   ]
  },
  {
   "cell_type": "markdown",
   "metadata": {},
   "source": [
    "<h2 class=\"subhead\">Scipy.org</h2>"
   ]
  },
  {
   "cell_type": "markdown",
   "metadata": {
    "collapsed": true
   },
   "source": [
    "SciPy ( http://www.scipy.org）  is a Python-based ecosystem of open-source software for mathematics, science, and engineering. In particular, these are some of the core packages:\n",
    "<ol>\n",
    "<li>NumPy: Base N-dimensional array package \n",
    "<li>SciPy library: Fundamental library for scientific computing \n",
    "<li>Matplotlib: Comprehensive 2D Plotting \n",
    "<li>IPython: Enhanced Interactive Console \n",
    "<li>Sympy: Symbolic mathematics\n",
    "<li>pandas: Data structures & analysis \n",
    "</ol>"
   ]
  }
 ],
 "metadata": {
  "kernelspec": {
   "display_name": "Python 3",
   "language": "python",
   "name": "python3"
  },
  "language_info": {
   "codemirror_mode": {
    "name": "ipython",
    "version": 3
   },
   "file_extension": ".py",
   "mimetype": "text/x-python",
   "name": "python",
   "nbconvert_exporter": "python",
   "pygments_lexer": "ipython3",
   "version": "3.4.3"
  }
 },
 "nbformat": 4,
 "nbformat_minor": 0
}
