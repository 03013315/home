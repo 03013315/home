{
 "cells": [
  {
   "cell_type": "markdown",
   "metadata": {},
   "source": [
    "# Application lifecycle management- Mylyn\n",
    "<hr style=\"height:2px;color:blue\"/>"
   ]
  },
  {
   "cell_type": "markdown",
   "metadata": {},
   "source": [
    "https://en.wikipedia.org/wiki/Application_lifecycle_management"
   ]
  },
  {
   "cell_type": "markdown",
   "metadata": {},
   "source": [
    "Application lifecycle management (ALM) is the product lifecycle management (governance, development, and maintenance) of computer programs. It encompasses requirements management, software architecture, computer programming, software testing, software maintenance, change management, continuous integration, project management, and release management.[1][2]\n",
    "\n",
    "However, modern software development processes are not restricted to the discrete ALM/SDLC steps managed by different teams using multiple tools from different locations.[citation needed] Real-time collaboration, access to centralized data repository, cross-tool and cross-project visibility, better project monitoring and reporting are the key to develop quality software in less time.[citation needed]\n",
    "\n",
    "This has given rise to the practice of Integrated Application Lifecycle Management, or Integrated ALM, where all the tools and tools' users are synchronized with each other throughout the application development stages.[citation needed] This integration ensures that every team member knows Who, What, When, and Why of any changes made during the development process and there is no last minute surprise causing delivery delays or project failure.[citation needed]\n",
    "\n",
    "Today's application management vendors focus more on API management capabilities for third party best-of-breed tool integration which ensures that organizations are well-equipped with an internal software development system that can easily integrate with any IT or ALM tools needed in a project.[citation needed]\n",
    "\n",
    "There has been talk to change the term ALM to ADLM (Application Development Life-cycle Management) to include DevOps.[3]\n"
   ]
  },
  {
   "cell_type": "raw",
   "metadata": {},
   "source": [
    "<hr style=\"height:2px;color:blue\"/>\n",
    "# Systems development life cycle\n",
    "https://en.wikipedia.org/wiki/Systems_development_life_cycle"
   ]
  },
  {
   "cell_type": "markdown",
   "metadata": {},
   "source": [
    "The systems development life cycle (SDLC), also referred to as the application development life-cycle, is a term used in systems engineering, information systems and software engineering to describe a process for planning, creating, testing, and deploying an information system.[1] The systems development life-cycle concept applies to a range of hardware and software configurations, as a system can be composed of hardware only, software only, or a combination of both.[2]"
   ]
  },
  {
   "cell_type": "markdown",
   "metadata": {},
   "source": [
    "<hr style=\"height:2px;color:blue\"/>\n",
    "# Mylyn\n",
    "Mylyn is a Task-Focused Interface for Eclipse that reduces information overload and makes multi-tasking easy.\n",
    "\n",
    "http://projects.eclipse.org/projects/mylyn"
   ]
  },
  {
   "cell_type": "markdown",
   "metadata": {},
   "source": [
    "The mission of the Mylyn project is to provide:\n",
    "1. Frameworks and APIs for Eclipse-based task and Application Lifecycle Management (ALM)\n",
    "2. Exemplary tools for task-focused programming within the Eclipse IDE.\n",
    "3. Reference implementations for open source ALM tools used by the Eclipse community and for open ALM standards such as OSLC\n",
    "\n",
    "The project is structured into sub-projects, each representing an ALM category and providing common APIs for specific ALM tools. The primary consumers of this project are ALM ISVs and other adopters of Eclipse ALM frameworks. \n",
    "\n",
    "Please see the project charter for more details.\n",
    "\n",
    "Mylyn makes tasks a first class part of Eclipse, and integrates rich and offline editing for repositories such as Bugzilla, Trac, and JIRA. Once your tasks are integrated, Mylyn monitors your work activity to identify information relevant to the task-at-hand, and uses this task context to focus the Eclipse UI on the interesting information, hide the uninteresting, and automatically find what's related. This puts the information you need to get work done at your fingertips and improves productivity by reducing searching, scrolling, and navigation. By making task context explicit Mylyn also facilitates multitasking, planning, reusing past efforts, and sharing expertise.\n"
   ]
  },
  {
   "cell_type": "code",
   "execution_count": null,
   "metadata": {
    "collapsed": true
   },
   "outputs": [],
   "source": []
  }
 ],
 "metadata": {
  "kernelspec": {
   "display_name": "Python 3",
   "language": "python",
   "name": "python3"
  },
  "language_info": {
   "codemirror_mode": {
    "name": "ipython",
    "version": 3
   },
   "file_extension": ".py",
   "mimetype": "text/x-python",
   "name": "python",
   "nbconvert_exporter": "python",
   "pygments_lexer": "ipython3",
   "version": "3.4.3"
  }
 },
 "nbformat": 4,
 "nbformat_minor": 0
}
