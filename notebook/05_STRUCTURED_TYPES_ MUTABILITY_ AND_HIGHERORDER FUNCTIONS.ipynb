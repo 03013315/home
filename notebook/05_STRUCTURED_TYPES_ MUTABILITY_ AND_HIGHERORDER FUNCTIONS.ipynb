{
 "cells": [
  {
   "cell_type": "markdown",
   "metadata": {},
   "source": [
    "# 5 STRUCTURED TYPES, MUTABILITY, AND HIGHERORDER FUNCTIONS\n",
    "\n",
    "In this chapter, we introduce three structured types: \n",
    "<ul>\n",
    "<li><b style=\"color:blue\">Tuple</b>, is a rather <b>simple generalization of str</b>. \n",
    "<li>The other two, <b style=\"color:blue\">list and dict</b>, are more interesting — in part because they are <b style=\"color:blue\">mutable</b>.\n",
    "</ul>\n"
   ]
  },
  {
   "cell_type": "markdown",
   "metadata": {},
   "source": [
    "# 5.1 Tuples\n",
    "\n",
    "tuples are <b style=\"color:blue\">ordered sequences</b> of elements. The difference is that the elements of a tuple need not be characters. The individual elements can be of <b style=\"color:blue\">any type</b>, and need <b style=\"color:blue\"> not be of the same type</b> as each other.\n"
   ]
  },
  {
   "cell_type": "markdown",
   "metadata": {},
   "source": [
    "Literals of type tuple are written by enclosing a <b style=\"color:blue\">comma-separated</b> list of elements <b style=\"color:blue\">within parentheses</b>"
   ]
  },
  {
   "cell_type": "code",
   "execution_count": 9,
   "metadata": {
    "collapsed": false,
    "scrolled": true
   },
   "outputs": [
    {
     "name": "stdout",
     "output_type": "stream",
     "text": [
      "()\n",
      "(1, 'two', 3)\n"
     ]
    }
   ],
   "source": [
    "t1 = () # empty tuple\n",
    "t2 = (1, 'two', 3) #  1 any type; 2 not be of the same type as each other.\n",
    "print(t1)\n",
    "print(t2)"
   ]
  },
  {
   "cell_type": "markdown",
   "metadata": {
    "collapsed": true
   },
   "source": [
    "<hr style=\"color:blue\"/>\n",
    "Since parentheses are used to <b style=\"color:blue\">group expressions</b>, (10) is merely a verbose way to write the integer 10. \n",
    "<p>To denote <b  style=\"color:blue\">the singleton tuple</b> containing this value, we write (10 <strong  style=\"color:red\">,</strong>)"
   ]
  },
  {
   "cell_type": "raw",
   "metadata": {
    "collapsed": false
   },
   "source": [
    "only1=(10)\n",
    "tsingleton=(10,)  # comma-separated \n",
    "\n",
    "print(only1)\n",
    "print(type(only1))\n",
    "\n",
    "print('\\nThe singleton tuple containing this value')\n",
    "print(tsingleton)\n",
    "print(type(tsingleton))"
   ]
  },
  {
   "cell_type": "markdown",
   "metadata": {},
   "source": [
    "<b>Like string</b> ,Tuples can be <b style=\"color:blue\">concatenated</b>, <b style=\"color:blue\">indexed</b>, and <b style=\"color:blue\">sliced</b>.(indexing <strong style=\"color:blue\">starts at 0</strong>)"
   ]
  },
  {
   "cell_type": "code",
   "execution_count": 1,
   "metadata": {
    "collapsed": false
   },
   "outputs": [
    {
     "name": "stdout",
     "output_type": "stream",
     "text": [
      "((1, 'two', 3), 3.25)\n",
      "(1, 'two', 3, (1, 'two', 3), 3.25)\n",
      "(1, 'two', 3)\n",
      "(3, (1, 'two', 3), 3.25)\n"
     ]
    }
   ],
   "source": [
    "t1 = (1, 'two', 3)\n",
    "t2 = (t1, 3.25)   #  any type,tuples can contain tuples\n",
    "print(t2)\n",
    "print(t1 + t2)  # + concatenated\n",
    "print((t1 + t2)[3]) # [3] indexed -tuple as always in Python, indexing starts at 0\n",
    "print((t1 + t2)[2:5]) # [2:5] sliced"
   ]
  },
  {
   "cell_type": "markdown",
   "metadata": {},
   "source": [
    "A <b  style=\"color:blue\">for</b> statement can be used to <b style=\"color:blue\">iterate over the elements</b> of a tuple."
   ]
  },
  {
   "cell_type": "code",
   "execution_count": 1,
   "metadata": {
    "collapsed": false
   },
   "outputs": [
    {
     "name": "stdout",
     "output_type": "stream",
     "text": [
      "common divisors: (1, 2, 4, 5, 10, 20)\n",
      "sum:  42\n"
     ]
    }
   ],
   "source": [
    "def findDivisors (n1, n2):\n",
    "    \"\"\"Assumes that n1 and n2 are positive ints\n",
    "       Returns a tuple containing all common divisors of n1 & n2\"\"\"\n",
    "    \n",
    "    divisors = () #the empty tuple\n",
    "    \n",
    "    for i in range(1, min (n1, n2) + 1):\n",
    "        if n1%i == 0 and n2%i == 0:      # common divisors\n",
    "            divisors = divisors + (i,)  # Note：1) comma-（i,)-Tuple; 2) +  concatenated \n",
    "    \n",
    "    return divisors\n",
    "\n",
    "divisors = findDivisors(20, 100)\n",
    "print('common divisors:',divisors)\n",
    "total = 0\n",
    "for d in divisors:  #  iterate over the elements of a tuple :in \n",
    "    total += d\n",
    "print('sum: ',total)"
   ]
  },
  {
   "cell_type": "markdown",
   "metadata": {},
   "source": [
    "# 5.1.1 Sequences and Multiple Assignment"
   ]
  },
  {
   "cell_type": "markdown",
   "metadata": {},
   "source": [
    "If you know the <b>length of a sequence</b> (e.g., a tuple or a string), it can be convenient to use Python’s <b>multiple assignment</b> statement to extract the individual elements."
   ]
  },
  {
   "cell_type": "code",
   "execution_count": null,
   "metadata": {
    "collapsed": false
   },
   "outputs": [],
   "source": [
    "x, y = (3, 4)\n",
    "a, b, c = 'xyz'\n",
    "print('x=',x,' y=',y)\n",
    "print('a=',a,' b=',b,' c=',c)"
   ]
  },
  {
   "cell_type": "markdown",
   "metadata": {},
   "source": [
    "This mechanism is particularly convenient when used in <b>conjunction with functions that return fixed-size sequences</b>."
   ]
  },
  {
   "cell_type": "code",
   "execution_count": 6,
   "metadata": {
    "collapsed": true
   },
   "outputs": [],
   "source": [
    "def findExtremeDivisors(n1, n2):\n",
    "    \"\"\"Assumes that n1 and n2 are positive ints\n",
    "       Returns a tuple containing the smallest common\n",
    "       divisor > 1 and the largest common divisor of n1\n",
    "       and n2\n",
    "    \"\"\"\n",
    "    minVal, maxVal = None, None #multiple assignment statement\n",
    "    for i in range(2, min(n1, n2) + 1):\n",
    "        if n1%i == 0 and n2%i == 0:\n",
    "            if minVal == None or i < minVal:\n",
    "                minVal = i\n",
    "            if maxVal == None or i > maxVal:\n",
    "                maxVal = i\n",
    "    return (minVal, maxVal)  #   return fixed-size sequences:tuple"
   ]
  },
  {
   "cell_type": "code",
   "execution_count": 5,
   "metadata": {
    "collapsed": false,
    "scrolled": true
   },
   "outputs": [
    {
     "name": "stdout",
     "output_type": "stream",
     "text": [
      "minDivisor= 2\n",
      "maxDivisor= 100\n"
     ]
    }
   ],
   "source": [
    "# multiple assignment statement conjunction with functions that return fixed-size sequences.\n",
    "minDivisor, maxDivisor = findExtremeDivisors(100, 200)  \n",
    "print('minDivisor=',minDivisor)\n",
    "print('maxDivisor=',maxDivisor)"
   ]
  },
  {
   "cell_type": "code",
   "execution_count": 7,
   "metadata": {
    "collapsed": false
   },
   "outputs": [],
   "source": [
    "def findExtremeDivisors(n1, n2):\n",
    "    \"\"\"Assumes that n1 and n2 are positive ints\n",
    "       Returns a tuple containing the smallest common\n",
    "       divisor > 1 and the largest common divisor of n1\n",
    "       and n2\n",
    "    \"\"\"\n",
    "    minVal, maxVal = None, None #multiple assignment statement\n",
    "    for i in range(2, min(n1, n2) + 1):\n",
    "        if n1%i == 0 and n2%i == 0:\n",
    "            if minVal == None or i < minVal:\n",
    "                minVal = i\n",
    "            if maxVal == None or i > maxVal:\n",
    "                maxVal = i\n",
    "    \n",
    "    divisors = (minVal,maxVal)\n",
    "    return  divisors  #   return fixed-size sequences\n"
   ]
  },
  {
   "cell_type": "code",
   "execution_count": 11,
   "metadata": {
    "collapsed": false
   },
   "outputs": [
    {
     "name": "stdout",
     "output_type": "stream",
     "text": [
      "(2, 100)\n",
      "minDivisor= 2\n",
      "maxDivisor= 100\n"
     ]
    }
   ],
   "source": [
    "# tuple \n",
    "divisors = findExtremeDivisors(100, 200)  \n",
    "print(divisors)\n",
    "print('minDivisor=', divisors[0])\n",
    "print('maxDivisor=', divisors[1])"
   ]
  },
  {
   "cell_type": "markdown",
   "metadata": {},
   "source": [
    "# 5.2 Lists and Mutability"
   ]
  },
  {
   "cell_type": "raw",
   "metadata": {},
   "source": [
    "A list is an <b>ordered sequence</b> of values, where each value is <b>identified by an index </b>. \n",
    "\n",
    "The syntax for expressing literals of type list is similar to that used for tuples; the difference is that we use <b>square brackets</b> rather than parentheses. \n"
   ]
  },
  {
   "cell_type": "code",
   "execution_count": 12,
   "metadata": {
    "collapsed": false
   },
   "outputs": [
    {
     "name": "stdout",
     "output_type": "stream",
     "text": [
      "I did it all\n",
      "4\n",
      "love\n"
     ]
    }
   ],
   "source": [
    "L = ['I did it all', 4, 'love']  # square brackets\n",
    "for i in range(len(L)):\n",
    "    print(L[i])"
   ]
  },
  {
   "cell_type": "markdown",
   "metadata": {},
   "source": [
    "The <b>empty list</b> is written as <b>[]</b>\n",
    "\n",
    "<p> <b>Singleton lists</b> are written <b>without comma</b> before the closing bracket."
   ]
  },
  {
   "cell_type": "code",
   "execution_count": 14,
   "metadata": {
    "collapsed": false
   },
   "outputs": [
    {
     "name": "stdout",
     "output_type": "stream",
     "text": [
      "empty list: []\n",
      "<class 'list'>\n",
      "[10]\n"
     ]
    }
   ],
   "source": [
    "Lempty=[]   #empty list\n",
    "Lonly1=[10] # singleton list: without comma\n",
    "print('empty list:',Lempty)\n",
    "print(type(Lonly1))\n",
    "print(Lonly1)"
   ]
  },
  {
   "cell_type": "markdown",
   "metadata": {},
   "source": [
    "Square brackets are used for \n",
    "<ol>\n",
    "<li>literals of type list\n",
    "<li>indexing into lists, and\n",
    "<li>slicing lists\n",
    "</ol>\n",
    "<p>can lead to some visual confusion. For example:"
   ]
  },
  {
   "cell_type": "code",
   "execution_count": 15,
   "metadata": {
    "collapsed": false
   },
   "outputs": [
    {
     "data": {
      "text/plain": [
       "3"
      ]
     },
     "execution_count": 15,
     "metadata": {},
     "output_type": "execute_result"
    }
   ],
   "source": [
    "[1,2,3,4]  # list\n",
    "[1,2,3,4][1:3] # slicing list\n",
    "[1,2,3,4][1:3][1] # licing list,then indexing into sliced list"
   ]
  },
  {
   "cell_type": "markdown",
   "metadata": {},
   "source": [
    "<hr style=\"height:2px;color:blue\"/>\n",
    "# lists are mutable\n",
    "\n",
    "<p>Lists differ from tuples in one hugely important way:lists are mutable\n",
    "<p><b>tuples and strings</b> are immutable\n",
    "\n",
    "<p>objects of immutable types cannot be modified.\n",
    "<p>objects of mutable types can be modified after they are created."
   ]
  },
  {
   "cell_type": "markdown",
   "metadata": {
    "collapsed": true
   },
   "source": [
    "The distinction between <b>mutating</b> an object and <b>assigning an object to a variable</b>"
   ]
  },
  {
   "cell_type": "code",
   "execution_count": 16,
   "metadata": {
    "collapsed": true
   },
   "outputs": [],
   "source": [
    "Techs = ['MIT', 'Caltech']\n",
    "Ivys = ['Harvard', 'Yale', 'Brown']"
   ]
  },
  {
   "cell_type": "code",
   "execution_count": 17,
   "metadata": {
    "collapsed": true
   },
   "outputs": [],
   "source": [
    "Univs = [Techs, Ivys]\n",
    "Univs1 = [['MIT', 'Caltech'], ['Harvard', 'Yale', 'Brown']]"
   ]
  },
  {
   "cell_type": "markdown",
   "metadata": {},
   "source": [
    "The three print statements"
   ]
  },
  {
   "cell_type": "code",
   "execution_count": 18,
   "metadata": {
    "collapsed": false
   },
   "outputs": [
    {
     "name": "stdout",
     "output_type": "stream",
     "text": [
      "Univs = [['MIT', 'Caltech'], ['Harvard', 'Yale', 'Brown']]\n",
      "Univs1 = [['MIT', 'Caltech'], ['Harvard', 'Yale', 'Brown']]\n",
      "True\n"
     ]
    }
   ],
   "source": [
    "print('Univs =', Univs) \n",
    "print('Univs1 =', Univs1)\n",
    "print(Univs == Univs1)"
   ]
  },
  {
   "cell_type": "markdown",
   "metadata": {},
   "source": [
    "It appears as if Univs and Univs1 are bound to the same value. But appearances can be deceiving. As the following picture illustrates, Univs and Univs1 are bound to quite different values.\n",
    "<img src=\"./img/fig52.PNG\"/> \n"
   ]
  },
  {
   "cell_type": "markdown",
   "metadata": {},
   "source": [
    "That Univs and Univs1 are bound to different objects can be verified using the built-in Python function <b style=\"color:blue\">id</b>, which <b style=\"color:blue\">returns a unique integer identifier</b> for an object. \n",
    "<p>This function allows us to <b>test for object equality</b>."
   ]
  },
  {
   "cell_type": "code",
   "execution_count": 19,
   "metadata": {
    "collapsed": false
   },
   "outputs": [
    {
     "name": "stdout",
     "output_type": "stream",
     "text": [
      "True\n",
      "False\n",
      "Id of Univs = 15421704\n",
      "Id of Univs1 = 15396552\n"
     ]
    }
   ],
   "source": [
    "print(Univs == Univs1) # test value equality\n",
    "print(id(Univs) == id(Univs1)) #test object equality\n",
    "print('Id of Univs =', id(Univs))\n",
    "print('Id of Univs1 =', id(Univs1))"
   ]
  },
  {
   "cell_type": "markdown",
   "metadata": {},
   "source": [
    "The <b>elements of Univs</b> are <b>not copies of the lists</b> to which Techs and Ivys are bound, but are rather the <b> themselves</b>.\n",
    "<p>The <b>elements of Univs1</b> are lists that contain <b>the same elements</b> as the lists in Univs,but they are <b>not the same lists</b>."
   ]
  },
  {
   "cell_type": "code",
   "execution_count": 22,
   "metadata": {
    "collapsed": false
   },
   "outputs": [
    {
     "name": "stdout",
     "output_type": "stream",
     "text": [
      "Ids of Techs, Univs[0] 92405576 92405576\n",
      "Ids of Ivys, Univs[1] 15388616 15388616\n",
      "Ids of Univs[0] and Univs[1] 92405576 15388616\n",
      "Ids of Univs1[0] and Univs1[1] 15421512 92464584\n"
     ]
    }
   ],
   "source": [
    "print('Ids of Techs, Univs[0]', id(Techs), id(Univs[0]))\n",
    "print('Ids of Ivys, Univs[1]', id(Ivys), id(Univs[1]))\n",
    "print('Ids of Univs[0] and Univs[1]', id(Univs[0]), id(Univs[1]))\n",
    "print('Ids of Univs1[0] and Univs1[1]', id(Univs1[0]), id(Univs1[1]))"
   ]
  },
  {
   "cell_type": "markdown",
   "metadata": {},
   "source": [
    "# Why does this matter? It matters because lists are mutable"
   ]
  },
  {
   "cell_type": "code",
   "execution_count": 30,
   "metadata": {
    "collapsed": true
   },
   "outputs": [],
   "source": [
    "Techs.append('RPI') #through the variable Techs "
   ]
  },
  {
   "cell_type": "markdown",
   "metadata": {
    "collapsed": true
   },
   "source": [
    "The append method has a side effect. Rather than create a new list, it <b>mutates the existing list Techs</b> by adding a new element, the string 'RPI', to the end of it.\n",
    "<img src=\"./img/fig53.PNG\"/> \n"
   ]
  },
  {
   "cell_type": "markdown",
   "metadata": {},
   "source": [
    "Univs still contains the same two lists, but the contents of one of those lists has been changed"
   ]
  },
  {
   "cell_type": "code",
   "execution_count": 24,
   "metadata": {
    "collapsed": false
   },
   "outputs": [
    {
     "name": "stdout",
     "output_type": "stream",
     "text": [
      "Univs = [['MIT', 'Caltech', 'RPI'], ['Harvard', 'Yale', 'Brown']]\n",
      "Univs1 = [['MIT', 'Caltech'], ['Harvard', 'Yale', 'Brown']]\n"
     ]
    }
   ],
   "source": [
    "print('Univs =', Univs)\n",
    "print('Univs1 =', Univs1)"
   ]
  },
  {
   "cell_type": "raw",
   "metadata": {},
   "source": [
    "What we have here is something called aliasing. \n",
    "There are two distinct paths to the same list object.\n",
    "<p>One path is through the variable Techs and\n",
    "<p>the other through the first element of the list object to which Univs is bound. \n",
    "\n",
    "<p>One can mutate the object via either path, and the effect of the mutation will be visible through both paths. \n",
    "\n",
    "<p> This can be convenient, but it can also be treacherous. Unintentional aliasing leads to programming errors that are often enormously hard to track down."
   ]
  },
  {
   "cell_type": "code",
   "execution_count": 36,
   "metadata": {
    "collapsed": false
   },
   "outputs": [
    {
     "name": "stdout",
     "output_type": "stream",
     "text": [
      "Techs = ['MIT', 'Caltech', 'RPI', 'SEU', 'RPI', 'SEU', 'SEU', 'SEU', 'SEU']\n",
      "Ivys= ['Harvard', 'Yale', 'Brown', '11own', 'Cornell', 'Cornell']\n",
      "Univs = [['MIT', 'Caltech', 'RPI', 'SEU', 'RPI', 'SEU', 'SEU', 'SEU', 'SEU'], ['Harvard', 'Yale', 'Brown', '11own', 'Cornell', 'Cornell']]\n"
     ]
    }
   ],
   "source": [
    "Univs[0].append('SEU') # through the i element of  Univs \n",
    "Univs[1].append('Cornell')\n",
    "print('Techs =', Techs)\n",
    "print('Ivys=', Ivys)\n",
    "print('Univs =', Univs)"
   ]
  },
  {
   "cell_type": "markdown",
   "metadata": {},
   "source": [
    "<h4> a for statement can be used to iterate over the elements of a list.</h4>"
   ]
  },
  {
   "cell_type": "code",
   "execution_count": 37,
   "metadata": {
    "collapsed": false
   },
   "outputs": [
    {
     "name": "stdout",
     "output_type": "stream",
     "text": [
      "Univs contains ['MIT', 'Caltech', 'RPI', 'SEU', 'RPI', 'SEU', 'SEU', 'SEU', 'SEU']\n",
      "   which contains\n",
      "     MIT\n",
      "     Caltech\n",
      "     RPI\n",
      "     SEU\n",
      "     RPI\n",
      "     SEU\n",
      "     SEU\n",
      "     SEU\n",
      "     SEU\n",
      "Univs contains ['Harvard', 'Yale', 'Brown', '11own', 'Cornell', 'Cornell']\n",
      "   which contains\n",
      "     Harvard\n",
      "     Yale\n",
      "     Brown\n",
      "     11own\n",
      "     Cornell\n",
      "     Cornell\n"
     ]
    }
   ],
   "source": [
    "for e in Univs:\n",
    "    print('Univs contains', e) # list \n",
    "    print('   which contains')\n",
    "    for u in e:\n",
    "        print('    ', u)   # the elements of a list."
   ]
  },
  {
   "cell_type": "code",
   "execution_count": null,
   "metadata": {
    "collapsed": true
   },
   "outputs": [],
   "source": []
  },
  {
   "cell_type": "code",
   "execution_count": 28,
   "metadata": {
    "collapsed": false
   },
   "outputs": [
    {
     "name": "stdout",
     "output_type": "stream",
     "text": [
      "L3 = [1, 2, 3, 4, 5, 6]\n",
      "L1 = [1, 2, 3, 4, 5, 6]\n",
      "L1 = [1, 2, 3, 4, 5, 6, [4, 5, 6]]\n"
     ]
    }
   ],
   "source": [
    "L1 = [1,2,3]\n",
    "L2 = [4,5,6]\n",
    "L3 = L1 + L2\n",
    "print('L3 =', L3)\n",
    "L1.extend(L2)\n",
    "print('L1 =', L1)\n",
    "L1.append(L2)\n",
    "print('L1 =', L1)"
   ]
  },
  {
   "cell_type": "markdown",
   "metadata": {},
   "source": [
    "Notice that\n",
    "<p>the operator + does not have a side effect. It creates a new list and returns it. \n",
    "<p>In contrast, extend and append each mutated L1. \n"
   ]
  },
  {
   "cell_type": "markdown",
   "metadata": {},
   "source": [
    "Figure 5.4 contains short descriptions of some of the methods associated with lists. Note that all of these except count and index mutate the list.\n",
    "<img src=\"./img/fig54.PNG\"/> "
   ]
  },
  {
   "cell_type": "markdown",
   "metadata": {},
   "source": [
    "# 5.2.1 Cloning"
   ]
  },
  {
   "cell_type": "code",
   "execution_count": null,
   "metadata": {
    "collapsed": true
   },
   "outputs": [],
   "source": []
  },
  {
   "cell_type": "markdown",
   "metadata": {},
   "source": [
    "# 5.2.2 List Comprehension"
   ]
  },
  {
   "cell_type": "code",
   "execution_count": null,
   "metadata": {
    "collapsed": true
   },
   "outputs": [],
   "source": []
  },
  {
   "cell_type": "markdown",
   "metadata": {},
   "source": [
    "# 5.3 Functions as Objects"
   ]
  },
  {
   "cell_type": "code",
   "execution_count": null,
   "metadata": {
    "collapsed": true
   },
   "outputs": [],
   "source": []
  },
  {
   "cell_type": "markdown",
   "metadata": {},
   "source": [
    "# 5.4 Strings, Tuples, and Lists"
   ]
  },
  {
   "cell_type": "code",
   "execution_count": null,
   "metadata": {
    "collapsed": true
   },
   "outputs": [],
   "source": []
  },
  {
   "cell_type": "raw",
   "metadata": {},
   "source": [
    "# 5.5 Dictionaries\n",
    "\n",
    "Objects of type dict (short for dictionary) are like lists except that “indices” need not be integers—they can be values of any immutable type. Since they are not ordered, we call them keys rather than indices. Think of a dictionary as a set of key/value pairs. Literals of type dict are enclosed in  <b style=\"color:blue\">curly braces</b>, and each element is written as a key followed by a colon followed by a value.\n",
    "\n",
    "The entries in a dict are unordered and cannot be accessed with an index"
   ]
  },
  {
   "cell_type": "code",
   "execution_count": 2,
   "metadata": {
    "collapsed": false
   },
   "outputs": [
    {
     "name": "stdout",
     "output_type": "stream",
     "text": [
      "The third month is Mar\n",
      "Apr and Jan are 3 months apart\n"
     ]
    }
   ],
   "source": [
    "monthNumbers = {'Jan':1, 'Feb':2, 'Mar':3, 'Apr':4, 'May':5,\n",
    "1:'Jan', 2:'Feb', 3:'Mar', 4:'Apr', 5:'May'}\n",
    "\n",
    "# The entries in a dict are unordered and cannot be accessed with an index\n",
    "print('The third month is ' + monthNumbers[3])  \n",
    "\n",
    "dist = monthNumbers['Apr'] - monthNumbers['Jan'] # get value from key\n",
    "print('Apr and Jan are', dist, 'months apart')"
   ]
  },
  {
   "cell_type": "raw",
   "metadata": {},
   "source": [
    "The method keys returns a list containing the keys of a dictionary. The order in which the keys appear is not defined."
   ]
  },
  {
   "cell_type": "code",
   "execution_count": 15,
   "metadata": {
    "collapsed": false
   },
   "outputs": [
    {
     "name": "stdout",
     "output_type": "stream",
     "text": [
      "dict_keys([1, 2, 3, 'Apr', 'May', 'Jan', 'Feb', 5, 4, 'Mar'])\n"
     ]
    }
   ],
   "source": [
    "print(monthNumbers.keys()) # The order in which the keys appear is not defined."
   ]
  },
  {
   "cell_type": "raw",
   "metadata": {},
   "source": [
    "When a for statement is used to iterate over a dictionary, the value assigned to the iteration variable is a key, not a key/value pair."
   ]
  },
  {
   "cell_type": "code",
   "execution_count": 24,
   "metadata": {
    "collapsed": false
   },
   "outputs": [
    {
     "name": "stdout",
     "output_type": "stream",
     "text": [
      "[1, 2, 3, 'Apr', 'May', 'Jan', 'Feb', 5, 4, 'Mar']\n"
     ]
    }
   ],
   "source": [
    "keys = []\n",
    "for e in monthNumbers:\n",
    "    keys.append(e) # the value s a key， not a key/value pair.\n",
    "print(keys)"
   ]
  },
  {
   "cell_type": "code",
   "execution_count": 12,
   "metadata": {
    "collapsed": false
   },
   "outputs": [
    {
     "ename": "TypeError",
     "evalue": "unorderable types: int() < str()",
     "output_type": "error",
     "traceback": [
      "\u001b[1;31m---------------------------------------------------------------------------\u001b[0m",
      "\u001b[1;31mTypeError\u001b[0m                                 Traceback (most recent call last)",
      "\u001b[1;32m<ipython-input-12-3ec03413e4bf>\u001b[0m in \u001b[0;36m<module>\u001b[1;34m()\u001b[0m\n\u001b[0;32m      2\u001b[0m \u001b[1;32mfor\u001b[0m \u001b[0me\u001b[0m \u001b[1;32min\u001b[0m \u001b[0mmonthNumbers\u001b[0m\u001b[1;33m:\u001b[0m\u001b[1;33m\u001b[0m\u001b[0m\n\u001b[0;32m      3\u001b[0m     \u001b[0mkeys\u001b[0m\u001b[1;33m.\u001b[0m\u001b[0mappend\u001b[0m\u001b[1;33m(\u001b[0m\u001b[0me\u001b[0m\u001b[1;33m)\u001b[0m \u001b[1;31m# the value s a key， not a key/value pair.\u001b[0m\u001b[1;33m\u001b[0m\u001b[0m\n\u001b[1;32m----> 4\u001b[1;33m \u001b[0mkeys\u001b[0m\u001b[1;33m.\u001b[0m\u001b[0msort\u001b[0m\u001b[1;33m(\u001b[0m\u001b[1;33m)\u001b[0m     \u001b[1;31m#python3 不能执行，和书中不同，两种不同类型了，怎么排序？ unorderable types: str() < int()\u001b[0m\u001b[1;33m\u001b[0m\u001b[0m\n\u001b[0m\u001b[0;32m      5\u001b[0m \u001b[0mprint\u001b[0m\u001b[1;33m(\u001b[0m\u001b[0mkeys\u001b[0m\u001b[1;33m)\u001b[0m\u001b[1;33m\u001b[0m\u001b[0m\n",
      "\u001b[1;31mTypeError\u001b[0m: unorderable types: int() < str()"
     ]
    }
   ],
   "source": [
    "keys = []\n",
    "for e in monthNumbers:\n",
    "    keys.append(e) # the value s a key， not a key/value pair.\n",
    "keys.sort()     #python3 不能执行，和书中不同，两种不同类型了，怎么排序？ unorderable types: str() < int()\n",
    "print(keys)"
   ]
  },
  {
   "cell_type": "code",
   "execution_count": null,
   "metadata": {
    "collapsed": true
   },
   "outputs": [],
   "source": []
  }
 ],
 "metadata": {
  "kernelspec": {
   "display_name": "Python 3",
   "language": "python",
   "name": "python3"
  },
  "language_info": {
   "codemirror_mode": {
    "name": "ipython",
    "version": 3
   },
   "file_extension": ".py",
   "mimetype": "text/x-python",
   "name": "python",
   "nbconvert_exporter": "python",
   "pygments_lexer": "ipython3",
   "version": "3.4.3"
  }
 },
 "nbformat": 4,
 "nbformat_minor": 0
}
