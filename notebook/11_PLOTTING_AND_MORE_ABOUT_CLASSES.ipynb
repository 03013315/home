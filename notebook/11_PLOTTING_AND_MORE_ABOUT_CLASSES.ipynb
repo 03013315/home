{
 "cells": [
  {
   "cell_type": "markdown",
   "metadata": {},
   "source": [
    "# 11 PLOTTING AND MORE ABOUT CLASSES"
   ]
  },
  {
   "cell_type": "markdown",
   "metadata": {},
   "source": [
    "Often text is the best way to communicate information, but sometimes there is a\n",
    "lot of truth to the Chinese proverb,<b>图片的意义可以表达近万字</b>  (“A picture's meaning\n",
    "can express ten thousand words”)."
   ]
  },
  {
   "cell_type": "markdown",
   "metadata": {},
   "source": [
    "## 11.1 Plotting Using PyLab\n",
    "\n",
    "PyLab is a Python standard library module that provides many of the facilities of MATLAB, “a high-level technical computing language and interactive environment for algorithm development, data visualization, data analysis, and numeric computation.”\n",
    "\n",
    "#### matplotlib\n",
    "<p>http://matplotlib.org/\n",
    "<p>http://matplotlib.org/users/index.html\n",
    "<p>https://github.com/matplotlib\n",
    "<p>matplotlib is a python 2D plotting library which produces publication quality figures in a variety of hardcopy formats and interactive environments across platforms. matplotlib can be used in python scripts, the python and ipython shell (ala MATLAB® or Mathematica®), web application servers, and six graphical user interface toolkits\n",
    "\n",
    "pylab->matplotlib.pyplot\n",
    "\n",
    "```python\n",
    "import pylab\n",
    "import matplotlib.pyplot as plt\n",
    "```\n",
    "Let’s start with a simple example that uses pylab.plot to produce two plots.Executing"
   ]
  },
  {
   "cell_type": "code",
   "execution_count": 1,
   "metadata": {
    "collapsed": false
   },
   "outputs": [
    {
     "data": {
      "image/png": "[encoded data removed]",
      "text/plain": [
       "<matplotlib.figure.Figure at 0x15ee89008d0>"
      ]
     },
     "metadata": {},
     "output_type": "display_data"
    }
   ],
   "source": [
    "%matplotlib inline  \n",
    "import pylab\n",
    "pylab.figure(1) #create figure 1\n",
    "pylab.plot([1,2,3,4], [1,7,3,5]) #draw on figure 1\n",
    "pylab.show() #show figure on screen"
   ]
  },
  {
   "cell_type": "code",
   "execution_count": null,
   "metadata": {
    "collapsed": false
   },
   "outputs": [],
   "source": [
    "%matplotlib inline  \n",
    "import matplotlib.pyplot as plt\n",
    "plt.figure(1) #create figure 1\n",
    "plt.plot([1,2,3,4], [1,7,3,5]) #draw on figure 1\n",
    "plt.show() #show figure on screen"
   ]
  },
  {
   "cell_type": "markdown",
   "metadata": {},
   "source": [
    "The bar at the top contains the name of the window, in this case “Figure 1.”\n",
    "\n",
    "The middle section of the window contains the plot generated by the invocation of `pylab.plot`\n",
    "\n",
    "The final line of code, `pylab.show()`, causes the window to appear on the computer screen.\n",
    "\n",
    "The bar at the bottom of the window contains a number of push buttons.\n",
    "\n",
    "It is possible to produce <b>multiple figures and to write them to files</b>."
   ]
  },
  {
   "cell_type": "code",
   "execution_count": 3,
   "metadata": {
    "collapsed": false
   },
   "outputs": [
    {
     "data": {
      "image/png": "[encoded data removed]",
      "text/plain": [
       "<matplotlib.figure.Figure at 0x15eeaeea4a8>"
      ]
     },
     "metadata": {},
     "output_type": "display_data"
    },
    {
     "data": {
      "image/png": "[encoded data removed]",
      "text/plain": [
       "<matplotlib.figure.Figure at 0x15eeaed8a90>"
      ]
     },
     "metadata": {},
     "output_type": "display_data"
    }
   ],
   "source": [
    "pylab.figure(1) #create figure 1\n",
    "pylab.plot([1,2,3,4], [1,2,3,4]) #draw on figure 1\n",
    "pylab.figure(2) #create figure 2\n",
    "pylab.plot([1,4,2,3], [5,6,7,8]) #draw on figure 2\n",
    "pylab.savefig('./output/Figure-Addie') #save figure 2\n",
    "\n",
    "pylab.figure(1) #go back to working on figure 1\n",
    "pylab.plot([5,6,10,3]) #draw again on figure 1\n",
    "pylab.savefig('./output/Figure-Jane') #save figure 1"
   ]
  },
  {
   "cell_type": "markdown",
   "metadata": {},
   "source": [
    "`pylab.plot([5,6,10,3]) #draw again on figure 1`\n",
    "\n",
    "The corresponding x values default to\n",
    "\n",
    "`range(len([5, 6, 10, 3]))`, \n",
    "\n",
    "which is why they range from 0 to 3 in this case.\n",
    "\n",
    "PyLab has a notion of <b>“current figure.”</b> Executing `pylab.figure(x)` sets the current figure to the figure numbered x.\n",
    "\n",
    "Let’s look at another example."
   ]
  },
  {
   "cell_type": "code",
   "execution_count": null,
   "metadata": {
    "collapsed": false
   },
   "outputs": [],
   "source": [
    "principal = 10000 #initial investment\n",
    "interestRate = 0.05\n",
    "years = 20\n",
    "values = []\n",
    "for i in range(years + 1):\n",
    "    values.append(principal)\n",
    "    principal += principal*interestRate\n",
    "pylab.plot(values)"
   ]
  },
  {
   "cell_type": "markdown",
   "metadata": {},
   "source": [
    "However, this cannot be easily inferred by looking only at the plot itself. That’s a bad thing. \n",
    "All plots should have <b>informative titles, and all axes should be labeled</b>."
   ]
  },
  {
   "cell_type": "code",
   "execution_count": null,
   "metadata": {
    "collapsed": false
   },
   "outputs": [],
   "source": [
    "#If we add to the end of our the code the lines\n",
    "pylab.title('5% Growth, Compounded Annually')\n",
    "pylab.xlabel('Years of Compounding')\n",
    "pylab.ylabel('Value of Principal ($)')"
   ]
  },
  {
   "cell_type": "markdown",
   "metadata": {},
   "source": [
    "For every plotted curve, there is an optional argument that is <b>a format string</b> indicating <b>the color and line type of theplot</b>\n",
    "\n",
    "The default format string is 'b-', which produces a solid blue line.\n",
    "\n",
    "To plot the above with red circles, one would replace the call `pylab.plot(values)` by\n",
    "\n",
    "`pylab.plot(values, 'ro')`"
   ]
  },
  {
   "cell_type": "code",
   "execution_count": null,
   "metadata": {
    "collapsed": false
   },
   "outputs": [],
   "source": [
    "principal = 10000 #initial investment\n",
    "interestRate = 0.05\n",
    "years = 20\n",
    "values = []\n",
    "for i in range(years + 1):\n",
    "    values.append(principal)\n",
    "    principal += principal*interestRate\n",
    "\n",
    "pylab.plot(values,'b-')\n",
    "\n",
    "pylab.plot(values,'ro')\n",
    "\n",
    "#If we add to the end of our the code the lines\n",
    "pylab.title('5% Growth, Compounded Annually')\n",
    "pylab.xlabel('Years of Compounding')\n",
    "pylab.ylabel('Value of Principal ($)')"
   ]
  },
  {
   "cell_type": "markdown",
   "metadata": {},
   "source": [
    "It’s also possible to change the <b>type size and line width</b> used in plots."
   ]
  },
  {
   "cell_type": "code",
   "execution_count": null,
   "metadata": {
    "collapsed": false
   },
   "outputs": [],
   "source": [
    "#Page 145\n",
    "principal = 10000 #initial investment\n",
    "interestRate = 0.05\n",
    "years = 20\n",
    "values = []\n",
    "for i in range(years + 1):\n",
    "    values.append(principal)\n",
    "    principal += principal*interestRate\n",
    "    \n",
    "pylab.plot(values, linewidth = 10)\n",
    "\n",
    "pylab.title('5% Growth, Compounded Annually',\n",
    "            fontsize = 'xx-large')\n",
    "pylab.xlabel('Years of Compounding', fontsize = 'x-small')\n",
    "pylab.ylabel('Value of Principal ($)')"
   ]
  },
  {
   "cell_type": "markdown",
   "metadata": {},
   "source": [
    "It is also possible to <b>change the default values</b>, which are known as “rc settings.”\n",
    "\n",
    "These values are stored in a dictionary-like variable that can be accessed via the name  <b>pylab.rcParams</b>."
   ]
  },
  {
   "cell_type": "code",
   "execution_count": null,
   "metadata": {
    "collapsed": false
   },
   "outputs": [],
   "source": [
    "#Page 146\n",
    "#set line width\n",
    "pylab.rcParams['lines.linewidth'] = 4\n",
    "#set font size for titles \n",
    "pylab.rcParams['axes.titlesize'] = 20\n",
    "#set font size for labels on axes\n",
    "pylab.rcParams['axes.labelsize'] = 20\n",
    "#set size of numbers on x-axis\n",
    "pylab.rcParams['xtick.labelsize'] = 16\n",
    "#set size of numbers on y-axis\n",
    "pylab.rcParams['ytick.labelsize'] = 16\n",
    "#set size of ticks on x-axis\n",
    "pylab.rcParams['xtick.major.size'] = 7\n",
    "#set size of ticks on y-axis\n",
    "pylab.rcParams['ytick.major.size'] = 7\n",
    "#set size of markers\n",
    "pylab.rcParams['lines.markersize'] = 10"
   ]
  },
  {
   "cell_type": "code",
   "execution_count": null,
   "metadata": {
    "collapsed": false
   },
   "outputs": [],
   "source": [
    "principal = 10000 #initial investment\n",
    "interestRate = 0.05\n",
    "years = 20\n",
    "values = []\n",
    "for i in range(years + 1):\n",
    "    values.append(principal)\n",
    "    principal += principal*interestRate\n",
    "\n",
    "pylab.plot(values,'b-')\n",
    "\n",
    "pylab.plot(values,'ro')\n",
    "\n",
    "#If we add to the end of our the code the lines\n",
    "pylab.title('5% Growth, Compounded Annually')\n",
    "pylab.xlabel('Years of Compounding')\n",
    "pylab.ylabel('Value of Principal ($)')"
   ]
  },
  {
   "cell_type": "markdown",
   "metadata": {},
   "source": [
    "If you are viewing plots on a color display, you will have little reason to customize these settings."
   ]
  },
  {
   "cell_type": "markdown",
   "metadata": {},
   "source": [
    "## 11.2 Plotting Mortgages, an Extended Example\n",
    "\n",
    "In Chapter 8, we worked our way through a hierarchy of mortgages as way of illustrating the use of subclassing. We concluded that chapter by observing that \n",
    "\n",
    "#### “our program should be producing plots designed to show how the mortgage behaves over time.” \n",
    "\n",
    "Figure 11.1 enhances class Mortgage by adding methods that make it convenient to produce such plots."
   ]
  },
  {
   "cell_type": "code",
   "execution_count": null,
   "metadata": {
    "collapsed": true
   },
   "outputs": [],
   "source": [
    "#Following function is defined in Chapter 8, and used here\n",
    "def findPayment(loan, r, m):\n",
    "    \"\"\"Assumes: loan and r are floats, m an int\n",
    "       Returns the monthly payment for a mortgage of size\n",
    "       loan at a monthly rate of r for m months\"\"\"\n",
    "    return loan*((r*(1+r)**m)/((1+r)**m - 1))\n",
    "\n",
    "#Page 147, Figure 11.1\n",
    "class Mortgage(object):\n",
    "    \"\"\"Abstract class for building different kinds of mortgages\"\"\"\n",
    "    \n",
    "    def __init__(self, loan, annRate, months):\n",
    "        \"\"\"Create a new mortgage\"\"\"\n",
    "        self.loan = loan\n",
    "        self.rate = annRate/12.0\n",
    "        self.months = months\n",
    "        self.paid = [0.0] \n",
    "        self.owed = [loan]\n",
    "        self.payment = findPayment(loan, self.rate, months)\n",
    "        self.legend = None #description of mortgage\n",
    "        \n",
    "    def makePayment(self):\n",
    "        \"\"\"Make a payment\"\"\"\n",
    "        self.paid.append(self.payment)\n",
    "        reduction = self.payment - self.owed[-1]*self.rate\n",
    "        self.owed.append(self.owed[-1] - reduction)\n",
    "        \n",
    "    def getTotalPaid(self):\n",
    "        \"\"\"Return the total amount paid so far\"\"\"\n",
    "        return sum(self.paid)\n",
    "    \n",
    "    def __str__(self):\n",
    "        return self.legend\n",
    "\n",
    "    def plotPayments(self, style):\n",
    "        pylab.plot(self.paid[1:], style, label = self.legend)\n",
    "    \n",
    "    def plotBalance(self, style):\n",
    "        pylab.plot(self.owed, style, label = self.legend)\n",
    "        \n",
    "    def plotTotPd(self, style):\n",
    "        \"\"\"Plot the cumulative total of the payments made\"\"\"\n",
    "        totPd = [self.paid[0]]\n",
    "        for i in range(1, len(self.paid)):\n",
    "            totPd.append(totPd[-1] + self.paid[i])\n",
    "        pylab.plot(totPd, style, label = self.legend)\n",
    "    \n",
    "    def plotNet(self, style):\n",
    "        \"\"\"Plot an approximation to the total cost of the mortgage\n",
    "           over time by plotting the cash expended minus the equity\n",
    "           acquired by paying off part of the loan\"\"\"\n",
    "        totPd = [self.paid[0]]\n",
    "        for i in range(1, len(self.paid)):\n",
    "            totPd.append(totPd[-1] + self.paid[i])\n",
    "        #Equity acquired through payments is amount of original loan\n",
    "        #  paid to date, which is amount of loan minus what is still owed\n",
    "        equityAcquired = pylab.array([self.loan]*len(self.owed))\n",
    "        equityAcquired = equityAcquired - pylab.array(self.owed)\n",
    "        net = pylab.array(totPd) - equityAcquired\n",
    "        pylab.plot(net, style, label = self.legend)\n"
   ]
  },
  {
   "cell_type": "markdown",
   "metadata": {},
   "source": [
    "The methods `plotPayments` and `plotBalance` are simple one-liners, but they do use a form of `pylab.plot` that we have not yet seen.\n",
    "\n",
    "The nontrivial methods in class Mortgage are `plotTotPd` and `plotNet`. \n",
    "\n",
    "The method `plotTotPd` simply plots the cumulative total of the payments made. \n",
    "\n",
    "The method `plotNet` plots an approximation to the total cost of the mortgage over time by plotting the cash expended minus the equity acquired by paying off part of the loan\n",
    "\n",
    "####  lists to array\n",
    "The expression `pylab.array(self.owed)` in plotNet performs a type conversion \n",
    "\n",
    "Under the covers, `PyLab` has been converting these `lists` to a different type, `array`, which `PyLab` inherits from `NumPy`.\n",
    "\n",
    "There are a number of convenient ways to manipulate arrays that are not readily available for lists."
   ]
  },
  {
   "cell_type": "code",
   "execution_count": null,
   "metadata": {
    "collapsed": false
   },
   "outputs": [],
   "source": [
    "#Page 148\n",
    "a1 = pylab.array([1, 2, 4]) # create a list, and then convert it to array.\n",
    "print('a1 =', a1)\n",
    "a2 = a1*2\n",
    "print('a2 =', a2)\n",
    "print('a1 + 3 =', a1 + 3)\n",
    "print('3 - a1 =', 3 - a1)\n",
    "print('a1 - a2 =', a1 - a2)\n",
    "print('a1*a2 =', a1*a2)"
   ]
  },
  {
   "cell_type": "markdown",
   "metadata": {},
   "source": [
    "There are a number of ways to create `arrays` in `PyLab`, but the most common way is:\n",
    "    \n",
    "    first create a list, and then convert it."
   ]
  },
  {
   "cell_type": "markdown",
   "metadata": {},
   "source": [
    "Figure 11.2 repeats the three subclasses of Mortgage from Chapter 8."
   ]
  },
  {
   "cell_type": "code",
   "execution_count": null,
   "metadata": {
    "collapsed": true
   },
   "outputs": [],
   "source": [
    "#Page 149, Figure 11.2\n",
    "class Fixed(Mortgage):\n",
    "    def __init__(self, loan, r, months):\n",
    "        Mortgage.__init__(self, loan, r, months)\n",
    "        self.legend = 'Fixed, ' + str(r*100) + '%' \n",
    "\n",
    "class FixedWithPts(Mortgage):\n",
    "    def __init__(self, loan, r, months, pts):\n",
    "        Mortgage.__init__(self, loan, r, months)\n",
    "        self.pts = pts\n",
    "        self.paid = [loan*(pts/100.0)]\n",
    "        self.legend = 'Fixed, ' + str(r*100) + '%, '\\\n",
    "                   + str(pts) + ' points'\n",
    "\n",
    "class TwoRate(Mortgage):\n",
    "    def __init__(self, loan, r, months, teaserRate, teaserMonths):\n",
    "        Mortgage.__init__(self, loan, teaserRate, months)\n",
    "        self.teaserMonths = teaserMonths\n",
    "        self.teaserRate = teaserRate\n",
    "        self.nextRate = r/12.0\n",
    "        self.legend = str(teaserRate*100)\\\n",
    "                      + '% for ' + str(self.teaserMonths)\\\n",
    "                      + ' months, then ' + str(r*100) + '%'\n",
    "\n",
    "    def makePayment(self):\n",
    "        if len(self.paid) == self.teaserMonths + 1:\n",
    "            self.rate = self.nextRate\n",
    "            self.payment = findPayment(self.owed[-1], self.rate,\n",
    "                                       self.months - self.teaserMonths)\n",
    "        Mortgage.makePayment(self)\n"
   ]
  },
  {
   "cell_type": "markdown",
   "metadata": {},
   "source": [
    "Figure 11.3 contain functions that can be used to generate plots intended to provide insight about the different kinds of mortgages."
   ]
  },
  {
   "cell_type": "code",
   "execution_count": null,
   "metadata": {
    "collapsed": true
   },
   "outputs": [],
   "source": [
    "#Page 150, Figure 11.3\n",
    "def plotMortgages(morts, amt):\n",
    "    styles = ['b-', 'b-.', 'b:']\n",
    "   \n",
    "    #Give names to figure numbers\n",
    "    payments = 0\n",
    "    cost = 1\n",
    "    balance = 2\n",
    "    netCost = 3\n",
    "    # titles and axis labels for each plot \n",
    "    pylab.figure(payments)\n",
    "    pylab.title('Monthly Payments of Different $' + str(amt)\n",
    "                + ' Mortgages')\n",
    "    pylab.xlabel('Months')\n",
    "    pylab.ylabel('Monthly Payments')\n",
    "    pylab.figure(cost)\n",
    "    pylab.title('Cash Outlay of Different $' + str(amt) + ' Mortgages')\n",
    "    pylab.xlabel('Months')\n",
    "    pylab.ylabel('Total Payments')\n",
    "    pylab.figure(balance)\n",
    "    pylab.title('Balance Remaining of $' + str(amt) + ' Mortgages')\n",
    "    pylab.xlabel('Months')\n",
    "    pylab.ylabel('Remaining Loan Balance of $')\n",
    "    pylab.figure(netCost)\n",
    "    pylab.title('Net Cost of $' + str(amt) + ' Mortgages')\n",
    "    pylab.xlabel('Months')\n",
    "    pylab.ylabel('Payments - Equity $')\n",
    "    \n",
    "    # produce the actual pl\n",
    "    for i in range(len(morts)):\n",
    "        pylab.figure(payments)\n",
    "        morts[i].plotPayments(styles[i])\n",
    "        pylab.figure(cost)\n",
    "        morts[i].plotTotPd(styles[i])\n",
    "        pylab.figure(balance)\n",
    "        morts[i].plotBalance(styles[i])\n",
    "        pylab.figure(netCost)\n",
    "        morts[i].plotNet(styles[i])\n",
    "   \n",
    "    # legend\n",
    "    pylab.figure(payments)\n",
    "    pylab.legend(loc = 'upper center')\n",
    "    \n",
    "    pylab.figure(cost)\n",
    "    pylab.legend(loc = 'best')\n",
    "    \n",
    "    pylab.figure(balance)\n",
    "    pylab.legend(loc = 'best') \n",
    "\n",
    "def compareMortgages(amt, years, fixedRate, pts, ptsRate,\n",
    "                    varRate1, varRate2, varMonths):\n",
    "    totMonths = years*12\n",
    "    fixed1 = Fixed(amt, fixedRate, totMonths)\n",
    "    fixed2 = FixedWithPts(amt, ptsRate, totMonths, pts)\n",
    "    twoRate = TwoRate(amt, varRate2, totMonths, varRate1, varMonths)\n",
    "    morts = [fixed1, fixed2, twoRate]\n",
    "    for m in range(totMonths):\n",
    "        for mort in morts:\n",
    "            mort.makePayment()\n",
    "    \n",
    "    \n",
    "    plotMortgages(morts, amt)"
   ]
  },
  {
   "cell_type": "code",
   "execution_count": null,
   "metadata": {
    "collapsed": false
   },
   "outputs": [],
   "source": [
    "#Page 150\n",
    "compareMortgages(amt=200000, years=30, fixedRate=0.07,\n",
    "                 pts = 3.25, ptsRate=0.05,\n",
    "                 varRate1=0.045, varRate2=0.095, varMonths=48)"
   ]
  },
  {
   "cell_type": "markdown",
   "metadata": {
    "collapsed": true
   },
   "source": [
    "The function plotMortgages generates appropriate <b>titles and axis labels</b> for each plot, and then uses the methods in MortgagePlots to <b>produce the actual plots</b>.\n",
    "\n",
    "1 `plotPayments` : the first plot makes it clear <b>how the monthly payments vary (or don’t) over time</b>\n",
    "\n",
    "2 `plotTotPd` : It sheds some light on the cost of each kind of mortgage by plotting the <b>cumulative costs</b> that have been incurred at the start of each month.\n",
    "\n",
    "3 `plotBlance`: show the remaining debt\n",
    "\n",
    "4 `plotNet`: total net cost of having the mortgage\n"
   ]
  }
 ],
 "metadata": {
  "kernelspec": {
   "display_name": "Python 3",
   "language": "python",
   "name": "python3"
  },
  "language_info": {
   "codemirror_mode": {
    "name": "ipython",
    "version": 3
   },
   "file_extension": ".py",
   "mimetype": "text/x-python",
   "name": "python",
   "nbconvert_exporter": "python",
   "pygments_lexer": "ipython3",
   "version": "3.5.0"
  }
 },
 "nbformat": 4,
 "nbformat_minor": 0
}
