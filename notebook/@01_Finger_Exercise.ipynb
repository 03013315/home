{
 "cells": [
  {
   "cell_type": "markdown",
   "metadata": {},
   "source": [
    "# Finger Exercise"
   ]
  },
  {
   "cell_type": "markdown",
   "metadata": {},
   "source": [
    "# 1 GETTING STARTED"
   ]
  },
  {
   "cell_type": "raw",
   "metadata": {},
   "source": [
    "Computers can be annoyingly literal. If you don’t tell them\n",
    "exactly what you want them to do, they are likely to do the wrong thing. Try\n",
    "writing an algorithm for driving between two destinations. Write it the way you\n",
    "would for a person, and then imagine what would happen if that person\n",
    "executed the algorithm exactly as written. For example, how many traffic tickets\n",
    "might they get?"
   ]
  },
  {
   "cell_type": "markdown",
   "metadata": {},
   "source": [
    "# 2 INTRODUCTION TO PYTHON"
   ]
  },
  {
   "cell_type": "markdown",
   "metadata": {},
   "source": [
    "# 2.2 Branching Programs\n",
    "P16： Write a program that examines three variables—x, y, and z—and prints the largest odd number among them. \n",
    "If none of them are odd, it should print a message to that effect."
   ]
  },
  {
   "cell_type": "markdown",
   "metadata": {},
   "source": [
    "# 2.4 Iteration\n",
    "P20:\n",
    "Write a program that asks the user to input 10 integers, and then prints the largest odd number that was entered. If no odd number was entered, it should print a message to that effect."
   ]
  },
  {
   "cell_type": "code",
   "execution_count": null,
   "metadata": {
    "collapsed": true
   },
   "outputs": [],
   "source": []
  },
  {
   "cell_type": "markdown",
   "metadata": {},
   "source": [
    "# 3 SOME SIMPLE NUMERICAL PROGRAMS\n",
    "3.1 Exhaustive Enumeration"
   ]
  },
  {
   "cell_type": "markdown",
   "metadata": {},
   "source": [
    "P23\n",
    "Write a program that asks the user to enter an integer and\n",
    "prints two integers, root and pwr, such that 0 < pwr < 6 and root**pwr is equal\n",
    "to the integer entered by the user. If no such pair of integers exists, it should\n",
    "print a message to that effect."
   ]
  },
  {
   "cell_type": "code",
   "execution_count": null,
   "metadata": {
    "collapsed": true
   },
   "outputs": [],
   "source": [
    "P：\n",
    "What is the decimal equivalent of the binary number 10011?"
   ]
  },
  {
   "cell_type": "markdown",
   "metadata": {},
   "source": [
    "# 4 FUNCTIONS, SCOPING, AND ABSTRACTION"
   ]
  },
  {
   "cell_type": "raw",
   "metadata": {
    "collapsed": true
   },
   "source": [
    "4.1.1 Function Definitions P36\n",
    "\n",
    "  Write a function isIn that accepts two strings as arguments and returns True if either string occurs anywhere in the other, and False  otherwise. \n",
    "  Hint: you might want to use the built-in str operation in.   "
   ]
  },
  {
   "cell_type": "code",
   "execution_count": 2,
   "metadata": {
    "collapsed": false
   },
   "outputs": [
    {
     "name": "stdout",
     "output_type": "stream",
     "text": [
      "Test1 True\n",
      "Test2 True\n",
      "Test3 False\n",
      "Test4 False\n"
     ]
    }
   ],
   "source": [
    "def isIn(str1,str2):\n",
    "    if (str1 in str2) or (str2 in str1):\n",
    "        return True\n",
    "    else:\n",
    "        return False\n",
    "    \n",
    "print('Test1',isIn('abs','1absdf'))\n",
    "print('Test2',isIn('2abser','abs'))\n",
    "print('Test3',isIn('abs','ab3df'))\n",
    "print('Test4',isIn('ab4er','abs'))"
   ]
  },
  {
   "cell_type": "code",
   "execution_count": null,
   "metadata": {
    "collapsed": true
   },
   "outputs": [],
   "source": [
    "Finger exercise: Implement a function that meets the specification below. Use a try-except block."
   ]
  },
  {
   "cell_type": "code",
   "execution_count": null,
   "metadata": {
    "collapsed": true
   },
   "outputs": [],
   "source": [
    "def sumDigits(s):\n",
    "    \"\"\"Assumes s is a string\n",
    "    Returns the sum of the decimal digits in s\n",
    "    For example, if s is 'a2b3c' it returns 5\"\"\""
   ]
  },
  {
   "cell_type": "code",
   "execution_count": null,
   "metadata": {
    "collapsed": true
   },
   "outputs": [],
   "source": [
    "Implement a function that satisfies the specification"
   ]
  },
  {
   "cell_type": "code",
   "execution_count": null,
   "metadata": {
    "collapsed": true
   },
   "outputs": [],
   "source": [
    "def findAnEven(l):\n",
    "    \"\"\"Assumes l is a list of integers\n",
    "    Returns the first even number in l\n",
    "    Raises ValueError if l does not contain an even number\"\"\""
   ]
  }
 ],
 "metadata": {
  "kernelspec": {
   "display_name": "Python 3",
   "language": "python",
   "name": "python3"
  },
  "language_info": {
   "codemirror_mode": {
    "name": "ipython",
    "version": 3
   },
   "file_extension": ".py",
   "mimetype": "text/x-python",
   "name": "python",
   "nbconvert_exporter": "python",
   "pygments_lexer": "ipython3",
   "version": "3.4.3"
  }
 },
 "nbformat": 4,
 "nbformat_minor": 0
}
