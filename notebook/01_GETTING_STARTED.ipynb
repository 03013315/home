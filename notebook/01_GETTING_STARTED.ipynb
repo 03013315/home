{
 "cells": [
  {
   "cell_type": "markdown",
   "metadata": {},
   "source": [
    "# 1 GETTING STARTED"
   ]
  },
  {
   "cell_type": "markdown",
   "metadata": {},
   "source": [
    "<p>A computer does two things, and two things only: it performs calculations and it remembers the results of those calculations. But it does those two things extremely well.\n",
    "<p>It is our hope that by the time you finish this book, you will feel comfortable bringing <b style=\"color:blue\"> computational thinking</b> to bear on solving many of the problems you encounter during your studies, work, and even everyday life.\n",
    "    "
   ]
  },
  {
   "cell_type": "markdown",
   "metadata": {},
   "source": [
    "# What do we mean by computational thinking?"
   ]
  },
  {
   "cell_type": "markdown",
   "metadata": {},
   "source": [
    "# Knowledge \n",
    "\n",
    "All knowledge can be thought of as either declarative or imperative. \n",
    "<p><b>Declarative</b> knowledge is composed of <b>statements of fact</b>. For example, “the square root of x is a number y such that y*y = x.” This is a statement of fact. Unfortunately it doesn’t tell us how to find a square root.\n",
    "\n",
    "<p><b>Imperative</b> knowledge is <b>“how to” knowledge</b>,or <b>recipes for deducing information</b>"
   ]
  },
  {
   "cell_type": "markdown",
   "metadata": {},
   "source": [
    "# Algorithm \n",
    "A bit more formally, an algorithm is <b>a finite list of instructions</b> that describe a\n",
    "computation that when executed on a provided set of inputs will proceed\n",
    "through a set of well-defined states and eventually produce an output.\n",
    "\n",
    "Algorithms are recipes"
   ]
  },
  {
   "cell_type": "markdown",
   "metadata": {},
   "source": [
    "# computers\n",
    "\n",
    "<h3>fixed-program computers</h3>\n",
    "they were designed to do very specific things, and were mostly tools to solve a specific mathematical problem, e.g., to compute the trajectory of an artillery shell.\n",
    "\n",
    "<h3> stored-program computer</h3>\n",
    "Such a computer stores (and manipulates) a sequence of instructions, and has a set of elements that will execute any instruction in that sequence.\n",
    "\n",
    "Sequence of instructions (program) stored inside computer\n",
    "\n",
    "Special program (interpreter)executes each instruction in order"
   ]
  },
  {
   "cell_type": "markdown",
   "metadata": {},
   "source": [
    "# Programming language\n",
    "\n",
    "To create recipes, or <b>sequences of instructions</b>, we need <b>a programming language</b> in which to describe these things, a way to give the computer its  marching orders.\n",
    "<hr/>\n",
    "The <b>Church-Turing thesis</b> states that if a function is computable, a Turing Machine can be programmed to compute it.\n",
    "\n",
    "The Church-Turing thesis leads directly to the notion of Turing completeness.\n",
    "A programming language is said to be Turing complete if it can be used to simulate a universal Turing Machine. \n",
    "\n",
    "In 1936, Alan Turing showed that with<b> six simple primitives</b>, anything that could be described in a mechanical process. That's an incredible statement. It says, with six primitives, I can rule the world. I can program anything.\n",
    "\n",
    "All modern programming languages are Turing complete.\n",
    "<hr/>\n",
    "Each programming language has a set of primitive constructs, a syntax, a static semantics, and a semantics\n",
    "\n",
    "The <b>primitive constructs</b> Programming language: numbers,strings, simple operators. \n",
    "\n",
    "Python include <b>literals</b> (e.g., the number 3.2 and the string 'abc') and <b>infix operators</b> (e.g., + and /).\n",
    "\n",
    "The <b>syntax</b> of a language defines which strings of characters and symbols are well formed.\n",
    "3.2 + 3.2\n",
    "3.2   3.2\n",
    "\n",
    "The <b>static semantics</b>  defines which syntactically valid strings have a meaning.\n",
    "3.2/'abc'\n",
    "\n",
    "The <b>semantics</b>  of a language associates a meaning with each syntactically correct string of symbols that has no static semantic errors.\n",
    "\n",
    "Programming languages always has <b>exactly one meaning</b>\n"
   ]
  },
  {
   "cell_type": "markdown",
   "metadata": {},
   "source": [
    "# Where can things go wrong?\n",
    "<ol>\n",
    "<li>Syntactic errors - Common but easily caught by computer\n",
    "<li>Static semantic errors - Some languages check carefully before running(Java),others check while interpreting the\n",
    "program(Python); If not caught,behavior of program unpredictable\n",
    "</ol>\n",
    "\n",
    "If a program has no syntactic errors and no static semantic errors, it has a meaning, i.e., it has semantics.\n",
    "Programs don’t have semantic errors,but meaning may <b>not be what was intended</b>: crash, never stop,an answer that might, or might not, be correct."
   ]
  },
  {
   "cell_type": "markdown",
   "metadata": {
    "collapsed": true
   },
   "source": [
    "# Our goal\n",
    "<ol>\n",
    "<li>The syntax and semantics of a programming language: Python\n",
    "<li>How to use those elements to translate“recipes” for solving a problem into a form that the computer can use to do the work for us\n",
    "<li>Computational modes of thought enable us to use a suite of methods to solve problems\n",
    "</ol>\n"
   ]
  },
  {
   "cell_type": "code",
   "execution_count": null,
   "metadata": {
    "collapsed": true
   },
   "outputs": [],
   "source": []
  }
 ],
 "metadata": {
  "kernelspec": {
   "display_name": "Python 3",
   "language": "python",
   "name": "python3"
  },
  "language_info": {
   "codemirror_mode": {
    "name": "ipython",
    "version": 3
   },
   "file_extension": ".py",
   "mimetype": "text/x-python",
   "name": "python",
   "nbconvert_exporter": "python",
   "pygments_lexer": "ipython3",
   "version": "3.4.3"
  }
 },
 "nbformat": 4,
 "nbformat_minor": 0
}
