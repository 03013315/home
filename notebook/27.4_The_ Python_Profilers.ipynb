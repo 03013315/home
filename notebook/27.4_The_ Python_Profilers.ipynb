{
 "cells": [
  {
   "cell_type": "markdown",
   "metadata": {
    "collapsed": true
   },
   "source": [
    "# 27.4. The Python Profilers  \n",
    "\n",
    "https://docs.python.org/3/library/profile.html\n",
    "\n",
    "\n",
    "## 27.4.1. Introduction to the profilers\n",
    "\n",
    "`cProfile` and `profile` provide deterministic profiling of Python programs. \n",
    "\n",
    "A profile is a set of statistics that describes how often and for how long various parts of the program executed. These statistics can be formatted into reports via the `pstats` module.\n",
    "\n",
    "The Python standard library provides two different implementations of the same profiling interface:\n",
    "\n",
    "1. `cProfile` is recommended for most users; it’s a C extension with reasonable overhead that makes it suitable for profiling long-running programs. Based on `lsprof`, contributed by Brett Rosen and Ted Czotter.\n",
    "\n",
    "2. `profile`, a pure Python module whose interface is imitated by cProfile, but which adds significant overhead to profiled programs. If you’re trying to extend the profiler in some way, the task might be easier with this module. Originally designed and written by Jim Roskind.\n",
    "\n",
    "    \n",
    "    "
   ]
  },
  {
   "cell_type": "markdown",
   "metadata": {
    "collapsed": true
   },
   "source": [
    "### 27.4.2. Instant User’s Manual\n",
    "\n",
    "This section is provided for users that “don’t want to read the manual.” It provides a very brief overview, and allows a user to rapidly perform profiling on an existing application.\n",
    "\n",
    "To profile a function that takes a single argument, you can do:\n"
   ]
  },
  {
   "cell_type": "markdown",
   "metadata": {},
   "source": [
    "Use `profile` instead of `cProfile` if the latter is not available on your system.\n",
    "\n",
    "The action would run `re.compile()` and print profile results like the following:\n"
   ]
  },
  {
   "cell_type": "code",
   "execution_count": 1,
   "metadata": {
    "collapsed": false
   },
   "outputs": [
    {
     "name": "stdout",
     "output_type": "stream",
     "text": [
      "         199 function calls (194 primitive calls) in 0.001 seconds\n",
      "\n",
      "   Ordered by: standard name\n",
      "\n",
      "   ncalls  tottime  percall  cumtime  percall filename:lineno(function)\n",
      "        1    0.000    0.000    0.001    0.001 <string>:1(<module>)\n",
      "        1    0.000    0.000    0.000    0.000 re.py:221(compile)\n",
      "        1    0.000    0.000    0.000    0.000 re.py:277(_compile)\n",
      "        1    0.000    0.000    0.000    0.000 sre_compile.py:227(_compile_charset)\n",
      "        1    0.000    0.000    0.000    0.000 sre_compile.py:255(_optimize_charset)\n",
      "        1    0.000    0.000    0.000    0.000 sre_compile.py:444(_compile_info)\n",
      "        2    0.000    0.000    0.000    0.000 sre_compile.py:545(isstring)\n",
      "        1    0.000    0.000    0.000    0.000 sre_compile.py:548(_code)\n",
      "        1    0.000    0.000    0.000    0.000 sre_compile.py:563(compile)\n",
      "      3/1    0.000    0.000    0.000    0.000 sre_compile.py:70(_compile)\n",
      "        5    0.000    0.000    0.000    0.000 sre_parse.py:138(__len__)\n",
      "       12    0.000    0.000    0.000    0.000 sre_parse.py:142(__getitem__)\n",
      "        7    0.000    0.000    0.000    0.000 sre_parse.py:150(append)\n",
      "      3/1    0.000    0.000    0.000    0.000 sre_parse.py:152(getwidth)\n",
      "        1    0.000    0.000    0.000    0.000 sre_parse.py:190(__init__)\n",
      "       10    0.000    0.000    0.000    0.000 sre_parse.py:195(__next)\n",
      "        2    0.000    0.000    0.000    0.000 sre_parse.py:214(match)\n",
      "        8    0.000    0.000    0.000    0.000 sre_parse.py:220(get)\n",
      "        1    0.000    0.000    0.000    0.000 sre_parse.py:363(_parse_sub)\n",
      "        2    0.000    0.000    0.000    0.000 sre_parse.py:441(_parse)\n",
      "        1    0.000    0.000    0.000    0.000 sre_parse.py:67(__init__)\n",
      "        1    0.000    0.000    0.000    0.000 sre_parse.py:738(fix_flags)\n",
      "        1    0.000    0.000    0.000    0.000 sre_parse.py:750(parse)\n",
      "        3    0.000    0.000    0.000    0.000 sre_parse.py:90(__init__)\n",
      "        1    0.000    0.000    0.000    0.000 {built-in method compile}\n",
      "        1    0.000    0.000    0.001    0.001 {built-in method exec}\n",
      "       17    0.000    0.000    0.000    0.000 {built-in method isinstance}\n",
      "    39/38    0.000    0.000    0.000    0.000 {built-in method len}\n",
      "        2    0.000    0.000    0.000    0.000 {built-in method max}\n",
      "        8    0.000    0.000    0.000    0.000 {built-in method min}\n",
      "        6    0.000    0.000    0.000    0.000 {built-in method ord}\n",
      "       48    0.000    0.000    0.000    0.000 {method 'append' of 'list' objects}\n",
      "        1    0.000    0.000    0.000    0.000 {method 'disable' of '_lsprof.Profiler' objects}\n",
      "        5    0.000    0.000    0.000    0.000 {method 'find' of 'bytearray' objects}\n",
      "        1    0.000    0.000    0.000    0.000 {method 'items' of 'dict' objects}\n",
      "\n",
      "\n"
     ]
    }
   ],
   "source": [
    "import cProfile\n",
    "import re\n",
    "cProfile.run('re.compile(\"foo|bar\")')"
   ]
  },
  {
   "cell_type": "markdown",
   "metadata": {},
   "source": [
    "1 <b>The first line</b> indicates that 199 calls were monitored. Of those calls, 197 were <b>primitive</b>, meaning that the call was <b>not induced via recursion</b>. \n",
    "\n",
    "2 <b>The next line</b>: Ordered by: standard name, indicates that the text string in the far right column was used to sort the output. \n",
    "\n",
    "3 <b>The column headings</b> include:\n",
    "\n",
    "(1) ncalls for the number of calls,\n",
    "\n",
    "(2) tottime for the total time spent in the given function (and excluding time made in calls to sub-functions)\n",
    "\n",
    "(3) percall is the quotient of tottime divided by ncalls \n",
    "\n",
    "(4) cumtime is the cumulative time spent in this and all subfunctions (from invocation till exit). This figure is accurate even for recursive functions.\n",
    "\n",
    "(5) percall is the quotient of cumtime divided by primitive calls\n",
    "\n",
    "(6) filename:lineno(function) provides the respective data of each function \n",
    "\n",
    "When there are two numbers in <b>the first column</b> (for example 3/1), it means that the function recursed. The second value is the number of primitive calls and the former is the total number of calls. Note that when the function does not recurse, these two values are the same, and only the single figure is printed.\n",
    "\n"
   ]
  },
  {
   "cell_type": "markdown",
   "metadata": {},
   "source": [
    "#### Instead of printing the output at the end of the profile run, you can <b>save the results to a file</b> by specifying a filename to the `run()` function:"
   ]
  },
  {
   "cell_type": "code",
   "execution_count": 2,
   "metadata": {
    "collapsed": true
   },
   "outputs": [],
   "source": [
    "import cProfile\n",
    "import re\n",
    "cProfile.run('re.compile(\"foo|bar\")', 'restats')"
   ]
  },
  {
   "cell_type": "code",
   "execution_count": null,
   "metadata": {
    "collapsed": true
   },
   "outputs": [],
   "source": []
  }
 ],
 "metadata": {
  "kernelspec": {
   "display_name": "Python 3",
   "language": "python",
   "name": "python3"
  },
  "language_info": {
   "codemirror_mode": {
    "name": "ipython",
    "version": 3
   },
   "file_extension": ".py",
   "mimetype": "text/x-python",
   "name": "python",
   "nbconvert_exporter": "python",
   "pygments_lexer": "ipython3",
   "version": "3.4.3"
  }
 },
 "nbformat": 4,
 "nbformat_minor": 0
}
