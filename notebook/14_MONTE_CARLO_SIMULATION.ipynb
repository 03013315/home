{
 "cells": [
  {
   "cell_type": "markdown",
   "metadata": {},
   "source": [
    "# 14 MONTE CARLO SIMULATION\n",
    "\n",
    "Stanislaw Ulam and Nicholas Metropolis coined the term <b>Monte Carlo simulation</b> in 1949 in homage to the games of chance played in the casino in the Principality of Monaco.\n",
    "\n",
    "## 14.1 Pascal’s Problem\n",
    "\n",
    "Pascal’s interest in the field that came to be known as probability theory began when a friend asked him <b>whether or not it would be profitable to bet that within twenty-four rolls of a pair of dice he would roll a double six</b>\n",
    "\n",
    "In the long run it <b>would not be profitable to bet</b> on rolling a double six within twenty-four rolls"
   ]
  },
  {
   "cell_type": "code",
   "execution_count": 15,
   "metadata": {
    "collapsed": false
   },
   "outputs": [
    {
     "name": "stdout",
     "output_type": "stream",
     "text": [
      "Probability of winning = 0.486\n"
     ]
    }
   ],
   "source": [
    "import random\n",
    "#Page 194, figure 14.1\n",
    "def rollDie():\n",
    "    return random.choice([1,2,3,4,5,6])\n",
    "\n",
    "def checkPascal(numTrials):\n",
    "    \"\"\"Assumes numTrials an int > 0\n",
    "       Prints an estimate of the probability of winning\"\"\"\n",
    "    numWins = 0.0\n",
    "    for i in range(numTrials):\n",
    "        for j in range(24):\n",
    "            d1 = rollDie()\n",
    "            d2 = rollDie()\n",
    "            if d1 == 6 and d2 == 6:\n",
    "                numWins += 1\n",
    "                break\n",
    "    print('Probability of winning =', numWins/numTrials)\n",
    "\n",
    "checkPascal(1000)"
   ]
  },
  {
   "cell_type": "code",
   "execution_count": 16,
   "metadata": {
    "collapsed": false
   },
   "outputs": [
    {
     "data": {
      "text/plain": [
       "0.4914038761309034"
      ]
     },
     "execution_count": 16,
     "metadata": {},
     "output_type": "execute_result"
    }
   ],
   "source": [
    "1 - (35.0/36.0)**24"
   ]
  },
  {
   "cell_type": "markdown",
   "metadata": {},
   "source": [
    "## 14.2 Pass or Don’t Pass?\n",
    "\n",
    "In the game craps, the shooter (the person who rolls the dice) chooses between making a “pass line” or a “don’t pass line” bet."
   ]
  },
  {
   "cell_type": "code",
   "execution_count": 23,
   "metadata": {
    "collapsed": true
   },
   "outputs": [],
   "source": [
    "import pylab, random\n",
    "#Page 196, Figure 14.2\n",
    "class CrapsGame(object):\n",
    "    def __init__(self):\n",
    "        self.passWins, self.passLosses = (0,0)\n",
    "        self.dpWins, self.dpLosses, self.dpPushes = (0,0,0)\n",
    "\n",
    "    def playHand(self):\n",
    "        throw = rollDie() + rollDie()\n",
    "        if throw == 7 or throw == 11:\n",
    "            self.passWins += 1\n",
    "            self.dpLosses += 1\n",
    "        elif throw == 2 or throw == 3 or throw == 12:\n",
    "            self.passLosses += 1\n",
    "            if throw == 12:\n",
    "                self.dpPushes += 1\n",
    "            else:\n",
    "                self.dpWins += 1\n",
    "        else:\n",
    "            point = throw\n",
    "            while True:\n",
    "                throw = rollDie() + rollDie()\n",
    "                if throw == point:\n",
    "                    self.passWins += 1\n",
    "                    self.dpLosses += 1\n",
    "                    break\n",
    "                elif throw == 7:\n",
    "                    self.passLosses += 1\n",
    "                    self.dpWins += 1\n",
    "                    break\n",
    "\n",
    "    def passResults(self):\n",
    "        return (self.passWins, self.passLosses)\n",
    "\n",
    "    def dpResults(self):\n",
    "        return (self.dpWins, self.dpLosses, self.dpPushes)\n",
    "\n"
   ]
  },
  {
   "cell_type": "markdown",
   "metadata": {},
   "source": [
    "Figure 14.3 contains a function that uses class `CrapsGame`. \n",
    "\n",
    "Its structure is typical of many simulation programs"
   ]
  },
  {
   "cell_type": "code",
   "execution_count": 28,
   "metadata": {
    "collapsed": true
   },
   "outputs": [],
   "source": [
    "def stdDev(X):\n",
    "    \"\"\"Assumes that X is a list of numbers.\n",
    "       Returns the standard deviation of X\"\"\"\n",
    "    mean = float(sum(X))/len(X)\n",
    "    tot = 0.0\n",
    "    for x in X:\n",
    "        tot += (x - mean)**2\n",
    "    return (tot/len(X))**0.5 #Square root of mean difference\n",
    "\n",
    "#Page 197, Figure 14.3\n",
    "def crapsSim(handsPerGame, numGames):\n",
    "    \"\"\"Assumes handsPerGame and numGames are ints > 0\n",
    "       Play numGames games of handsPerGame hands, and print results\"\"\"\n",
    "    games = []\n",
    "\n",
    "    #Play numGames games\n",
    "    for t in xrange(numGames):\n",
    "        c = CrapsGame()\n",
    "        for i in xrange(handsPerGame):\n",
    "            c.playHand()\n",
    "        games.append(c)\n",
    "        \n",
    "    #Produce statistics for each game\n",
    "    pROIPerGame, dpROIPerGame = [], []\n",
    "    for g in games:\n",
    "        wins, losses = g.passResults()\n",
    "        pROIPerGame.append((wins - losses)/float(handsPerGame))\n",
    "        wins, losses, pushes = g.dpResults()\n",
    "        dpROIPerGame.append((wins - losses)/float(handsPerGame))\n",
    "        \n",
    "    #Produce and print summary statistics\n",
    "    meanROI = str(round((100.0*sum(pROIPerGame)/numGames), 4)) + '%'\n",
    "    sigma = str(round(100.0*stdDev(pROIPerGame), 4)) + '%'\n",
    "    print('Pass:', 'Mean ROI =', meanROI, 'Std. Dev. =', sigma)\n",
    "    meanROI = str(round((100.0*sum(dpROIPerGame)/numGames), 4)) + '%'\n",
    "    sigma = str(round(100.0*stdDev(dpROIPerGame), 4)) + '%'\n",
    "    print('Don\\'t pass:','Mean ROI =', meanROI, 'Std Dev =', sigma)"
   ]
  },
  {
   "cell_type": "code",
   "execution_count": null,
   "metadata": {
    "collapsed": true
   },
   "outputs": [],
   "source": []
  },
  {
   "cell_type": "markdown",
   "metadata": {},
   "source": [
    "Let’s run our craps simulation and see what happens"
   ]
  },
  {
   "cell_type": "code",
   "execution_count": 29,
   "metadata": {
    "collapsed": false
   },
   "outputs": [
    {
     "name": "stdout",
     "output_type": "stream",
     "text": [
      "Pass: Mean ROI = 1.0% Std. Dev. = 21.1896%\n",
      "Don't pass: Mean ROI = -2.0% Std Dev = 20.7605%\n"
     ]
    }
   ],
   "source": [
    "crapsSim(20, 10)"
   ]
  },
  {
   "cell_type": "markdown",
   "metadata": {},
   "source": [
    "## 14.3 Using Table Lookup to Improve Performance\n",
    "\n",
    "That raises the question of whether there is a simple way to speed up the simulation.\n",
    "\n",
    "The idea of replacing computation by <b>table lookup</b> has broad applicability and is frequently used when speed is an issue. Table lookup is an example of the\n",
    "general idea of <b>trading time for space</b>.\n",
    "\n",
    "Using table lookup to improve performance"
   ]
  },
  {
   "cell_type": "code",
   "execution_count": null,
   "metadata": {
    "collapsed": true
   },
   "outputs": [],
   "source": [
    "#Page 196, Figure 14.2\n",
    "class FastCrapsGame(CrapsGame):\n",
    "    \n",
    "#Page 200, Figure 14.4\n",
    "    def playHand(self):\n",
    "        #An alternative, faster, implementation of playHand\n",
    "        pointsDict = {4:1/3.0, 5:2/5.0, 6:5/11.0, 8:5/11.0,\n",
    "                  9:2/5.0, 10:1/3.0}\n",
    "        throw = rollDie() + rollDie()\n",
    "        if throw == 7 or throw == 11:\n",
    "            self.passWins += 1\n",
    "            self.dpLosses += 1\n",
    "        elif throw == 2 or throw == 3 or throw == 12:\n",
    "                self.passLosses += 1\n",
    "            if throw == 12:\n",
    "                self.dpPushes += 1\n",
    "            else:\n",
    "                self.dpWins += 1\n",
    "        else:\n",
    "            if random.random() <= pointsDict[throw]: # point before 7\n",
    "                self.passWins += 1\n",
    "                self.dpLosses += 1\n",
    "            else:                                    # 7 before point\n",
    "                self.passLosses += 1\n",
    "                self.dpWins += 1\n"
   ]
  },
  {
   "cell_type": "code",
   "execution_count": null,
   "metadata": {
    "collapsed": true
   },
   "outputs": [],
   "source": [
    "def stdDev(X):\n",
    "    \"\"\"Assumes that X is a list of numbers.\n",
    "       Returns the standard deviation of X\"\"\"\n",
    "    mean = float(sum(X))/len(X)\n",
    "    tot = 0.0\n",
    "    for x in X:\n",
    "        tot += (x - mean)**2\n",
    "    return (tot/len(X))**0.5 #Square root of mean difference\n",
    "\n",
    "#Page 197, Figure 14.3\n",
    "def crapsSim(handsPerGame, numGames):\n",
    "    \"\"\"Assumes handsPerGame and numGames are ints > 0\n",
    "       Play numGames games of handsPerGame hands, and print results\"\"\"\n",
    "    games = []\n",
    "\n",
    "    #Play numGames games\n",
    "    for t in xrange(numGames):\n",
    "        c = CrapsGame()\n",
    "        for i in xrange(handsPerGame):\n",
    "            c.playHand()\n",
    "        games.append(c)\n",
    "        \n",
    "    #Produce statistics for each game\n",
    "    pROIPerGame, dpROIPerGame = [], []\n",
    "    for g in games:\n",
    "        wins, losses = g.passResults()\n",
    "        pROIPerGame.append((wins - losses)/float(handsPerGame))\n",
    "        wins, losses, pushes = g.dpResults()\n",
    "        dpROIPerGame.append((wins - losses)/float(handsPerGame))\n",
    "        \n",
    "    #Produce and print summary statistics\n",
    "    meanROI = str(round((100.0*sum(pROIPerGame)/numGames), 4)) + '%'\n",
    "    sigma = str(round(100.0*stdDev(pROIPerGame), 4)) + '%'\n",
    "    print('Pass:', 'Mean ROI =', meanROI, 'Std. Dev. =', sigma)\n",
    "    meanROI = str(round((100.0*sum(dpROIPerGame)/numGames), 4)) + '%'\n",
    "    sigma = str(round(100.0*stdDev(dpROIPerGame), 4)) + '%'\n",
    "    print('Don\\'t pass:','Mean ROI =', meanROI, 'Std Dev =', sigma)"
   ]
  },
  {
   "cell_type": "markdown",
   "metadata": {},
   "source": [
    "## 14.4 Finding π\n",
    "\n",
    "Monte Carlo simulation (and randomized algorithms in general) can be used to solve problems that are not inherently stochastic, i.e., for which there is no\n",
    "uncertainty about outcomes."
   ]
  },
  {
   "cell_type": "code",
   "execution_count": 33,
   "metadata": {
    "collapsed": false
   },
   "outputs": [],
   "source": [
    "# Page 203, Figure 14.5\n",
    "def throwNeedles(numNeedles):\n",
    "    inCircle = 0\n",
    "    for Needles in range(1, numNeedles + 1):\n",
    "        x = random.random()\n",
    "        y = random.random()\n",
    "        if (x*x + y*y)**0.5 <= 1.0:\n",
    "            inCircle += 1\n",
    "    #Counting needles in one quadrant only, so multiply by 4\n",
    "    return 4*(inCircle/float(numNeedles))\n",
    "\n",
    "def getEst(numNeedles, numTrials):\n",
    "    estimates = []\n",
    "    for t in range(numTrials):\n",
    "        piGuess = throwNeedles(numNeedles)\n",
    "        estimates.append(piGuess)\n",
    "    sDev = stdDev(estimates)\n",
    "    curEst = sum(estimates)/len(estimates)\n",
    "    print('Est. = ' + str(round(curEst, 5)) +\n",
    "          ', Std. dev. = ' + str(round(sDev, 5))\n",
    "          + ', Needles = ' + str(numNeedles))\n",
    "    return (curEst, sDev)\n",
    "\n",
    "def estPi(precision, numTrials):\n",
    "    numNeedles = 1000\n",
    "    sDev = precision\n",
    "    while sDev >= precision/2.0:\n",
    "        curEst, sDev = getEst(numNeedles, numTrials)\n",
    "        numNeedles *= 2\n",
    "    return curEst\n"
   ]
  },
  {
   "cell_type": "code",
   "execution_count": 35,
   "metadata": {
    "collapsed": false
   },
   "outputs": [
    {
     "name": "stdout",
     "output_type": "stream",
     "text": [
      "Est. = 3.1368, Std. dev. = 0.05668, Needles = 1000\n",
      "Est. = 3.14526, Std. dev. = 0.03752, Needles = 2000\n",
      "Est. = 3.14589, Std. dev. = 0.02556, Needles = 4000\n",
      "Est. = 3.14122, Std. dev. = 0.01656, Needles = 8000\n",
      "Est. = 3.13899, Std. dev. = 0.01413, Needles = 16000\n",
      "Est. = 3.14193, Std. dev. = 0.00869, Needles = 32000\n",
      "Est. = 3.14152, Std. dev. = 0.00636, Needles = 64000\n",
      "Est. = 3.14169, Std. dev. = 0.00467, Needles = 128000\n"
     ]
    },
    {
     "data": {
      "text/plain": [
       "3.1416853125"
      ]
     },
     "execution_count": 35,
     "metadata": {},
     "output_type": "execute_result"
    }
   ],
   "source": [
    "estPi(0.01, 100)"
   ]
  },
  {
   "cell_type": "markdown",
   "metadata": {},
   "source": [
    "## 14.5 Some Closing Remarks About Simulation Models\n",
    "\n",
    "For most of the history of science, theorists used mathematical techniques to construct purely analytical models that could be used to predict the behavior of a system from a set of parameters and initial conditions.\n",
    "\n",
    "As the 20th century progressed, the limitations of this approach became increasingly clear. Reasons for this include:\n",
    "```\n",
    "1 An increased interest in <b>the social sciences</b>\n",
    "\n",
    "2 As the systems to be modeled grew <b>increasingly complex</b>, it seemed easier to successively refine a series of simulation models than to construct accurate analytic models\n",
    "\n",
    "3 It is often easier to extract useful intermediate results from a simulation than from an analytical model\n",
    "\n",
    "4 The <b>availability of computers</b> made it feasible to run large-scale simulations\n",
    "```\n",
    "Simulation attempts to build an experimental device, called <b>a model</b>, that will provide useful information about the possible behaviors of the system being modeled.\n",
    "\n",
    "Simulation models are <b>descriptive</b>, <b>not prescriptive</b>. They tell how a system works under given conditions; not how to arrange the conditions to make the system work best.\n",
    "\n",
    "Simulation models can be classified along <b>three dimensions</b>:\n",
    "\n",
    "• Deterministic versus stochastic,\n",
    "\n",
    "• Static versus dynamic, and\n",
    "\n",
    "• Discrete versus continuous."
   ]
  },
  {
   "cell_type": "code",
   "execution_count": null,
   "metadata": {
    "collapsed": true
   },
   "outputs": [],
   "source": []
  }
 ],
 "metadata": {
  "kernelspec": {
   "display_name": "Python 3",
   "language": "python",
   "name": "python3"
  },
  "language_info": {
   "codemirror_mode": {
    "name": "ipython",
    "version": 3
   },
   "file_extension": ".py",
   "mimetype": "text/x-python",
   "name": "python",
   "nbconvert_exporter": "python",
   "pygments_lexer": "ipython3",
   "version": "3.4.3"
  }
 },
 "nbformat": 4,
 "nbformat_minor": 0
}
