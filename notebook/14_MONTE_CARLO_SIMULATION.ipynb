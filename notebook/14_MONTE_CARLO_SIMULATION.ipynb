{
 "cells": [
  {
   "cell_type": "markdown",
   "metadata": {},
   "source": [
    "# 14 MONTE CARLO SIMULATION\n",
    "\n",
    "Stanislaw Ulam and Nicholas Metropolis coined the term <b>Monte Carlo simulation</b> in 1949 in homage to the games of chance played in the casino in the Principality of Monaco.\n",
    "\n",
    "Stanislaw Ulam：\n",
    "\n",
    "```\n",
    "I wondered whether a more practical method than “abstract thinking” might not be to lay it out say \n",
    "one hundred times and simply observe and count the number of successful plays\n",
    "\n",
    "This was already possible to envisage with the beginning of the new era of fast computers\n",
    "\n",
    "```\n",
    "\n",
    "## 14.1 Pascal’s Problem\n",
    "\n",
    "Pascal’s interest in the field that came to be known as probability theory began when a friend asked him <b>whether or not it would be profitable to bet that within twenty-four rolls of a pair of dice he would roll a double six</b>\n",
    "\n",
    "In the long run it <b>would not be profitable to bet</b> on rolling a double six within twenty-four rolls\n",
    "\n"
   ]
  },
  {
   "cell_type": "code",
   "execution_count": null,
   "metadata": {
    "collapsed": false
   },
   "outputs": [],
   "source": [
    "import random\n",
    "#Page 194, figure 14.1\n",
    "def rollDie():\n",
    "    return random.choice([1,2,3,4,5,6])\n",
    "\n",
    "def checkPascal(numTrials):\n",
    "    \"\"\"Assumes numTrials an int > 0\n",
    "       Prints an estimate of the probability of winning\"\"\"\n",
    "    numWins = 0.0\n",
    "    for i in range(numTrials):\n",
    "        for j in range(24):\n",
    "            d1 = rollDie()\n",
    "            d2 = rollDie()\n",
    "            if d1 == 6 and d2 == 6:\n",
    "                numWins += 1\n",
    "                break\n",
    "    print('Probability of winning =', numWins/numTrials)\n",
    "\n",
    "checkPascal(1000)"
   ]
  },
  {
   "cell_type": "code",
   "execution_count": null,
   "metadata": {
    "collapsed": false
   },
   "outputs": [],
   "source": [
    "1 - (35.0/36.0)**24"
   ]
  },
  {
   "cell_type": "markdown",
   "metadata": {},
   "source": [
    "## 14.2 Pass or Don’t Pass?\n",
    "\n",
    "In the game craps, the shooter (the person who rolls the dice) chooses between making a “pass line” or a “don’t pass line” bet.\n",
    "\n",
    "<b>Pass Line</b>\n",
    "\n",
    "1)Shooter wins if the first roll (called coming out) is a “natural” (7 or 11) \n",
    "\n",
    "2) loses if it is “craps” (2, 3, or 12). \n",
    "\n",
    "3) If some other number is rolled, that number becomes <b>the “point”</b> and the shooter <b>keeps rolling</b>.\n",
    "     \n",
    "        If the shooter rolls `the point` before rolling a 7, the shooter wins. Otherwise  the shooter loses.\n",
    "\n",
    "<b>Don’t Pass Line</b>: \n",
    "\n",
    "1) Shooter loses if the first roll is 7 or 11, \n",
    "  \n",
    "2) wins if it is 2 or 3,\n",
    "\n",
    "3) ties (a “push” in gambling jargon) if it is 12. \n",
    "\n",
    "4) If some other number is rolled, that number becomes the point and shooter keeps rolling.\n",
    "\n",
    "       If the shooter rolls a 7 before rolling the point, the shooter wins. Otherwise the shooter loses.\n",
    "\n",
    "#### Is one of these a better bet than the other? Is either a good bet?\n",
    "\n",
    "It seems easier to write a program that simulates a craps game, and see what happens."
   ]
  },
  {
   "cell_type": "code",
   "execution_count": null,
   "metadata": {
    "collapsed": true
   },
   "outputs": [],
   "source": [
    "import pylab, random\n",
    "#Page 196, Figure 14.2\n",
    "class CrapsGame(object):\n",
    "    def __init__(self):\n",
    "        #pass line\n",
    "        self.passWins, self.passLosses = (0,0)\n",
    "        # don't pass line \n",
    "        self.dpWins, self.dpLosses, self.dpPushes = (0,0,0)\n",
    "\n",
    "    def playHand(self):\n",
    "        throw = rollDie() + rollDie()\n",
    "        if throw == 7 or throw == 11:\n",
    "            self.passWins += 1\n",
    "            self.dpLosses += 1\n",
    "        elif throw == 2 or throw == 3 or throw == 12:\n",
    "            self.passLosses += 1\n",
    "            if throw == 12:  # ties\n",
    "                self.dpPushes += 1\n",
    "            else:\n",
    "                self.dpWins += 1\n",
    "        else:\n",
    "            # a point is established, the shooter keeps rolling\n",
    "            point = throw\n",
    "            while True:\n",
    "                throw = rollDie() + rollDie()\n",
    "                if throw == point:\n",
    "                    self.passWins += 1\n",
    "                    self.dpLosses += 1\n",
    "                    break\n",
    "                elif throw == 7:\n",
    "                    self.passLosses += 1\n",
    "                    self.dpWins += 1\n",
    "                    break\n",
    "\n",
    "    def passResults(self):\n",
    "        return (self.passWins, self.passLosses)\n",
    "\n",
    "    def dpResults(self):\n",
    "        return (self.dpWins, self.dpLosses, self.dpPushes)\n",
    "\n"
   ]
  },
  {
   "cell_type": "markdown",
   "metadata": {},
   "source": [
    "Figure 14.3 contains a function that uses class CrapsGame. Its structure is\n",
    "typical of many simulation programs:\n",
    "\n",
    "1. It runs multiple games (think of each game as analogous to a trial in our earlier simulations) and accumulates the results. Each game includes multiple hands, so there is a nested loop.\n",
    "\n",
    "2. It then produces and stores statistics for each game.\n",
    "\n",
    "3. Finally it produces and outputs summary statistics. In this case, it  prints the expected return on investment (ROI) or each kind of betting line and the standard deviation of that ROI\n",
    "\n",
    "Rreturn on investment (ROI):\n",
    "\n",
    "$ROI=\\frac{gain from investment - cost of investment}{cost of investment}$"
   ]
  },
  {
   "cell_type": "code",
   "execution_count": null,
   "metadata": {
    "collapsed": true
   },
   "outputs": [],
   "source": [
    "def stdDev(X):\n",
    "    \"\"\"Assumes that X is a list of numbers.\n",
    "       Returns the standard deviation of X\"\"\"\n",
    "    mean = float(sum(X))/len(X)\n",
    "    tot = 0.0\n",
    "    for x in X:\n",
    "        tot += (x - mean)**2\n",
    "    return (tot/len(X))**0.5 #Square root of mean difference\n",
    "\n",
    "#Page 197, Figure 14.3\n",
    "def crapsSim(handsPerGame, numGames):\n",
    "    \"\"\"Assumes handsPerGame and numGames are ints > 0\n",
    "       Play numGames games of handsPerGame hands, and print results\"\"\"\n",
    "    games = []\n",
    "\n",
    "    #1 Play numGames games\n",
    "    for t in range(numGames):\n",
    "        c = CrapsGame()\n",
    "        for i in range(handsPerGame):\n",
    "            c.playHand()\n",
    "        games.append(c)\n",
    "        \n",
    "    #2 Produce statistics for each game\n",
    "    pROIPerGame, dpROIPerGame = [], []\n",
    "    for g in games:\n",
    "        wins, losses = g.passResults()\n",
    "        pROIPerGame.append((wins - losses)/float(handsPerGame))\n",
    "        \n",
    "        wins, losses, pushes = g.dpResults()\n",
    "        dpROIPerGame.append((wins - losses)/float(handsPerGame))\n",
    "        \n",
    "    #3 Produce and print summary statistics\n",
    "    meanROI = str(round((100.0*sum(pROIPerGame)/numGames), 4)) + '%'\n",
    "    sigma = str(round(100.0*stdDev(pROIPerGame), 4)) + '%'\n",
    "    print('Pass:', 'Mean ROI =', meanROI, 'Std. Dev. =', sigma)\n",
    "    \n",
    "    meanROI = str(round((100.0*sum(dpROIPerGame)/numGames), 4)) + '%'\n",
    "    sigma = str(round(100.0*stdDev(dpROIPerGame), 4)) + '%'\n",
    "    print('Don\\'t pass:','Mean ROI =', meanROI, 'Std Dev =', sigma)"
   ]
  },
  {
   "cell_type": "markdown",
   "metadata": {},
   "source": [
    "Let’s run our craps simulation and see what happens"
   ]
  },
  {
   "cell_type": "code",
   "execution_count": null,
   "metadata": {
    "collapsed": false
   },
   "outputs": [],
   "source": [
    "crapsSim(20, 10)"
   ]
  },
  {
   "cell_type": "markdown",
   "metadata": {},
   "source": [
    "increasing the number of hands per game,"
   ]
  },
  {
   "cell_type": "code",
   "execution_count": null,
   "metadata": {
    "collapsed": false
   },
   "outputs": [],
   "source": [
    "crapsSim(1000, 10)"
   ]
  },
  {
   "cell_type": "markdown",
   "metadata": {},
   "source": [
    "we increased the number of games,"
   ]
  },
  {
   "cell_type": "code",
   "execution_count": null,
   "metadata": {
    "collapsed": false
   },
   "outputs": [],
   "source": [
    "crapsSim(20, 1000)"
   ]
  },
  {
   "cell_type": "markdown",
   "metadata": {},
   "source": [
    "#### One of the nice things about simulations is that they make it easy to perform “what if” experiments.\n",
    "\n",
    "For example, what if a player could sneak in a pair of cheater’s dice that favored 5 over 2\n"
   ]
  },
  {
   "cell_type": "code",
   "execution_count": null,
   "metadata": {
    "collapsed": true
   },
   "outputs": [],
   "source": [
    "import random\n",
    "#Page 194, figure 14.1\n",
    "def rollDie():\n",
    "    return random.choice([1,1,2,3,3,4,4,5,5,5,6,6])\n"
   ]
  },
  {
   "cell_type": "code",
   "execution_count": null,
   "metadata": {
    "collapsed": false
   },
   "outputs": [],
   "source": [
    "crapsSim(1000, 10)"
   ]
  },
  {
   "cell_type": "markdown",
   "metadata": {},
   "source": [
    "## 14.3 Using Table Lookup to Improve Performance\n",
    "\n",
    "It takes a long time to complete on most computers. That raises the question of whether\n",
    "there is a simple way to speed up the simulation.\n",
    "\n",
    "The complexity of crapsSim is `O(playHand)*handsPerGame*numGames`. The running time of playHand depends upon the number of times the loop in it is executed\n",
    "\n",
    "For each possible point, one can easily calculate the probability of rolling that point before rolling a seven.\n",
    "\n",
    "We have <b>pre-computed the probability</b> of making the point before rolling a 7 for each possible value of the point, and <b>stored those values in a dictionary</b>.\n",
    "\n",
    "<b>Having this table allows us to replace the inner loop</b>, which contained an unbounded number of rolls,\n",
    "with a test against one call to random.random. The asymptotic complexity of this version of playHand is <b>O(1)</b>.\n",
    "\n",
    "\n",
    "The idea of replacing computation by <b>table lookup</b> has broad applicability and is frequently used when speed is an issue. Table lookup is an example of the general idea of <b>trading time for space</b>.\n",
    "\n",
    "Using table lookup to improve performance"
   ]
  },
  {
   "cell_type": "code",
   "execution_count": null,
   "metadata": {
    "collapsed": false
   },
   "outputs": [],
   "source": [
    "#Page 196, Figure 14.2\n",
    "class FastCrapsGame(CrapsGame):\n",
    "    \n",
    "#Page 200, Figure 14.4\n",
    "    def playHand(self):\n",
    "        #An alternative, faster, implementation of playHand\n",
    "        # pre-computed the probability \n",
    "        pointsDict = {4:1/3.0, 5:2/5.0, 6:5/11.0, 8:5/11.0, 9:2/5.0, 10:1/3.0}\n",
    "       \n",
    "        throw = rollDie() + rollDie()\n",
    "        if throw == 7 or throw == 11:\n",
    "            self.passWins += 1\n",
    "            self.dpLosses += 1\n",
    "        elif throw == 2 or throw == 3 or throw == 12:\n",
    "            self.passLosses += 1\n",
    "            if throw == 12:\n",
    "                self.dpPushes += 1\n",
    "            else:\n",
    "                self.dpWins += 1\n",
    "        else:\n",
    "            # Having this table allows us to replace the inner loop\n",
    "            if random.random() <= pointsDict[throw]: # point before 7\n",
    "                self.passWins += 1\n",
    "                self.dpLosses += 1\n",
    "            else:                                    # 7 before point\n",
    "                self.passLosses += 1\n",
    "                self.dpWins += 1\n"
   ]
  },
  {
   "cell_type": "code",
   "execution_count": null,
   "metadata": {
    "collapsed": true
   },
   "outputs": [],
   "source": [
    "def stdDev(X):\n",
    "    \"\"\"Assumes that X is a list of numbers.\n",
    "       Returns the standard deviation of X\"\"\"\n",
    "    mean = float(sum(X))/len(X)\n",
    "    tot = 0.0\n",
    "    for x in X:\n",
    "        tot += (x - mean)**2\n",
    "    return (tot/len(X))**0.5 #Square root of mean difference\n",
    "\n",
    "#Page 197, Figure 14.3\n",
    "def FastcrapsSim(handsPerGame, numGames):\n",
    "    \"\"\"Assumes handsPerGame and numGames are ints > 0\n",
    "       Play numGames games of handsPerGame hands, and print results\"\"\"\n",
    "    games = []\n",
    "\n",
    "    #Play numGames games\n",
    "    for t in range(numGames):\n",
    "        c = FastCrapsGame()\n",
    "        for i in range(handsPerGame):\n",
    "            c.playHand()\n",
    "        games.append(c)\n",
    "        \n",
    "    #Produce statistics for each game\n",
    "    pROIPerGame, dpROIPerGame = [], []\n",
    "    for g in games:\n",
    "        wins, losses = g.passResults()\n",
    "        pROIPerGame.append((wins - losses)/float(handsPerGame))\n",
    "        wins, losses, pushes = g.dpResults()\n",
    "        dpROIPerGame.append((wins - losses)/float(handsPerGame))\n",
    "        \n",
    "    #Produce and print summary statistics\n",
    "    meanROI = str(round((100.0*sum(pROIPerGame)/numGames), 4)) + '%'\n",
    "    sigma = str(round(100.0*stdDev(pROIPerGame), 4)) + '%'\n",
    "    print('Pass:', 'Mean ROI =', meanROI, 'Std. Dev. =', sigma)\n",
    "    meanROI = str(round((100.0*sum(dpROIPerGame)/numGames), 4)) + '%'\n",
    "    sigma = str(round(100.0*stdDev(dpROIPerGame), 4)) + '%'\n",
    "    print('Don\\'t pass:','Mean ROI =', meanROI, 'Std Dev =', sigma)"
   ]
  },
  {
   "cell_type": "code",
   "execution_count": null,
   "metadata": {
    "collapsed": false
   },
   "outputs": [],
   "source": [
    "%time FastcrapsSim(5000, 10)"
   ]
  },
  {
   "cell_type": "code",
   "execution_count": null,
   "metadata": {
    "collapsed": false
   },
   "outputs": [],
   "source": [
    "%time crapsSim(5000, 10)"
   ]
  },
  {
   "cell_type": "markdown",
   "metadata": {},
   "source": [
    "## 14.4 Finding π\n",
    "\n",
    "Monte Carlo simulation (and randomized algorithms in general) can be used to solve problems that are not inherently stochastic, i.e., for which there is no\n",
    "uncertainty about outcomes."
   ]
  },
  {
   "cell_type": "code",
   "execution_count": null,
   "metadata": {
    "collapsed": false
   },
   "outputs": [],
   "source": [
    "# Page 203, Figure 14.5\n",
    "def throwNeedles(numNeedles):\n",
    "    inCircle = 0\n",
    "    for Needles in range(1, numNeedles + 1):\n",
    "        x = random.random()\n",
    "        y = random.random()\n",
    "        if (x*x + y*y)**0.5 <= 1.0:\n",
    "            inCircle += 1\n",
    "    #Counting needles in one quadrant only, so multiply by 4\n",
    "    return 4*(inCircle/float(numNeedles))\n",
    "\n",
    "def getEst(numNeedles, numTrials):\n",
    "    estimates = []\n",
    "    for t in range(numTrials):\n",
    "        piGuess = throwNeedles(numNeedles)\n",
    "        estimates.append(piGuess)\n",
    "    sDev = stdDev(estimates)\n",
    "    curEst = sum(estimates)/len(estimates)\n",
    "    print('Est. = ' + str(round(curEst, 5)) +\n",
    "          ', Std. dev. = ' + str(round(sDev, 5))\n",
    "          + ', Needles = ' + str(numNeedles))\n",
    "    return (curEst, sDev)\n",
    "\n",
    "def estPi(precision, numTrials):\n",
    "    numNeedles = 1000\n",
    "    sDev = precision\n",
    "    while sDev >= precision/2.0:\n",
    "        curEst, sDev = getEst(numNeedles, numTrials)\n",
    "        numNeedles *= 2\n",
    "    return curEst\n"
   ]
  },
  {
   "cell_type": "code",
   "execution_count": null,
   "metadata": {
    "collapsed": false
   },
   "outputs": [],
   "source": [
    "estPi(0.01, 100)"
   ]
  },
  {
   "cell_type": "markdown",
   "metadata": {},
   "source": [
    "## 14.5 Some Closing Remarks About Simulation Models\n",
    "\n",
    "For most of the history of science, theorists used mathematical techniques to construct purely analytical models that could be used to predict the behavior of a system from a set of parameters and initial conditions.\n",
    "\n",
    "As the 20th century progressed, the limitations of this approach became increasingly clear. Reasons for this include:\n",
    "```\n",
    "1 An increased interest in <b>the social sciences</b>\n",
    "\n",
    "2 As the systems to be modeled grew <b>increasingly complex</b>, it seemed easier to successively refine a series of simulation models than to construct accurate analytic models\n",
    "\n",
    "3 It is often easier to extract useful intermediate results from a simulation than from an analytical model\n",
    "\n",
    "4 The <b>availability of computers</b> made it feasible to run large-scale simulations\n",
    "```\n",
    "Simulation attempts to build an experimental device, called <b>a model</b>, that will provide useful information about the possible behaviors of the system being modeled.\n",
    "\n",
    "Simulation models are <b>descriptive</b>, <b>not prescriptive</b>. They tell how a system works under given conditions; not how to arrange the conditions to make the system work best.\n",
    "\n",
    "Simulation models can be classified along <b>three dimensions</b>:\n",
    "\n",
    "• Deterministic versus stochastic,\n",
    "\n",
    "• Static versus dynamic, and\n",
    "\n",
    "• Discrete versus continuous."
   ]
  },
  {
   "cell_type": "code",
   "execution_count": null,
   "metadata": {
    "collapsed": true
   },
   "outputs": [],
   "source": []
  }
 ],
 "metadata": {
  "kernelspec": {
   "display_name": "Python 3",
   "language": "python",
   "name": "python3"
  },
  "language_info": {
   "codemirror_mode": {
    "name": "ipython",
    "version": 3
   },
   "file_extension": ".py",
   "mimetype": "text/x-python",
   "name": "python",
   "nbconvert_exporter": "python",
   "pygments_lexer": "ipython3",
   "version": "3.4.3"
  }
 },
 "nbformat": 4,
 "nbformat_minor": 0
}
