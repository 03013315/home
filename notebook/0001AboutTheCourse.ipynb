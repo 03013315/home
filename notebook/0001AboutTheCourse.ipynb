{
 "cells": [
  {
   "cell_type": "markdown",
   "metadata": {
    "collapsed": true
   },
   "source": [
    "# GOAL\n",
    "<ol>\n",
    "<li>Python\n",
    "<li>You will feel <b>comfortable bringing computational thinking to bear on solving many of the problems </b>you encounter during your studies, work, and even everyday life.\n",
    "</ol>"
   ]
  },
  {
   "cell_type": "raw",
   "metadata": {},
   "source": [
    "# Textbooks"
   ]
  },
  {
   "cell_type": "markdown",
   "metadata": {
    "collapsed": true
   },
   "source": [
    "<ul>\n",
    "<li>梁杰译. 编程导论. 人民邮电出版社( 第1版) .  2015.03\n",
    "<li>John V. Guttag. Introduction to Computation and Programming Using Python(2nd). MIT Press. 2013.08\n",
    "<li>邹欣. 构建之法: 现代软件工程( 第1版). 人民邮电出版社, 2014.09\n",
    "</ul>"
   ]
  },
  {
   "cell_type": "markdown",
   "metadata": {
    "collapsed": true
   },
   "source": [
    "# Github organization for the course"
   ]
  },
  {
   "cell_type": "markdown",
   "metadata": {
    "collapsed": true
   },
   "source": [
    "Github organization：https://github.com/SEU03013050/\n",
    "<p>•1 Lecture notes\n",
    "<p>•2 Sample code \n",
    "<p>.... \n",
    "\n",
    "<p>organization owner:\n",
    "<p>Github: https://github.com/thermalogic/\n",
    "<p>Email: cmh@seu.edu.cn   \n"
   ]
  },
  {
   "cell_type": "markdown",
   "metadata": {},
   "source": [
    "# 考核"
   ]
  },
  {
   "cell_type": "markdown",
   "metadata": {
    "collapsed": true
   },
   "source": [
    "<ol>\n",
    "<li>课堂互动： 参与次数、内容、质量；\n",
    "<li>程序设计: 1)专业课的习题，自定义问题>5个;  2）语言：Python,C/C++；3）环境：操作系统: Windows/Linux; mobile: Arduino,IOS,开发工具： IDEL，Eclipse，Visual Studio, GIT\n",
    "<li>考试:语言、程序和算法设计（参考edX,MIT、OWC）\n",
    "</ol>"
   ]
  },
  {
   "cell_type": "markdown",
   "metadata": {},
   "source": [
    "# 学习建议"
   ]
  },
  {
   "cell_type": "markdown",
   "metadata": {
    "collapsed": true
   },
   "source": [
    "<p><b>coding，coding,not only reading</b></p>\n",
    "<h3 class=\"subhead\">Note</h3>\n",
    "<ul class=\"arrow\">\n",
    "  <li> 简明教程ABC入门即可，不需要大部头，做中学. 不要做语言和软件包的高手；做解决问题的能手：能编写程序解决学习、工作和生活中的问题</li>\n",
    "  <li> 官网是最佳学习资源</li>\n",
    "</ul>"
   ]
  },
  {
   "cell_type": "code",
   "execution_count": null,
   "metadata": {
    "collapsed": true
   },
   "outputs": [],
   "source": []
  }
 ],
 "metadata": {
  "kernelspec": {
   "display_name": "Python 3",
   "language": "python",
   "name": "python3"
  },
  "language_info": {
   "codemirror_mode": {
    "name": "ipython",
    "version": 3
   },
   "file_extension": ".py",
   "mimetype": "text/x-python",
   "name": "python",
   "nbconvert_exporter": "python",
   "pygments_lexer": "ipython3",
   "version": "3.4.3"
  }
 },
 "nbformat": 4,
 "nbformat_minor": 0
}
