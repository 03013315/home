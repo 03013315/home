{
 "cells": [
  {
   "cell_type": "markdown",
   "metadata": {
    "collapsed": true
   },
   "source": [
    "# Contents\n",
    "<ol>\n",
    "<li>Python language\n",
    "<li>A useful set of algorithmic and problem reduction techniques\n",
    "<li>Software engineering tips & tools for engineers/scientists writing Python code\n",
    "<li>Computational tools to model and understand data.\n",
    "</ol>\n",
    "\n",
    "# GOAL\n",
    "<ol>\n",
    "<li>Writing clean, testable, high quality code in Python\n",
    "<li>The ability and habit of using the original IT resources in English,especially internet resources,to study and develop software\n",
    "</ol>\n",
    "<p><b>You will feel <b>comfortable bringing computational thinking to bear on solving many of the problems you encounter during your studies, work, and even everyday life.</b>\n"
   ]
  },
  {
   "cell_type": "markdown",
   "metadata": {},
   "source": [
    "# Textbooks"
   ]
  },
  {
   "cell_type": "markdown",
   "metadata": {
    "collapsed": true
   },
   "source": [
    "<ul>\n",
    "<li>梁杰译. 编程导论. 人民邮电出版社( 第1版) .  2015.03\n",
    "<li>John V. Guttag. Introduction to Computation and Programming Using Python(2nd). MIT Press. 2013.08\n",
    "<li>张驭宇译. Python数据分析基础教程:NumPy学习指南(第2版).人民邮电出版社; 第1版 2014.01  \n",
    "<li>Ivan Idris. NumPy Beginner’s Guide - Second Edition，Packt Publishing Ltd. April 2013\n",
    "</ul>"
   ]
  },
  {
   "cell_type": "markdown",
   "metadata": {
    "collapsed": true
   },
   "source": [
    "# Github organization for the course"
   ]
  },
  {
   "cell_type": "markdown",
   "metadata": {
    "collapsed": true
   },
   "source": [
    "Github organization：https://github.com/SEU03013050/\n",
    "<p>•1 Lecture notes\n",
    "<p>•2 Sample code \n",
    "<p>.... \n",
    "\n",
    "<p>organization owner:\n",
    "<p>Github: https://github.com/thermalogic/\n",
    "<p>Email: cmh@seu.edu.cn   \n"
   ]
  },
  {
   "cell_type": "markdown",
   "metadata": {},
   "source": [
    "# 考核"
   ]
  },
  {
   "cell_type": "markdown",
   "metadata": {
    "collapsed": true
   },
   "source": [
    "<ol>\n",
    "<li>课堂互动： 参与次数、内容、质量 20分；\n",
    "<li>软件开发: 1）专业课的作业： 自定义5个问题 50分；2）软件开发和维护技术： 使用集成开发环境和GITHUB，10分\n",
    "<li>期末考试: 程序和算法设计基本知识（参考edX），20分\n",
    "</ol>"
   ]
  },
  {
   "cell_type": "markdown",
   "metadata": {},
   "source": [
    "# 学习建议"
   ]
  },
  {
   "cell_type": "markdown",
   "metadata": {
    "collapsed": true
   },
   "source": [
    "<p><b>The only way to learn programming is by doing</b></p>\n",
    "<h3 class=\"subhead\">Note</h3>\n",
    "<ul class=\"arrow\">\n",
    "  <li> 简明教程ABC入门即可，不需要大部头，做中学. 不要做语言和软件包的高手；做解决问题的能手：能编写程序解决学习、工作和生活中的问题</li>\n",
    "  <li> 官网是最佳学习资源,尽可能看英文</li>\n",
    "</ul>"
   ]
  }
 ],
 "metadata": {
  "kernelspec": {
   "display_name": "Python 3",
   "language": "python",
   "name": "python3"
  },
  "language_info": {
   "codemirror_mode": {
    "name": "ipython",
    "version": 3
   },
   "file_extension": ".py",
   "mimetype": "text/x-python",
   "name": "python",
   "nbconvert_exporter": "python",
   "pygments_lexer": "ipython3",
   "version": "3.4.3"
  }
 },
 "nbformat": 4,
 "nbformat_minor": 0
}
