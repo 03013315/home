{
 "cells": [
  {
   "cell_type": "markdown",
   "metadata": {},
   "source": [
    "# 3 SOME SIMPLE NUMERICAL PROGRAMS\n"
   ]
  },
  {
   "cell_type": "markdown",
   "metadata": {},
   "source": [
    "Now that we have covered some basic Python constructs, it is time to start thinking about<b style=\"color:blue\"> how </b>we can combine those constructs to write some<b style=\"color:blue\"> simple programs</b>. \n",
    "<p>Along the way, we’ll sneak in a few more <b>language constructs</b> and some<b> algorithmic techniques</b>."
   ]
  },
  {
   "cell_type": "markdown",
   "metadata": {},
   "source": [
    "# 3.1 Exhaustive Enumeration"
   ]
  },
  {
   "cell_type": "code",
   "execution_count": 1,
   "metadata": {
    "collapsed": false
   },
   "outputs": [
    {
     "name": "stdout",
     "output_type": "stream",
     "text": [
      "Cube root of 8 is 2\n"
     ]
    }
   ],
   "source": [
    "#Page 21, Figure 3.1\n",
    "#Find the cube root of a perfect cube\n",
    "\n",
    "#x = int(input('Enter an integer: '))\n",
    "#x=19\n",
    "x=8\n",
    "#x=-8\n",
    "\n",
    "ans = 0   #  ！！！\n",
    "while ans**3 < abs(x):\n",
    "    ans = ans + 1  # +1  Exhaustive Enumeration\n",
    "\n",
    "if ans**3 != abs(x):\n",
    "    print(x, 'is not a perfect cube')\n",
    "else:\n",
    "    if x < 0:\n",
    "        ans = -ans\n",
    "    print('Cube root of', x,'is', ans)"
   ]
  },
  {
   "cell_type": "markdown",
   "metadata": {},
   "source": [
    "# decrementing function"
   ]
  },
  {
   "cell_type": "markdown",
   "metadata": {
    "collapsed": true
   },
   "source": [
    "What is the decrementing function for the loop in Figure 3.1? It is <b style=\"color:blue\">abs(x) - ans**3.</b>"
   ]
  },
  {
   "cell_type": "markdown",
   "metadata": {
    "collapsed": true
   },
   "source": [
    "Whenever you write a loop, you should think about an appropriate <b>decrementing function.</b> This is a function that has the following properties:\n",
    "<ol>\n",
    "<li>It maps a set of program variables into an integer.\n",
    "<li>When the loop is entered, its value is nonnegative.\n",
    "<li>When its value is <=0, the loop terminates.\n",
    "<li>Its value is decreased every time through the loop.\n",
    "</ol>"
   ]
  },
  {
   "cell_type": "markdown",
   "metadata": {
    "collapsed": true
   },
   "source": [
    "# Now, let’s insert some errors and see what happens"
   ]
  },
  {
   "cell_type": "markdown",
   "metadata": {
    "collapsed": true
   },
   "source": [
    "<b>First</b>, try <b  style=\"color:blue\">commenting out the statement ans = 0</b>. \n",
    "The Python interpreter prints the error message, NameError: name 'ans' is not defined, because the interpreter attempts to  find the value to which ans is bound before it has been bound to anything."
   ]
  },
  {
   "cell_type": "code",
   "execution_count": 1,
   "metadata": {
    "collapsed": false
   },
   "outputs": [
    {
     "ename": "NameError",
     "evalue": "name 'ans' is not defined",
     "output_type": "error",
     "traceback": [
      "\u001b[1;31m---------------------------------------------------------------------------\u001b[0m",
      "\u001b[1;31mNameError\u001b[0m                                 Traceback (most recent call last)",
      "\u001b[1;32m<ipython-input-1-b53e4d5f58f1>\u001b[0m in \u001b[0;36m<module>\u001b[1;34m()\u001b[0m\n\u001b[0;32m      2\u001b[0m \u001b[1;31m# ans = 0   #  commenting out the statement ans = 0\u001b[0m\u001b[1;33m\u001b[0m\u001b[1;33m\u001b[0m\u001b[0m\n\u001b[0;32m      3\u001b[0m \u001b[1;33m\u001b[0m\u001b[0m\n\u001b[1;32m----> 4\u001b[1;33m \u001b[1;32mwhile\u001b[0m \u001b[0mans\u001b[0m\u001b[1;33m**\u001b[0m\u001b[1;36m3\u001b[0m \u001b[1;33m<\u001b[0m \u001b[0mabs\u001b[0m\u001b[1;33m(\u001b[0m\u001b[0mx\u001b[0m\u001b[1;33m)\u001b[0m\u001b[1;33m:\u001b[0m\u001b[1;33m\u001b[0m\u001b[0m\n\u001b[0m\u001b[0;32m      5\u001b[0m     \u001b[0mans\u001b[0m \u001b[1;33m=\u001b[0m \u001b[0mans\u001b[0m \u001b[1;33m+\u001b[0m \u001b[1;36m1\u001b[0m  \u001b[1;31m#\u001b[0m\u001b[1;33m\u001b[0m\u001b[0m\n\u001b[0;32m      6\u001b[0m \u001b[1;33m\u001b[0m\u001b[0m\n",
      "\u001b[1;31mNameError\u001b[0m: name 'ans' is not defined"
     ]
    }
   ],
   "source": [
    "x=-8\n",
    "# ans = 0   #  commenting out the statement ans = 0\n",
    "            #2.When the loop is entered, its value is nonnegative\n",
    "while ans**3 < abs(x):\n",
    "    ans = ans + 1  # \n",
    "\n",
    "if ans**3 != abs(x):\n",
    "    print(x, 'is not a perfect cube')\n",
    "else:\n",
    "    if x < 0:\n",
    "        ans = -ans\n",
    "    print('Cube root of', x,'is', ans)"
   ]
  },
  {
   "cell_type": "markdown",
   "metadata": {},
   "source": [
    "Now,restore the initialization of ans, <b  style=\"color:blue\">replace the statement ans = ans + 1 by ans = ans</b>, and try finding the cube root of 8. After you get <b  style=\"color:red\">tired of waiting</b>, enter <b>“control c”</b> (hold down the control key and the c key simultaneously). This will return you to the user prompt in the shell."
   ]
  },
  {
   "cell_type": "markdown",
   "metadata": {
    "collapsed": true
   },
   "source": [
    "x=8\n",
    "ans = 0  \n",
    "\n",
    "while ans**3 < abs(x):\n",
    "    ans = ans  # replace the statement ans = ans + 1 by ans = ans \n",
    "               # 4.Its value is decreased every time through the loop. \n",
    "               # 3.When its value is <=0, the loop terminates. \n",
    "\n",
    "if ans**3 != abs(x):\n",
    "    print(x, 'is not a perfect cube')\n",
    "else:\n",
    "    if x < 0:\n",
    "        ans = -ans\n",
    "    print('Cube root of', x,'is', ans)"
   ]
  },
  {
   "cell_type": "markdown",
   "metadata": {},
   "source": [
    "Now, add the statement"
   ]
  },
  {
   "cell_type": "code",
   "execution_count": null,
   "metadata": {
    "collapsed": true
   },
   "outputs": [],
   "source": [
    "print 'Value of the decrementing function abs(x) - ans**3 is',\\\n",
    "       abs(x) - ans**3 "
   ]
  },
  {
   "cell_type": "markdown",
   "metadata": {},
   "source": [
    "at the start of the loop, and try running it again. \n",
    "The<b style=\"color:blue\"> \\</b>  at the end of the first line of the print statement is used to indicate that the statement continues on the next line.（Python may no \"\\\")"
   ]
  },
  {
   "cell_type": "markdown",
   "metadata": {},
   "source": [
    "# Do not use backslash line \"\\\" continuation. \n",
    "\n",
    "<p><b>google python style guide</b>\n",
    "\n",
    "<p>Make use of Python's <b>implicit line joining</b> inside <b>parentheses, brackets and braces</b>.\n",
    "<p>If necessary, you can <b>add an extra pair of parentheses around an expression.</b> \n"
   ]
  },
  {
   "cell_type": "raw",
   "metadata": {
    "collapsed": true
   },
   "source": [
    "foo_bar(self, width, height, color='black', design=None, x='foo',\n",
    "             emphasis=None, highlight=0)\n",
    "\n",
    "if (width == 0 and height == 0 and\n",
    "         color == 'red' and emphasis == 'strong'):"
   ]
  },
  {
   "cell_type": "markdown",
   "metadata": {},
   "source": [
    "When a literal string won't fit on a single line, use parentheses for implicit line joining. "
   ]
  },
  {
   "cell_type": "code",
   "execution_count": null,
   "metadata": {
    "collapsed": true
   },
   "outputs": [],
   "source": [
    "x = ('This will build a very long long '\n",
    "     'long long long long long long string')"
   ]
  },
  {
   "cell_type": "code",
   "execution_count": null,
   "metadata": {
    "collapsed": true
   },
   "outputs": [],
   "source": [
    "print ('Value of the decrementing function abs(x) - ans**3 is',\n",
    "       abs(x) - ans**3)  # #Do not use backslash line continuation. "
   ]
  },
  {
   "cell_type": "code",
   "execution_count": 1,
   "metadata": {
    "collapsed": false
   },
   "outputs": [
    {
     "ename": "SyntaxError",
     "evalue": "unexpected character after line continuation character (<ipython-input-1-f8282a454794>, line 6)",
     "output_type": "error",
     "traceback": [
      "\u001b[1;36m  File \u001b[1;32m\"<ipython-input-1-f8282a454794>\"\u001b[1;36m, line \u001b[1;32m6\u001b[0m\n\u001b[1;33m    print('Value of the decrementing function abs(x) - ans**3 is',\\\u001b[0m\n\u001b[1;37m                                                                    ^\u001b[0m\n\u001b[1;31mSyntaxError\u001b[0m\u001b[1;31m:\u001b[0m unexpected character after line continuation character\n"
     ]
    }
   ],
   "source": [
    "# Test in IDEL By ch3_cube_root\n",
    "x=8\n",
    "ans = 0  \n",
    "while ans**3 < abs(x):\n",
    "    \n",
    "    print('Value of the decrementing function abs(x) - ans**3 is',\\ \n",
    "            abs(x) - ans**3) # add the statement at the start of the loop\n",
    "                             # test whether the decrementing function is indeed being decremented\n",
    "   \n",
    "    ans = ans  # replace the statement ans = ans + 1 by ans = ans \n",
    "               # 4.Its value is decreased every time through the loop. \n",
    "               # 3.When its value is <=0, the loop terminates. \n",
    "\n",
    "if ans**3 != abs(x):\n",
    "    print(x, 'is not a perfect cube')\n",
    "else:\n",
    "    if x < 0:\n",
    "        ans = -ans\n",
    "    print('Cube root of', x,'is', ans)"
   ]
  },
  {
   "cell_type": "markdown",
   "metadata": {
    "collapsed": true
   },
   "source": [
    "<h3> When confronted with a program that seems <b style=\"color:blue\">not to be terminating</b>, experienced programmers often <strong  style=\"color:blue\"> insert print statements, such as the one here, to test whether the  <b style=\"color:red\">decrementing function is indeed being decremented</strong>.</h3>"
   ]
  },
  {
   "cell_type": "markdown",
   "metadata": {},
   "source": [
    "The algorithmic technique used in this program is a variant of <b>guess and check</b>\n",
    "called<b>exhaustive enumeration</b>. We enumerate all possibilities until we get to\n",
    "the right answer or exhaust the space of possibilities. At first blush, this may\n",
    "seem like an incredibly stupid way to solve a problem. Surprisingly, however,\n",
    "exhaustive enumeration algorithms are often the most practical way to solve a\n",
    "problem."
   ]
  },
  {
   "cell_type": "code",
   "execution_count": 3,
   "metadata": {
    "collapsed": false
   },
   "outputs": [
    {
     "name": "stdout",
     "output_type": "stream",
     "text": [
      "Cube root of 1957816251 is 1251\n"
     ]
    }
   ],
   "source": [
    "x=1957816251  # 7406961012236344616 very big \n",
    "ans = 0   \n",
    "while ans**3 < abs(x):\n",
    "    ans = ans + 1  # \n",
    "\n",
    "if ans**3 != abs(x):\n",
    "    print(x, 'is not a perfect cube')\n",
    "else:\n",
    "    if x < 0:\n",
    "        ans = -ans\n",
    "    print('Cube root of', x,'is', ans)"
   ]
  },
  {
   "cell_type": "markdown",
   "metadata": {
    "collapsed": true
   },
   "source": [
    "Just for fun, try executing the code: See how large an integer you need to enter before there is <b>a perceptible pause</b>\n",
    "before the result is printed."
   ]
  },
  {
   "cell_type": "code",
   "execution_count": null,
   "metadata": {
    "collapsed": true
   },
   "outputs": [],
   "source": [
    "imax = int(input('Enter a postive integer: '))  # very big  max is the name: built-in function \n",
    "i = 0\n",
    "while i < imax:\n",
    "    i = i + 1\n",
    "print(i)"
   ]
  },
  {
   "cell_type": "markdown",
   "metadata": {},
   "source": [
    "# Dynamic typing\n",
    "\n",
    "Python is dynamically typed, which means that variables do not have a fixed type. \n",
    "\n",
    "In fact, in Python, variables are very different from what they are in many other languages, specifically statically-typed languages.\n",
    "\n",
    "Variables are not a segment of the computer’s memory where some value is written, they are ‘tags’ or ‘names’ pointing to objects. \n",
    "\n",
    "It is therefore possible for the variable ‘a’ to be set to the value 1, then to the value ‘a string’, then to a function."
   ]
  },
  {
   "cell_type": "code",
   "execution_count": 3,
   "metadata": {
    "collapsed": false
   },
   "outputs": [
    {
     "name": "stdout",
     "output_type": "stream",
     "text": [
      "1\n",
      "a string\n",
      "<function a at 0x0000000005843620>\n"
     ]
    }
   ],
   "source": [
    "a = 1   # variables do not have a fixed type,just names pointing to objects\n",
    "print(a)\n",
    "a = 'a string'\n",
    "print(a)\n",
    "def a():\n",
    "    pass  # Do something\n",
    "print(a)"
   ]
  },
  {
   "cell_type": "raw",
   "metadata": {},
   "source": [
    "The dynamic typing of Python is often considered to be a weakness, and indeed it can lead to complexities and hard-to-debug code. Something named ‘a’ can be set to many different things, and the developer or the maintainer needs to track this name in the code to make sure it has not been set to a completely unrelated object."
   ]
  },
  {
   "cell_type": "markdown",
   "metadata": {},
   "source": [
    "# Avoid using the same variable name for different things."
   ]
  },
  {
   "cell_type": "code",
   "execution_count": null,
   "metadata": {
    "collapsed": true
   },
   "outputs": [],
   "source": [
    "count = 1\n",
    "msg = 'a string'\n",
    "def func():\n",
    "    pass  # Do something"
   ]
  },
  {
   "cell_type": "markdown",
   "metadata": {},
   "source": [
    "# 3.2 For Loops"
   ]
  },
  {
   "cell_type": "markdown",
   "metadata": {
    "collapsed": true
   },
   "source": [
    "Python provides a language mechanism, the <b>for</b> loop,that can be used to simplify programs containing this kind of iteration: Each iterates over a sequence of integers.\n",
    "\n",
    "The general form of a for statement is :"
   ]
  },
  {
   "cell_type": "code",
   "execution_count": null,
   "metadata": {
    "collapsed": true
   },
   "outputs": [],
   "source": [
    "for variable in sequence:\n",
    "    code block"
   ]
  },
  {
   "cell_type": "markdown",
   "metadata": {},
   "source": [
    "]The process continues until the sequence is exhausted or a <b style=\"color:blue\">break</b> statement is executed within the code block.\n",
    "\n",
    "The sequence of values bound to variable is most commonly generated using the built-in function <b style=\"color:blue\">range</b>, which returns a sequence containing an arithmetic\n",
    "progression. The range function takes three integer arguments: start, stop, and step. \n",
    "\n",
    "<b style=\"color:blue\">range(start,stop,step)</b>\n",
    "\n",
    "It produces the progression start, start + step, start + 2*step, etc.\n",
    "\n",
    "range(5,40,10) -> [5,15,25,35]\n",
    "\n",
    "If step is negative, the last element is the smallest integer start + i*step greater than stop.\n",
    "\n",
    "range(40,5,-10)-> [40,30,20,10]\n",
    "\n",
    "If the first argument is omitted it defaults to 0, \n",
    "if the lastargument (the step size) is omitted it defaults to 1.\n",
    "\n",
    "range(3)-> range(0, 3)->range(0, 3,1) ->[0, 1, 2].\n"
   ]
  },
  {
   "cell_type": "raw",
   "metadata": {
    "collapsed": false
   },
   "source": [
    "x = 4\n",
    "for i in range(0, x):\n",
    "    print(i) "
   ]
  },
  {
   "cell_type": "code",
   "execution_count": 6,
   "metadata": {
    "collapsed": false
   },
   "outputs": [
    {
     "name": "stdout",
     "output_type": "stream",
     "text": [
      "0\n",
      "1\n",
      "2\n",
      "3\n"
     ]
    }
   ],
   "source": [
    "x = 4\n",
    "for i in range(0, x):\n",
    "    x=5\n",
    "    print(i) "
   ]
  },
  {
   "cell_type": "markdown",
   "metadata": {},
   "source": [
    "The range function in the line with for is evaluated <b>just</b> before the <b>first iteration of the loop</b>, and not reevaluated for subsequent iterations."
   ]
  },
  {
   "cell_type": "code",
   "execution_count": 9,
   "metadata": {
    "collapsed": false
   },
   "outputs": [
    {
     "name": "stdout",
     "output_type": "stream",
     "text": [
      "j:  0\n",
      "0\n",
      "1\n",
      "2\n",
      "3\n",
      "j:  1\n",
      "0\n",
      "1\n",
      "j:  2\n",
      "0\n",
      "1\n",
      "j:  3\n",
      "0\n",
      "1\n"
     ]
    }
   ],
   "source": [
    "x = 4\n",
    "for j in range(x):\n",
    "    print('j: ',j)\n",
    "    for i in range(x):  # inner loop\n",
    "        print(i)\n",
    "        x=2              # inner loop    "
   ]
  },
  {
   "cell_type": "code",
   "execution_count": 11,
   "metadata": {
    "collapsed": false
   },
   "outputs": [
    {
     "name": "stdout",
     "output_type": "stream",
     "text": [
      "j:  0\n",
      "0\n",
      "1\n",
      "2\n",
      "3\n",
      "j:  1\n",
      "0\n",
      "1\n",
      "j:  2\n",
      "0\n",
      "1\n",
      "j:  3\n",
      "0\n",
      "1\n"
     ]
    }
   ],
   "source": [
    "x = 4\n",
    "for j in range(x):\n",
    "    print('j: ',j)\n",
    "    for i in range(x):  # inner loop\n",
    "        print(i)\n",
    "    x=2 # change  x=2"
   ]
  },
  {
   "cell_type": "raw",
   "metadata": {},
   "source": [
    "finding cube roots: while loop -> for loop: \n",
    "\n",
    "The <b>break</b> statement in the <b>for loop</b> causes the loop to terminate before it has been run on each element in the sequence over which it is iterating."
   ]
  },
  {
   "cell_type": "code",
   "execution_count": 13,
   "metadata": {
    "collapsed": false
   },
   "outputs": [
    {
     "name": "stdout",
     "output_type": "stream",
     "text": [
      "Enter an integer: 27\n",
      "Cube root of 27 is 3\n"
     ]
    }
   ],
   "source": [
    "# Find the cube root of a perfect cube\n",
    "x = int(input('Enter an integer: '))  #  27\n",
    "for ans in range(0, abs(x) + 1):   \n",
    "    if ans**3 >= abs(x):\n",
    "        break          #  break statement\n",
    "\n",
    "if ans**3 != abs(x):\n",
    "    print(x, 'is not a perfect cube')\n",
    "else:\n",
    "    if x < 0:\n",
    "        ans = -ans\n",
    "    print('Cube root of', x, 'is', ans)"
   ]
  },
  {
   "cell_type": "markdown",
   "metadata": {},
   "source": [
    "The for statement can be used to conveniently <b>iterate</b> over characters of a <b>string</b>."
   ]
  },
  {
   "cell_type": "markdown",
   "metadata": {},
   "source": [
    "Most of the time, numbers of type float provide a reasonably good approximation to real numbers. But <b  style=\"color:blue\">“most of the time” is not all of the time</b>,\n",
    "and when they don’t it can lead to <b>surprising consequences</b>."
   ]
  },
  {
   "cell_type": "code",
   "execution_count": 14,
   "metadata": {
    "collapsed": false
   },
   "outputs": [
    {
     "name": "stdout",
     "output_type": "stream",
     "text": [
      "45\n"
     ]
    }
   ],
   "source": [
    "total = 0\n",
    "for c in '123456789':\n",
    "    total = total + int(c)\n",
    "print(total)"
   ]
  },
  {
   "cell_type": "markdown",
   "metadata": {},
   "source": [
    "# 3.3 Approximate Solutions and Bisection Search"
   ]
  },
  {
   "cell_type": "markdown",
   "metadata": {
    "collapsed": true
   },
   "source": [
    "Imagine that someone asks you to write a program that finds the square root of any nonnegative number. What should you do?\n",
    "\n",
    "The right thing to have asked for is a program that finds an <b style=\"color:blue\">approximation</b> to the square root—i.e., an answer that is close enough to the actual square root to be useful.\n",
    "\n",
    "<b style=\"color:blue\">numerical solution</b>\n",
    "\n",
    "<b style=\"color:blue\">analytical solution</b>"
   ]
  },
  {
   "cell_type": "markdown",
   "metadata": {},
   "source": [
    "# 1) Approximating the square root using exhaustive enumeration"
   ]
  },
  {
   "cell_type": "code",
   "execution_count": 21,
   "metadata": {
    "collapsed": false
   },
   "outputs": [
    {
     "name": "stdout",
     "output_type": "stream",
     "text": [
      "numGuesses = 48980\n",
      "4.8980000000019235 is close to square root of 24\n"
     ]
    }
   ],
   "source": [
    "#Page 26, Figure 3.3\n",
    "x = 24\n",
    "epsilon = 0.01\n",
    "step = epsilon**2\n",
    "numGuesses = 0\n",
    "ans = 0.0\n",
    "while abs(ans**2 - x) >= epsilon and ans <= x:\n",
    "    ans += step        # += :ans = ans+ step; -= *=                         \n",
    "    numGuesses += 1\n",
    "print('numGuesses =', numGuesses)\n",
    "if abs(ans**2 - x) >= epsilon:\n",
    "    print('Failed on square root of', x)\n",
    "else:\n",
    "    print(ans, 'is close to square root of', x)"
   ]
  },
  {
   "cell_type": "code",
   "execution_count": 22,
   "metadata": {
    "collapsed": false
   },
   "outputs": [
    {
     "name": "stdout",
     "output_type": "stream",
     "text": [
      "numGuesses = 2501\n",
      "Failed on square root of 0.25\n"
     ]
    }
   ],
   "source": [
    "x=0.25  #  0.5 [0,1]\n",
    "epsilon = 0.01\n",
    "step = epsilon**2\n",
    "numGuesses = 0\n",
    "ans = 0.0\n",
    "while abs(ans**2 - x) >= epsilon and ans <= x:\n",
    "    ans += step        # += :ans = ans+ step; -= *=                         \n",
    "    numGuesses += 1\n",
    "print('numGuesses =', numGuesses)\n",
    "if abs(ans**2 - x) >= epsilon:\n",
    "    print('Failed on square root of', x)\n",
    "else:\n",
    "    print(ans, 'is close to square root of', x)"
   ]
  },
  {
   "cell_type": "markdown",
   "metadata": {},
   "source": [
    "Exhaustive enumeration is a search technique that works only if  the set of values being searched <b>includes the answer</b>"
   ]
  },
  {
   "cell_type": "code",
   "execution_count": 19,
   "metadata": {
    "collapsed": false
   },
   "outputs": [
    {
     "name": "stdout",
     "output_type": "stream",
     "text": [
      "numGuesses = 4899\n",
      "0.48989999999996237 is close to square root of 0.25\n"
     ]
    }
   ],
   "source": [
    "x=0.25  #  0.5 [0,1]\n",
    "epsilon = 0.01\n",
    "step = epsilon**2  #  epsilon**3 \n",
    "numGuesses = 0  # 3513631\n",
    "ans = 0.0\n",
    "while abs(ans**2 - x) >= epsilon and ans*ans <= x:  # \n",
    "    ans += step        # += :ans = ans+ step; -= *=                         \n",
    "    numGuesses += 1\n",
    "print('numGuesses =', numGuesses)\n",
    "if abs(ans**2 - x) >= epsilon:\n",
    "    print('Failed on square root of', x)\n",
    "else:\n",
    "    print(ans, 'is close to square root of', x)"
   ]
  },
  {
   "cell_type": "raw",
   "metadata": {},
   "source": [
    "The time has come to look for a different way to attack the problem. We need to choose a better algorithm rather than fine tune the current one."
   ]
  },
  {
   "cell_type": "markdown",
   "metadata": {},
   "source": [
    "# 2) Using bisection search to approximate square root"
   ]
  },
  {
   "cell_type": "code",
   "execution_count": null,
   "metadata": {
    "collapsed": true
   },
   "outputs": [],
   "source": []
  },
  {
   "cell_type": "code",
   "execution_count": 20,
   "metadata": {
    "collapsed": false
   },
   "outputs": [
    {
     "name": "stdout",
     "output_type": "stream",
     "text": [
      "low = 0.0 high = 25 ans = 12.5\n",
      "low = 0.0 high = 12.5 ans = 6.25\n",
      "low = 0.0 high = 6.25 ans = 3.125\n",
      "low = 3.125 high = 6.25 ans = 4.6875\n",
      "low = 4.6875 high = 6.25 ans = 5.46875\n",
      "low = 4.6875 high = 5.46875 ans = 5.078125\n",
      "low = 4.6875 high = 5.078125 ans = 4.8828125\n",
      "low = 4.8828125 high = 5.078125 ans = 4.98046875\n",
      "low = 4.98046875 high = 5.078125 ans = 5.029296875\n",
      "low = 4.98046875 high = 5.029296875 ans = 5.0048828125\n",
      "low = 4.98046875 high = 5.0048828125 ans = 4.99267578125\n",
      "low = 4.99267578125 high = 5.0048828125 ans = 4.998779296875\n",
      "low = 4.998779296875 high = 5.0048828125 ans = 5.0018310546875\n",
      "numGuesses = 13\n",
      "5.00030517578125 is close to square root of 25\n"
     ]
    }
   ],
   "source": [
    "# Page 28, Figure 3.4\n",
    "x = 25\n",
    "epsilon = 0.01\n",
    "numGuesses = 0\n",
    "low = 0.0\n",
    "high = max(1.0, x)\n",
    "ans = (high + low) / 2.0\n",
    "while abs(ans**2 - x) >= epsilon:\n",
    "    print('low =', low, 'high =', high, 'ans =', ans)\n",
    "    numGuesses += 1\n",
    "    if ans**2 < x:\n",
    "        low = ans\n",
    "    else:\n",
    "        high = ans\n",
    "    ans = (high + low) / 2.0\n",
    "print('numGuesses =', numGuesses)\n",
    "print(ans, 'is close to square root of', x)"
   ]
  },
  {
   "cell_type": "code",
   "execution_count": null,
   "metadata": {
    "collapsed": true
   },
   "outputs": [],
   "source": []
  },
  {
   "cell_type": "markdown",
   "metadata": {},
   "source": [
    "# 3.4 A Few Words About Using Floats"
   ]
  },
  {
   "cell_type": "code",
   "execution_count": 5,
   "metadata": {
    "collapsed": false
   },
   "outputs": [
    {
     "name": "stdout",
     "output_type": "stream",
     "text": [
      "0.9999999999999999 is not 1.0\n"
     ]
    }
   ],
   "source": [
    "x = 0.0\n",
    "for i in range(10):\n",
    "    x = x + 0.1\n",
    "if x == 1.0:\n",
    "    print(x, '= 1.0')\n",
    "else:\n",
    "    print(x, 'is not 1.0')"
   ]
  },
  {
   "cell_type": "markdown",
   "metadata": {},
   "source": [
    "Perhaps you, like most people, find it doubly surprising that it prints,\n",
    "1.0 is not 1.0"
   ]
  },
  {
   "cell_type": "markdown",
   "metadata": {},
   "source": [
    "# 3.5 Newton-Raphson"
   ]
  },
  {
   "cell_type": "markdown",
   "metadata": {},
   "source": [
    "we shall look at it only in the context of finding the real roots of a polynomial with one variable.\n",
    "\n",
    "p(x)=anx^n +a0\n",
    "\n",
    "Want to find r: p(r)=0\n",
    "    \n",
    "Newton proved a theorem that implies that if a value, call it guess, is an approximation to a root of a polynomial, then\n",
    "<b>guess – p(guess)/p’(guess)<b>,\n",
    "where p’ is the first derivative of p, is a better approximation.    \n"
   ]
  },
  {
   "cell_type": "raw",
   "metadata": {},
   "source": [
    "Simple case: y=a^2+b\n",
    "the first derivative of a^2 + b:  2ax\n",
    "Newton-Raphson says given a guess <b>g</b> for root,\n",
    "a better guess is\n",
    "     \n",
    "    g - (ag^2+b)/2ag\n",
    "\n",
    "the square root of  any nonnegative number： polynomial : x^2-k\n",
    "a=1,b=-k,then,a better guess is\n",
    "\n",
    "    g-(g^2-k)/2g"
   ]
  },
  {
   "cell_type": "code",
   "execution_count": 10,
   "metadata": {
    "collapsed": false
   },
   "outputs": [
    {
     "name": "stdout",
     "output_type": "stream",
     "text": [
      "Square root of 24.0 is about 4.899262388932979\n",
      "successiveapproximation= 8\n"
     ]
    }
   ],
   "source": [
    "#Newton-Raphson for square root\n",
    "#Find x such that x**2 - 24 is within epsilon of 0\n",
    "epsilon = 0.01   # 改变精度，测试死循环，给出改进的稳健 算法\n",
    "k = 24.0\n",
    "guess =k//2.0   # key: inti value ，比较不同初值下速度,如 0.01,在有根区间\n",
    "\n",
    "successiveapproximation=0  #  用2分法 对比下速度和精度\n",
    "while abs(guess*guess - k) >= epsilon:\n",
    "    guess = guess - (((guess**2) - k)/(2*guess))\n",
    "    successiveapproximation+=1\n",
    "print('Square root of', k, 'is about', guess)\n",
    "print('successiveapproximation=',successiveapproximation)"
   ]
  },
  {
   "cell_type": "raw",
   "metadata": {},
   "source": [
    "# Robust Method\n",
    "\n",
    "用数值菜谱中的方法\n",
    "\n",
    "scipy中有算法吗？ 有的话，这里开始介绍scipy\n"
   ]
  },
  {
   "cell_type": "markdown",
   "metadata": {
    "collapsed": true
   },
   "source": [
    "# the better speed of approximation: 1) good guess init value; 2) better 算法"
   ]
  }
 ],
 "metadata": {
  "kernelspec": {
   "display_name": "Python 3",
   "language": "python",
   "name": "python3"
  },
  "language_info": {
   "codemirror_mode": {
    "name": "ipython",
    "version": 3
   },
   "file_extension": ".py",
   "mimetype": "text/x-python",
   "name": "python",
   "nbconvert_exporter": "python",
   "pygments_lexer": "ipython3",
   "version": "3.4.3"
  }
 },
 "nbformat": 4,
 "nbformat_minor": 0
}
